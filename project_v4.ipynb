{
 "cells": [
  {
   "cell_type": "code",
   "execution_count": 1,
   "metadata": {},
   "outputs": [
    {
     "name": "stdout",
     "output_type": "stream",
     "text": [
      "Requirement already satisfied: tianshou in ./venv/lib/python3.12/site-packages (1.1.0)\n",
      "Requirement already satisfied: deepdiff<8.0.0,>=7.0.1 in ./venv/lib/python3.12/site-packages (from tianshou) (7.0.1)\n",
      "Requirement already satisfied: gymnasium<0.29.0,>=0.28.0 in ./venv/lib/python3.12/site-packages (from tianshou) (0.28.1)\n",
      "Requirement already satisfied: h5py<4.0.0,>=3.9.0 in ./venv/lib/python3.12/site-packages (from tianshou) (3.12.1)\n",
      "Requirement already satisfied: matplotlib>=3.0.0 in ./venv/lib/python3.12/site-packages (from tianshou) (3.10.0)\n",
      "Requirement already satisfied: numba>=0.60.0 in ./venv/lib/python3.12/site-packages (from tianshou) (0.61.0)\n",
      "Requirement already satisfied: numpy<2,>=1 in ./venv/lib/python3.12/site-packages (from tianshou) (1.26.4)\n",
      "Requirement already satisfied: overrides<8.0.0,>=7.4.0 in ./venv/lib/python3.12/site-packages (from tianshou) (7.7.0)\n",
      "Requirement already satisfied: packaging in ./venv/lib/python3.12/site-packages (from tianshou) (24.2)\n",
      "Requirement already satisfied: pandas>=2.0.0 in ./venv/lib/python3.12/site-packages (from tianshou) (2.2.3)\n",
      "Requirement already satisfied: pettingzoo<2.0,>=1.22 in ./venv/lib/python3.12/site-packages (from tianshou) (1.24.3)\n",
      "Requirement already satisfied: sensai-utils<2.0.0,>=1.2.1 in ./venv/lib/python3.12/site-packages (from tianshou) (1.4.0)\n",
      "Requirement already satisfied: tensorboard<3.0.0,>=2.5.0 in ./venv/lib/python3.12/site-packages (from tianshou) (2.18.0)\n",
      "Requirement already satisfied: torch!=2.0.1,!=2.1.0,<3.0.0,>=2.0.0 in ./venv/lib/python3.12/site-packages (from tianshou) (2.6.0)\n",
      "Requirement already satisfied: tqdm in ./venv/lib/python3.12/site-packages (from tianshou) (4.67.1)\n",
      "Requirement already satisfied: virtualenv!=20.4.5,!=20.4.6,<21.0.0,>=20.4.3 in ./venv/lib/python3.12/site-packages (from tianshou) (20.29.1)\n",
      "Requirement already satisfied: ordered-set<4.2.0,>=4.1.0 in ./venv/lib/python3.12/site-packages (from deepdiff<8.0.0,>=7.0.1->tianshou) (4.1.0)\n",
      "Requirement already satisfied: jax-jumpy>=1.0.0 in ./venv/lib/python3.12/site-packages (from gymnasium<0.29.0,>=0.28.0->tianshou) (1.0.0)\n",
      "Requirement already satisfied: cloudpickle>=1.2.0 in ./venv/lib/python3.12/site-packages (from gymnasium<0.29.0,>=0.28.0->tianshou) (3.1.1)\n",
      "Requirement already satisfied: typing-extensions>=4.3.0 in ./venv/lib/python3.12/site-packages (from gymnasium<0.29.0,>=0.28.0->tianshou) (4.12.2)\n",
      "Requirement already satisfied: farama-notifications>=0.0.1 in ./venv/lib/python3.12/site-packages (from gymnasium<0.29.0,>=0.28.0->tianshou) (0.0.4)\n",
      "Requirement already satisfied: contourpy>=1.0.1 in ./venv/lib/python3.12/site-packages (from matplotlib>=3.0.0->tianshou) (1.3.1)\n",
      "Requirement already satisfied: cycler>=0.10 in ./venv/lib/python3.12/site-packages (from matplotlib>=3.0.0->tianshou) (0.12.1)\n",
      "Requirement already satisfied: fonttools>=4.22.0 in ./venv/lib/python3.12/site-packages (from matplotlib>=3.0.0->tianshou) (4.55.8)\n",
      "Requirement already satisfied: kiwisolver>=1.3.1 in ./venv/lib/python3.12/site-packages (from matplotlib>=3.0.0->tianshou) (1.4.8)\n",
      "Requirement already satisfied: pillow>=8 in ./venv/lib/python3.12/site-packages (from matplotlib>=3.0.0->tianshou) (11.1.0)\n",
      "Requirement already satisfied: pyparsing>=2.3.1 in ./venv/lib/python3.12/site-packages (from matplotlib>=3.0.0->tianshou) (3.2.1)\n",
      "Requirement already satisfied: python-dateutil>=2.7 in ./venv/lib/python3.12/site-packages (from matplotlib>=3.0.0->tianshou) (2.9.0.post0)\n",
      "Requirement already satisfied: llvmlite<0.45,>=0.44.0dev0 in ./venv/lib/python3.12/site-packages (from numba>=0.60.0->tianshou) (0.44.0)\n",
      "Requirement already satisfied: pytz>=2020.1 in ./venv/lib/python3.12/site-packages (from pandas>=2.0.0->tianshou) (2024.2)\n",
      "Requirement already satisfied: tzdata>=2022.7 in ./venv/lib/python3.12/site-packages (from pandas>=2.0.0->tianshou) (2025.1)\n",
      "Requirement already satisfied: absl-py>=0.4 in ./venv/lib/python3.12/site-packages (from tensorboard<3.0.0,>=2.5.0->tianshou) (2.1.0)\n",
      "Requirement already satisfied: grpcio>=1.48.2 in ./venv/lib/python3.12/site-packages (from tensorboard<3.0.0,>=2.5.0->tianshou) (1.70.0)\n",
      "Requirement already satisfied: markdown>=2.6.8 in ./venv/lib/python3.12/site-packages (from tensorboard<3.0.0,>=2.5.0->tianshou) (3.7)\n",
      "Requirement already satisfied: protobuf!=4.24.0,>=3.19.6 in ./venv/lib/python3.12/site-packages (from tensorboard<3.0.0,>=2.5.0->tianshou) (5.29.3)\n",
      "Requirement already satisfied: setuptools>=41.0.0 in ./venv/lib/python3.12/site-packages (from tensorboard<3.0.0,>=2.5.0->tianshou) (75.8.0)\n",
      "Requirement already satisfied: six>1.9 in ./venv/lib/python3.12/site-packages (from tensorboard<3.0.0,>=2.5.0->tianshou) (1.17.0)\n",
      "Requirement already satisfied: tensorboard-data-server<0.8.0,>=0.7.0 in ./venv/lib/python3.12/site-packages (from tensorboard<3.0.0,>=2.5.0->tianshou) (0.7.2)\n",
      "Requirement already satisfied: werkzeug>=1.0.1 in ./venv/lib/python3.12/site-packages (from tensorboard<3.0.0,>=2.5.0->tianshou) (3.1.3)\n",
      "Requirement already satisfied: filelock in ./venv/lib/python3.12/site-packages (from torch!=2.0.1,!=2.1.0,<3.0.0,>=2.0.0->tianshou) (3.17.0)\n",
      "Requirement already satisfied: networkx in ./venv/lib/python3.12/site-packages (from torch!=2.0.1,!=2.1.0,<3.0.0,>=2.0.0->tianshou) (3.4.2)\n",
      "Requirement already satisfied: jinja2 in ./venv/lib/python3.12/site-packages (from torch!=2.0.1,!=2.1.0,<3.0.0,>=2.0.0->tianshou) (3.1.5)\n",
      "Requirement already satisfied: fsspec in ./venv/lib/python3.12/site-packages (from torch!=2.0.1,!=2.1.0,<3.0.0,>=2.0.0->tianshou) (2024.12.0)\n",
      "Requirement already satisfied: sympy==1.13.1 in ./venv/lib/python3.12/site-packages (from torch!=2.0.1,!=2.1.0,<3.0.0,>=2.0.0->tianshou) (1.13.1)\n",
      "Requirement already satisfied: mpmath<1.4,>=1.1.0 in ./venv/lib/python3.12/site-packages (from sympy==1.13.1->torch!=2.0.1,!=2.1.0,<3.0.0,>=2.0.0->tianshou) (1.3.0)\n",
      "Requirement already satisfied: distlib<1,>=0.3.7 in ./venv/lib/python3.12/site-packages (from virtualenv!=20.4.5,!=20.4.6,<21.0.0,>=20.4.3->tianshou) (0.3.9)\n",
      "Requirement already satisfied: platformdirs<5,>=3.9.1 in ./venv/lib/python3.12/site-packages (from virtualenv!=20.4.5,!=20.4.6,<21.0.0,>=20.4.3->tianshou) (4.3.6)\n",
      "Requirement already satisfied: MarkupSafe>=2.1.1 in ./venv/lib/python3.12/site-packages (from werkzeug>=1.0.1->tensorboard<3.0.0,>=2.5.0->tianshou) (3.0.2)\n",
      "\n",
      "\u001b[1m[\u001b[0m\u001b[34;49mnotice\u001b[0m\u001b[1;39;49m]\u001b[0m\u001b[39;49m A new release of pip is available: \u001b[0m\u001b[31;49m23.2.1\u001b[0m\u001b[39;49m -> \u001b[0m\u001b[32;49m25.0.1\u001b[0m\n",
      "\u001b[1m[\u001b[0m\u001b[34;49mnotice\u001b[0m\u001b[1;39;49m]\u001b[0m\u001b[39;49m To update, run: \u001b[0m\u001b[32;49mpip install --upgrade pip\u001b[0m\n",
      "Note: you may need to restart the kernel to use updated packages.\n",
      "Requirement already satisfied: pygame in ./venv/lib/python3.12/site-packages (2.6.1)\n",
      "\n",
      "\u001b[1m[\u001b[0m\u001b[34;49mnotice\u001b[0m\u001b[1;39;49m]\u001b[0m\u001b[39;49m A new release of pip is available: \u001b[0m\u001b[31;49m23.2.1\u001b[0m\u001b[39;49m -> \u001b[0m\u001b[32;49m25.0.1\u001b[0m\n",
      "\u001b[1m[\u001b[0m\u001b[34;49mnotice\u001b[0m\u001b[1;39;49m]\u001b[0m\u001b[39;49m To update, run: \u001b[0m\u001b[32;49mpip install --upgrade pip\u001b[0m\n",
      "Note: you may need to restart the kernel to use updated packages.\n"
     ]
    }
   ],
   "source": [
    "%pip install tianshou\n",
    "%pip install pygame"
   ]
  },
  {
   "cell_type": "code",
   "execution_count": 2,
   "metadata": {},
   "outputs": [],
   "source": [
    "import math\n",
    "import numpy as np\n",
    "import torch\n",
    "import torch.nn as nn\n",
    "import torch.nn.functional as F\n",
    "import gymnasium as gym\n",
    "from torch.utils.tensorboard import SummaryWriter\n",
    "\n",
    "import tianshou as ts\n",
    "from tianshou.policy import DQNPolicy"
   ]
  },
  {
   "cell_type": "code",
   "execution_count": 4,
   "metadata": {},
   "outputs": [],
   "source": [
    "#start a logger\n",
    "logger = ts.utils.TensorboardLogger(SummaryWriter('log/dqn'))\n",
    "\n",
    "#import a network that we can use\n",
    "from tianshou.utils.net.common import Net\n",
    "from tianshou.utils.space_info import SpaceInfo"
   ]
  },
  {
   "cell_type": "code",
   "execution_count": 3,
   "metadata": {},
   "outputs": [
    {
     "name": "stderr",
     "output_type": "stream",
     "text": [
      "/Users/namnguyenvu/PycharmProjects/reinforcementLearning/venv/lib/python3.12/site-packages/tianshou/data/collector.py:152: UserWarning: Single environment detected, wrap to DummyVectorEnv.\n",
      "  warnings.warn(\"Single environment detected, wrap to DummyVectorEnv.\")\n",
      "Epoch #1: 10001it [00:08, 1222.39it/s, env_step=10000, gradient_step=1000, len=219, n/ep=0, n/st=10, rew=219.00]                           \n"
     ]
    },
    {
     "name": "stdout",
     "output_type": "stream",
     "text": [
      "Epoch #1: test_reward: 165.040000 ± 63.445870, best_reward: 165.040000 ± 63.445870 in #1\n"
     ]
    },
    {
     "name": "stderr",
     "output_type": "stream",
     "text": [
      "Epoch #2: 10001it [00:24, 414.72it/s, env_step=20000, gradient_step=2000, len=254, n/ep=0, n/st=10, rew=254.00]                            \n"
     ]
    },
    {
     "name": "stdout",
     "output_type": "stream",
     "text": [
      "Epoch #2: test_reward: 365.530000 ± 106.200796, best_reward: 365.530000 ± 106.200796 in #2\n"
     ]
    },
    {
     "name": "stderr",
     "output_type": "stream",
     "text": [
      "Epoch #3: 10001it [00:08, 1230.29it/s, env_step=30000, gradient_step=3000, len=196, n/ep=0, n/st=10, rew=196.00]                           \n"
     ]
    },
    {
     "name": "stdout",
     "output_type": "stream",
     "text": [
      "Epoch #3: test_reward: 296.010000 ± 76.789647, best_reward: 365.530000 ± 106.200796 in #2\n"
     ]
    },
    {
     "name": "stderr",
     "output_type": "stream",
     "text": [
      "Epoch #4: 10001it [00:07, 1295.45it/s, env_step=40000, gradient_step=4000, len=176, n/ep=0, n/st=10, rew=176.00]                           \n"
     ]
    },
    {
     "name": "stdout",
     "output_type": "stream",
     "text": [
      "Epoch #4: test_reward: 270.730000 ± 61.080906, best_reward: 365.530000 ± 106.200796 in #2\n"
     ]
    },
    {
     "name": "stderr",
     "output_type": "stream",
     "text": [
      "Epoch #5: 10001it [00:15, 656.86it/s, env_step=50000, gradient_step=5000, len=202, n/ep=0, n/st=10, rew=202.00]                            \n"
     ]
    },
    {
     "name": "stdout",
     "output_type": "stream",
     "text": [
      "Epoch #5: test_reward: 176.080000 ± 15.059004, best_reward: 365.530000 ± 106.200796 in #2\n"
     ]
    },
    {
     "name": "stderr",
     "output_type": "stream",
     "text": [
      "Epoch #6: 10001it [00:07, 1312.84it/s, env_step=60000, gradient_step=6000, len=162, n/ep=0, n/st=10, rew=162.00]                           \n"
     ]
    },
    {
     "name": "stdout",
     "output_type": "stream",
     "text": [
      "Epoch #6: test_reward: 339.880000 ± 74.224697, best_reward: 365.530000 ± 106.200796 in #2\n"
     ]
    },
    {
     "name": "stderr",
     "output_type": "stream",
     "text": [
      "Epoch #7: 10001it [00:13, 742.09it/s, env_step=70000, gradient_step=7000, len=234, n/ep=0, n/st=10, rew=234.00]                            \n"
     ]
    },
    {
     "name": "stdout",
     "output_type": "stream",
     "text": [
      "Epoch #7: test_reward: 171.600000 ± 10.172512, best_reward: 365.530000 ± 106.200796 in #2\n"
     ]
    },
    {
     "name": "stderr",
     "output_type": "stream",
     "text": [
      "Epoch #8: 10001it [00:07, 1313.56it/s, env_step=80000, gradient_step=8000, len=149, n/ep=0, n/st=10, rew=149.00]                           \n"
     ]
    },
    {
     "name": "stdout",
     "output_type": "stream",
     "text": [
      "Epoch #8: test_reward: 171.440000 ± 11.665608, best_reward: 365.530000 ± 106.200796 in #2\n"
     ]
    },
    {
     "name": "stderr",
     "output_type": "stream",
     "text": [
      "Epoch #9: 10001it [00:07, 1403.20it/s, env_step=90000, gradient_step=9000, len=254, n/ep=0, n/st=10, rew=254.00]                           \n"
     ]
    },
    {
     "name": "stdout",
     "output_type": "stream",
     "text": [
      "Epoch #9: test_reward: 144.440000 ± 7.115223, best_reward: 365.530000 ± 106.200796 in #2\n"
     ]
    },
    {
     "name": "stderr",
     "output_type": "stream",
     "text": [
      "Epoch #10: 10001it [00:11, 907.88it/s, env_step=100000, gradient_step=10000, len=170, n/ep=0, n/st=10, rew=170.00]                            \n"
     ]
    },
    {
     "name": "stdout",
     "output_type": "stream",
     "text": [
      "Epoch #10: test_reward: 172.820000 ± 12.388204, best_reward: 365.530000 ± 106.200796 in #2\n"
     ]
    },
    {
     "name": "stderr",
     "output_type": "stream",
     "text": [
      "Epoch #11: 10001it [00:13, 724.02it/s, env_step=110000, gradient_step=11000, len=158, n/ep=0, n/st=10, rew=158.00]                           \n"
     ]
    },
    {
     "name": "stdout",
     "output_type": "stream",
     "text": [
      "Epoch #11: test_reward: 158.020000 ± 12.229456, best_reward: 365.530000 ± 106.200796 in #2\n"
     ]
    },
    {
     "name": "stderr",
     "output_type": "stream",
     "text": [
      "Epoch #12: 10001it [00:22, 443.00it/s, env_step=120000, gradient_step=12000, len=224, n/ep=0, n/st=10, rew=224.00]                            \n"
     ]
    },
    {
     "name": "stdout",
     "output_type": "stream",
     "text": [
      "Epoch #12: test_reward: 110.070000 ± 4.233804, best_reward: 365.530000 ± 106.200796 in #2\n"
     ]
    },
    {
     "name": "stderr",
     "output_type": "stream",
     "text": [
      "Epoch #13: 10001it [00:28, 349.99it/s, env_step=130000, gradient_step=13000, len=198, n/ep=0, n/st=10, rew=198.00]                            \n"
     ]
    },
    {
     "name": "stdout",
     "output_type": "stream",
     "text": [
      "Epoch #13: test_reward: 183.790000 ± 18.450634, best_reward: 365.530000 ± 106.200796 in #2\n"
     ]
    },
    {
     "name": "stderr",
     "output_type": "stream",
     "text": [
      "Epoch #14: 10001it [00:15, 649.75it/s, env_step=140000, gradient_step=14000, len=154, n/ep=0, n/st=10, rew=154.00]                            \n"
     ]
    },
    {
     "name": "stdout",
     "output_type": "stream",
     "text": [
      "Epoch #14: test_reward: 139.020000 ± 6.974210, best_reward: 365.530000 ± 106.200796 in #2\n"
     ]
    },
    {
     "name": "stderr",
     "output_type": "stream",
     "text": [
      "Epoch #15: 10001it [00:11, 878.91it/s, env_step=150000, gradient_step=15000, len=240, n/ep=1, n/st=10, rew=240.00]                           \n"
     ]
    },
    {
     "name": "stdout",
     "output_type": "stream",
     "text": [
      "Epoch #15: test_reward: 242.800000 ± 32.802744, best_reward: 365.530000 ± 106.200796 in #2\n"
     ]
    },
    {
     "name": "stderr",
     "output_type": "stream",
     "text": [
      "Epoch #16: 10001it [00:13, 751.27it/s, env_step=160000, gradient_step=16000, len=282, n/ep=0, n/st=10, rew=282.00]                            \n"
     ]
    },
    {
     "name": "stdout",
     "output_type": "stream",
     "text": [
      "Epoch #16: test_reward: 147.240000 ± 14.515592, best_reward: 365.530000 ± 106.200796 in #2\n"
     ]
    },
    {
     "name": "stderr",
     "output_type": "stream",
     "text": [
      "Epoch #17: 10001it [00:17, 555.62it/s, env_step=170000, gradient_step=17000, len=209, n/ep=0, n/st=10, rew=209.00]                           \n"
     ]
    },
    {
     "name": "stdout",
     "output_type": "stream",
     "text": [
      "Epoch #17: test_reward: 194.470000 ± 6.847562, best_reward: 365.530000 ± 106.200796 in #2\n"
     ]
    },
    {
     "name": "stderr",
     "output_type": "stream",
     "text": [
      "Epoch #18: 10001it [00:33, 298.49it/s, env_step=180000, gradient_step=18000, len=148, n/ep=0, n/st=10, rew=148.00]                           \n"
     ]
    },
    {
     "name": "stdout",
     "output_type": "stream",
     "text": [
      "Epoch #18: test_reward: 148.300000 ± 4.563989, best_reward: 365.530000 ± 106.200796 in #2\n"
     ]
    },
    {
     "name": "stderr",
     "output_type": "stream",
     "text": [
      "Epoch #19: 10001it [00:38, 261.03it/s, env_step=190000, gradient_step=19000, len=134, n/ep=0, n/st=10, rew=134.00]                           \n"
     ]
    },
    {
     "name": "stdout",
     "output_type": "stream",
     "text": [
      "Epoch #19: test_reward: 151.220000 ± 35.980156, best_reward: 365.530000 ± 106.200796 in #2\n"
     ]
    },
    {
     "name": "stderr",
     "output_type": "stream",
     "text": [
      "Epoch #20: 10001it [00:38, 260.46it/s, env_step=200000, gradient_step=20000, len=501, n/ep=0, n/st=10, rew=501.00]                           \n"
     ]
    },
    {
     "name": "stdout",
     "output_type": "stream",
     "text": [
      "Epoch #20: test_reward: 174.170000 ± 48.971431, best_reward: 365.530000 ± 106.200796 in #2\n"
     ]
    },
    {
     "name": "stderr",
     "output_type": "stream",
     "text": [
      "Epoch #21: 10001it [00:19, 502.93it/s, env_step=210000, gradient_step=21000, len=122, n/ep=0, n/st=10, rew=122.00]                            \n"
     ]
    },
    {
     "name": "stdout",
     "output_type": "stream",
     "text": [
      "Epoch #21: test_reward: 120.040000 ± 3.484021, best_reward: 365.530000 ± 106.200796 in #2\n"
     ]
    },
    {
     "name": "stderr",
     "output_type": "stream",
     "text": [
      "Epoch #22: 10001it [00:13, 735.02it/s, env_step=220000, gradient_step=22000, len=41, n/ep=0, n/st=10, rew=41.00]                             \n"
     ]
    },
    {
     "name": "stdout",
     "output_type": "stream",
     "text": [
      "Epoch #22: test_reward: 72.310000 ± 34.498027, best_reward: 365.530000 ± 106.200796 in #2\n"
     ]
    },
    {
     "name": "stderr",
     "output_type": "stream",
     "text": [
      "Epoch #23: 10001it [00:35, 283.47it/s, env_step=230000, gradient_step=23000, len=135, n/ep=0, n/st=10, rew=135.00]                           \n"
     ]
    },
    {
     "name": "stdout",
     "output_type": "stream",
     "text": [
      "Epoch #23: test_reward: 99.890000 ± 13.073557, best_reward: 365.530000 ± 106.200796 in #2\n"
     ]
    },
    {
     "name": "stderr",
     "output_type": "stream",
     "text": [
      "Epoch #24: 10001it [00:27, 369.51it/s, env_step=240000, gradient_step=24000, len=172, n/ep=0, n/st=10, rew=172.00]                           \n"
     ]
    },
    {
     "name": "stdout",
     "output_type": "stream",
     "text": [
      "Epoch #24: test_reward: 127.670000 ± 4.917428, best_reward: 365.530000 ± 106.200796 in #2\n"
     ]
    },
    {
     "name": "stderr",
     "output_type": "stream",
     "text": [
      "Epoch #25: 10001it [00:32, 308.05it/s, env_step=250000, gradient_step=25000, len=201, n/ep=0, n/st=10, rew=201.00]                           \n"
     ]
    },
    {
     "name": "stdout",
     "output_type": "stream",
     "text": [
      "Epoch #25: test_reward: 464.300000 ± 46.259377, best_reward: 464.300000 ± 46.259377 in #25\n"
     ]
    },
    {
     "name": "stderr",
     "output_type": "stream",
     "text": [
      "Epoch #26: 10001it [00:24, 402.76it/s, env_step=260000, gradient_step=26000, len=116, n/ep=0, n/st=10, rew=116.00]                           \n"
     ]
    },
    {
     "name": "stdout",
     "output_type": "stream",
     "text": [
      "Epoch #26: test_reward: 500.000000 ± 0.000000, best_reward: 500.000000 ± 0.000000 in #26\n",
      "Finished training in 631.563648223877 seconds\n"
     ]
    }
   ],
   "source": [
    "#start a logger\n",
    "logger = ts.utils.TensorboardLogger(SummaryWriter('log/dqn'))\n",
    "\n",
    "#import a network that we can use\n",
    "from tianshou.utils.net.common import Net\n",
    "from tianshou.utils.space_info import SpaceInfo\n",
    "\n",
    "#get an instance of the environment\n",
    "env = gym.make('CartPole-v1')\n",
    "\n",
    "#get all the info about it\n",
    "space_info = SpaceInfo.from_env(env)\n",
    "\n",
    "#What the agent 'sees'\n",
    "state_shape = space_info.observation_info.obs_shape\n",
    "\n",
    "#what actions the agent can take\n",
    "action_shape = space_info.action_info.action_shape\n",
    "\n",
    "#build a network that takes observations and converts it to actions\n",
    "net = Net(state_shape=state_shape, action_shape=action_shape, hidden_sizes=[128, 128, 128])\n",
    "\n",
    "#this will shift the network to better predict actions/values\n",
    "optim = torch.optim.Adam(net.parameters(), lr=0.001)\n",
    "\n",
    "policy = ts.policy.DQNPolicy(\n",
    "    model=net,\n",
    "    optim=optim,\n",
    "    discount_factor=0.9,\n",
    "    action_space=env.action_space,\n",
    "    estimation_step=3,\n",
    "    target_update_freq=320\n",
    ")\n",
    "\n",
    "train_collector = ts.data.Collector(policy, env, ts.data.VectorReplayBuffer(20000, 1), exploration_noise=True)\n",
    "test_collector = ts.data.Collector(policy, env, exploration_noise=True)\n",
    "\n",
    "result = ts.trainer.OffpolicyTrainer(\n",
    "    policy=policy,\n",
    "    train_collector=train_collector,\n",
    "    test_collector=test_collector,\n",
    "    max_epoch=30,\n",
    "    step_per_epoch=10000,\n",
    "    step_per_collect=10,\n",
    "    episode_per_test=100,\n",
    "    batch_size=64,\n",
    "    update_per_step=1 / 10,\n",
    "    train_fn=lambda epoch, env_step: policy.set_eps(0.1),\n",
    "    test_fn=lambda epoch, env_step: policy.set_eps(0.05),\n",
    "    stop_fn=lambda mean_rewards: mean_rewards >= env.spec.reward_threshold,\n",
    "    logger=logger,\n",
    ").run()\n",
    "print(f\"Finished training in {result.timing.total_time} seconds\")"
   ]
  },
  {
   "cell_type": "code",
   "execution_count": 4,
   "metadata": {},
   "outputs": [
    {
     "name": "stderr",
     "output_type": "stream",
     "text": [
      "Epoch #1: 10001it [00:07, 1380.31it/s, env_step=10000, gradient_step=1000, len=97, n/ep=0, n/st=10, rew=97.00]                           \n"
     ]
    },
    {
     "name": "stdout",
     "output_type": "stream",
     "text": [
      "Epoch #1: test_reward: 101.150000 ± 13.622316, best_reward: 101.150000 ± 13.622316 in #1\n"
     ]
    },
    {
     "name": "stderr",
     "output_type": "stream",
     "text": [
      "Epoch #2: 10001it [00:07, 1392.42it/s, env_step=20000, gradient_step=2000, len=166, n/ep=0, n/st=10, rew=166.00]                           \n"
     ]
    },
    {
     "name": "stdout",
     "output_type": "stream",
     "text": [
      "Epoch #2: test_reward: 188.260000 ± 54.130328, best_reward: 188.260000 ± 54.130328 in #2\n"
     ]
    },
    {
     "name": "stderr",
     "output_type": "stream",
     "text": [
      "Epoch #3: 10001it [00:07, 1417.54it/s, env_step=30000, gradient_step=3000, len=205, n/ep=0, n/st=10, rew=205.00]                           \n"
     ]
    },
    {
     "name": "stdout",
     "output_type": "stream",
     "text": [
      "Epoch #3: test_reward: 211.790000 ± 48.023597, best_reward: 211.790000 ± 48.023597 in #3\n"
     ]
    },
    {
     "name": "stderr",
     "output_type": "stream",
     "text": [
      "Epoch #4: 10001it [00:06, 1445.60it/s, env_step=40000, gradient_step=4000, len=242, n/ep=0, n/st=10, rew=242.00]                           \n"
     ]
    },
    {
     "name": "stdout",
     "output_type": "stream",
     "text": [
      "Epoch #4: test_reward: 180.890000 ± 14.518192, best_reward: 211.790000 ± 48.023597 in #3\n"
     ]
    },
    {
     "name": "stderr",
     "output_type": "stream",
     "text": [
      "Epoch #5: 10001it [00:07, 1380.01it/s, env_step=50000, gradient_step=5000, len=333, n/ep=0, n/st=10, rew=333.00]                           \n"
     ]
    },
    {
     "name": "stdout",
     "output_type": "stream",
     "text": [
      "Epoch #5: test_reward: 279.570000 ± 60.867110, best_reward: 279.570000 ± 60.867110 in #5\n"
     ]
    },
    {
     "name": "stderr",
     "output_type": "stream",
     "text": [
      "Epoch #6: 10001it [00:06, 1436.88it/s, env_step=60000, gradient_step=6000, len=196, n/ep=0, n/st=10, rew=196.00]                           \n"
     ]
    },
    {
     "name": "stdout",
     "output_type": "stream",
     "text": [
      "Epoch #6: test_reward: 226.370000 ± 15.378332, best_reward: 279.570000 ± 60.867110 in #5\n"
     ]
    },
    {
     "name": "stderr",
     "output_type": "stream",
     "text": [
      "Epoch #7: 10001it [00:07, 1344.50it/s, env_step=70000, gradient_step=7000, len=207, n/ep=0, n/st=10, rew=207.00]                           \n"
     ]
    },
    {
     "name": "stdout",
     "output_type": "stream",
     "text": [
      "Epoch #7: test_reward: 192.320000 ± 10.893925, best_reward: 279.570000 ± 60.867110 in #5\n"
     ]
    },
    {
     "name": "stderr",
     "output_type": "stream",
     "text": [
      "Epoch #8: 10001it [00:07, 1373.51it/s, env_step=80000, gradient_step=8000, len=189, n/ep=0, n/st=10, rew=189.00]                           \n"
     ]
    },
    {
     "name": "stdout",
     "output_type": "stream",
     "text": [
      "Epoch #8: test_reward: 190.190000 ± 10.045591, best_reward: 279.570000 ± 60.867110 in #5\n"
     ]
    },
    {
     "name": "stderr",
     "output_type": "stream",
     "text": [
      "Epoch #9: 10001it [00:06, 1475.09it/s, env_step=90000, gradient_step=9000, len=219, n/ep=0, n/st=10, rew=219.00]                           \n"
     ]
    },
    {
     "name": "stdout",
     "output_type": "stream",
     "text": [
      "Epoch #9: test_reward: 499.580000 ± 4.178947, best_reward: 499.580000 ± 4.178947 in #9\n",
      "Finished training in 112.15051007270813 seconds\n"
     ]
    },
    {
     "name": "stderr",
     "output_type": "stream",
     "text": [
      "/Users/namnguyenvu/PycharmProjects/reinforcementLearning/venv/lib/python3.12/site-packages/pygame/pkgdata.py:25: DeprecationWarning: pkg_resources is deprecated as an API. See https://setuptools.pypa.io/en/latest/pkg_resources.html\n",
      "  from pkg_resources import resource_stream, resource_exists\n",
      "/Users/namnguyenvu/PycharmProjects/reinforcementLearning/venv/lib/python3.12/site-packages/tianshou/data/collector.py:152: UserWarning: Single environment detected, wrap to DummyVectorEnv.\n",
      "  warnings.warn(\"Single environment detected, wrap to DummyVectorEnv.\")\n"
     ]
    }
   ],
   "source": [
    "import numpy as np\n",
    "\n",
    "# --- Set up logging ---\n",
    "logger = ts.utils.TensorboardLogger(SummaryWriter(\"logs/dqn\"))\n",
    "\n",
    "# --- Create the environment ---\n",
    "env_name = \"CartPole-v1\"\n",
    "train_env = gym.make(env_name)\n",
    "test_env = gym.make(env_name)\n",
    "\n",
    "# --- Get state and action info ---\n",
    "obs_shape = train_env.observation_space.shape  \n",
    "n_actions = train_env.action_space.n           \n",
    "input_dim = np.prod(obs_shape)\n",
    "\n",
    "# --- Build the DQN network ---\n",
    "class Net(nn.Module):\n",
    "    def __init__(self, input_dim, output_dim):\n",
    "        super().__init__()\n",
    "        self.fc1 = nn.Linear(input_dim, 128)\n",
    "        self.fc2 = nn.Linear(128, 128)\n",
    "        self.fc3 = nn.Linear(128, output_dim)\n",
    "\n",
    "    def forward(self, obs, state=None, info=None):\n",
    "        if isinstance(obs, np.ndarray):  # Convert numpy array to tensor\n",
    "            obs = torch.tensor(obs, dtype=torch.float32)\n",
    "        x = torch.relu(self.fc1(obs))\n",
    "        x = torch.relu(self.fc2(x))\n",
    "        x = self.fc3(x)\n",
    "        return x, state\n",
    "\n",
    "net = Net(input_dim=input_dim, output_dim=n_actions)\n",
    "\n",
    "# --- Set up optimizer ---\n",
    "optim = torch.optim.Adam(net.parameters(), lr=0.001)\n",
    "\n",
    "# --- Create the DQN policy ---\n",
    "policy = ts.policy.DQNPolicy(\n",
    "    model=net,\n",
    "    optim=optim,\n",
    "    discount_factor=0.9,\n",
    "    action_space=train_env.action_space,\n",
    "    estimation_step=3,\n",
    "    target_update_freq=320\n",
    ")\n",
    "\n",
    "# --- Set up data collectors ---\n",
    "train_collector = ts.data.Collector(\n",
    "    policy, \n",
    "    train_env, \n",
    "    ts.data.VectorReplayBuffer(20000, 1),\n",
    "    exploration_noise=True\n",
    ")\n",
    "test_collector = ts.data.Collector(policy, test_env, exploration_noise=True)\n",
    "\n",
    "# --- Train the agent ---\n",
    "result = ts.trainer.OffpolicyTrainer(\n",
    "    policy=policy,\n",
    "    train_collector=train_collector,\n",
    "    test_collector=test_collector,\n",
    "    max_epoch=30,\n",
    "    step_per_epoch=10000,\n",
    "    step_per_collect=10,\n",
    "    episode_per_test=100,\n",
    "    batch_size=64,\n",
    "    update_per_step=1 / 10,\n",
    "    train_fn=lambda epoch, env_step: policy.set_eps(0.1),\n",
    "    test_fn=lambda epoch, env_step: policy.set_eps(0.05),\n",
    "    stop_fn=lambda mean_rewards: mean_rewards >= train_env.spec.reward_threshold,\n",
    "    logger=logger,\n",
    ").run()\n",
    "\n",
    "print(f\"Finished training in {result.timing.total_time} seconds\")\n",
    "torch.save(policy.state_dict(), 'models/dqn.pth')\n",
    "\n",
    "# --- Evaluate the trained agent ---\n",
    "policy.load_state_dict(torch.load('models/dqn.pth'))\n",
    "policy.eval()\n",
    "policy.set_eps(0.05)\n",
    "\n",
    "# Create an environment with rendering enabled.\n",
    "eval_env = gym.make(env_name, render_mode=\"human\")\n",
    "eval_env.reset()\n",
    "collector = ts.data.Collector(policy, eval_env, exploration_noise=True)\n",
    "collector.collect(n_episode=1, render=1/35, reset_before_collect=True)\n",
    "eval_env.close()"
   ]
  },
  {
   "cell_type": "code",
   "execution_count": 5,
   "metadata": {},
   "outputs": [
    {
     "name": "stdout",
     "output_type": "stream",
     "text": [
      "Episode 1: Gravity=5.04, Length=0.2016, Mass=0.0519, Friction=0.001\n",
      "Episode 1: Gravity=5.04, Length=0.2016, Mass=0.0519, Friction=0.001\n",
      "Episode 2: Gravity=5.08, Length=0.20320000000000002, Mass=0.0538, Friction=0.002\n",
      "Episode 3: Gravity=5.12, Length=0.2048, Mass=0.0557, Friction=0.003\n",
      "Episode 4: Gravity=5.16, Length=0.2064, Mass=0.057600000000000005, Friction=0.004\n",
      "Episode 5: Gravity=5.2, Length=0.20800000000000002, Mass=0.059500000000000004, Friction=0.005\n",
      "Episode 6: Gravity=5.24, Length=0.2096, Mass=0.0614, Friction=0.006\n",
      "Episode 7: Gravity=5.28, Length=0.2112, Mass=0.0633, Friction=0.007\n",
      "Episode 8: Gravity=5.32, Length=0.21280000000000002, Mass=0.06520000000000001, Friction=0.008\n",
      "Episode 9: Gravity=5.36, Length=0.2144, Mass=0.0671, Friction=0.009000000000000001\n",
      "Episode 10: Gravity=5.4, Length=0.21600000000000003, Mass=0.069, Friction=0.01\n",
      "Episode 11: Gravity=5.44, Length=0.21760000000000002, Mass=0.0709, Friction=0.011\n",
      "Episode 12: Gravity=5.48, Length=0.2192, Mass=0.0728, Friction=0.012\n",
      "Episode 13: Gravity=5.52, Length=0.22080000000000002, Mass=0.0747, Friction=0.013000000000000001\n",
      "Episode 14: Gravity=5.5600000000000005, Length=0.22240000000000001, Mass=0.0766, Friction=0.014\n",
      "Episode 15: Gravity=5.6, Length=0.224, Mass=0.0785, Friction=0.015\n",
      "Episode 16: Gravity=5.64, Length=0.22560000000000002, Mass=0.0804, Friction=0.016\n",
      "Episode 17: Gravity=5.68, Length=0.2272, Mass=0.08230000000000001, Friction=0.017\n",
      "Episode 18: Gravity=5.72, Length=0.2288, Mass=0.0842, Friction=0.018000000000000002\n",
      "Episode 19: Gravity=5.76, Length=0.23040000000000002, Mass=0.08610000000000001, Friction=0.019\n",
      "Episode 20: Gravity=5.8, Length=0.232, Mass=0.088, Friction=0.02\n",
      "Episode 21: Gravity=5.84, Length=0.23360000000000003, Mass=0.08990000000000001, Friction=0.021\n",
      "Episode 22: Gravity=5.88, Length=0.23520000000000002, Mass=0.09179999999999999, Friction=0.022\n",
      "Episode 23: Gravity=5.92, Length=0.2368, Mass=0.0937, Friction=0.023\n",
      "Episode 24: Gravity=5.96, Length=0.2384, Mass=0.0956, Friction=0.024\n",
      "Episode 25: Gravity=6.0, Length=0.24000000000000002, Mass=0.0975, Friction=0.025\n",
      "Episode 26: Gravity=6.04, Length=0.2416, Mass=0.0994, Friction=0.026000000000000002\n",
      "Episode 27: Gravity=6.08, Length=0.24320000000000003, Mass=0.1013, Friction=0.027\n",
      "Episode 28: Gravity=6.12, Length=0.24480000000000002, Mass=0.1032, Friction=0.028\n",
      "Episode 29: Gravity=6.16, Length=0.2464, Mass=0.1051, Friction=0.029\n",
      "Episode 30: Gravity=6.2, Length=0.248, Mass=0.10700000000000001, Friction=0.03\n",
      "Episode 31: Gravity=6.24, Length=0.24960000000000002, Mass=0.1089, Friction=0.031\n",
      "Episode 32: Gravity=6.28, Length=0.25120000000000003, Mass=0.11080000000000001, Friction=0.032\n",
      "Episode 33: Gravity=6.32, Length=0.2528, Mass=0.11270000000000001, Friction=0.033\n",
      "Episode 34: Gravity=6.36, Length=0.2544, Mass=0.11460000000000001, Friction=0.034\n",
      "Episode 35: Gravity=6.4, Length=0.256, Mass=0.1165, Friction=0.035\n",
      "Episode 36: Gravity=6.4399999999999995, Length=0.2576, Mass=0.1184, Friction=0.036000000000000004\n",
      "Episode 37: Gravity=6.48, Length=0.2592, Mass=0.1203, Friction=0.037\n",
      "Episode 38: Gravity=6.52, Length=0.26080000000000003, Mass=0.1222, Friction=0.038\n",
      "Episode 39: Gravity=6.5600000000000005, Length=0.2624, Mass=0.1241, Friction=0.039\n",
      "Episode 40: Gravity=6.6, Length=0.264, Mass=0.126, Friction=0.04\n",
      "Episode 41: Gravity=6.640000000000001, Length=0.2656, Mass=0.1279, Friction=0.041\n",
      "Episode 42: Gravity=6.68, Length=0.2672, Mass=0.1298, Friction=0.042\n",
      "Episode 43: Gravity=6.72, Length=0.26880000000000004, Mass=0.13169999999999998, Friction=0.043000000000000003\n",
      "Episode 44: Gravity=6.76, Length=0.27040000000000003, Mass=0.1336, Friction=0.044\n",
      "Episode 45: Gravity=6.8, Length=0.272, Mass=0.1355, Friction=0.045\n",
      "Episode 46: Gravity=6.84, Length=0.2736, Mass=0.13740000000000002, Friction=0.046\n",
      "Episode 47: Gravity=6.88, Length=0.2752, Mass=0.1393, Friction=0.047\n",
      "Episode 48: Gravity=6.92, Length=0.27680000000000005, Mass=0.1412, Friction=0.048\n",
      "Episode 49: Gravity=6.96, Length=0.2784, Mass=0.1431, Friction=0.049\n",
      "Episode 50: Gravity=7.0, Length=0.28, Mass=0.14500000000000002, Friction=0.05\n",
      "Episode 51: Gravity=7.04, Length=0.2816, Mass=0.1469, Friction=0.051000000000000004\n",
      "Episode 52: Gravity=7.08, Length=0.2832, Mass=0.1488, Friction=0.052000000000000005\n",
      "Episode 53: Gravity=7.12, Length=0.2848, Mass=0.1507, Friction=0.053\n",
      "Episode 54: Gravity=7.16, Length=0.2864, Mass=0.1526, Friction=0.054\n",
      "Episode 55: Gravity=7.2, Length=0.28800000000000003, Mass=0.1545, Friction=0.055\n",
      "Episode 56: Gravity=7.24, Length=0.2896, Mass=0.15639999999999998, Friction=0.056\n",
      "Episode 57: Gravity=7.28, Length=0.2912, Mass=0.1583, Friction=0.057\n",
      "Episode 58: Gravity=7.32, Length=0.2928, Mass=0.1602, Friction=0.058\n",
      "Episode 59: Gravity=7.359999999999999, Length=0.2944, Mass=0.16210000000000002, Friction=0.059000000000000004\n",
      "Episode 60: Gravity=7.4, Length=0.29600000000000004, Mass=0.164, Friction=0.06\n",
      "Episode 61: Gravity=7.4399999999999995, Length=0.29760000000000003, Mass=0.1659, Friction=0.061\n",
      "Episode 62: Gravity=7.48, Length=0.2992, Mass=0.1678, Friction=0.062\n",
      "Episode 63: Gravity=7.52, Length=0.3008, Mass=0.16970000000000002, Friction=0.063\n",
      "Episode 64: Gravity=7.5600000000000005, Length=0.3024, Mass=0.1716, Friction=0.064\n",
      "Episode 65: Gravity=7.6, Length=0.30400000000000005, Mass=0.1735, Friction=0.065\n",
      "Episode 66: Gravity=7.640000000000001, Length=0.3056, Mass=0.1754, Friction=0.066\n",
      "Episode 67: Gravity=7.68, Length=0.30720000000000003, Mass=0.1773, Friction=0.067\n",
      "Episode 68: Gravity=7.720000000000001, Length=0.3088, Mass=0.17920000000000003, Friction=0.068\n",
      "Episode 69: Gravity=7.76, Length=0.3104, Mass=0.18109999999999998, Friction=0.069\n",
      "Episode 70: Gravity=7.800000000000001, Length=0.312, Mass=0.183, Friction=0.07\n",
      "Episode 71: Gravity=7.84, Length=0.3136, Mass=0.1849, Friction=0.07100000000000001\n",
      "Episode 72: Gravity=7.88, Length=0.31520000000000004, Mass=0.18680000000000002, Friction=0.07200000000000001\n",
      "Episode 73: Gravity=7.92, Length=0.3168, Mass=0.18869999999999998, Friction=0.073\n",
      "Episode 74: Gravity=7.96, Length=0.3184, Mass=0.1906, Friction=0.074\n",
      "Episode 75: Gravity=8.0, Length=0.32, Mass=0.1925, Friction=0.075\n",
      "Episode 76: Gravity=8.04, Length=0.3216, Mass=0.19440000000000002, Friction=0.076\n",
      "Episode 77: Gravity=8.08, Length=0.32320000000000004, Mass=0.19630000000000003, Friction=0.077\n",
      "Episode 78: Gravity=8.120000000000001, Length=0.32480000000000003, Mass=0.1982, Friction=0.078\n",
      "Episode 79: Gravity=8.16, Length=0.3264, Mass=0.2001, Friction=0.079\n",
      "Episode 80: Gravity=8.2, Length=0.328, Mass=0.202, Friction=0.08\n",
      "Episode 81: Gravity=8.24, Length=0.3296, Mass=0.20390000000000003, Friction=0.081\n",
      "Episode 82: Gravity=8.280000000000001, Length=0.33120000000000005, Mass=0.20579999999999998, Friction=0.082\n",
      "Episode 83: Gravity=8.32, Length=0.3328, Mass=0.2077, Friction=0.083\n",
      "Episode 84: Gravity=8.36, Length=0.33440000000000003, Mass=0.2096, Friction=0.084\n",
      "Episode 85: Gravity=8.4, Length=0.336, Mass=0.21150000000000002, Friction=0.085\n",
      "Episode 86: Gravity=8.44, Length=0.3376, Mass=0.21339999999999998, Friction=0.08600000000000001\n",
      "Episode 87: Gravity=8.48, Length=0.33920000000000006, Mass=0.2153, Friction=0.08700000000000001\n",
      "Episode 88: Gravity=8.52, Length=0.3408, Mass=0.2172, Friction=0.088\n",
      "Episode 89: Gravity=8.56, Length=0.34240000000000004, Mass=0.21910000000000002, Friction=0.089\n",
      "Episode 90: Gravity=8.6, Length=0.34400000000000003, Mass=0.22100000000000003, Friction=0.09\n",
      "Episode 91: Gravity=8.64, Length=0.3456, Mass=0.2229, Friction=0.091\n",
      "Episode 92: Gravity=8.68, Length=0.3472, Mass=0.2248, Friction=0.092\n",
      "Episode 93: Gravity=8.72, Length=0.3488, Mass=0.2267, Friction=0.093\n",
      "Episode 94: Gravity=8.76, Length=0.35040000000000004, Mass=0.22860000000000003, Friction=0.094\n",
      "Episode 95: Gravity=8.8, Length=0.352, Mass=0.23049999999999998, Friction=0.095\n",
      "Episode 96: Gravity=8.84, Length=0.3536, Mass=0.2324, Friction=0.096\n",
      "Episode 97: Gravity=8.879999999999999, Length=0.3552, Mass=0.2343, Friction=0.097\n",
      "Episode 98: Gravity=8.92, Length=0.3568, Mass=0.23620000000000002, Friction=0.098\n",
      "Episode 99: Gravity=8.96, Length=0.35840000000000005, Mass=0.23809999999999998, Friction=0.099\n",
      "Episode 100: Gravity=9.0, Length=0.36, Mass=0.24, Friction=0.1\n",
      "Episode 101: Gravity=9.04, Length=0.36160000000000003, Mass=0.2419, Friction=0.101\n",
      "Episode 102: Gravity=9.08, Length=0.3632, Mass=0.24380000000000002, Friction=0.10200000000000001\n",
      "Episode 103: Gravity=9.120000000000001, Length=0.3648, Mass=0.24570000000000003, Friction=0.10300000000000001\n",
      "Episode 2: Gravity=5.08, Length=0.20320000000000002, Mass=0.0538, Friction=0.002\n",
      "Episode 104: Gravity=9.16, Length=0.36640000000000006, Mass=0.2476, Friction=0.10400000000000001\n",
      "Episode 105: Gravity=9.2, Length=0.368, Mass=0.2495, Friction=0.105\n",
      "Episode 106: Gravity=9.24, Length=0.36960000000000004, Mass=0.2514, Friction=0.106\n",
      "Episode 107: Gravity=9.280000000000001, Length=0.37120000000000003, Mass=0.2533, Friction=0.107\n",
      "Episode 108: Gravity=9.32, Length=0.3728, Mass=0.2552, Friction=0.108\n",
      "Episode 109: Gravity=9.36, Length=0.3744, Mass=0.2571, Friction=0.109\n",
      "Episode 110: Gravity=9.4, Length=0.376, Mass=0.259, Friction=0.11\n",
      "Episode 111: Gravity=9.440000000000001, Length=0.37760000000000005, Mass=0.2609, Friction=0.111\n",
      "Episode 112: Gravity=9.48, Length=0.3792, Mass=0.2628, Friction=0.112\n",
      "Episode 113: Gravity=9.52, Length=0.3808, Mass=0.2647, Friction=0.113\n",
      "Episode 114: Gravity=9.56, Length=0.3824, Mass=0.2666, Friction=0.114\n",
      "Episode 115: Gravity=9.600000000000001, Length=0.384, Mass=0.2685, Friction=0.115\n",
      "Episode 116: Gravity=9.64, Length=0.38560000000000005, Mass=0.27040000000000003, Friction=0.116\n",
      "Episode 117: Gravity=9.68, Length=0.3872, Mass=0.2723, Friction=0.117\n",
      "Episode 118: Gravity=9.719999999999999, Length=0.38880000000000003, Mass=0.2742, Friction=0.11800000000000001\n",
      "Episode 119: Gravity=9.76, Length=0.3904, Mass=0.2761, Friction=0.11900000000000001\n",
      "Episode 120: Gravity=9.8, Length=0.392, Mass=0.278, Friction=0.12\n",
      "Episode 121: Gravity=9.84, Length=0.39360000000000006, Mass=0.2799, Friction=0.121\n",
      "Episode 122: Gravity=9.879999999999999, Length=0.3952, Mass=0.2818, Friction=0.122\n",
      "Episode 123: Gravity=9.92, Length=0.39680000000000004, Mass=0.2837, Friction=0.123\n",
      "Episode 124: Gravity=9.96, Length=0.39840000000000003, Mass=0.2856, Friction=0.124\n",
      "Episode 125: Gravity=10.0, Length=0.4, Mass=0.2875, Friction=0.125\n",
      "Episode 126: Gravity=10.04, Length=0.4016, Mass=0.2894, Friction=0.126\n",
      "Episode 127: Gravity=10.08, Length=0.4032, Mass=0.2913, Friction=0.127\n",
      "Episode 128: Gravity=10.120000000000001, Length=0.40480000000000005, Mass=0.2932, Friction=0.128\n",
      "Episode 129: Gravity=10.16, Length=0.4064, Mass=0.29510000000000003, Friction=0.129\n",
      "Episode 130: Gravity=10.2, Length=0.40800000000000003, Mass=0.297, Friction=0.13\n",
      "Episode 131: Gravity=10.24, Length=0.4096, Mass=0.2989, Friction=0.131\n",
      "Episode 132: Gravity=10.280000000000001, Length=0.4112, Mass=0.3008, Friction=0.132\n",
      "Episode 133: Gravity=10.32, Length=0.41280000000000006, Mass=0.30269999999999997, Friction=0.133\n",
      "Episode 134: Gravity=10.36, Length=0.4144, Mass=0.3046, Friction=0.134\n",
      "Episode 135: Gravity=10.4, Length=0.41600000000000004, Mass=0.3065, Friction=0.135\n",
      "Episode 136: Gravity=10.440000000000001, Length=0.4176, Mass=0.3084, Friction=0.136\n",
      "Episode 137: Gravity=10.48, Length=0.4192, Mass=0.31029999999999996, Friction=0.137\n",
      "Episode 138: Gravity=10.52, Length=0.42080000000000006, Mass=0.3122, Friction=0.138\n",
      "Episode 139: Gravity=10.56, Length=0.4224, Mass=0.3141, Friction=0.139\n",
      "Episode 140: Gravity=10.600000000000001, Length=0.42400000000000004, Mass=0.316, Friction=0.14\n",
      "Episode 141: Gravity=10.64, Length=0.42560000000000003, Mass=0.3179, Friction=0.14100000000000001\n",
      "Episode 142: Gravity=10.68, Length=0.4272, Mass=0.3198, Friction=0.14200000000000002\n",
      "Episode 143: Gravity=10.719999999999999, Length=0.4288, Mass=0.3217, Friction=0.14300000000000002\n",
      "Episode 144: Gravity=10.76, Length=0.4304, Mass=0.3236, Friction=0.14400000000000002\n",
      "Episode 145: Gravity=10.8, Length=0.43200000000000005, Mass=0.3255, Friction=0.145\n",
      "Episode 146: Gravity=10.84, Length=0.4336, Mass=0.32739999999999997, Friction=0.146\n",
      "Episode 147: Gravity=10.879999999999999, Length=0.43520000000000003, Mass=0.3293, Friction=0.147\n",
      "Episode 148: Gravity=10.92, Length=0.4368, Mass=0.3312, Friction=0.148\n",
      "Episode 149: Gravity=10.96, Length=0.4384, Mass=0.3331, Friction=0.149\n",
      "Episode 150: Gravity=11.0, Length=0.44000000000000006, Mass=0.33499999999999996, Friction=0.15\n",
      "Episode 151: Gravity=11.04, Length=0.4416, Mass=0.3369, Friction=0.151\n",
      "Episode 152: Gravity=11.08, Length=0.44320000000000004, Mass=0.3388, Friction=0.152\n",
      "Episode 153: Gravity=11.120000000000001, Length=0.44480000000000003, Mass=0.3407, Friction=0.153\n",
      "Episode 154: Gravity=11.16, Length=0.4464, Mass=0.3426, Friction=0.154\n",
      "Episode 155: Gravity=11.2, Length=0.448, Mass=0.3445, Friction=0.155\n",
      "Episode 156: Gravity=11.24, Length=0.4496, Mass=0.3464, Friction=0.156\n",
      "Episode 157: Gravity=11.280000000000001, Length=0.45120000000000005, Mass=0.3483, Friction=0.157\n",
      "Episode 158: Gravity=11.32, Length=0.45280000000000004, Mass=0.3502, Friction=0.158\n",
      "Episode 159: Gravity=11.36, Length=0.4544, Mass=0.35209999999999997, Friction=0.159\n",
      "Episode 160: Gravity=11.4, Length=0.456, Mass=0.354, Friction=0.16\n",
      "Episode 161: Gravity=11.440000000000001, Length=0.4576, Mass=0.3559, Friction=0.161\n",
      "Episode 162: Gravity=11.48, Length=0.4592, Mass=0.3578, Friction=0.162\n",
      "Episode 163: Gravity=11.52, Length=0.46080000000000004, Mass=0.35969999999999996, Friction=0.163\n",
      "Episode 164: Gravity=11.56, Length=0.46240000000000003, Mass=0.3616, Friction=0.164\n",
      "Episode 165: Gravity=11.600000000000001, Length=0.464, Mass=0.3635, Friction=0.165\n",
      "Episode 166: Gravity=11.64, Length=0.4656, Mass=0.3654, Friction=0.166\n",
      "Episode 167: Gravity=11.68, Length=0.4672, Mass=0.3673, Friction=0.167\n",
      "Episode 168: Gravity=11.719999999999999, Length=0.46880000000000005, Mass=0.3692, Friction=0.168\n",
      "Episode 169: Gravity=11.76, Length=0.47040000000000004, Mass=0.3711, Friction=0.169\n",
      "Episode 170: Gravity=11.8, Length=0.47200000000000003, Mass=0.373, Friction=0.17\n",
      "Episode 171: Gravity=11.84, Length=0.4736, Mass=0.3749, Friction=0.171\n",
      "Episode 172: Gravity=11.879999999999999, Length=0.4752, Mass=0.37679999999999997, Friction=0.17200000000000001\n",
      "Episode 173: Gravity=11.92, Length=0.4768, Mass=0.3787, Friction=0.17300000000000001\n",
      "Episode 174: Gravity=11.96, Length=0.47840000000000005, Mass=0.3806, Friction=0.17400000000000002\n",
      "Episode 175: Gravity=12.0, Length=0.48000000000000004, Mass=0.3825, Friction=0.17500000000000002\n",
      "Episode 176: Gravity=12.04, Length=0.48160000000000003, Mass=0.38439999999999996, Friction=0.176\n",
      "Episode 177: Gravity=12.08, Length=0.4832, Mass=0.3863, Friction=0.177\n",
      "Episode 178: Gravity=12.120000000000001, Length=0.4848, Mass=0.3882, Friction=0.178\n",
      "Episode 179: Gravity=12.16, Length=0.4864, Mass=0.3901, Friction=0.179\n",
      "Episode 180: Gravity=12.2, Length=0.48800000000000004, Mass=0.392, Friction=0.18\n",
      "Episode 181: Gravity=12.24, Length=0.48960000000000004, Mass=0.3939, Friction=0.181\n",
      "Episode 182: Gravity=12.280000000000001, Length=0.4912, Mass=0.3958, Friction=0.182\n",
      "Episode 183: Gravity=12.32, Length=0.4928, Mass=0.3977, Friction=0.183\n",
      "Episode 184: Gravity=12.36, Length=0.4944, Mass=0.3996, Friction=0.184\n",
      "Episode 185: Gravity=12.4, Length=0.49600000000000005, Mass=0.40149999999999997, Friction=0.185\n",
      "Episode 186: Gravity=12.440000000000001, Length=0.49760000000000004, Mass=0.4034, Friction=0.186\n",
      "Episode 187: Gravity=12.48, Length=0.49920000000000003, Mass=0.4053, Friction=0.187\n",
      "Episode 188: Gravity=12.52, Length=0.5008, Mass=0.4072, Friction=0.188\n",
      "Episode 189: Gravity=12.56, Length=0.5024, Mass=0.40909999999999996, Friction=0.189\n",
      "Episode 190: Gravity=12.600000000000001, Length=0.504, Mass=0.411, Friction=0.19\n",
      "Episode 191: Gravity=12.64, Length=0.5056, Mass=0.4129, Friction=0.191\n",
      "Episode 192: Gravity=12.68, Length=0.5072000000000001, Mass=0.4148, Friction=0.192\n",
      "Episode 193: Gravity=12.719999999999999, Length=0.5088, Mass=0.4167, Friction=0.193\n",
      "Episode 194: Gravity=12.76, Length=0.5104, Mass=0.41859999999999997, Friction=0.194\n",
      "Episode 195: Gravity=12.8, Length=0.512, Mass=0.4205, Friction=0.195\n",
      "Episode 196: Gravity=12.84, Length=0.5136000000000001, Mass=0.4224, Friction=0.196\n",
      "Episode 197: Gravity=12.879999999999999, Length=0.5152000000000001, Mass=0.4243, Friction=0.197\n",
      "Episode 198: Gravity=12.92, Length=0.5168, Mass=0.42619999999999997, Friction=0.198\n",
      "Episode 199: Gravity=12.96, Length=0.5184, Mass=0.4281, Friction=0.199\n",
      "Episode 200: Gravity=13.0, Length=0.52, Mass=0.43, Friction=0.2\n",
      "Episode 201: Gravity=13.040000000000001, Length=0.5216000000000001, Mass=0.4319, Friction=0.201\n",
      "Episode 202: Gravity=13.08, Length=0.5232000000000001, Mass=0.43379999999999996, Friction=0.202\n",
      "Episode 203: Gravity=13.120000000000001, Length=0.5248, Mass=0.4357, Friction=0.203\n",
      "Episode 204: Gravity=13.16, Length=0.5264, Mass=0.4376, Friction=0.20400000000000001\n",
      "Episode 205: Gravity=13.2, Length=0.528, Mass=0.4395, Friction=0.20500000000000002\n",
      "Episode 206: Gravity=13.24, Length=0.5296000000000001, Mass=0.4414, Friction=0.20600000000000002\n"
     ]
    },
    {
     "name": "stderr",
     "output_type": "stream",
     "text": [
      "Epoch #1:   5%|4         | 490/10000 [00:00<00:05, 1801.02it/s, env_step=490, gradient_step=49, len=0, n/ep=0, n/st=10, rew=0.00]"
     ]
    },
    {
     "name": "stdout",
     "output_type": "stream",
     "text": [
      "Episode 3: Gravity=5.12, Length=0.2048, Mass=0.0557, Friction=0.003\n",
      "Episode 207: Gravity=13.28, Length=0.5312, Mass=0.44329999999999997, Friction=0.20700000000000002\n",
      "Episode 208: Gravity=13.32, Length=0.5328, Mass=0.4452, Friction=0.20800000000000002\n",
      "Episode 209: Gravity=13.36, Length=0.5344, Mass=0.4471, Friction=0.209\n",
      "Episode 210: Gravity=13.4, Length=0.536, Mass=0.449, Friction=0.21\n",
      "Episode 211: Gravity=13.44, Length=0.5376000000000001, Mass=0.45089999999999997, Friction=0.211\n",
      "Episode 212: Gravity=13.48, Length=0.5392, Mass=0.4528, Friction=0.212\n",
      "Episode 213: Gravity=13.52, Length=0.5408, Mass=0.4547, Friction=0.213\n",
      "Episode 214: Gravity=13.56, Length=0.5424, Mass=0.4566, Friction=0.214\n",
      "Episode 215: Gravity=13.6, Length=0.544, Mass=0.45849999999999996, Friction=0.215\n",
      "Episode 216: Gravity=13.64, Length=0.5456000000000001, Mass=0.4604, Friction=0.216\n",
      "Episode 217: Gravity=13.68, Length=0.5472, Mass=0.4623, Friction=0.217\n",
      "Episode 218: Gravity=13.72, Length=0.5488, Mass=0.4642, Friction=0.218\n",
      "Episode 219: Gravity=13.76, Length=0.5504, Mass=0.4661, Friction=0.219\n",
      "Episode 220: Gravity=13.8, Length=0.552, Mass=0.46799999999999997, Friction=0.22\n",
      "Episode 221: Gravity=13.84, Length=0.5536000000000001, Mass=0.4699, Friction=0.221\n",
      "Episode 222: Gravity=13.88, Length=0.5552, Mass=0.4718, Friction=0.222\n",
      "Episode 223: Gravity=13.92, Length=0.5568, Mass=0.4737, Friction=0.223\n",
      "Episode 224: Gravity=13.96, Length=0.5584, Mass=0.47559999999999997, Friction=0.224\n",
      "Episode 225: Gravity=14.0, Length=0.56, Mass=0.4775, Friction=0.225\n",
      "Episode 226: Gravity=14.040000000000001, Length=0.5616000000000001, Mass=0.4794, Friction=0.226\n",
      "Episode 227: Gravity=14.08, Length=0.5632, Mass=0.4813, Friction=0.227\n",
      "Episode 228: Gravity=14.120000000000001, Length=0.5648, Mass=0.48319999999999996, Friction=0.228\n",
      "Episode 229: Gravity=14.16, Length=0.5664, Mass=0.4851, Friction=0.229\n",
      "Episode 230: Gravity=14.200000000000001, Length=0.5680000000000001, Mass=0.487, Friction=0.23\n",
      "Episode 231: Gravity=14.24, Length=0.5696000000000001, Mass=0.4889, Friction=0.231\n",
      "Episode 232: Gravity=14.28, Length=0.5712, Mass=0.4908, Friction=0.232\n",
      "Episode 233: Gravity=14.32, Length=0.5728, Mass=0.49269999999999997, Friction=0.233\n",
      "Episode 234: Gravity=14.36, Length=0.5744, Mass=0.4946, Friction=0.234\n",
      "Episode 235: Gravity=14.4, Length=0.5760000000000001, Mass=0.4965, Friction=0.23500000000000001\n",
      "Episode 236: Gravity=14.44, Length=0.5776, Mass=0.4984, Friction=0.23600000000000002\n",
      "Episode 237: Gravity=14.48, Length=0.5792, Mass=0.5003, Friction=0.23700000000000002\n",
      "Episode 238: Gravity=14.52, Length=0.5808, Mass=0.5022, Friction=0.23800000000000002\n",
      "Episode 239: Gravity=14.56, Length=0.5824, Mass=0.5041, Friction=0.23900000000000002\n",
      "Episode 240: Gravity=14.6, Length=0.5840000000000001, Mass=0.506, Friction=0.24\n",
      "Episode 241: Gravity=14.64, Length=0.5856, Mass=0.5079, Friction=0.241\n",
      "Episode 242: Gravity=14.68, Length=0.5872, Mass=0.5098, Friction=0.242\n",
      "Episode 243: Gravity=14.72, Length=0.5888, Mass=0.5117, Friction=0.243\n",
      "Episode 244: Gravity=14.76, Length=0.5904, Mass=0.5136000000000001, Friction=0.244\n",
      "Episode 245: Gravity=14.8, Length=0.5920000000000001, Mass=0.5155000000000001, Friction=0.245\n",
      "Episode 246: Gravity=14.84, Length=0.5936, Mass=0.5174, Friction=0.246\n",
      "Episode 247: Gravity=14.88, Length=0.5952, Mass=0.5193, Friction=0.247\n",
      "Episode 248: Gravity=14.92, Length=0.5968, Mass=0.5212, Friction=0.248\n",
      "Episode 249: Gravity=14.96, Length=0.5984, Mass=0.5231, Friction=0.249\n",
      "Episode 250: Gravity=15.0, Length=0.6000000000000001, Mass=0.525, Friction=0.25\n",
      "Episode 251: Gravity=15.040000000000001, Length=0.6016, Mass=0.5269, Friction=0.251\n",
      "Episode 252: Gravity=15.08, Length=0.6032, Mass=0.5288, Friction=0.252\n",
      "Episode 253: Gravity=15.120000000000001, Length=0.6048, Mass=0.5307000000000001, Friction=0.253\n",
      "Episode 254: Gravity=15.16, Length=0.6064, Mass=0.5326, Friction=0.254\n",
      "Episode 255: Gravity=15.200000000000001, Length=0.6080000000000001, Mass=0.5345, Friction=0.255\n",
      "Episode 256: Gravity=15.24, Length=0.6096, Mass=0.5364, Friction=0.256\n",
      "Episode 257: Gravity=15.28, Length=0.6112, Mass=0.5383, Friction=0.257\n",
      "Episode 258: Gravity=15.32, Length=0.6128, Mass=0.5402, Friction=0.258\n",
      "Episode 259: Gravity=15.36, Length=0.6144000000000001, Mass=0.5421, Friction=0.259\n",
      "Episode 260: Gravity=15.4, Length=0.6160000000000001, Mass=0.544, Friction=0.26\n",
      "Episode 261: Gravity=15.44, Length=0.6176, Mass=0.5459, Friction=0.261\n",
      "Episode 262: Gravity=15.48, Length=0.6192, Mass=0.5478000000000001, Friction=0.262\n",
      "Episode 263: Gravity=15.52, Length=0.6208, Mass=0.5497, Friction=0.263\n",
      "Episode 264: Gravity=15.56, Length=0.6224000000000001, Mass=0.5516000000000001, Friction=0.264\n",
      "Episode 265: Gravity=15.6, Length=0.6240000000000001, Mass=0.5535, Friction=0.265\n",
      "Episode 266: Gravity=15.64, Length=0.6256, Mass=0.5554, Friction=0.266\n",
      "Episode 267: Gravity=15.68, Length=0.6272, Mass=0.5573, Friction=0.267\n",
      "Episode 268: Gravity=15.72, Length=0.6288, Mass=0.5592, Friction=0.268\n",
      "Episode 269: Gravity=15.76, Length=0.6304000000000001, Mass=0.5611, Friction=0.269\n",
      "Episode 270: Gravity=15.8, Length=0.632, Mass=0.5630000000000001, Friction=0.27\n",
      "Episode 271: Gravity=15.84, Length=0.6336, Mass=0.5649000000000001, Friction=0.271\n",
      "Episode 272: Gravity=15.88, Length=0.6352, Mass=0.5668000000000001, Friction=0.272\n",
      "Episode 273: Gravity=15.92, Length=0.6368, Mass=0.5687000000000001, Friction=0.273\n",
      "Episode 274: Gravity=15.96, Length=0.6384000000000001, Mass=0.5706, Friction=0.274\n",
      "Episode 275: Gravity=16.0, Length=0.64, Mass=0.5725, Friction=0.275\n",
      "Episode 276: Gravity=16.04, Length=0.6416000000000001, Mass=0.5744, Friction=0.276\n",
      "Episode 277: Gravity=16.08, Length=0.6432, Mass=0.5763, Friction=0.277\n",
      "Episode 278: Gravity=16.12, Length=0.6448, Mass=0.5782, Friction=0.278\n",
      "Episode 279: Gravity=16.16, Length=0.6464000000000001, Mass=0.5801000000000001, Friction=0.279\n",
      "Episode 280: Gravity=16.200000000000003, Length=0.648, Mass=0.5820000000000001, Friction=0.28\n",
      "Episode 281: Gravity=16.240000000000002, Length=0.6496, Mass=0.5839000000000001, Friction=0.281\n",
      "Episode 282: Gravity=16.28, Length=0.6512, Mass=0.5858000000000001, Friction=0.28200000000000003\n",
      "Episode 283: Gravity=16.32, Length=0.6528, Mass=0.5877, Friction=0.28300000000000003\n",
      "Episode 284: Gravity=16.36, Length=0.6544000000000001, Mass=0.5896, Friction=0.28400000000000003\n",
      "Episode 285: Gravity=16.4, Length=0.656, Mass=0.5915, Friction=0.28500000000000003\n",
      "Episode 286: Gravity=16.439999999999998, Length=0.6576, Mass=0.5934, Friction=0.28600000000000003\n",
      "Episode 287: Gravity=16.48, Length=0.6592, Mass=0.5953, Friction=0.28700000000000003\n",
      "Episode 288: Gravity=16.52, Length=0.6608, Mass=0.5972000000000001, Friction=0.28800000000000003\n",
      "Episode 289: Gravity=16.560000000000002, Length=0.6624000000000001, Mass=0.5991000000000001, Friction=0.289\n",
      "Episode 290: Gravity=16.6, Length=0.664, Mass=0.6010000000000001, Friction=0.29\n",
      "Episode 291: Gravity=16.64, Length=0.6656, Mass=0.6029, Friction=0.291\n",
      "Episode 292: Gravity=16.68, Length=0.6672, Mass=0.6048, Friction=0.292\n",
      "Episode 293: Gravity=16.72, Length=0.6688000000000001, Mass=0.6067, Friction=0.293\n",
      "Episode 294: Gravity=16.759999999999998, Length=0.6704000000000001, Mass=0.6086, Friction=0.294\n",
      "Episode 295: Gravity=16.8, Length=0.672, Mass=0.6105, Friction=0.295\n",
      "Episode 296: Gravity=16.84, Length=0.6736, Mass=0.6124, Friction=0.296\n",
      "Episode 297: Gravity=16.880000000000003, Length=0.6752, Mass=0.6143000000000001, Friction=0.297\n",
      "Episode 298: Gravity=16.92, Length=0.6768000000000001, Mass=0.6162000000000001, Friction=0.298\n",
      "Episode 299: Gravity=16.96, Length=0.6784000000000001, Mass=0.6181000000000001, Friction=0.299\n",
      "Episode 300: Gravity=17.0, Length=0.68, Mass=0.62, Friction=0.3\n",
      "Episode 301: Gravity=17.04, Length=0.6816, Mass=0.6219, Friction=0.301\n",
      "Episode 302: Gravity=17.08, Length=0.6832, Mass=0.6238, Friction=0.302\n",
      "Episode 303: Gravity=17.12, Length=0.6848000000000001, Mass=0.6257, Friction=0.303\n",
      "Episode 304: Gravity=17.16, Length=0.6864, Mass=0.6276, Friction=0.304\n",
      "Episode 305: Gravity=17.200000000000003, Length=0.6880000000000001, Mass=0.6295000000000001, Friction=0.305\n",
      "Episode 306: Gravity=17.240000000000002, Length=0.6896, Mass=0.6314000000000001, Friction=0.306\n"
     ]
    },
    {
     "name": "stderr",
     "output_type": "stream",
     "text": [
      "Epoch #1:   8%|8         | 830/10000 [00:10<02:18, 66.16it/s, env_step=830, gradient_step=83, len=264, n/ep=0, n/st=10, rew=264.00]  "
     ]
    },
    {
     "name": "stdout",
     "output_type": "stream",
     "text": [
      "Episode 307: Gravity=17.28, Length=0.6912, Mass=0.6333000000000001, Friction=0.307\n",
      "Episode 308: Gravity=17.32, Length=0.6928000000000001, Mass=0.6352000000000001, Friction=0.308\n",
      "Episode 4: Gravity=5.16, Length=0.2064, Mass=0.057600000000000005, Friction=0.004\n"
     ]
    },
    {
     "name": "stderr",
     "output_type": "stream",
     "text": [
      "Epoch #1:  12%|#2        | 1240/10000 [00:10<00:46, 189.07it/s, env_step=1240, gradient_step=124, len=288, n/ep=0, n/st=10, rew=288.00]"
     ]
    },
    {
     "name": "stdout",
     "output_type": "stream",
     "text": [
      "Episode 5: Gravity=5.2, Length=0.20800000000000002, Mass=0.059500000000000004, Friction=0.005\n"
     ]
    },
    {
     "name": "stderr",
     "output_type": "stream",
     "text": [
      "Epoch #1:  16%|#5        | 1580/10000 [00:10<00:26, 313.25it/s, env_step=1580, gradient_step=158, len=272, n/ep=0, n/st=10, rew=272.00]"
     ]
    },
    {
     "name": "stdout",
     "output_type": "stream",
     "text": [
      "Episode 6: Gravity=5.24, Length=0.2096, Mass=0.0614, Friction=0.006\n"
     ]
    },
    {
     "name": "stderr",
     "output_type": "stream",
     "text": [
      "Epoch #1:  20%|#9        | 1990/10000 [00:10<00:11, 698.50it/s, env_step=1990, gradient_step=199, len=246, n/ep=0, n/st=10, rew=246.00]"
     ]
    },
    {
     "name": "stdout",
     "output_type": "stream",
     "text": [
      "Episode 7: Gravity=5.28, Length=0.2112, Mass=0.0633, Friction=0.007\n",
      "Episode 8: Gravity=5.32, Length=0.21280000000000002, Mass=0.06520000000000001, Friction=0.008\n"
     ]
    },
    {
     "name": "stderr",
     "output_type": "stream",
     "text": [
      "Epoch #1:  26%|##5       | 2550/10000 [00:11<00:06, 1073.89it/s, env_step=2550, gradient_step=255, len=42, n/ep=0, n/st=10, rew=42.00] "
     ]
    },
    {
     "name": "stdout",
     "output_type": "stream",
     "text": [
      "Episode 9: Gravity=5.36, Length=0.2144, Mass=0.0671, Friction=0.009000000000000001\n",
      "Episode 10: Gravity=5.4, Length=0.21600000000000003, Mass=0.069, Friction=0.01\n"
     ]
    },
    {
     "name": "stderr",
     "output_type": "stream",
     "text": [
      "Epoch #1:  29%|##9       | 2910/10000 [00:11<00:05, 1288.35it/s, env_step=2910, gradient_step=291, len=9, n/ep=0, n/st=10, rew=9.00]    "
     ]
    },
    {
     "name": "stdout",
     "output_type": "stream",
     "text": [
      "Episode 11: Gravity=5.44, Length=0.21760000000000002, Mass=0.0709, Friction=0.011\n",
      "Episode 12: Gravity=5.48, Length=0.2192, Mass=0.0728, Friction=0.012\n",
      "Episode 13: Gravity=5.52, Length=0.22080000000000002, Mass=0.0747, Friction=0.013000000000000001\n",
      "Episode 14: Gravity=5.5600000000000005, Length=0.22240000000000001, Mass=0.0766, Friction=0.014\n",
      "Episode 15: Gravity=5.6, Length=0.224, Mass=0.0785, Friction=0.015\n"
     ]
    },
    {
     "name": "stderr",
     "output_type": "stream",
     "text": [
      "Epoch #1:  33%|###3      | 3310/10000 [00:11<00:04, 1338.91it/s, env_step=3310, gradient_step=331, len=112, n/ep=0, n/st=10, rew=112.00]"
     ]
    },
    {
     "name": "stdout",
     "output_type": "stream",
     "text": [
      "Episode 16: Gravity=5.64, Length=0.22560000000000002, Mass=0.0804, Friction=0.016\n",
      "Episode 17: Gravity=5.68, Length=0.2272, Mass=0.08230000000000001, Friction=0.017\n",
      "Episode 18: Gravity=5.72, Length=0.2288, Mass=0.0842, Friction=0.018000000000000002\n"
     ]
    },
    {
     "name": "stderr",
     "output_type": "stream",
     "text": [
      "Epoch #1:  36%|###6      | 3640/10000 [00:12<00:04, 1377.79it/s, env_step=3640, gradient_step=364, len=70, n/ep=0, n/st=10, rew=70.00]  "
     ]
    },
    {
     "name": "stdout",
     "output_type": "stream",
     "text": [
      "Episode 19: Gravity=5.76, Length=0.23040000000000002, Mass=0.08610000000000001, Friction=0.019\n",
      "Episode 20: Gravity=5.8, Length=0.232, Mass=0.088, Friction=0.02\n"
     ]
    },
    {
     "name": "stderr",
     "output_type": "stream",
     "text": [
      "Epoch #1:  41%|####1     | 4120/10000 [00:12<00:04, 1464.62it/s, env_step=4120, gradient_step=412, len=170, n/ep=0, n/st=10, rew=170.00]"
     ]
    },
    {
     "name": "stdout",
     "output_type": "stream",
     "text": [
      "Episode 21: Gravity=5.84, Length=0.23360000000000003, Mass=0.08990000000000001, Friction=0.021\n",
      "Episode 22: Gravity=5.88, Length=0.23520000000000002, Mass=0.09179999999999999, Friction=0.022\n"
     ]
    },
    {
     "name": "stderr",
     "output_type": "stream",
     "text": [
      "Epoch #1:  45%|####4     | 4460/10000 [00:12<00:03, 1476.68it/s, env_step=4460, gradient_step=446, len=175, n/ep=1, n/st=10, rew=175.00]"
     ]
    },
    {
     "name": "stdout",
     "output_type": "stream",
     "text": [
      "Episode 23: Gravity=5.92, Length=0.2368, Mass=0.0937, Friction=0.023\n",
      "Episode 24: Gravity=5.96, Length=0.2384, Mass=0.0956, Friction=0.024\n",
      "Episode 25: Gravity=6.0, Length=0.24000000000000002, Mass=0.0975, Friction=0.025\n"
     ]
    },
    {
     "name": "stderr",
     "output_type": "stream",
     "text": [
      "Epoch #1:  51%|#####     | 5060/10000 [00:13<00:03, 1486.07it/s, env_step=5060, gradient_step=506, len=119, n/ep=0, n/st=10, rew=119.00]"
     ]
    },
    {
     "name": "stdout",
     "output_type": "stream",
     "text": [
      "Episode 26: Gravity=6.04, Length=0.2416, Mass=0.0994, Friction=0.026000000000000002\n",
      "Episode 27: Gravity=6.08, Length=0.24320000000000003, Mass=0.1013, Friction=0.027\n"
     ]
    },
    {
     "name": "stderr",
     "output_type": "stream",
     "text": [
      "Epoch #1:  54%|#####4    | 5430/10000 [00:13<00:03, 1481.51it/s, env_step=5430, gradient_step=543, len=175, n/ep=0, n/st=10, rew=175.00]"
     ]
    },
    {
     "name": "stdout",
     "output_type": "stream",
     "text": [
      "Episode 28: Gravity=6.12, Length=0.24480000000000002, Mass=0.1032, Friction=0.028\n",
      "Episode 29: Gravity=6.16, Length=0.2464, Mass=0.1051, Friction=0.029\n"
     ]
    },
    {
     "name": "stderr",
     "output_type": "stream",
     "text": [
      "Epoch #1:  57%|#####7    | 5730/10000 [00:13<00:02, 1455.96it/s, env_step=5730, gradient_step=573, len=232, n/ep=0, n/st=10, rew=232.00]"
     ]
    },
    {
     "name": "stdout",
     "output_type": "stream",
     "text": [
      "Episode 30: Gravity=6.2, Length=0.248, Mass=0.10700000000000001, Friction=0.03\n",
      "Episode 31: Gravity=6.24, Length=0.24960000000000002, Mass=0.1089, Friction=0.031\n"
     ]
    },
    {
     "name": "stderr",
     "output_type": "stream",
     "text": [
      "Epoch #1:  61%|######1   | 6110/10000 [00:13<00:02, 1425.53it/s, env_step=6110, gradient_step=611, len=108, n/ep=0, n/st=10, rew=108.00]"
     ]
    },
    {
     "name": "stdout",
     "output_type": "stream",
     "text": [
      "Episode 32: Gravity=6.28, Length=0.25120000000000003, Mass=0.11080000000000001, Friction=0.032\n",
      "Episode 33: Gravity=6.32, Length=0.2528, Mass=0.11270000000000001, Friction=0.033\n"
     ]
    },
    {
     "name": "stderr",
     "output_type": "stream",
     "text": [
      "Epoch #1:  64%|######4   | 6410/10000 [00:13<00:02, 1448.91it/s, env_step=6410, gradient_step=641, len=268, n/ep=0, n/st=10, rew=268.00]"
     ]
    },
    {
     "name": "stdout",
     "output_type": "stream",
     "text": [
      "Episode 34: Gravity=6.36, Length=0.2544, Mass=0.11460000000000001, Friction=0.034\n",
      "Episode 35: Gravity=6.4, Length=0.256, Mass=0.1165, Friction=0.035\n"
     ]
    },
    {
     "name": "stderr",
     "output_type": "stream",
     "text": [
      "Epoch #1:  68%|######8   | 6840/10000 [00:14<00:02, 1433.98it/s, env_step=6840, gradient_step=684, len=161, n/ep=0, n/st=10, rew=161.00]"
     ]
    },
    {
     "name": "stdout",
     "output_type": "stream",
     "text": [
      "Episode 36: Gravity=6.4399999999999995, Length=0.2576, Mass=0.1184, Friction=0.036000000000000004\n",
      "Episode 37: Gravity=6.48, Length=0.2592, Mass=0.1203, Friction=0.037\n"
     ]
    },
    {
     "name": "stderr",
     "output_type": "stream",
     "text": [
      "Epoch #1:  71%|#######1  | 7140/10000 [00:14<00:01, 1439.20it/s, env_step=7140, gradient_step=714, len=167, n/ep=0, n/st=10, rew=167.00]"
     ]
    },
    {
     "name": "stdout",
     "output_type": "stream",
     "text": [
      "Episode 38: Gravity=6.52, Length=0.26080000000000003, Mass=0.1222, Friction=0.038\n",
      "Episode 39: Gravity=6.5600000000000005, Length=0.2624, Mass=0.1241, Friction=0.039\n"
     ]
    },
    {
     "name": "stderr",
     "output_type": "stream",
     "text": [
      "Epoch #1:  75%|#######5  | 7530/10000 [00:14<00:01, 1382.19it/s, env_step=7530, gradient_step=753, len=182, n/ep=0, n/st=10, rew=182.00]"
     ]
    },
    {
     "name": "stdout",
     "output_type": "stream",
     "text": [
      "Episode 40: Gravity=6.6, Length=0.264, Mass=0.126, Friction=0.04\n",
      "Episode 41: Gravity=6.640000000000001, Length=0.2656, Mass=0.1279, Friction=0.041\n"
     ]
    },
    {
     "name": "stderr",
     "output_type": "stream",
     "text": [
      "Epoch #1:  79%|#######9  | 7930/10000 [00:15<00:01, 1392.55it/s, env_step=7930, gradient_step=793, len=222, n/ep=0, n/st=10, rew=222.00]"
     ]
    },
    {
     "name": "stdout",
     "output_type": "stream",
     "text": [
      "Episode 42: Gravity=6.68, Length=0.2672, Mass=0.1298, Friction=0.042\n",
      "Episode 43: Gravity=6.72, Length=0.26880000000000004, Mass=0.13169999999999998, Friction=0.043000000000000003\n"
     ]
    },
    {
     "name": "stderr",
     "output_type": "stream",
     "text": [
      "Epoch #1:  84%|########3 | 8370/10000 [00:15<00:01, 1480.89it/s, env_step=8370, gradient_step=837, len=176, n/ep=0, n/st=10, rew=176.00]"
     ]
    },
    {
     "name": "stdout",
     "output_type": "stream",
     "text": [
      "Episode 44: Gravity=6.76, Length=0.27040000000000003, Mass=0.1336, Friction=0.044\n",
      "Episode 45: Gravity=6.8, Length=0.272, Mass=0.1355, Friction=0.045\n"
     ]
    },
    {
     "name": "stderr",
     "output_type": "stream",
     "text": [
      "Epoch #1:  87%|########7 | 8730/10000 [00:15<00:00, 1503.39it/s, env_step=8730, gradient_step=873, len=217, n/ep=0, n/st=10, rew=217.00]"
     ]
    },
    {
     "name": "stdout",
     "output_type": "stream",
     "text": [
      "Episode 46: Gravity=6.84, Length=0.2736, Mass=0.13740000000000002, Friction=0.046\n",
      "Episode 47: Gravity=6.88, Length=0.2752, Mass=0.1393, Friction=0.047\n"
     ]
    },
    {
     "name": "stderr",
     "output_type": "stream",
     "text": [
      "Epoch #1:  92%|#########1| 9150/10000 [00:15<00:00, 1458.61it/s, env_step=9150, gradient_step=915, len=218, n/ep=0, n/st=10, rew=218.00]"
     ]
    },
    {
     "name": "stdout",
     "output_type": "stream",
     "text": [
      "Episode 48: Gravity=6.92, Length=0.27680000000000005, Mass=0.1412, Friction=0.048\n",
      "Episode 49: Gravity=6.96, Length=0.2784, Mass=0.1431, Friction=0.049\n"
     ]
    },
    {
     "name": "stderr",
     "output_type": "stream",
     "text": [
      "Epoch #1:  96%|#########6| 9600/10000 [00:16<00:00, 1496.30it/s, env_step=9600, gradient_step=960, len=160, n/ep=0, n/st=10, rew=160.00]"
     ]
    },
    {
     "name": "stdout",
     "output_type": "stream",
     "text": [
      "Episode 50: Gravity=7.0, Length=0.28, Mass=0.14500000000000002, Friction=0.05\n",
      "Episode 51: Gravity=7.04, Length=0.2816, Mass=0.1469, Friction=0.051000000000000004\n",
      "Episode 52: Gravity=7.08, Length=0.2832, Mass=0.1488, Friction=0.052000000000000005\n"
     ]
    },
    {
     "name": "stderr",
     "output_type": "stream",
     "text": [
      "Epoch #1: 10001it [00:16, 608.54it/s, env_step=10000, gradient_step=1000, len=198, n/ep=0, n/st=10, rew=198.00]                            \n"
     ]
    },
    {
     "name": "stdout",
     "output_type": "stream",
     "text": [
      "Episode 53: Gravity=7.12, Length=0.2848, Mass=0.1507, Friction=0.053\n",
      "Episode 54: Gravity=7.16, Length=0.2864, Mass=0.1526, Friction=0.054\n",
      "Episode 309: Gravity=17.36, Length=0.6944, Mass=0.6371, Friction=0.309\n",
      "Episode 310: Gravity=17.4, Length=0.696, Mass=0.639, Friction=0.31\n",
      "Episode 311: Gravity=17.439999999999998, Length=0.6976, Mass=0.6409, Friction=0.311\n",
      "Episode 312: Gravity=17.48, Length=0.6992, Mass=0.6428, Friction=0.312\n",
      "Episode 313: Gravity=17.52, Length=0.7008000000000001, Mass=0.6447, Friction=0.313\n",
      "Episode 314: Gravity=17.560000000000002, Length=0.7024000000000001, Mass=0.6466000000000001, Friction=0.314\n",
      "Episode 315: Gravity=17.6, Length=0.704, Mass=0.6485000000000001, Friction=0.315\n",
      "Episode 316: Gravity=17.64, Length=0.7056, Mass=0.6504000000000001, Friction=0.316\n",
      "Episode 317: Gravity=17.68, Length=0.7072, Mass=0.6523, Friction=0.317\n",
      "Episode 318: Gravity=17.72, Length=0.7088000000000001, Mass=0.6542, Friction=0.318\n",
      "Episode 319: Gravity=17.759999999999998, Length=0.7104000000000001, Mass=0.6561, Friction=0.319\n",
      "Episode 320: Gravity=17.8, Length=0.712, Mass=0.658, Friction=0.32\n",
      "Episode 321: Gravity=17.84, Length=0.7136, Mass=0.6599, Friction=0.321\n",
      "Episode 322: Gravity=17.880000000000003, Length=0.7152000000000001, Mass=0.6618, Friction=0.322\n",
      "Episode 323: Gravity=17.92, Length=0.7168000000000001, Mass=0.6637000000000001, Friction=0.323\n",
      "Episode 324: Gravity=17.96, Length=0.7183999999999999, Mass=0.6656000000000001, Friction=0.324\n",
      "Episode 325: Gravity=18.0, Length=0.72, Mass=0.6675000000000001, Friction=0.325\n",
      "Episode 326: Gravity=18.04, Length=0.7216, Mass=0.6694, Friction=0.326\n",
      "Episode 327: Gravity=18.08, Length=0.7232000000000001, Mass=0.6713, Friction=0.327\n",
      "Episode 328: Gravity=18.12, Length=0.7248000000000001, Mass=0.6732, Friction=0.328\n",
      "Episode 329: Gravity=18.16, Length=0.7263999999999999, Mass=0.6751, Friction=0.329\n",
      "Episode 330: Gravity=18.200000000000003, Length=0.728, Mass=0.677, Friction=0.33\n",
      "Episode 331: Gravity=18.240000000000002, Length=0.7296, Mass=0.6789000000000001, Friction=0.331\n",
      "Episode 332: Gravity=18.28, Length=0.7312000000000001, Mass=0.6808000000000001, Friction=0.332\n",
      "Episode 333: Gravity=18.32, Length=0.7328000000000001, Mass=0.6827000000000001, Friction=0.333\n",
      "Episode 334: Gravity=18.36, Length=0.7343999999999999, Mass=0.6846000000000001, Friction=0.334\n",
      "Episode 335: Gravity=18.4, Length=0.736, Mass=0.6865, Friction=0.335\n",
      "Episode 336: Gravity=18.439999999999998, Length=0.7376, Mass=0.6884, Friction=0.336\n",
      "Episode 337: Gravity=18.48, Length=0.7392000000000001, Mass=0.6903, Friction=0.337\n",
      "Episode 338: Gravity=18.52, Length=0.7408000000000001, Mass=0.6922, Friction=0.338\n",
      "Episode 339: Gravity=18.560000000000002, Length=0.7424, Mass=0.6941, Friction=0.339\n",
      "Episode 340: Gravity=18.6, Length=0.744, Mass=0.6960000000000001, Friction=0.34\n",
      "Episode 341: Gravity=18.64, Length=0.7456, Mass=0.6979000000000001, Friction=0.341\n",
      "Episode 342: Gravity=18.68, Length=0.7472000000000001, Mass=0.6998000000000001, Friction=0.342\n",
      "Episode 343: Gravity=18.72, Length=0.7488000000000001, Mass=0.7017, Friction=0.343\n",
      "Episode 344: Gravity=18.759999999999998, Length=0.7504, Mass=0.7036, Friction=0.34400000000000003\n",
      "Episode 345: Gravity=18.8, Length=0.752, Mass=0.7055, Friction=0.34500000000000003\n",
      "Episode 346: Gravity=18.84, Length=0.7536, Mass=0.7074, Friction=0.34600000000000003\n",
      "Episode 347: Gravity=18.880000000000003, Length=0.7552000000000001, Mass=0.7093, Friction=0.34700000000000003\n",
      "Episode 348: Gravity=18.92, Length=0.7568000000000001, Mass=0.7112, Friction=0.34800000000000003\n",
      "Episode 349: Gravity=18.96, Length=0.7584, Mass=0.7131000000000001, Friction=0.34900000000000003\n",
      "Episode 350: Gravity=19.0, Length=0.76, Mass=0.7150000000000001, Friction=0.35000000000000003\n",
      "Episode 351: Gravity=19.04, Length=0.7616, Mass=0.7169000000000001, Friction=0.35100000000000003\n",
      "Episode 352: Gravity=19.08, Length=0.7632000000000001, Mass=0.7188, Friction=0.352\n",
      "Episode 353: Gravity=19.12, Length=0.7648000000000001, Mass=0.7207, Friction=0.353\n",
      "Episode 354: Gravity=19.16, Length=0.7664, Mass=0.7226, Friction=0.354\n",
      "Episode 355: Gravity=19.200000000000003, Length=0.768, Mass=0.7245, Friction=0.355\n",
      "Episode 356: Gravity=19.240000000000002, Length=0.7696000000000001, Mass=0.7264, Friction=0.356\n",
      "Episode 357: Gravity=19.28, Length=0.7712000000000001, Mass=0.7283000000000001, Friction=0.357\n",
      "Episode 358: Gravity=19.32, Length=0.7727999999999999, Mass=0.7302000000000001, Friction=0.358\n",
      "Episode 359: Gravity=19.36, Length=0.7744, Mass=0.7321000000000001, Friction=0.359\n",
      "Episode 360: Gravity=19.4, Length=0.776, Mass=0.7340000000000001, Friction=0.36\n",
      "Episode 361: Gravity=19.439999999999998, Length=0.7776000000000001, Mass=0.7359, Friction=0.361\n",
      "Episode 362: Gravity=19.48, Length=0.7792000000000001, Mass=0.7378, Friction=0.362\n",
      "Episode 363: Gravity=19.52, Length=0.7807999999999999, Mass=0.7397, Friction=0.363\n",
      "Episode 364: Gravity=19.560000000000002, Length=0.7824, Mass=0.7416, Friction=0.364\n",
      "Episode 365: Gravity=19.6, Length=0.784, Mass=0.7435, Friction=0.365\n",
      "Episode 366: Gravity=19.64, Length=0.7856000000000001, Mass=0.7454000000000001, Friction=0.366\n",
      "Episode 367: Gravity=19.68, Length=0.7872000000000001, Mass=0.7473000000000001, Friction=0.367\n",
      "Episode 368: Gravity=19.72, Length=0.7888, Mass=0.7492000000000001, Friction=0.368\n",
      "Episode 369: Gravity=19.759999999999998, Length=0.7904, Mass=0.7511, Friction=0.369\n",
      "Episode 370: Gravity=19.8, Length=0.792, Mass=0.753, Friction=0.37\n",
      "Episode 371: Gravity=19.84, Length=0.7936000000000001, Mass=0.7549, Friction=0.371\n",
      "Episode 372: Gravity=19.880000000000003, Length=0.7952000000000001, Mass=0.7568, Friction=0.372\n",
      "Episode 373: Gravity=19.92, Length=0.7968, Mass=0.7587, Friction=0.373\n",
      "Episode 374: Gravity=19.96, Length=0.7984, Mass=0.7606, Friction=0.374\n",
      "Episode 375: Gravity=20.0, Length=0.8, Mass=0.7625000000000001, Friction=0.375\n",
      "Episode 376: Gravity=20.04, Length=0.8016000000000001, Mass=0.7644000000000001, Friction=0.376\n",
      "Episode 377: Gravity=20.08, Length=0.8032000000000001, Mass=0.7663000000000001, Friction=0.377\n",
      "Episode 378: Gravity=20.12, Length=0.8048, Mass=0.7682, Friction=0.378\n",
      "Episode 379: Gravity=20.16, Length=0.8064, Mass=0.7701, Friction=0.379\n",
      "Episode 380: Gravity=20.200000000000003, Length=0.808, Mass=0.772, Friction=0.38\n",
      "Episode 381: Gravity=20.240000000000002, Length=0.8096000000000001, Mass=0.7739, Friction=0.381\n",
      "Episode 382: Gravity=20.28, Length=0.8112000000000001, Mass=0.7758, Friction=0.382\n",
      "Episode 383: Gravity=20.32, Length=0.8128, Mass=0.7777000000000001, Friction=0.383\n",
      "Episode 384: Gravity=20.36, Length=0.8144, Mass=0.7796000000000001, Friction=0.384\n",
      "Episode 385: Gravity=20.4, Length=0.8160000000000001, Mass=0.7815000000000001, Friction=0.385\n",
      "Episode 386: Gravity=20.439999999999998, Length=0.8176000000000001, Mass=0.7834000000000001, Friction=0.386\n",
      "Episode 387: Gravity=20.48, Length=0.8192000000000002, Mass=0.7853, Friction=0.387\n",
      "Episode 388: Gravity=20.52, Length=0.8208, Mass=0.7872, Friction=0.388\n",
      "Episode 389: Gravity=20.560000000000002, Length=0.8224, Mass=0.7891, Friction=0.389\n",
      "Episode 390: Gravity=20.6, Length=0.8240000000000001, Mass=0.791, Friction=0.39\n",
      "Episode 391: Gravity=20.64, Length=0.8256000000000001, Mass=0.7929, Friction=0.391\n",
      "Episode 392: Gravity=20.68, Length=0.8271999999999999, Mass=0.7948000000000001, Friction=0.392\n",
      "Episode 393: Gravity=20.72, Length=0.8288, Mass=0.7967000000000001, Friction=0.393\n",
      "Episode 394: Gravity=20.759999999999998, Length=0.8304, Mass=0.7986000000000001, Friction=0.394\n",
      "Episode 395: Gravity=20.8, Length=0.8320000000000001, Mass=0.8005, Friction=0.395\n",
      "Episode 396: Gravity=20.84, Length=0.8336000000000001, Mass=0.8024, Friction=0.396\n",
      "Episode 397: Gravity=20.880000000000003, Length=0.8351999999999999, Mass=0.8043, Friction=0.397\n",
      "Episode 398: Gravity=20.92, Length=0.8368, Mass=0.8062, Friction=0.398\n",
      "Episode 399: Gravity=20.96, Length=0.8384, Mass=0.8081, Friction=0.399\n",
      "Episode 400: Gravity=21.0, Length=0.8400000000000001, Mass=0.81, Friction=0.4\n",
      "Episode 401: Gravity=21.04, Length=0.8416000000000001, Mass=0.8119000000000001, Friction=0.401\n",
      "Episode 402: Gravity=21.080000000000002, Length=0.8432, Mass=0.8138000000000001, Friction=0.402\n",
      "Episode 403: Gravity=21.12, Length=0.8448, Mass=0.8157000000000001, Friction=0.403\n",
      "Episode 404: Gravity=21.16, Length=0.8464, Mass=0.8176, Friction=0.404\n",
      "Episode 405: Gravity=21.2, Length=0.8480000000000001, Mass=0.8195, Friction=0.405\n",
      "Episode 406: Gravity=21.240000000000002, Length=0.8496000000000001, Mass=0.8214, Friction=0.406\n",
      "Episode 407: Gravity=21.28, Length=0.8512, Mass=0.8233, Friction=0.40700000000000003\n",
      "Episode 408: Gravity=21.32, Length=0.8528, Mass=0.8252, Friction=0.40800000000000003\n",
      "Episode 409: Gravity=21.36, Length=0.8544, Mass=0.8271000000000001, Friction=0.40900000000000003\n",
      "Episode 410: Gravity=21.4, Length=0.8560000000000001, Mass=0.8290000000000001, Friction=0.41000000000000003\n",
      "Epoch #1: test_reward: 117.160000 ± 5.270142, best_reward: 500.000000 ± 0.000000 in #0\n",
      "New best model saved with mean reward: 500.0\n"
     ]
    }
   ],
   "source": [
    "import numpy as np\n",
    "\n",
    "class DynamicCartPoleWrapper(gym.Wrapper):\n",
    "    def __init__(self, env, gravity_range=(5.0, 25.0), length_range=(0.2, 1.0), mass_range=(0.05, 1.0), friction_range=(0.0, 0.5)):\n",
    "        super().__init__(env)\n",
    "        self.gravity_range = gravity_range\n",
    "        self.length_range = length_range\n",
    "        self.mass_range = mass_range\n",
    "        self.friction_range = friction_range\n",
    "        self.episode_count = 0  # Track episodes\n",
    "\n",
    "    def reset(self, **kwargs):\n",
    "        self.episode_count += 1  # Increment episode count\n",
    "\n",
    "        # Gradually shift physics conditions over time\n",
    "        new_gravity = np.interp(self.episode_count, [0, 500], self.gravity_range)  # Gradually change gravity\n",
    "        new_length = np.interp(self.episode_count, [0, 500], self.length_range)  # Change pole length\n",
    "        new_mass = np.interp(self.episode_count, [0, 500], self.mass_range)  # Change pole mass\n",
    "        new_friction = np.interp(self.episode_count, [0, 500], self.friction_range)  # Change friction\n",
    "\n",
    "        # Apply new parameters\n",
    "        self.env.env.gravity = new_gravity\n",
    "        self.env.env.length = new_length\n",
    "        self.env.env.masspole = new_mass\n",
    "        self.env.env.force_mag = 10.0 * (new_mass / 0.1)  # Scale force with mass to balance difficulty\n",
    "        self.env.env.friction = new_friction\n",
    "\n",
    "        print(f\"Episode {self.episode_count}: Gravity={new_gravity}, Length={new_length}, Mass={new_mass}, Friction={new_friction}\")\n",
    "\n",
    "        return self.env.reset(**kwargs)\n",
    "\n",
    "env_name = \"CartPole-v1\"\n",
    "base_env = gym.make(env_name)\n",
    "train_env = DynamicCartPoleWrapper(base_env)\n",
    "\n",
    "test_env = DynamicCartPoleWrapper(gym.make(env_name))  # Use same variations for testing\n",
    "\n",
    "train_collector = ts.data.Collector(\n",
    "    policy, train_env, ts.data.VectorReplayBuffer(20000, 1), exploration_noise=True\n",
    ")\n",
    "test_collector = ts.data.Collector(policy, test_env, exploration_noise=True)\n",
    "\n",
    "# Load the pre-trained model from Code Block 1 \n",
    "policy.load_state_dict(torch.load('models/dqn.pth')) \n",
    "policy.eval()\n",
    "\n",
    "best_mean_reward = -np.inf \n",
    "\n",
    "def save_best_model(mean_rewards):\n",
    "    global best_mean_reward\n",
    "    if mean_rewards > best_mean_reward:\n",
    "        best_mean_reward = mean_rewards\n",
    "        torch.save(policy.state_dict(), 'models/dqn_v1_alternate_metrics.pth')\n",
    "        print(f\"New best model saved with mean reward: {best_mean_reward}\")\n",
    "\n",
    "# Train the model while CBP adapts to the changing environment\n",
    "result = ts.trainer.OffpolicyTrainer(\n",
    "    policy=policy,\n",
    "    train_collector=train_collector,\n",
    "    test_collector=test_collector,\n",
    "    max_epoch=30,\n",
    "    step_per_epoch=10000,\n",
    "    step_per_collect=10,\n",
    "    episode_per_test=100,\n",
    "    batch_size=64,\n",
    "    update_per_step=1 / 10,\n",
    "    train_fn=lambda epoch, env_step: policy.set_eps(0.1),\n",
    "    test_fn=lambda epoch, env_step: policy.set_eps(0.05),\n",
    "    stop_fn=lambda mean_rewards: mean_rewards >= train_env.spec.reward_threshold,\n",
    "    logger=ts.utils.TensorboardLogger(SummaryWriter(\"logs/dynamic_cartpole\")),\n",
    ").run()\n",
    "\n",
    "save_best_model(result.best_reward)"
   ]
  },
  {
   "cell_type": "code",
   "execution_count": 6,
   "metadata": {},
   "outputs": [
    {
     "name": "stderr",
     "output_type": "stream",
     "text": [
      "Epoch #1: 5001it [00:03, 1374.86it/s, env_step=5000, gradient_step=500, len=43, n/ep=0, n/st=10, rew=43.00]                            \n"
     ]
    },
    {
     "name": "stdout",
     "output_type": "stream",
     "text": [
      "Epoch #1: test_reward: 123.050000 ± 69.809365, best_reward: 123.050000 ± 69.809365 in #1\n"
     ]
    },
    {
     "name": "stderr",
     "output_type": "stream",
     "text": [
      "Epoch #2: 5001it [00:03, 1388.93it/s, env_step=10000, gradient_step=1000, len=30, n/ep=0, n/st=10, rew=30.00]                          \n"
     ]
    },
    {
     "name": "stdout",
     "output_type": "stream",
     "text": [
      "Epoch #2: test_reward: 99.850000 ± 49.130718, best_reward: 123.050000 ± 69.809365 in #1\n"
     ]
    },
    {
     "name": "stderr",
     "output_type": "stream",
     "text": [
      "Epoch #3: 5001it [00:03, 1372.12it/s, env_step=15000, gradient_step=1500, len=102, n/ep=0, n/st=10, rew=102.00]                          \n"
     ]
    },
    {
     "name": "stdout",
     "output_type": "stream",
     "text": [
      "Epoch #3: test_reward: 120.500000 ± 56.873984, best_reward: 123.050000 ± 69.809365 in #1\n"
     ]
    },
    {
     "name": "stderr",
     "output_type": "stream",
     "text": [
      "Epoch #4: 5001it [00:03, 1374.45it/s, env_step=20000, gradient_step=2000, len=21, n/ep=0, n/st=10, rew=21.00]                            \n"
     ]
    },
    {
     "name": "stdout",
     "output_type": "stream",
     "text": [
      "Epoch #4: test_reward: 113.150000 ± 52.162510, best_reward: 123.050000 ± 69.809365 in #1\n"
     ]
    },
    {
     "name": "stderr",
     "output_type": "stream",
     "text": [
      "Epoch #5: 5001it [00:03, 1390.86it/s, env_step=25000, gradient_step=2500, len=100, n/ep=0, n/st=10, rew=100.00]                          \n"
     ]
    },
    {
     "name": "stdout",
     "output_type": "stream",
     "text": [
      "Epoch #5: test_reward: 150.500000 ± 90.819877, best_reward: 150.500000 ± 90.819877 in #5\n"
     ]
    },
    {
     "name": "stderr",
     "output_type": "stream",
     "text": [
      "Epoch #6: 5001it [00:03, 1419.45it/s, env_step=30000, gradient_step=3000, len=94, n/ep=0, n/st=10, rew=94.00]                            \n"
     ]
    },
    {
     "name": "stdout",
     "output_type": "stream",
     "text": [
      "Epoch #6: test_reward: 115.400000 ± 57.949461, best_reward: 150.500000 ± 90.819877 in #5\n"
     ]
    },
    {
     "name": "stderr",
     "output_type": "stream",
     "text": [
      "Epoch #7: 5001it [00:03, 1451.86it/s, env_step=35000, gradient_step=3500, len=117, n/ep=0, n/st=10, rew=117.00]                          \n"
     ]
    },
    {
     "name": "stdout",
     "output_type": "stream",
     "text": [
      "Epoch #7: test_reward: 155.500000 ± 70.948221, best_reward: 155.500000 ± 70.948221 in #7\n"
     ]
    },
    {
     "name": "stderr",
     "output_type": "stream",
     "text": [
      "Epoch #8: 5001it [00:03, 1457.56it/s, env_step=40000, gradient_step=4000, len=78, n/ep=0, n/st=10, rew=78.00]                            \n"
     ]
    },
    {
     "name": "stdout",
     "output_type": "stream",
     "text": [
      "Epoch #8: test_reward: 116.600000 ± 47.819870, best_reward: 155.500000 ± 70.948221 in #7\n"
     ]
    },
    {
     "name": "stderr",
     "output_type": "stream",
     "text": [
      "Epoch #9: 5001it [00:03, 1415.11it/s, env_step=45000, gradient_step=4500, len=139, n/ep=0, n/st=10, rew=139.00]                          \n"
     ]
    },
    {
     "name": "stdout",
     "output_type": "stream",
     "text": [
      "Epoch #9: test_reward: 161.850000 ± 81.415155, best_reward: 161.850000 ± 81.415155 in #9\n"
     ]
    },
    {
     "name": "stderr",
     "output_type": "stream",
     "text": [
      "Epoch #10: 5001it [00:03, 1400.58it/s, env_step=50000, gradient_step=5000, len=244, n/ep=1, n/st=10, rew=244.00]                          \n"
     ]
    },
    {
     "name": "stdout",
     "output_type": "stream",
     "text": [
      "Epoch #10: test_reward: 174.250000 ± 103.943194, best_reward: 174.250000 ± 103.943194 in #10\n"
     ]
    },
    {
     "name": "stderr",
     "output_type": "stream",
     "text": [
      "Epoch #11: 5001it [00:03, 1494.23it/s, env_step=55000, gradient_step=5500, len=179, n/ep=0, n/st=10, rew=179.00]                          \n"
     ]
    },
    {
     "name": "stdout",
     "output_type": "stream",
     "text": [
      "Epoch #11: test_reward: 177.100000 ± 113.678890, best_reward: 177.100000 ± 113.678890 in #11\n"
     ]
    },
    {
     "name": "stderr",
     "output_type": "stream",
     "text": [
      "Epoch #12: 5001it [00:03, 1531.73it/s, env_step=60000, gradient_step=6000, len=141, n/ep=0, n/st=10, rew=141.00]                          \n"
     ]
    },
    {
     "name": "stdout",
     "output_type": "stream",
     "text": [
      "Epoch #12: test_reward: 150.300000 ± 79.124648, best_reward: 177.100000 ± 113.678890 in #11\n"
     ]
    },
    {
     "name": "stderr",
     "output_type": "stream",
     "text": [
      "Epoch #13: 5001it [00:03, 1427.54it/s, env_step=65000, gradient_step=6500, len=13, n/ep=0, n/st=10, rew=13.00]                            \n"
     ]
    },
    {
     "name": "stdout",
     "output_type": "stream",
     "text": [
      "Epoch #13: test_reward: 121.700000 ± 62.215834, best_reward: 177.100000 ± 113.678890 in #11\n"
     ]
    },
    {
     "name": "stderr",
     "output_type": "stream",
     "text": [
      "Epoch #14: 5001it [00:03, 1295.83it/s, env_step=70000, gradient_step=7000, len=96, n/ep=0, n/st=10, rew=96.00]                            \n"
     ]
    },
    {
     "name": "stdout",
     "output_type": "stream",
     "text": [
      "Epoch #14: test_reward: 132.000000 ± 91.267190, best_reward: 177.100000 ± 113.678890 in #11\n"
     ]
    },
    {
     "name": "stderr",
     "output_type": "stream",
     "text": [
      "Epoch #15: 5001it [00:03, 1450.73it/s, env_step=75000, gradient_step=7500, len=189, n/ep=0, n/st=10, rew=189.00]                          \n"
     ]
    },
    {
     "name": "stdout",
     "output_type": "stream",
     "text": [
      "Epoch #15: test_reward: 163.500000 ± 89.123229, best_reward: 177.100000 ± 113.678890 in #11\n"
     ]
    },
    {
     "name": "stderr",
     "output_type": "stream",
     "text": [
      "Epoch #16: 5001it [00:03, 1368.50it/s, env_step=80000, gradient_step=8000, len=88, n/ep=0, n/st=10, rew=88.00]                            \n"
     ]
    },
    {
     "name": "stdout",
     "output_type": "stream",
     "text": [
      "Epoch #16: test_reward: 159.050000 ± 72.919459, best_reward: 177.100000 ± 113.678890 in #11\n"
     ]
    },
    {
     "name": "stderr",
     "output_type": "stream",
     "text": [
      "Epoch #17: 5001it [00:03, 1321.06it/s, env_step=85000, gradient_step=8500, len=113, n/ep=0, n/st=10, rew=113.00]                          \n"
     ]
    },
    {
     "name": "stdout",
     "output_type": "stream",
     "text": [
      "Epoch #17: test_reward: 142.250000 ± 85.534131, best_reward: 177.100000 ± 113.678890 in #11\n"
     ]
    },
    {
     "name": "stderr",
     "output_type": "stream",
     "text": [
      "Epoch #18: 5001it [00:03, 1504.96it/s, env_step=90000, gradient_step=9000, len=79, n/ep=0, n/st=10, rew=79.00]                            \n"
     ]
    },
    {
     "name": "stdout",
     "output_type": "stream",
     "text": [
      "Epoch #18: test_reward: 163.300000 ± 96.793130, best_reward: 177.100000 ± 113.678890 in #11\n"
     ]
    },
    {
     "name": "stderr",
     "output_type": "stream",
     "text": [
      "Epoch #19: 5001it [00:03, 1351.18it/s, env_step=95000, gradient_step=9500, len=141, n/ep=0, n/st=10, rew=141.00]                          \n"
     ]
    },
    {
     "name": "stdout",
     "output_type": "stream",
     "text": [
      "Epoch #19: test_reward: 110.750000 ± 61.050696, best_reward: 177.100000 ± 113.678890 in #11\n"
     ]
    },
    {
     "name": "stderr",
     "output_type": "stream",
     "text": [
      "Epoch #20: 5001it [00:03, 1441.24it/s, env_step=100000, gradient_step=10000, len=132, n/ep=0, n/st=10, rew=132.00]                          \n"
     ]
    },
    {
     "name": "stdout",
     "output_type": "stream",
     "text": [
      "Epoch #20: test_reward: 108.100000 ± 51.910404, best_reward: 177.100000 ± 113.678890 in #11\n"
     ]
    },
    {
     "name": "stderr",
     "output_type": "stream",
     "text": [
      "Epoch #21: 5001it [00:03, 1391.98it/s, env_step=105000, gradient_step=10500, len=98, n/ep=0, n/st=10, rew=98.00]                            \n"
     ]
    },
    {
     "name": "stdout",
     "output_type": "stream",
     "text": [
      "Epoch #21: test_reward: 145.400000 ± 85.637258, best_reward: 177.100000 ± 113.678890 in #11\n"
     ]
    },
    {
     "name": "stderr",
     "output_type": "stream",
     "text": [
      "Epoch #22: 5001it [00:03, 1563.43it/s, env_step=110000, gradient_step=11000, len=95, n/ep=0, n/st=10, rew=95.00]                            \n"
     ]
    },
    {
     "name": "stdout",
     "output_type": "stream",
     "text": [
      "Epoch #22: test_reward: 155.350000 ± 59.350042, best_reward: 177.100000 ± 113.678890 in #11\n"
     ]
    },
    {
     "name": "stderr",
     "output_type": "stream",
     "text": [
      "Epoch #23: 5001it [00:03, 1528.06it/s, env_step=115000, gradient_step=11500, len=209, n/ep=0, n/st=10, rew=209.00]                          \n"
     ]
    },
    {
     "name": "stdout",
     "output_type": "stream",
     "text": [
      "Epoch #23: test_reward: 190.950000 ± 116.081642, best_reward: 190.950000 ± 116.081642 in #23\n"
     ]
    },
    {
     "name": "stderr",
     "output_type": "stream",
     "text": [
      "Epoch #24: 5001it [00:03, 1642.38it/s, env_step=120000, gradient_step=12000, len=140, n/ep=0, n/st=10, rew=140.00]                          \n"
     ]
    },
    {
     "name": "stdout",
     "output_type": "stream",
     "text": [
      "Epoch #24: test_reward: 128.850000 ± 71.421478, best_reward: 190.950000 ± 116.081642 in #23\n"
     ]
    },
    {
     "name": "stderr",
     "output_type": "stream",
     "text": [
      "Epoch #25: 5001it [00:03, 1473.69it/s, env_step=125000, gradient_step=12500, len=91, n/ep=0, n/st=10, rew=91.00]                            \n"
     ]
    },
    {
     "name": "stdout",
     "output_type": "stream",
     "text": [
      "Epoch #25: test_reward: 158.700000 ± 64.395730, best_reward: 190.950000 ± 116.081642 in #23\n"
     ]
    },
    {
     "name": "stderr",
     "output_type": "stream",
     "text": [
      "Epoch #26: 5001it [00:03, 1592.02it/s, env_step=130000, gradient_step=13000, len=180, n/ep=0, n/st=10, rew=180.00]                          \n"
     ]
    },
    {
     "name": "stdout",
     "output_type": "stream",
     "text": [
      "Epoch #26: test_reward: 170.300000 ± 92.192787, best_reward: 190.950000 ± 116.081642 in #23\n"
     ]
    },
    {
     "name": "stderr",
     "output_type": "stream",
     "text": [
      "Epoch #27: 5001it [00:03, 1427.13it/s, env_step=135000, gradient_step=13500, len=122, n/ep=0, n/st=10, rew=122.00]                          \n"
     ]
    },
    {
     "name": "stdout",
     "output_type": "stream",
     "text": [
      "Epoch #27: test_reward: 149.700000 ± 66.535028, best_reward: 190.950000 ± 116.081642 in #23\n"
     ]
    },
    {
     "name": "stderr",
     "output_type": "stream",
     "text": [
      "Epoch #28: 5001it [00:03, 1407.88it/s, env_step=140000, gradient_step=14000, len=184, n/ep=0, n/st=10, rew=184.00]                          \n"
     ]
    },
    {
     "name": "stdout",
     "output_type": "stream",
     "text": [
      "Epoch #28: test_reward: 108.050000 ± 50.969084, best_reward: 190.950000 ± 116.081642 in #23\n"
     ]
    },
    {
     "name": "stderr",
     "output_type": "stream",
     "text": [
      "Epoch #29: 5001it [00:03, 1421.58it/s, env_step=145000, gradient_step=14500, len=158, n/ep=0, n/st=10, rew=158.00]                          \n"
     ]
    },
    {
     "name": "stdout",
     "output_type": "stream",
     "text": [
      "Epoch #29: test_reward: 172.850000 ± 75.132733, best_reward: 190.950000 ± 116.081642 in #23\n"
     ]
    },
    {
     "name": "stderr",
     "output_type": "stream",
     "text": [
      "Epoch #30: 5001it [00:03, 1516.18it/s, env_step=150000, gradient_step=15000, len=164, n/ep=1, n/st=10, rew=164.00]                          \n"
     ]
    },
    {
     "name": "stdout",
     "output_type": "stream",
     "text": [
      "Epoch #30: test_reward: 126.150000 ± 66.820861, best_reward: 190.950000 ± 116.081642 in #23\n",
      "Finished training in 126.92998313903809 seconds\n",
      "New best model saved with mean reward: 190.95\n"
     ]
    },
    {
     "ename": "",
     "evalue": "",
     "output_type": "error",
     "traceback": [
      "\u001b[1;31mThe Kernel crashed while executing code in the the current cell or a previous cell. Please review the code in the cell(s) to identify a possible cause of the failure. Click <a href='https://aka.ms/vscodeJupyterKernelCrash'>here</a> for more info. View Jupyter <a href='command:jupyter.viewOutput'>log</a> for further details."
     ]
    }
   ],
   "source": [
    "import numpy as np\n",
    "\n",
    "class NoisyCartPoleWrapper(gym.Wrapper):\n",
    "    def __init__(self, env, noise_std=0.1):\n",
    "        super().__init__(env)\n",
    "        self.noise_std = noise_std  # Standard deviation of noise\n",
    "\n",
    "    def step(self, action):\n",
    "        if np.random.rand() < self.noise_std:  # With probability `noise_std`, flip action\n",
    "            action = 1 - action\n",
    "        return self.env.step(int(action))\n",
    "\n",
    "\n",
    "class WindyCartPoleWrapper(gym.Wrapper):\n",
    "    def __init__(self, env, wind_max=5.0, wind_change_prob=0.1):\n",
    "        super().__init__(env)\n",
    "        self.wind_max = wind_max  # Max lateral force\n",
    "        self.wind_force = 0\n",
    "        self.wind_change_prob = wind_change_prob  # Probability of wind change per step\n",
    "\n",
    "    def step(self, action):\n",
    "        # Occasionally change wind force\n",
    "        if np.random.rand() < self.wind_change_prob:\n",
    "            self.wind_force = np.random.uniform(-self.wind_max, self.wind_max)\n",
    "\n",
    "        # Get the step results\n",
    "        obs, reward, terminated, truncated, info = self.env.step(action)\n",
    "        \n",
    "        # Apply wind effect by modifying the observation directly\n",
    "        # CartPole observation: [position, velocity, pole_angle, pole_angular_velocity]\n",
    "        obs[1] += self.wind_force * 0.01  # Modify cart velocity in the observation\n",
    "        \n",
    "        # Update the environment's state array\n",
    "        self.env.unwrapped.state = obs.copy()\n",
    "\n",
    "        return obs, reward, terminated, truncated, info\n",
    "\n",
    "from collections import deque\n",
    "\n",
    "class DelayedActionCartPoleWrapper(gym.Wrapper):\n",
    "    def __init__(self, env, delay_steps=3):\n",
    "        super().__init__(env)\n",
    "        self.delay_steps = delay_steps  # How many steps before action takes effect\n",
    "        # self.action_queue = deque([0] * delay_steps, maxlen=delay_steps)  # Store past actions\n",
    "        self.action_queue = deque(np.random.choice([0, 1], delay_steps), maxlen=delay_steps)\n",
    "\n",
    "    def step(self, action):\n",
    "        self.action_queue.append(action)  # Queue the new action\n",
    "        delayed_action = self.action_queue.popleft()  # Use delayed action\n",
    "        return self.env.step(delayed_action)  # Will automatically pass through all 5 values\n",
    "\n",
    "train_env = WindyCartPoleWrapper(NoisyCartPoleWrapper(DelayedActionCartPoleWrapper(gym.make(\"CartPole-v1\"))))\n",
    "test_env = WindyCartPoleWrapper(NoisyCartPoleWrapper(DelayedActionCartPoleWrapper(gym.make(\"CartPole-v1\"))))\n",
    "\n",
    "# policy.load_state_dict(torch.load('models/cbp_dqn_adapted_v1.pth')) # Should change name to cbp_dqn_adapted_v1.pth, but haven't\n",
    "policy.load_state_dict(torch.load('models/dqn_v1_alternate_metrics.pth'))\n",
    "policy.train()\n",
    "policy.set_eps(0.1)  # Start with exploration\n",
    "\n",
    "best_mean_reward = -np.inf\n",
    "\n",
    "def save_best_model(mean_rewards):\n",
    "    global best_mean_reward\n",
    "    if mean_rewards > best_mean_reward:\n",
    "        best_mean_reward = mean_rewards\n",
    "        torch.save(policy.state_dict(), 'models/dqn_final_adapted_v2.pth')\n",
    "        print(f\"New best model saved with mean reward: {best_mean_reward}\")\n",
    "\n",
    "result = ts.trainer.OffpolicyTrainer(\n",
    "    policy=policy,\n",
    "    train_collector=ts.data.Collector(policy, train_env, ts.data.VectorReplayBuffer(20000, 1), exploration_noise=True),\n",
    "    test_collector=ts.data.Collector(policy, test_env, exploration_noise=True),\n",
    "    max_epoch=30,\n",
    "    step_per_epoch=5000,\n",
    "    step_per_collect=10,\n",
    "    episode_per_test=20,\n",
    "    batch_size=64,\n",
    "    update_per_step=1 / 10,\n",
    "    train_fn=lambda epoch, env_step: policy.set_eps(max(0.1, 0.5 - epoch * 0.05)),\n",
    "    test_fn=lambda epoch, env_step: policy.set_eps(0.05),\n",
    "    stop_fn=lambda mean_rewards: mean_rewards >= train_env.spec.reward_threshold,\n",
    "    logger=ts.utils.TensorboardLogger(SummaryWriter(\"logs/windy_noisy_delayed\")),\n",
    ").run()\n",
    "\n",
    "print(f\"Finished training in {result.timing.total_time} seconds\")\n",
    "save_best_model(result.best_reward)"
   ]
  },
  {
   "cell_type": "code",
   "execution_count": 7,
   "metadata": {},
   "outputs": [
    {
     "name": "stderr",
     "output_type": "stream",
     "text": [
      "/Users/namnguyenvu/PycharmProjects/reinforcementLearning/venv/lib/python3.12/site-packages/tianshou/data/collector.py:152: UserWarning: Single environment detected, wrap to DummyVectorEnv.\n",
      "  warnings.warn(\"Single environment detected, wrap to DummyVectorEnv.\")\n",
      "Epoch #1: 5001it [00:07, 707.49it/s, env_step=5000, gradient_step=500, len=430, n/ep=0, n/st=10, rew=-429.00]                          \n"
     ]
    },
    {
     "name": "stdout",
     "output_type": "stream",
     "text": [
      "Epoch #1: test_reward: -276.650000 ± 93.203152, best_reward: -219.450000 ± 63.378604 in #0\n"
     ]
    },
    {
     "name": "stderr",
     "output_type": "stream",
     "text": [
      "Epoch #2: 5001it [00:06, 807.89it/s, env_step=10000, gradient_step=1000, len=500, n/ep=0, n/st=10, rew=-500.00]                          \n"
     ]
    },
    {
     "name": "stdout",
     "output_type": "stream",
     "text": [
      "Epoch #2: test_reward: -500.000000 ± 0.000000, best_reward: -219.450000 ± 63.378604 in #0\n"
     ]
    },
    {
     "name": "stderr",
     "output_type": "stream",
     "text": [
      "Epoch #3: 5001it [00:05, 983.16it/s, env_step=15000, gradient_step=1500, len=500, n/ep=0, n/st=10, rew=-500.00]                           \n"
     ]
    },
    {
     "name": "stdout",
     "output_type": "stream",
     "text": [
      "Epoch #3: test_reward: -500.000000 ± 0.000000, best_reward: -219.450000 ± 63.378604 in #0\n"
     ]
    },
    {
     "name": "stderr",
     "output_type": "stream",
     "text": [
      "Epoch #4: 5001it [00:04, 1102.90it/s, env_step=20000, gradient_step=2000, len=500, n/ep=0, n/st=10, rew=-500.00]                          \n"
     ]
    },
    {
     "name": "stdout",
     "output_type": "stream",
     "text": [
      "Epoch #4: test_reward: -500.000000 ± 0.000000, best_reward: -219.450000 ± 63.378604 in #0\n"
     ]
    },
    {
     "name": "stderr",
     "output_type": "stream",
     "text": [
      "Epoch #5: 5001it [00:04, 1123.49it/s, env_step=25000, gradient_step=2500, len=500, n/ep=0, n/st=10, rew=-500.00]                          \n"
     ]
    },
    {
     "name": "stdout",
     "output_type": "stream",
     "text": [
      "Epoch #5: test_reward: -500.000000 ± 0.000000, best_reward: -219.450000 ± 63.378604 in #0\n"
     ]
    },
    {
     "name": "stderr",
     "output_type": "stream",
     "text": [
      "Epoch #6: 5001it [00:05, 960.07it/s, env_step=30000, gradient_step=3000, len=500, n/ep=0, n/st=10, rew=-500.00]                           \n"
     ]
    },
    {
     "name": "stdout",
     "output_type": "stream",
     "text": [
      "Epoch #6: test_reward: -500.000000 ± 0.000000, best_reward: -219.450000 ± 63.378604 in #0\n"
     ]
    },
    {
     "name": "stderr",
     "output_type": "stream",
     "text": [
      "Epoch #7: 5001it [00:06, 832.91it/s, env_step=35000, gradient_step=3500, len=500, n/ep=0, n/st=10, rew=-500.00]                           \n"
     ]
    },
    {
     "name": "stdout",
     "output_type": "stream",
     "text": [
      "Epoch #7: test_reward: -499.000000 ± 4.358899, best_reward: -219.450000 ± 63.378604 in #0\n"
     ]
    },
    {
     "name": "stderr",
     "output_type": "stream",
     "text": [
      "Epoch #8: 5001it [00:05, 861.28it/s, env_step=40000, gradient_step=4000, len=461, n/ep=0, n/st=10, rew=-460.00]                           \n"
     ]
    },
    {
     "name": "stdout",
     "output_type": "stream",
     "text": [
      "Epoch #8: test_reward: -500.000000 ± 0.000000, best_reward: -219.450000 ± 63.378604 in #0\n"
     ]
    },
    {
     "name": "stderr",
     "output_type": "stream",
     "text": [
      "Epoch #9: 5001it [00:06, 770.56it/s, env_step=45000, gradient_step=4500, len=500, n/ep=0, n/st=10, rew=-500.00]                          \n"
     ]
    },
    {
     "name": "stdout",
     "output_type": "stream",
     "text": [
      "Epoch #9: test_reward: -500.000000 ± 0.000000, best_reward: -219.450000 ± 63.378604 in #0\n"
     ]
    },
    {
     "name": "stderr",
     "output_type": "stream",
     "text": [
      "Epoch #10: 5001it [00:05, 972.49it/s, env_step=50000, gradient_step=5000, len=500, n/ep=0, n/st=10, rew=-500.00]                          \n"
     ]
    },
    {
     "name": "stdout",
     "output_type": "stream",
     "text": [
      "Epoch #10: test_reward: -420.850000 ± 70.987517, best_reward: -219.450000 ± 63.378604 in #0\n"
     ]
    },
    {
     "name": "stderr",
     "output_type": "stream",
     "text": [
      "Epoch #11: 5001it [00:05, 967.94it/s, env_step=55000, gradient_step=5500, len=446, n/ep=0, n/st=10, rew=-445.00]                          \n"
     ]
    },
    {
     "name": "stdout",
     "output_type": "stream",
     "text": [
      "Epoch #11: test_reward: -500.000000 ± 0.000000, best_reward: -219.450000 ± 63.378604 in #0\n"
     ]
    },
    {
     "name": "stderr",
     "output_type": "stream",
     "text": [
      "Epoch #12: 5001it [00:05, 977.17it/s, env_step=60000, gradient_step=6000, len=500, n/ep=0, n/st=10, rew=-500.00]                          \n"
     ]
    },
    {
     "name": "stdout",
     "output_type": "stream",
     "text": [
      "Epoch #12: test_reward: -140.250000 ± 47.803635, best_reward: -140.250000 ± 47.803635 in #12\n"
     ]
    },
    {
     "name": "stderr",
     "output_type": "stream",
     "text": [
      "Epoch #13: 5001it [00:12, 412.29it/s, env_step=65000, gradient_step=6500, len=252, n/ep=0, n/st=10, rew=-251.00]                          \n"
     ]
    },
    {
     "name": "stdout",
     "output_type": "stream",
     "text": [
      "Epoch #13: test_reward: -170.050000 ± 19.043306, best_reward: -140.250000 ± 47.803635 in #12\n"
     ]
    },
    {
     "name": "stderr",
     "output_type": "stream",
     "text": [
      "Epoch #14: 5001it [00:05, 923.80it/s, env_step=70000, gradient_step=7000, len=181, n/ep=0, n/st=10, rew=-180.00]                          \n"
     ]
    },
    {
     "name": "stdout",
     "output_type": "stream",
     "text": [
      "Epoch #14: test_reward: -252.100000 ± 99.859351, best_reward: -140.250000 ± 47.803635 in #12\n"
     ]
    },
    {
     "name": "stderr",
     "output_type": "stream",
     "text": [
      "Epoch #15: 5001it [00:07, 689.87it/s, env_step=75000, gradient_step=7500, len=500, n/ep=0, n/st=10, rew=-500.00]                          \n"
     ]
    },
    {
     "name": "stdout",
     "output_type": "stream",
     "text": [
      "Epoch #15: test_reward: -488.350000 ± 48.535837, best_reward: -140.250000 ± 47.803635 in #12\n"
     ]
    },
    {
     "name": "stderr",
     "output_type": "stream",
     "text": [
      "Epoch #16: 5001it [00:07, 644.98it/s, env_step=80000, gradient_step=8000, len=304, n/ep=0, n/st=10, rew=-303.00]                          \n"
     ]
    },
    {
     "name": "stdout",
     "output_type": "stream",
     "text": [
      "Epoch #16: test_reward: -500.000000 ± 0.000000, best_reward: -140.250000 ± 47.803635 in #12\n"
     ]
    },
    {
     "name": "stderr",
     "output_type": "stream",
     "text": [
      "Epoch #17: 5001it [00:06, 813.33it/s, env_step=85000, gradient_step=8500, len=340, n/ep=0, n/st=10, rew=-339.00]                          \n"
     ]
    },
    {
     "name": "stdout",
     "output_type": "stream",
     "text": [
      "Epoch #17: test_reward: -500.000000 ± 0.000000, best_reward: -140.250000 ± 47.803635 in #12\n"
     ]
    },
    {
     "name": "stderr",
     "output_type": "stream",
     "text": [
      "Epoch #18: 5001it [00:06, 822.28it/s, env_step=90000, gradient_step=9000, len=162, n/ep=0, n/st=10, rew=-161.00]                          \n"
     ]
    },
    {
     "name": "stdout",
     "output_type": "stream",
     "text": [
      "Epoch #18: test_reward: -491.300000 ± 31.900000, best_reward: -140.250000 ± 47.803635 in #12\n"
     ]
    },
    {
     "name": "stderr",
     "output_type": "stream",
     "text": [
      "Epoch #19: 5001it [00:06, 730.81it/s, env_step=95000, gradient_step=9500, len=500, n/ep=0, n/st=10, rew=-500.00]                          \n"
     ]
    },
    {
     "name": "stdout",
     "output_type": "stream",
     "text": [
      "Epoch #19: test_reward: -500.000000 ± 0.000000, best_reward: -140.250000 ± 47.803635 in #12\n"
     ]
    },
    {
     "name": "stderr",
     "output_type": "stream",
     "text": [
      "Epoch #20: 5001it [00:07, 691.73it/s, env_step=100000, gradient_step=10000, len=500, n/ep=0, n/st=10, rew=-500.00]                          \n"
     ]
    },
    {
     "name": "stdout",
     "output_type": "stream",
     "text": [
      "Epoch #20: test_reward: -500.000000 ± 0.000000, best_reward: -140.250000 ± 47.803635 in #12\n",
      "Finished training in 202.31195306777954 seconds\n",
      "New best model saved with mean reward: -140.25\n"
     ]
    }
   ],
   "source": [
    "# First create a new policy with correct dimensions for Acrobot\n",
    "env_name = \"Acrobot-v1\"\n",
    "train_env = gym.make(env_name)\n",
    "test_env = gym.make(env_name)\n",
    "\n",
    "input_dim = train_env.observation_space.shape[0]  # Should be 6\n",
    "output_dim = train_env.action_space.n  # Should be 3\n",
    "\n",
    "# Create a new model with correct dimensions\n",
    "# new_net = Net(input_dim=input_dim, output_dim=output_dim)\n",
    "new_net = Net(state_shape=input_dim, action_shape=output_dim, hidden_sizes=[128, 128, 128])\n",
    "\n",
    "\n",
    "# Create a new policy\n",
    "new_policy = DQNPolicy(\n",
    "    model=new_net,\n",
    "    optim=torch.optim.Adam(new_net.parameters(), lr=0.001),\n",
    "    discount_factor=0.975,\n",
    "    estimation_step=3,\n",
    "    target_update_freq=1000,\n",
    "    action_space=train_env.action_space\n",
    ")\n",
    "\n",
    "# Load the pretrained weights for matching layers\n",
    "pretrained_dict = torch.load(\"models/dqn_final_adapted_v2.pth\")\n",
    "model_dict = new_policy.state_dict()\n",
    "\n",
    "# Filter out incompatible layers\n",
    "filtered_dict = {k: v for k, v in pretrained_dict.items() \n",
    "                if k in model_dict and \n",
    "                'hidden_layers.0' not in k and  # Skip first layer\n",
    "                'out_layer' not in k and        # Skip output layer\n",
    "                model_dict[k].shape == v.shape}\n",
    "\n",
    "# Update matching layers\n",
    "model_dict.update(filtered_dict)\n",
    "new_policy.load_state_dict(model_dict)\n",
    "\n",
    "# Now you can train with the new policy\n",
    "new_policy.train()\n",
    "new_policy.set_eps(0.1)\n",
    "\n",
    "best_mean_reward = -np.inf\n",
    "\n",
    "def save_best_model(mean_rewards):\n",
    "    global best_mean_reward\n",
    "    if mean_rewards > best_mean_reward:\n",
    "        best_mean_reward = mean_rewards\n",
    "        torch.save(new_policy.state_dict(), 'models/dqn_Acrobot-v1.pth')\n",
    "        print(f\"New best model saved with mean reward: {best_mean_reward}\")\n",
    "\n",
    "result = ts.trainer.OffpolicyTrainer(\n",
    "    policy=new_policy,\n",
    "    train_collector=ts.data.Collector(new_policy, train_env, ts.data.VectorReplayBuffer(20000, 1), exploration_noise=True),\n",
    "    test_collector=ts.data.Collector(new_policy, test_env, exploration_noise=True),\n",
    "    max_epoch=20,\n",
    "    step_per_epoch=5000,\n",
    "    step_per_collect=10,\n",
    "    episode_per_test=20,\n",
    "    batch_size=64,\n",
    "    update_per_step=1 / 10,\n",
    "    train_fn=lambda epoch, env_step: new_policy.set_eps(max(0.1, 0.5 - epoch * 0.05)),\n",
    "    test_fn=lambda epoch, env_step: new_policy.set_eps(0.05),\n",
    "    stop_fn=lambda mean_rewards: mean_rewards >= train_env.spec.reward_threshold,\n",
    "    logger=ts.utils.TensorboardLogger(SummaryWriter(\"logs/Acrobot-v1\")),\n",
    ").run()\n",
    "\n",
    "print(f\"Finished training in {result.timing.total_time} seconds\")\n",
    "save_best_model(result.best_reward)"
   ]
  },
  {
   "cell_type": "code",
   "execution_count": 11,
   "metadata": {},
   "outputs": [
    {
     "name": "stderr",
     "output_type": "stream",
     "text": [
      "/Users/namnguyenvu/PycharmProjects/reinforcementLearning/venv/lib/python3.12/site-packages/tianshou/data/collector.py:152: UserWarning: Single environment detected, wrap to DummyVectorEnv.\n",
      "  warnings.warn(\"Single environment detected, wrap to DummyVectorEnv.\")\n",
      "Epoch #1: 5001it [00:07, 657.80it/s, env_step=5000, gradient_step=500, len=200, n/ep=1, n/st=10, rew=-200.00]                          \n"
     ]
    },
    {
     "name": "stdout",
     "output_type": "stream",
     "text": [
      "Epoch #1: test_reward: -200.000000 ± 0.000000, best_reward: -200.000000 ± 0.000000 in #0\n"
     ]
    },
    {
     "name": "stderr",
     "output_type": "stream",
     "text": [
      "Epoch #2: 5001it [00:07, 694.38it/s, env_step=10000, gradient_step=1000, len=200, n/ep=1, n/st=10, rew=-200.00]                          \n"
     ]
    },
    {
     "name": "stdout",
     "output_type": "stream",
     "text": [
      "Epoch #2: test_reward: -200.000000 ± 0.000000, best_reward: -200.000000 ± 0.000000 in #0\n"
     ]
    },
    {
     "name": "stderr",
     "output_type": "stream",
     "text": [
      "Epoch #3: 5001it [00:06, 728.18it/s, env_step=15000, gradient_step=1500, len=200, n/ep=1, n/st=10, rew=-200.00]                          \n"
     ]
    },
    {
     "name": "stdout",
     "output_type": "stream",
     "text": [
      "Epoch #3: test_reward: -200.000000 ± 0.000000, best_reward: -200.000000 ± 0.000000 in #0\n"
     ]
    },
    {
     "name": "stderr",
     "output_type": "stream",
     "text": [
      "Epoch #4: 5001it [00:06, 772.60it/s, env_step=20000, gradient_step=2000, len=200, n/ep=1, n/st=10, rew=-200.00]                          \n"
     ]
    },
    {
     "name": "stdout",
     "output_type": "stream",
     "text": [
      "Epoch #4: test_reward: -200.000000 ± 0.000000, best_reward: -200.000000 ± 0.000000 in #0\n"
     ]
    },
    {
     "name": "stderr",
     "output_type": "stream",
     "text": [
      "Epoch #5: 5001it [00:06, 758.37it/s, env_step=25000, gradient_step=2500, len=200, n/ep=1, n/st=10, rew=-200.00]                          \n"
     ]
    },
    {
     "name": "stdout",
     "output_type": "stream",
     "text": [
      "Epoch #5: test_reward: -200.000000 ± 0.000000, best_reward: -200.000000 ± 0.000000 in #0\n"
     ]
    },
    {
     "name": "stderr",
     "output_type": "stream",
     "text": [
      "Epoch #6: 5001it [00:06, 827.08it/s, env_step=30000, gradient_step=3000, len=200, n/ep=1, n/st=10, rew=-200.00]                          \n"
     ]
    },
    {
     "name": "stdout",
     "output_type": "stream",
     "text": [
      "Epoch #6: test_reward: -200.000000 ± 0.000000, best_reward: -200.000000 ± 0.000000 in #0\n"
     ]
    },
    {
     "name": "stderr",
     "output_type": "stream",
     "text": [
      "Epoch #7: 5001it [00:06, 771.50it/s, env_step=35000, gradient_step=3500, len=200, n/ep=1, n/st=10, rew=-200.00]                          \n"
     ]
    },
    {
     "name": "stdout",
     "output_type": "stream",
     "text": [
      "Epoch #7: test_reward: -200.000000 ± 0.000000, best_reward: -200.000000 ± 0.000000 in #0\n"
     ]
    },
    {
     "name": "stderr",
     "output_type": "stream",
     "text": [
      "Epoch #8: 5001it [00:06, 784.99it/s, env_step=40000, gradient_step=4000, len=200, n/ep=1, n/st=10, rew=-200.00]                          \n"
     ]
    },
    {
     "name": "stdout",
     "output_type": "stream",
     "text": [
      "Epoch #8: test_reward: -200.000000 ± 0.000000, best_reward: -200.000000 ± 0.000000 in #0\n"
     ]
    },
    {
     "name": "stderr",
     "output_type": "stream",
     "text": [
      "Epoch #9: 5001it [00:06, 762.49it/s, env_step=45000, gradient_step=4500, len=200, n/ep=0, n/st=10, rew=-200.00]                          \n"
     ]
    },
    {
     "name": "stdout",
     "output_type": "stream",
     "text": [
      "Epoch #9: test_reward: -200.000000 ± 0.000000, best_reward: -200.000000 ± 0.000000 in #0\n"
     ]
    },
    {
     "name": "stderr",
     "output_type": "stream",
     "text": [
      "Epoch #10: 5001it [00:06, 763.61it/s, env_step=50000, gradient_step=5000, len=200, n/ep=0, n/st=10, rew=-200.00]                          \n"
     ]
    },
    {
     "name": "stdout",
     "output_type": "stream",
     "text": [
      "Epoch #10: test_reward: -200.000000 ± 0.000000, best_reward: -200.000000 ± 0.000000 in #0\n"
     ]
    },
    {
     "name": "stderr",
     "output_type": "stream",
     "text": [
      "Epoch #11: 5001it [00:07, 643.51it/s, env_step=55000, gradient_step=5500, len=200, n/ep=0, n/st=10, rew=-200.00]                          \n"
     ]
    },
    {
     "name": "stdout",
     "output_type": "stream",
     "text": [
      "Epoch #11: test_reward: -200.000000 ± 0.000000, best_reward: -200.000000 ± 0.000000 in #0\n"
     ]
    },
    {
     "name": "stderr",
     "output_type": "stream",
     "text": [
      "Epoch #12: 5001it [00:05, 839.69it/s, env_step=60000, gradient_step=6000, len=200, n/ep=0, n/st=10, rew=-200.00]                          \n"
     ]
    },
    {
     "name": "stdout",
     "output_type": "stream",
     "text": [
      "Epoch #12: test_reward: -200.000000 ± 0.000000, best_reward: -200.000000 ± 0.000000 in #0\n"
     ]
    },
    {
     "name": "stderr",
     "output_type": "stream",
     "text": [
      "Epoch #13: 5001it [00:05, 893.11it/s, env_step=65000, gradient_step=6500, len=200, n/ep=0, n/st=10, rew=-200.00]                          \n"
     ]
    },
    {
     "name": "stdout",
     "output_type": "stream",
     "text": [
      "Epoch #13: test_reward: -200.000000 ± 0.000000, best_reward: -200.000000 ± 0.000000 in #0\n"
     ]
    },
    {
     "name": "stderr",
     "output_type": "stream",
     "text": [
      "Epoch #14: 5001it [00:06, 821.24it/s, env_step=70000, gradient_step=7000, len=200, n/ep=0, n/st=10, rew=-200.00]                          \n"
     ]
    },
    {
     "name": "stdout",
     "output_type": "stream",
     "text": [
      "Epoch #14: test_reward: -200.000000 ± 0.000000, best_reward: -200.000000 ± 0.000000 in #0\n"
     ]
    },
    {
     "name": "stderr",
     "output_type": "stream",
     "text": [
      "Epoch #15: 5001it [00:05, 868.36it/s, env_step=75000, gradient_step=7500, len=200, n/ep=0, n/st=10, rew=-200.00]                          \n"
     ]
    },
    {
     "name": "stdout",
     "output_type": "stream",
     "text": [
      "Epoch #15: test_reward: -200.000000 ± 0.000000, best_reward: -200.000000 ± 0.000000 in #0\n"
     ]
    },
    {
     "name": "stderr",
     "output_type": "stream",
     "text": [
      "Epoch #16: 5001it [00:05, 899.57it/s, env_step=80000, gradient_step=8000, len=194, n/ep=0, n/st=10, rew=-194.00]                          \n"
     ]
    },
    {
     "name": "stdout",
     "output_type": "stream",
     "text": [
      "Epoch #16: test_reward: -200.000000 ± 0.000000, best_reward: -200.000000 ± 0.000000 in #0\n"
     ]
    },
    {
     "name": "stderr",
     "output_type": "stream",
     "text": [
      "Epoch #17: 5001it [00:05, 894.57it/s, env_step=85000, gradient_step=8500, len=200, n/ep=0, n/st=10, rew=-200.00]                          \n"
     ]
    },
    {
     "name": "stdout",
     "output_type": "stream",
     "text": [
      "Epoch #17: test_reward: -200.000000 ± 0.000000, best_reward: -200.000000 ± 0.000000 in #0\n"
     ]
    },
    {
     "name": "stderr",
     "output_type": "stream",
     "text": [
      "Epoch #18: 5001it [00:05, 902.42it/s, env_step=90000, gradient_step=9000, len=200, n/ep=0, n/st=10, rew=-200.00]                          \n"
     ]
    },
    {
     "name": "stdout",
     "output_type": "stream",
     "text": [
      "Epoch #18: test_reward: -200.000000 ± 0.000000, best_reward: -200.000000 ± 0.000000 in #0\n"
     ]
    },
    {
     "name": "stderr",
     "output_type": "stream",
     "text": [
      "Epoch #19: 5001it [00:06, 776.12it/s, env_step=95000, gradient_step=9500, len=200, n/ep=0, n/st=10, rew=-200.00]                          \n"
     ]
    },
    {
     "name": "stdout",
     "output_type": "stream",
     "text": [
      "Epoch #19: test_reward: -200.000000 ± 0.000000, best_reward: -200.000000 ± 0.000000 in #0\n"
     ]
    },
    {
     "name": "stderr",
     "output_type": "stream",
     "text": [
      "Epoch #20: 5001it [00:06, 769.04it/s, env_step=100000, gradient_step=10000, len=200, n/ep=1, n/st=10, rew=-200.00]                          \n"
     ]
    },
    {
     "name": "stdout",
     "output_type": "stream",
     "text": [
      "Epoch #20: test_reward: -200.000000 ± 0.000000, best_reward: -200.000000 ± 0.000000 in #0\n",
      "Finished training in 164.70815896987915 seconds\n",
      "New best model saved with mean reward: -200.0\n"
     ]
    }
   ],
   "source": [
    "# First create a new policy with correct dimensions for Acrobot\n",
    "env_name = \"MountainCar-v0\"\n",
    "train_env = gym.make(env_name)\n",
    "test_env = gym.make(env_name)\n",
    "\n",
    "input_dim = train_env.observation_space.shape[0]  # Should be 6\n",
    "output_dim = train_env.action_space.n  # Should be 3\n",
    "\n",
    "# Create a new model with correct dimensions\n",
    "# new_net = Net(input_dim=input_dim, output_dim=output_dim)\n",
    "new_net = Net(state_shape=input_dim, action_shape=output_dim, hidden_sizes=[128, 128, 128])\n",
    "\n",
    "\n",
    "# Create a new policy\n",
    "new_policy = DQNPolicy(\n",
    "    model=new_net,\n",
    "    optim=torch.optim.Adam(new_net.parameters(), lr=0.001),\n",
    "    discount_factor=0.975,\n",
    "    estimation_step=3,\n",
    "    target_update_freq=1000,\n",
    "    action_space=train_env.action_space\n",
    ")\n",
    "\n",
    "# Load the pretrained weights for matching layers\n",
    "pretrained_dict = torch.load(\"models/dqn_final_adapted_v2.pth\")\n",
    "model_dict = new_policy.state_dict()\n",
    "\n",
    "# Filter out incompatible layers\n",
    "filtered_dict = {k: v for k, v in pretrained_dict.items() \n",
    "                if k in model_dict and \n",
    "                'hidden_layers.0' not in k and  # Skip first layer\n",
    "                'out_layer' not in k and        # Skip output layer\n",
    "                model_dict[k].shape == v.shape}\n",
    "\n",
    "# Update matching layers\n",
    "model_dict.update(filtered_dict)\n",
    "new_policy.load_state_dict(model_dict)\n",
    "\n",
    "# Now you can train with the new policy\n",
    "new_policy.train()\n",
    "new_policy.set_eps(0.1)\n",
    "\n",
    "best_mean_reward = -np.inf\n",
    "\n",
    "def save_best_model(mean_rewards):\n",
    "    global best_mean_reward\n",
    "    if mean_rewards > best_mean_reward:\n",
    "        best_mean_reward = mean_rewards\n",
    "        torch.save(new_policy.state_dict(), 'models/dqn_MountainCar-v0.pth')\n",
    "        print(f\"New best model saved with mean reward: {best_mean_reward}\")\n",
    "\n",
    "result = ts.trainer.OffpolicyTrainer(\n",
    "    policy=new_policy,\n",
    "    train_collector=ts.data.Collector(new_policy, train_env, ts.data.VectorReplayBuffer(20000, 1), exploration_noise=True),\n",
    "    test_collector=ts.data.Collector(new_policy, test_env, exploration_noise=True),\n",
    "    max_epoch=20,\n",
    "    step_per_epoch=5000,\n",
    "    step_per_collect=10,\n",
    "    episode_per_test=20,\n",
    "    batch_size=64,\n",
    "    update_per_step=1 / 10,\n",
    "    train_fn=lambda epoch, env_step: new_policy.set_eps(max(0.1, 0.5 - epoch * 0.05)),\n",
    "    test_fn=lambda epoch, env_step: new_policy.set_eps(0.05),\n",
    "    stop_fn=lambda mean_rewards: mean_rewards >= train_env.spec.reward_threshold,\n",
    "    logger=ts.utils.TensorboardLogger(SummaryWriter(\"logs/MountainCar-v0\")),\n",
    ").run()\n",
    "\n",
    "print(f\"Finished training in {result.timing.total_time} seconds\")\n",
    "save_best_model(result.best_reward)"
   ]
  },
  {
   "cell_type": "code",
   "execution_count": null,
   "metadata": {},
   "outputs": [],
   "source": []
  }
 ],
 "metadata": {
  "kernelspec": {
   "display_name": "Python 3.12.0 ('venv': venv)",
   "language": "python",
   "name": "python3"
  },
  "language_info": {
   "codemirror_mode": {
    "name": "ipython",
    "version": 3
   },
   "file_extension": ".py",
   "mimetype": "text/x-python",
   "name": "python",
   "nbconvert_exporter": "python",
   "pygments_lexer": "ipython3",
   "version": "3.12.0"
  },
  "orig_nbformat": 4,
  "vscode": {
   "interpreter": {
    "hash": "32b906814254df28d0f4cf9a223c43e25f74e65006ab4461d6924b5031dcd67a"
   }
  }
 },
 "nbformat": 4,
 "nbformat_minor": 2
}
