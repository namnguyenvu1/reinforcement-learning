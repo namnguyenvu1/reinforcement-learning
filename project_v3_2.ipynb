{
 "cells": [
  {
   "cell_type": "code",
   "execution_count": 1,
   "metadata": {},
   "outputs": [
    {
     "name": "stdout",
     "output_type": "stream",
     "text": [
      "Requirement already satisfied: tianshou in ./venv/lib/python3.12/site-packages (1.1.0)\n",
      "Requirement already satisfied: deepdiff<8.0.0,>=7.0.1 in ./venv/lib/python3.12/site-packages (from tianshou) (7.0.1)\n",
      "Requirement already satisfied: gymnasium<0.29.0,>=0.28.0 in ./venv/lib/python3.12/site-packages (from tianshou) (0.28.1)\n",
      "Requirement already satisfied: h5py<4.0.0,>=3.9.0 in ./venv/lib/python3.12/site-packages (from tianshou) (3.12.1)\n",
      "Requirement already satisfied: matplotlib>=3.0.0 in ./venv/lib/python3.12/site-packages (from tianshou) (3.10.0)\n",
      "Requirement already satisfied: numba>=0.60.0 in ./venv/lib/python3.12/site-packages (from tianshou) (0.61.0)\n",
      "Requirement already satisfied: numpy<2,>=1 in ./venv/lib/python3.12/site-packages (from tianshou) (1.26.4)\n",
      "Requirement already satisfied: overrides<8.0.0,>=7.4.0 in ./venv/lib/python3.12/site-packages (from tianshou) (7.7.0)\n",
      "Requirement already satisfied: packaging in ./venv/lib/python3.12/site-packages (from tianshou) (24.2)\n",
      "Requirement already satisfied: pandas>=2.0.0 in ./venv/lib/python3.12/site-packages (from tianshou) (2.2.3)\n",
      "Requirement already satisfied: pettingzoo<2.0,>=1.22 in ./venv/lib/python3.12/site-packages (from tianshou) (1.24.3)\n",
      "Requirement already satisfied: sensai-utils<2.0.0,>=1.2.1 in ./venv/lib/python3.12/site-packages (from tianshou) (1.4.0)\n",
      "Requirement already satisfied: tensorboard<3.0.0,>=2.5.0 in ./venv/lib/python3.12/site-packages (from tianshou) (2.18.0)\n",
      "Requirement already satisfied: torch!=2.0.1,!=2.1.0,<3.0.0,>=2.0.0 in ./venv/lib/python3.12/site-packages (from tianshou) (2.6.0)\n",
      "Requirement already satisfied: tqdm in ./venv/lib/python3.12/site-packages (from tianshou) (4.67.1)\n",
      "Requirement already satisfied: virtualenv!=20.4.5,!=20.4.6,<21.0.0,>=20.4.3 in ./venv/lib/python3.12/site-packages (from tianshou) (20.29.1)\n",
      "Requirement already satisfied: ordered-set<4.2.0,>=4.1.0 in ./venv/lib/python3.12/site-packages (from deepdiff<8.0.0,>=7.0.1->tianshou) (4.1.0)\n",
      "Requirement already satisfied: jax-jumpy>=1.0.0 in ./venv/lib/python3.12/site-packages (from gymnasium<0.29.0,>=0.28.0->tianshou) (1.0.0)\n",
      "Requirement already satisfied: cloudpickle>=1.2.0 in ./venv/lib/python3.12/site-packages (from gymnasium<0.29.0,>=0.28.0->tianshou) (3.1.1)\n",
      "Requirement already satisfied: typing-extensions>=4.3.0 in ./venv/lib/python3.12/site-packages (from gymnasium<0.29.0,>=0.28.0->tianshou) (4.12.2)\n",
      "Requirement already satisfied: farama-notifications>=0.0.1 in ./venv/lib/python3.12/site-packages (from gymnasium<0.29.0,>=0.28.0->tianshou) (0.0.4)\n",
      "Requirement already satisfied: contourpy>=1.0.1 in ./venv/lib/python3.12/site-packages (from matplotlib>=3.0.0->tianshou) (1.3.1)\n",
      "Requirement already satisfied: cycler>=0.10 in ./venv/lib/python3.12/site-packages (from matplotlib>=3.0.0->tianshou) (0.12.1)\n",
      "Requirement already satisfied: fonttools>=4.22.0 in ./venv/lib/python3.12/site-packages (from matplotlib>=3.0.0->tianshou) (4.55.8)\n",
      "Requirement already satisfied: kiwisolver>=1.3.1 in ./venv/lib/python3.12/site-packages (from matplotlib>=3.0.0->tianshou) (1.4.8)\n",
      "Requirement already satisfied: pillow>=8 in ./venv/lib/python3.12/site-packages (from matplotlib>=3.0.0->tianshou) (11.1.0)\n",
      "Requirement already satisfied: pyparsing>=2.3.1 in ./venv/lib/python3.12/site-packages (from matplotlib>=3.0.0->tianshou) (3.2.1)\n",
      "Requirement already satisfied: python-dateutil>=2.7 in ./venv/lib/python3.12/site-packages (from matplotlib>=3.0.0->tianshou) (2.9.0.post0)\n",
      "Requirement already satisfied: llvmlite<0.45,>=0.44.0dev0 in ./venv/lib/python3.12/site-packages (from numba>=0.60.0->tianshou) (0.44.0)\n",
      "Requirement already satisfied: pytz>=2020.1 in ./venv/lib/python3.12/site-packages (from pandas>=2.0.0->tianshou) (2024.2)\n",
      "Requirement already satisfied: tzdata>=2022.7 in ./venv/lib/python3.12/site-packages (from pandas>=2.0.0->tianshou) (2025.1)\n",
      "Requirement already satisfied: absl-py>=0.4 in ./venv/lib/python3.12/site-packages (from tensorboard<3.0.0,>=2.5.0->tianshou) (2.1.0)\n",
      "Requirement already satisfied: grpcio>=1.48.2 in ./venv/lib/python3.12/site-packages (from tensorboard<3.0.0,>=2.5.0->tianshou) (1.70.0)\n",
      "Requirement already satisfied: markdown>=2.6.8 in ./venv/lib/python3.12/site-packages (from tensorboard<3.0.0,>=2.5.0->tianshou) (3.7)\n",
      "Requirement already satisfied: protobuf!=4.24.0,>=3.19.6 in ./venv/lib/python3.12/site-packages (from tensorboard<3.0.0,>=2.5.0->tianshou) (5.29.3)\n",
      "Requirement already satisfied: setuptools>=41.0.0 in ./venv/lib/python3.12/site-packages (from tensorboard<3.0.0,>=2.5.0->tianshou) (75.8.0)\n",
      "Requirement already satisfied: six>1.9 in ./venv/lib/python3.12/site-packages (from tensorboard<3.0.0,>=2.5.0->tianshou) (1.17.0)\n",
      "Requirement already satisfied: tensorboard-data-server<0.8.0,>=0.7.0 in ./venv/lib/python3.12/site-packages (from tensorboard<3.0.0,>=2.5.0->tianshou) (0.7.2)\n",
      "Requirement already satisfied: werkzeug>=1.0.1 in ./venv/lib/python3.12/site-packages (from tensorboard<3.0.0,>=2.5.0->tianshou) (3.1.3)\n",
      "Requirement already satisfied: filelock in ./venv/lib/python3.12/site-packages (from torch!=2.0.1,!=2.1.0,<3.0.0,>=2.0.0->tianshou) (3.17.0)\n",
      "Requirement already satisfied: networkx in ./venv/lib/python3.12/site-packages (from torch!=2.0.1,!=2.1.0,<3.0.0,>=2.0.0->tianshou) (3.4.2)\n",
      "Requirement already satisfied: jinja2 in ./venv/lib/python3.12/site-packages (from torch!=2.0.1,!=2.1.0,<3.0.0,>=2.0.0->tianshou) (3.1.5)\n",
      "Requirement already satisfied: fsspec in ./venv/lib/python3.12/site-packages (from torch!=2.0.1,!=2.1.0,<3.0.0,>=2.0.0->tianshou) (2024.12.0)\n",
      "Requirement already satisfied: sympy==1.13.1 in ./venv/lib/python3.12/site-packages (from torch!=2.0.1,!=2.1.0,<3.0.0,>=2.0.0->tianshou) (1.13.1)\n",
      "Requirement already satisfied: mpmath<1.4,>=1.1.0 in ./venv/lib/python3.12/site-packages (from sympy==1.13.1->torch!=2.0.1,!=2.1.0,<3.0.0,>=2.0.0->tianshou) (1.3.0)\n",
      "Requirement already satisfied: distlib<1,>=0.3.7 in ./venv/lib/python3.12/site-packages (from virtualenv!=20.4.5,!=20.4.6,<21.0.0,>=20.4.3->tianshou) (0.3.9)\n",
      "Requirement already satisfied: platformdirs<5,>=3.9.1 in ./venv/lib/python3.12/site-packages (from virtualenv!=20.4.5,!=20.4.6,<21.0.0,>=20.4.3->tianshou) (4.3.6)\n",
      "Requirement already satisfied: MarkupSafe>=2.1.1 in ./venv/lib/python3.12/site-packages (from werkzeug>=1.0.1->tensorboard<3.0.0,>=2.5.0->tianshou) (3.0.2)\n",
      "\n",
      "\u001b[1m[\u001b[0m\u001b[34;49mnotice\u001b[0m\u001b[1;39;49m]\u001b[0m\u001b[39;49m A new release of pip is available: \u001b[0m\u001b[31;49m23.2.1\u001b[0m\u001b[39;49m -> \u001b[0m\u001b[32;49m25.0\u001b[0m\n",
      "\u001b[1m[\u001b[0m\u001b[34;49mnotice\u001b[0m\u001b[1;39;49m]\u001b[0m\u001b[39;49m To update, run: \u001b[0m\u001b[32;49mpip install --upgrade pip\u001b[0m\n",
      "Note: you may need to restart the kernel to use updated packages.\n",
      "Requirement already satisfied: pygame in ./venv/lib/python3.12/site-packages (2.6.1)\n",
      "\n",
      "\u001b[1m[\u001b[0m\u001b[34;49mnotice\u001b[0m\u001b[1;39;49m]\u001b[0m\u001b[39;49m A new release of pip is available: \u001b[0m\u001b[31;49m23.2.1\u001b[0m\u001b[39;49m -> \u001b[0m\u001b[32;49m25.0\u001b[0m\n",
      "\u001b[1m[\u001b[0m\u001b[34;49mnotice\u001b[0m\u001b[1;39;49m]\u001b[0m\u001b[39;49m To update, run: \u001b[0m\u001b[32;49mpip install --upgrade pip\u001b[0m\n",
      "Note: you may need to restart the kernel to use updated packages.\n"
     ]
    }
   ],
   "source": [
    "%pip install tianshou\n",
    "%pip install pygame"
   ]
  },
  {
   "cell_type": "code",
   "execution_count": 2,
   "metadata": {},
   "outputs": [],
   "source": [
    "import math\n",
    "import numpy as np\n",
    "import torch\n",
    "import torch.nn as nn\n",
    "import torch.nn.functional as F\n",
    "import gymnasium as gym\n",
    "from torch.utils.tensorboard import SummaryWriter\n",
    "\n",
    "import tianshou as ts\n",
    "from tianshou.policy import DQNPolicy"
   ]
  },
  {
   "cell_type": "code",
   "execution_count": 3,
   "metadata": {},
   "outputs": [],
   "source": [
    "class CBPLayer(nn.Module):\n",
    "    def __init__(self, in_features, out_features, activation=nn.ReLU(), cbp_params=None):\n",
    "        \"\"\"\n",
    "        in_features: number of inputs.\n",
    "        out_features: number of neurons (features) in this layer.\n",
    "        activation: activation function.\n",
    "        cbp_params: dict with keys:\n",
    "            - eta: decay rate (e.g. 0.99)\n",
    "            - rho: replacement rate (e.g. 1e-4)\n",
    "            - m: maturity threshold (e.g. 100)\n",
    "        \"\"\"\n",
    "        super().__init__()\n",
    "        # Initialized the weight for each layer (Initialize: Initialize the weights w0, ..., wL. Let, wl be sampled from a distribution dl)\n",
    "        self.linear = nn.Linear(in_features, out_features)\n",
    "        self.activation = activation\n",
    "        \n",
    "        # Set default CBP parameters if none provided.\n",
    "        if cbp_params is None:\n",
    "            cbp_params = {'eta': 0.99, 'rho': 1e-4, 'm': 100}\n",
    "        self.eta = cbp_params.get('eta', 0.99)\n",
    "        self.rho = cbp_params.get('rho', 1e-4)\n",
    "        self.m = cbp_params.get('m', 100)\n",
    "        \n",
    "        # Initialize: Utilities u1, ..., uL, average feature activation f1, ..., fl\n",
    "        # Then, register_buffer is the PyTorch func to ensure these tensor are moved to the proper CPU or GPU we plan to use\n",
    "        self.register_buffer('age', torch.zeros(out_features))\n",
    "        self.register_buffer('u', torch.zeros(out_features))      # overall utility\n",
    "        self.register_buffer('z', torch.zeros(out_features))      # mean-corrected contribution utility\n",
    "        self.register_buffer('f_hat', torch.zeros(out_features))  # running average activation\n",
    "        \n",
    "        self.last_activation = None  # will be set in forward()\n",
    "\n",
    "    # this is part of the the forward pass (put here and will be called in CBPNetwork forward pass to avoid redudnacy and readability)\n",
    "    def forward(self, x):\n",
    "        z = self.linear(x)\n",
    "        a = self.activation(z)\n",
    "        # Function 4 (in the curent paper it's function 1 but in the YT video it's func 4) in the paper discuss about \n",
    "        # tracking feature activations to compute utilities. However, it does not specify how to store activations in an implementation.\n",
    "        # last_activation will be used below to track feature activations to compute utilities\n",
    "        # detach() tell PyTorch to not track gradients for last_activation (since we only need the activation values, not their gradients) \n",
    "        # to avoid using unnecessary memory\n",
    "        self.last_activation = a.detach()\n",
    "        return a\n",
    "\n",
    "    def update_cbp(self, next_layer_weight=None):\n",
    "        \"\"\"\n",
    "        This function updates the CBP utilities for this layer and reinitialize a fraction of neurons if needed.\n",
    "        Paper: for each input x_t do\n",
    "        \"\"\"\n",
    "        eta = self.eta\n",
    "        rho = self.rho\n",
    "        m = self.m\n",
    "        \n",
    "        # If no forward pass has been done, skip the update.\n",
    "        if self.last_activation is None:\n",
    "            return None\n",
    "\n",
    "        # Increase the age (Paper: Update age: al += 1).\n",
    "        self.age += 1\n",
    "\n",
    "        # Compute the batch-average activation per neuron.\n",
    "        h = self.last_activation.mean(dim=0)\n",
    "        \n",
    "        # Paper: Update feature utility: Using Function 4, 5, and 6\n",
    "        # Update the running average (f_hat) using an exponential moving average.\n",
    "        beta = 0.01\n",
    "        # Paper: Function 2\n",
    "        self.f_hat = (1 - beta) * self.f_hat + beta * h\n",
    "\n",
    "        # Compute the absolute difference |h - f_hat| part in function 4 below\n",
    "        diff = (h - self.f_hat).abs()\n",
    "\n",
    "        # Sum over the absolute weights connecting this neuron to the next layer.\n",
    "        if next_layer_weight is not None:\n",
    "            # next_layer_weight: shape (n_next, out_features) — sum over next-layer neurons.\n",
    "            sum_abs_out = next_layer_weight.abs().sum(dim=0)\n",
    "        else:\n",
    "            sum_abs_out = torch.zeros_like(self.u)\n",
    "        \n",
    "        # Sum over the absolute input weights for each neuron in this layer.\n",
    "        # self.linear.weight is shape (out_features, in_features)\n",
    "        sum_abs_in = self.linear.weight.abs().sum(dim=1)  # one value per neuron\n",
    "\n",
    "        # --- Function 4: Mean-corrected Contribution Utility ---\n",
    "        self.z = (1 - eta) * diff * sum_abs_out + eta * self.z\n",
    "\n",
    "        # --- Function 5: Adaptation Utility ---\n",
    "        y = (diff * sum_abs_out) / (sum_abs_in + 1e-8)  # Here, we add epsilon (1e-8) to avoid division by zero\n",
    "\n",
    "        # --- Function 6: Overall Feature Utility ---\n",
    "        self.u = (1 - eta) * y + eta * self.u\n",
    "\n",
    "        # Find eligible features: Features with age more than m (age > m)\n",
    "        # This createes a boolean tensor (True for neurons older than m and False otherwise).\n",
    "        eligible = self.age > m\n",
    "\n",
    "        # If no neuron are eligible for replacement, then skip this computation to avoid error\n",
    "        if eligible.sum() > 0:\n",
    "            eligible_indices = torch.nonzero(eligible).squeeze()\n",
    "            # Determine the number of neurons to replace.\n",
    "            n_eligible = eligible.sum().item()\n",
    "            n_replace = max(1, int(n_eligible * rho))\n",
    "            # Paper: Features to replace: nl∗ρ of eligible features with smallest utility, let their indices be r\n",
    "            # Among the eligible neurons, select those with the smallest utility.\n",
    "            # The argsort function call will return indices that would sort the tensor in ascending order.\n",
    "            utilities = self.u[eligible]\n",
    "            sorted_order = utilities.argsort() # Sort by utility\n",
    "            # Map sorted indices back to global indices.\n",
    "            if eligible_indices.dim() == 0:\n",
    "                eligible_indices = eligible_indices.unsqueeze(0)\n",
    "            replace_indices = eligible_indices[sorted_order[:n_replace]] # Here, we select lowest utility\n",
    "            # For each neuron to replace, we reinitialize its input weights and reset its buffers.\n",
    "            for idx in replace_indices:\n",
    "                fan_in = self.linear.in_features\n",
    "                bound = 1 / math.sqrt(fan_in)\n",
    "\n",
    "                # Paper: Initialize input weights: Reset the input weights wl−1[r] using samples from dl\n",
    "                # Reinitialize the weights for this neuron (i.e. one row of self.linear.weight)\n",
    "                with torch.no_grad():\n",
    "                    self.linear.weight[idx].uniform_(-bound, bound)\n",
    "                    if self.linear.bias is not None:\n",
    "                        self.linear.bias[idx].uniform_(-bound, bound)\n",
    "                # Paper: Initialize utility, feature activation, and age\n",
    "                self.u[idx] = 0\n",
    "                self.z[idx] = 0\n",
    "                self.f_hat[idx] = 0\n",
    "                self.age[idx] = 0\n",
    "            # Return the indices of the replaced neurons so that the next layer can zero out its input weights.\n",
    "            return replace_indices\n",
    "        return None"
   ]
  },
  {
   "cell_type": "code",
   "execution_count": 4,
   "metadata": {},
   "outputs": [],
   "source": [
    "class CBPNetwork(nn.Module):\n",
    "    def __init__(self, input_dim, output_dim, hidden_sizes, cbp_params=None):\n",
    "        \"\"\"\n",
    "        input_dim: dimensionality of the input.\n",
    "        output_dim: number of actions (output neurons).\n",
    "        hidden_sizes: list of hidden layer sizes.\n",
    "        cbp_params: dictionary of CBP parameters (eta, rho, m).\n",
    "        \"\"\"\n",
    "        # Iniitialize the layers\n",
    "        super().__init__()\n",
    "        layers = []\n",
    "        in_dim = input_dim\n",
    "        for hidden_dim in hidden_sizes:\n",
    "            layers.append(CBPLayer(in_dim, hidden_dim, activation=nn.ReLU(), cbp_params=cbp_params))\n",
    "            in_dim = hidden_dim\n",
    "        self.hidden_layers = nn.ModuleList(layers)\n",
    "        self.out_layer = nn.Linear(in_dim, output_dim)\n",
    "\n",
    "    # Forward pass\n",
    "    def forward(self, obs, state=None, info=None):\n",
    "        # This will ensure we're working with a tensor\n",
    "        if isinstance(obs, np.ndarray):\n",
    "            obs = torch.from_numpy(obs).float()\n",
    "        \n",
    "        # Handle batch vs single observation\n",
    "        if obs.dim() == 1:\n",
    "            obs = obs.unsqueeze(0)  # Add batch dimension\n",
    "            \n",
    "        x = obs\n",
    "        for layer in self.hidden_layers:\n",
    "            x = layer(x)\n",
    "        logits = self.out_layer(x)\n",
    "        \n",
    "        # Finally, return both logits and None for the state\n",
    "        # This will match what Tianshou expects for a stateless network\n",
    "        return logits, state\n",
    "\n",
    "    def update_cbp(self):\n",
    "        \"\"\"\n",
    "        Call update_cbp() on each CBP layer. For each layer, if some neurons were replaced,\n",
    "        zero out the corresponding incoming weights in the next layer.\n",
    "        \"\"\"\n",
    "        # Iterate through each layer\n",
    "        for i, layer in enumerate(self.hidden_layers):\n",
    "            if i < len(self.hidden_layers) - 1:\n",
    "                next_weight = self.hidden_layers[i + 1].linear.weight\n",
    "            else:\n",
    "                next_weight = self.out_layer.weight  # for the last hidden layer, use output layer weights.\n",
    "            # Call update_cbp func of each layer to update the paper's tasks (comment in the update_cbp func above already)\n",
    "            replace_indices = layer.update_cbp(next_layer_weight=next_weight)\n",
    "            if replace_indices is not None:\n",
    "                with torch.no_grad():\n",
    "                    # For next layer, set weights corresponding to replaced features to zero.\n",
    "                    # Paper: \"Initialize output weights: Set wl[r] to zero\"\n",
    "                    next_weight[:, replace_indices] = 0"
   ]
  },
  {
   "cell_type": "code",
   "execution_count": 5,
   "metadata": {},
   "outputs": [],
   "source": [
    "class CBPDQNPolicy(DQNPolicy):\n",
    "    def learn(self, batch, **kwargs):\n",
    "        # This learn function will call DQNPolicy.learn() from Tianshou, this will:\n",
    "        # Run the Runs the forward pass using CBPNetwork.forward().\n",
    "        # Then, it will computes loss.\n",
    "        # Finally, it updates model weights (SGD).\n",
    "        result = super().learn(batch, **kwargs)\n",
    "        # Then update the CBP utilities then (if needed) replace features.\n",
    "        if hasattr(self.model, 'update_cbp'):\n",
    "            self.model.update_cbp()\n",
    "        return result"
   ]
  },
  {
   "cell_type": "code",
   "execution_count": 9,
   "metadata": {},
   "outputs": [
    {
     "name": "stderr",
     "output_type": "stream",
     "text": [
      "Epoch #1: 10001it [00:09, 1048.38it/s, env_step=10000, gradient_step=1000, len=10, n/ep=1, n/st=10, rew=10.00]                           \n"
     ]
    },
    {
     "name": "stdout",
     "output_type": "stream",
     "text": [
      "Epoch #1: test_reward: 9.530000 ± 1.024256, best_reward: 9.530000 ± 1.024256 in #1\n"
     ]
    },
    {
     "name": "stderr",
     "output_type": "stream",
     "text": [
      "Epoch #2: 10001it [00:09, 1023.69it/s, env_step=20000, gradient_step=2000, len=11, n/ep=1, n/st=10, rew=11.00]                           \n"
     ]
    },
    {
     "name": "stdout",
     "output_type": "stream",
     "text": [
      "Epoch #2: test_reward: 12.330000 ± 1.685556, best_reward: 12.330000 ± 1.685556 in #2\n"
     ]
    },
    {
     "name": "stderr",
     "output_type": "stream",
     "text": [
      "Epoch #3: 10001it [00:09, 1004.62it/s, env_step=30000, gradient_step=3000, len=10, n/ep=1, n/st=10, rew=10.00]                            \n"
     ]
    },
    {
     "name": "stdout",
     "output_type": "stream",
     "text": [
      "Epoch #3: test_reward: 9.820000 ± 0.993781, best_reward: 12.330000 ± 1.685556 in #2\n"
     ]
    },
    {
     "name": "stderr",
     "output_type": "stream",
     "text": [
      "Epoch #4: 10001it [00:09, 1047.30it/s, env_step=40000, gradient_step=4000, len=17, n/ep=1, n/st=10, rew=17.00]                            \n"
     ]
    },
    {
     "name": "stdout",
     "output_type": "stream",
     "text": [
      "Epoch #4: test_reward: 18.050000 ± 2.228789, best_reward: 18.050000 ± 2.228789 in #4\n"
     ]
    },
    {
     "name": "stderr",
     "output_type": "stream",
     "text": [
      "Epoch #5: 10001it [00:09, 1060.57it/s, env_step=50000, gradient_step=5000, len=57, n/ep=0, n/st=10, rew=57.00]                            \n"
     ]
    },
    {
     "name": "stdout",
     "output_type": "stream",
     "text": [
      "Epoch #5: test_reward: 65.880000 ± 13.184294, best_reward: 65.880000 ± 13.184294 in #5\n",
      "Finished training in 51.77858114242554 seconds\n"
     ]
    }
   ],
   "source": [
    "import numpy as np\n",
    "\n",
    "# --- Set up logging ---\n",
    "logger = ts.utils.TensorboardLogger(SummaryWriter(\"logs/cbp_dqn\"))\n",
    "\n",
    "# --- Create the environment ---\n",
    "env_name = \"CartPole-v1\"\n",
    "train_env = gym.make(env_name)\n",
    "test_env = gym.make(env_name)\n",
    "\n",
    "# --- Get state and action info ---\n",
    "obs_shape = train_env.observation_space.shape  \n",
    "n_actions = train_env.action_space.n           \n",
    "input_dim = np.prod(obs_shape)\n",
    "\n",
    "# --- Define CBP parameters ---\n",
    "cbp_params = {\n",
    "    'eta': 0.99,   # decay rate \n",
    "    'rho': 1e-4,   # replacement rate \n",
    "    'm': 100       # maturity threshold \n",
    "}\n",
    "\n",
    "# --- Build the CBP network ---\n",
    "hidden_sizes = [128, 128, 128]\n",
    "model = CBPNetwork(input_dim=input_dim, output_dim=n_actions, hidden_sizes=hidden_sizes, cbp_params=cbp_params)\n",
    "\n",
    "# --- Set up optimizer ---\n",
    "optim = torch.optim.Adam(model.parameters(), lr=0.001)\n",
    "\n",
    "# --- Create the CBP-DQN policy ---\n",
    "policy = CBPDQNPolicy(\n",
    "    model=model,\n",
    "    optim=optim,\n",
    "    discount_factor=0.9,\n",
    "    estimation_step=3,\n",
    "    target_update_freq=320,\n",
    "    action_space=train_env.action_space\n",
    ")\n",
    "\n",
    "# --- Set up data collectors ---\n",
    "train_collector = ts.data.Collector(\n",
    "    policy, \n",
    "    train_env, \n",
    "    ts.data.VectorReplayBuffer(20000, 1),\n",
    "    exploration_noise=True\n",
    ")\n",
    "test_collector = ts.data.Collector(policy, test_env, exploration_noise=True)\n",
    "\n",
    "# --- Train the agent ---\n",
    "result = ts.trainer.OffpolicyTrainer(\n",
    "    policy=policy,\n",
    "    train_collector=train_collector,\n",
    "    test_collector=test_collector,\n",
    "    max_epoch=5,\n",
    "    step_per_epoch=10000,\n",
    "    step_per_collect=10,\n",
    "    episode_per_test=100,\n",
    "    batch_size=64,\n",
    "    update_per_step=1 / 10,\n",
    "    train_fn=lambda epoch, env_step: policy.set_eps(0.1),\n",
    "    test_fn=lambda epoch, env_step: policy.set_eps(0.05),\n",
    "    stop_fn=lambda mean_rewards: mean_rewards >= train_env.spec.reward_threshold,\n",
    "    logger=logger,\n",
    ").run()\n",
    "\n",
    "print(f\"Finished training in {result.timing.total_time} seconds\")\n",
    "torch.save(policy.state_dict(), 'models/cbp_dqn.pth')\n",
    "\n",
    "# --- Evaluate the trained agent ---\n",
    "policy.load_state_dict(torch.load('models/cbp_dqn.pth'))\n",
    "policy.eval()\n",
    "policy.set_eps(0.05)\n",
    "\n",
    "# Create an environment with rendering enabled.\n",
    "eval_env = gym.make(env_name, render_mode=\"human\")\n",
    "eval_env.reset()\n",
    "collector = ts.data.Collector(policy, eval_env, exploration_noise=True)\n",
    "collector.collect(n_episode=1, render=1/35, reset_before_collect=True)\n",
    "eval_env.close()"
   ]
  },
  {
   "cell_type": "code",
   "execution_count": 10,
   "metadata": {},
   "outputs": [
    {
     "name": "stderr",
     "output_type": "stream",
     "text": [
      "Epoch #1: 10001it [00:10, 989.36it/s, env_step=10000, gradient_step=1000, len=9, n/ep=1, n/st=10, rew=9.00]                            \n"
     ]
    },
    {
     "name": "stdout",
     "output_type": "stream",
     "text": [
      "Epoch #1: test_reward: 9.590000 ± 1.040144, best_reward: 9.590000 ± 1.040144 in #1\n"
     ]
    },
    {
     "name": "stderr",
     "output_type": "stream",
     "text": [
      "Epoch #2: 10001it [00:10, 995.30it/s, env_step=20000, gradient_step=2000, len=20, n/ep=0, n/st=10, rew=20.00]                             \n"
     ]
    },
    {
     "name": "stdout",
     "output_type": "stream",
     "text": [
      "Epoch #2: test_reward: 19.480000 ± 2.251577, best_reward: 19.480000 ± 2.251577 in #2\n"
     ]
    },
    {
     "name": "stderr",
     "output_type": "stream",
     "text": [
      "Epoch #3: 10001it [00:09, 1015.49it/s, env_step=30000, gradient_step=3000, len=34, n/ep=0, n/st=10, rew=34.00]                            \n"
     ]
    },
    {
     "name": "stdout",
     "output_type": "stream",
     "text": [
      "Epoch #3: test_reward: 60.450000 ± 12.163367, best_reward: 60.450000 ± 12.163367 in #3\n"
     ]
    },
    {
     "name": "stderr",
     "output_type": "stream",
     "text": [
      "Epoch #4: 10001it [00:09, 1027.46it/s, env_step=40000, gradient_step=4000, len=183, n/ep=0, n/st=10, rew=183.00]                           \n"
     ]
    },
    {
     "name": "stdout",
     "output_type": "stream",
     "text": [
      "Epoch #4: test_reward: 367.920000 ± 100.198671, best_reward: 367.920000 ± 100.198671 in #4\n"
     ]
    },
    {
     "name": "stderr",
     "output_type": "stream",
     "text": [
      "Epoch #5: 10001it [00:13, 759.81it/s, env_step=50000, gradient_step=5000, len=22, n/ep=1, n/st=10, rew=22.00]                             \n"
     ]
    },
    {
     "name": "stdout",
     "output_type": "stream",
     "text": [
      "Epoch #5: test_reward: 16.830000 ± 1.838777, best_reward: 367.920000 ± 100.198671 in #4\n",
      "Finished training in 65.692214012146 seconds\n"
     ]
    }
   ],
   "source": [
    "import numpy as np\n",
    "\n",
    "# --- Set up logging ---\n",
    "logger = ts.utils.TensorboardLogger(SummaryWriter(\"logs/cbp_dqn\"))\n",
    "\n",
    "# --- Create the environment ---\n",
    "env_name = \"CartPole-v1\"\n",
    "train_env = gym.make(env_name)\n",
    "test_env = gym.make(env_name)\n",
    "\n",
    "# --- Get state and action info ---\n",
    "obs_shape = train_env.observation_space.shape  \n",
    "n_actions = train_env.action_space.n           \n",
    "input_dim = np.prod(obs_shape)\n",
    "\n",
    "# --- Define CBP parameters ---\n",
    "cbp_params = {\n",
    "    'eta': 0.99,   # decay rate \n",
    "    'rho': 1e-4,   # replacement rate \n",
    "    'm': 100       # maturity threshold \n",
    "}\n",
    "\n",
    "# --- Build the CBP network ---\n",
    "hidden_sizes = [128, 128, 128]\n",
    "model = CBPNetwork(input_dim=input_dim, output_dim=n_actions, hidden_sizes=hidden_sizes, cbp_params=cbp_params)\n",
    "\n",
    "# --- Set up optimizer ---\n",
    "optim = torch.optim.Adam(model.parameters(), lr=0.001)\n",
    "\n",
    "# --- Create the CBP-DQN policy ---\n",
    "policy = CBPDQNPolicy(\n",
    "    model=model,\n",
    "    optim=optim,\n",
    "    discount_factor=0.9,\n",
    "    estimation_step=3,\n",
    "    target_update_freq=320,\n",
    "    action_space=train_env.action_space\n",
    ")\n",
    "\n",
    "# --- Set up data collectors ---\n",
    "train_collector = ts.data.Collector(\n",
    "    policy, \n",
    "    train_env, \n",
    "    ts.data.VectorReplayBuffer(20000, 1),\n",
    "    exploration_noise=True\n",
    ")\n",
    "test_collector = ts.data.Collector(policy, test_env, exploration_noise=True)\n",
    "\n",
    "# --- Train the agent ---\n",
    "result = ts.trainer.OffpolicyTrainer(\n",
    "    policy=policy,\n",
    "    train_collector=train_collector,\n",
    "    test_collector=test_collector,\n",
    "    max_epoch=5,\n",
    "    step_per_epoch=10000,\n",
    "    step_per_collect=10,\n",
    "    episode_per_test=100,\n",
    "    batch_size=64,\n",
    "    update_per_step=1 / 10,\n",
    "    train_fn=lambda epoch, env_step: policy.set_eps(0.1),\n",
    "    test_fn=lambda epoch, env_step: policy.set_eps(0.05),\n",
    "    stop_fn=lambda mean_rewards: mean_rewards >= train_env.spec.reward_threshold,\n",
    "    logger=logger,\n",
    ").run()\n",
    "\n",
    "print(f\"Finished training in {result.timing.total_time} seconds\")\n",
    "torch.save(policy.state_dict(), 'models/cbp_dqn.pth')\n",
    "\n",
    "# --- Evaluate the trained agent ---\n",
    "policy.load_state_dict(torch.load('models/cbp_dqn.pth'))\n",
    "policy.eval()\n",
    "policy.set_eps(0.05)\n",
    "\n",
    "# Create an environment with rendering enabled.\n",
    "eval_env = gym.make(env_name, render_mode=\"human\")\n",
    "eval_env.reset()\n",
    "collector = ts.data.Collector(policy, eval_env, exploration_noise=True)\n",
    "collector.collect(n_episode=1, render=1/35, reset_before_collect=True)\n",
    "eval_env.close()"
   ]
  },
  {
   "cell_type": "code",
   "execution_count": 18,
   "metadata": {},
   "outputs": [
    {
     "name": "stderr",
     "output_type": "stream",
     "text": [
      "Epoch #1: 10001it [00:10, 990.76it/s, env_step=10000, gradient_step=1000, len=12, n/ep=1, n/st=10, rew=12.00]                           \n"
     ]
    },
    {
     "name": "stdout",
     "output_type": "stream",
     "text": [
      "Epoch #1: test_reward: 9.530000 ± 0.953467, best_reward: 9.530000 ± 0.953467 in #1\n"
     ]
    },
    {
     "name": "stderr",
     "output_type": "stream",
     "text": [
      "Epoch #2: 10001it [00:10, 987.27it/s, env_step=20000, gradient_step=2000, len=13, n/ep=1, n/st=10, rew=13.00]                           \n"
     ]
    },
    {
     "name": "stdout",
     "output_type": "stream",
     "text": [
      "Epoch #2: test_reward: 14.020000 ± 1.918228, best_reward: 14.020000 ± 1.918228 in #2\n"
     ]
    },
    {
     "name": "stderr",
     "output_type": "stream",
     "text": [
      "Epoch #3: 10001it [00:10, 961.35it/s, env_step=30000, gradient_step=3000, len=13, n/ep=0, n/st=10, rew=13.00]                            \n"
     ]
    },
    {
     "name": "stdout",
     "output_type": "stream",
     "text": [
      "Epoch #3: test_reward: 27.710000 ± 4.720794, best_reward: 27.710000 ± 4.720794 in #3\n"
     ]
    },
    {
     "name": "stderr",
     "output_type": "stream",
     "text": [
      "Epoch #4: 10001it [00:10, 999.03it/s, env_step=40000, gradient_step=4000, len=11, n/ep=1, n/st=10, rew=11.00]                            \n"
     ]
    },
    {
     "name": "stdout",
     "output_type": "stream",
     "text": [
      "Epoch #4: test_reward: 10.480000 ± 1.195659, best_reward: 27.710000 ± 4.720794 in #3\n"
     ]
    },
    {
     "name": "stderr",
     "output_type": "stream",
     "text": [
      "Epoch #5: 10001it [00:08, 1137.82it/s, env_step=50000, gradient_step=5000, len=140, n/ep=0, n/st=10, rew=140.00]                           \n"
     ]
    },
    {
     "name": "stdout",
     "output_type": "stream",
     "text": [
      "Epoch #5: test_reward: 177.220000 ± 62.208774, best_reward: 177.220000 ± 62.208774 in #5\n"
     ]
    },
    {
     "name": "stderr",
     "output_type": "stream",
     "text": [
      "Epoch #6: 10001it [00:09, 1010.11it/s, env_step=60000, gradient_step=6000, len=35, n/ep=0, n/st=10, rew=35.00]                            \n"
     ]
    },
    {
     "name": "stdout",
     "output_type": "stream",
     "text": [
      "Epoch #6: test_reward: 67.020000 ± 13.533647, best_reward: 177.220000 ± 62.208774 in #5\n"
     ]
    },
    {
     "name": "stderr",
     "output_type": "stream",
     "text": [
      "Epoch #7: 10001it [00:10, 934.29it/s, env_step=70000, gradient_step=7000, len=23, n/ep=1, n/st=10, rew=23.00]                             \n"
     ]
    },
    {
     "name": "stdout",
     "output_type": "stream",
     "text": [
      "Epoch #7: test_reward: 20.940000 ± 2.513245, best_reward: 177.220000 ± 62.208774 in #5\n"
     ]
    },
    {
     "name": "stderr",
     "output_type": "stream",
     "text": [
      "Epoch #8: 10001it [00:14, 693.90it/s, env_step=80000, gradient_step=8000, len=129, n/ep=0, n/st=10, rew=129.00]                           \n"
     ]
    },
    {
     "name": "stdout",
     "output_type": "stream",
     "text": [
      "Epoch #8: test_reward: 100.150000 ± 12.393849, best_reward: 177.220000 ± 62.208774 in #5\n"
     ]
    },
    {
     "name": "stderr",
     "output_type": "stream",
     "text": [
      "Epoch #9: 10001it [00:10, 940.49it/s, env_step=90000, gradient_step=9000, len=30, n/ep=0, n/st=10, rew=30.00]                             \n"
     ]
    },
    {
     "name": "stdout",
     "output_type": "stream",
     "text": [
      "Epoch #9: test_reward: 443.310000 ± 121.649965, best_reward: 443.310000 ± 121.649965 in #9\n"
     ]
    },
    {
     "name": "stderr",
     "output_type": "stream",
     "text": [
      "Epoch #10: 10001it [00:10, 951.77it/s, env_step=100000, gradient_step=10000, len=163, n/ep=0, n/st=10, rew=163.00]                            \n"
     ]
    },
    {
     "name": "stdout",
     "output_type": "stream",
     "text": [
      "Epoch #10: test_reward: 176.910000 ± 27.015586, best_reward: 443.310000 ± 121.649965 in #9\n"
     ]
    },
    {
     "name": "stderr",
     "output_type": "stream",
     "text": [
      "Epoch #11: 10001it [00:09, 1020.19it/s, env_step=110000, gradient_step=11000, len=14, n/ep=0, n/st=10, rew=14.00]                            \n"
     ]
    },
    {
     "name": "stdout",
     "output_type": "stream",
     "text": [
      "Epoch #11: test_reward: 14.100000 ± 1.571623, best_reward: 443.310000 ± 121.649965 in #9\n"
     ]
    },
    {
     "name": "stderr",
     "output_type": "stream",
     "text": [
      "Epoch #12: 10001it [00:10, 954.30it/s, env_step=120000, gradient_step=12000, len=59, n/ep=1, n/st=10, rew=59.00]                             \n"
     ]
    },
    {
     "name": "stdout",
     "output_type": "stream",
     "text": [
      "Epoch #12: test_reward: 38.330000 ± 5.723731, best_reward: 443.310000 ± 121.649965 in #9\n"
     ]
    },
    {
     "name": "stderr",
     "output_type": "stream",
     "text": [
      "Epoch #13: 10001it [00:10, 996.24it/s, env_step=130000, gradient_step=13000, len=320, n/ep=0, n/st=10, rew=320.00]                           \n"
     ]
    },
    {
     "name": "stdout",
     "output_type": "stream",
     "text": [
      "Epoch #13: test_reward: 112.270000 ± 12.204798, best_reward: 443.310000 ± 121.649965 in #9\n"
     ]
    },
    {
     "name": "stderr",
     "output_type": "stream",
     "text": [
      "Epoch #14: 10001it [00:10, 942.24it/s, env_step=140000, gradient_step=14000, len=15, n/ep=1, n/st=10, rew=15.00]                             \n"
     ]
    },
    {
     "name": "stdout",
     "output_type": "stream",
     "text": [
      "Epoch #14: test_reward: 15.280000 ± 1.738275, best_reward: 443.310000 ± 121.649965 in #9\n"
     ]
    },
    {
     "name": "stderr",
     "output_type": "stream",
     "text": [
      "Epoch #15: 10001it [00:15, 642.37it/s, env_step=150000, gradient_step=15000, len=11, n/ep=0, n/st=10, rew=11.00]                             \n"
     ]
    },
    {
     "name": "stdout",
     "output_type": "stream",
     "text": [
      "Epoch #15: test_reward: 56.530000 ± 7.791604, best_reward: 443.310000 ± 121.649965 in #9\n",
      "New best model saved with mean reward: 443.31\n",
      "Finished training in 197.87134909629822 seconds\n"
     ]
    }
   ],
   "source": [
    "import numpy as np\n",
    "\n",
    "# --- Set up logging ---\n",
    "logger = ts.utils.TensorboardLogger(SummaryWriter(\"logs/cbp_dqn\"))\n",
    "\n",
    "# --- Create the environment ---\n",
    "env_name = \"CartPole-v1\"\n",
    "train_env = gym.make(env_name)\n",
    "test_env = gym.make(env_name)\n",
    "\n",
    "# --- Get state and action info ---\n",
    "obs_shape = train_env.observation_space.shape  \n",
    "n_actions = train_env.action_space.n           \n",
    "input_dim = np.prod(obs_shape)\n",
    "\n",
    "# --- Define CBP parameters ---\n",
    "cbp_params = {\n",
    "    'eta': 0.99,   # decay rate \n",
    "    'rho': 1e-4,   # replacement rate \n",
    "    'm': 100       # maturity threshold \n",
    "}\n",
    "\n",
    "# --- Build the CBP network ---\n",
    "hidden_sizes = [128, 128, 128]\n",
    "model = CBPNetwork(input_dim=input_dim, output_dim=n_actions, hidden_sizes=hidden_sizes, cbp_params=cbp_params)\n",
    "\n",
    "# --- Set up optimizer ---\n",
    "optim = torch.optim.Adam(model.parameters(), lr=0.001)\n",
    "\n",
    "# --- Create the CBP-DQN policy ---\n",
    "policy = CBPDQNPolicy(\n",
    "    model=model,\n",
    "    optim=optim,\n",
    "    discount_factor=0.975,\n",
    "    estimation_step=3,\n",
    "    target_update_freq=1000,\n",
    "    action_space=train_env.action_space\n",
    ")\n",
    "\n",
    "# --- Set up data collectors ---\n",
    "train_collector = ts.data.Collector(\n",
    "    policy, \n",
    "    train_env, \n",
    "    ts.data.VectorReplayBuffer(20000, 1),\n",
    "    exploration_noise=True\n",
    ")\n",
    "test_collector = ts.data.Collector(policy, test_env, exploration_noise=True)\n",
    "\n",
    "# --- Train the agent ---\n",
    "best_mean_reward = -np.inf \n",
    "\n",
    "def save_best_model(mean_rewards):\n",
    "    global best_mean_reward\n",
    "    if mean_rewards > best_mean_reward:\n",
    "        best_mean_reward = mean_rewards\n",
    "        torch.save(policy.state_dict(), 'models/cbp_dqn.pth')\n",
    "        print(f\"New best model saved with mean reward: {best_mean_reward}\")\n",
    "\n",
    "result = ts.trainer.OffpolicyTrainer(\n",
    "    policy=policy,\n",
    "    train_collector=train_collector,\n",
    "    test_collector=test_collector,\n",
    "    max_epoch=15,\n",
    "    step_per_epoch=10000,\n",
    "    step_per_collect=10,\n",
    "    episode_per_test=100,\n",
    "    batch_size=64,\n",
    "    update_per_step=1 / 10,\n",
    "    train_fn=lambda epoch, env_step: policy.set_eps(0.1),\n",
    "    test_fn=lambda epoch, env_step: policy.set_eps(0.05),\n",
    "    stop_fn=lambda mean_rewards: mean_rewards >= train_env.spec.reward_threshold,\n",
    "    logger=logger,\n",
    ").run()\n",
    "\n",
    "save_best_model(result.best_reward)\n",
    "\n",
    "print(f\"Finished training in {result.timing.total_time} seconds\")\n",
    "\n",
    "# --- Evaluate the trained agent ---\n",
    "policy.load_state_dict(torch.load('models/cbp_dqn.pth'))\n",
    "policy.eval()\n",
    "policy.set_eps(0.05)\n",
    "\n",
    "# Create an environment with rendering enabled.\n",
    "eval_env = gym.make(env_name, render_mode=\"human\")\n",
    "eval_env.reset()\n",
    "collector = ts.data.Collector(policy, eval_env, exploration_noise=True)\n",
    "collector.collect(n_episode=1, render=1/35, reset_before_collect=True)\n",
    "eval_env.close()"
   ]
  },
  {
   "cell_type": "markdown",
   "metadata": {},
   "source": [
    "# Mod 1: Change to cartpole-v0"
   ]
  },
  {
   "cell_type": "code",
   "execution_count": 8,
   "metadata": {},
   "outputs": [
    {
     "name": "stderr",
     "output_type": "stream",
     "text": [
      "/Users/namnguyenvu/PycharmProjects/reinforcementLearning/venv/lib/python3.12/site-packages/gymnasium/envs/registration.py:523: DeprecationWarning: \u001b[33mWARN: The environment CartPole-v0 is out of date. You should consider upgrading to version `v1`.\u001b[0m\n",
      "  logger.deprecation(\n",
      "Epoch #1: 5001it [00:05, 872.12it/s, env_step=5000, gradient_step=500, len=26, n/ep=1, n/st=10, rew=26.00]                            \n"
     ]
    },
    {
     "name": "stdout",
     "output_type": "stream",
     "text": [
      "Epoch #1: test_reward: 181.000000 ± 8.532292, best_reward: 181.000000 ± 8.532292 in #1\n"
     ]
    },
    {
     "name": "stderr",
     "output_type": "stream",
     "text": [
      "Epoch #2: 5001it [00:05, 877.97it/s, env_step=10000, gradient_step=1000, len=89, n/ep=0, n/st=10, rew=89.00]                           \n"
     ]
    },
    {
     "name": "stdout",
     "output_type": "stream",
     "text": [
      "Epoch #2: test_reward: 129.200000 ± 19.554028, best_reward: 181.000000 ± 8.532292 in #1\n"
     ]
    },
    {
     "name": "stderr",
     "output_type": "stream",
     "text": [
      "Epoch #3: 5001it [00:05, 931.30it/s, env_step=15000, gradient_step=1500, len=38, n/ep=1, n/st=10, rew=38.00]                            \n"
     ]
    },
    {
     "name": "stdout",
     "output_type": "stream",
     "text": [
      "Epoch #3: test_reward: 36.500000 ± 3.201562, best_reward: 181.000000 ± 8.532292 in #1\n"
     ]
    },
    {
     "name": "stderr",
     "output_type": "stream",
     "text": [
      "Epoch #4: 5001it [00:05, 846.71it/s, env_step=20000, gradient_step=2000, len=47, n/ep=0, n/st=10, rew=47.00]                            \n"
     ]
    },
    {
     "name": "stdout",
     "output_type": "stream",
     "text": [
      "Epoch #4: test_reward: 47.400000 ± 4.409082, best_reward: 181.000000 ± 8.532292 in #1\n"
     ]
    },
    {
     "name": "stderr",
     "output_type": "stream",
     "text": [
      "Epoch #5: 5001it [00:05, 908.85it/s, env_step=25000, gradient_step=2500, len=20, n/ep=1, n/st=10, rew=20.00]                            \n"
     ]
    },
    {
     "name": "stdout",
     "output_type": "stream",
     "text": [
      "Epoch #5: test_reward: 27.000000 ± 4.919350, best_reward: 181.000000 ± 8.532292 in #1\n"
     ]
    },
    {
     "name": "stderr",
     "output_type": "stream",
     "text": [
      "Epoch #6: 5001it [00:06, 827.29it/s, env_step=30000, gradient_step=3000, len=25, n/ep=0, n/st=10, rew=25.00]                            \n"
     ]
    },
    {
     "name": "stdout",
     "output_type": "stream",
     "text": [
      "Epoch #6: test_reward: 32.500000 ± 4.387482, best_reward: 181.000000 ± 8.532292 in #1\n"
     ]
    },
    {
     "name": "stderr",
     "output_type": "stream",
     "text": [
      "Epoch #7: 5001it [00:06, 818.05it/s, env_step=35000, gradient_step=3500, len=13, n/ep=0, n/st=10, rew=13.00]                            \n"
     ]
    },
    {
     "name": "stdout",
     "output_type": "stream",
     "text": [
      "Epoch #7: test_reward: 93.400000 ± 6.311894, best_reward: 181.000000 ± 8.532292 in #1\n"
     ]
    },
    {
     "name": "stderr",
     "output_type": "stream",
     "text": [
      "Epoch #8: 5001it [00:06, 804.29it/s, env_step=40000, gradient_step=4000, len=55, n/ep=0, n/st=10, rew=55.00]                            \n"
     ]
    },
    {
     "name": "stdout",
     "output_type": "stream",
     "text": [
      "Epoch #8: test_reward: 49.900000 ± 19.593111, best_reward: 181.000000 ± 8.532292 in #1\n"
     ]
    },
    {
     "name": "stderr",
     "output_type": "stream",
     "text": [
      "Epoch #9: 5001it [00:05, 838.07it/s, env_step=45000, gradient_step=4500, len=31, n/ep=0, n/st=10, rew=31.00]                            \n"
     ]
    },
    {
     "name": "stdout",
     "output_type": "stream",
     "text": [
      "Epoch #9: test_reward: 150.500000 ± 15.213481, best_reward: 181.000000 ± 8.532292 in #1\n"
     ]
    },
    {
     "name": "stderr",
     "output_type": "stream",
     "text": [
      "Epoch #10: 5001it [00:05, 929.14it/s, env_step=50000, gradient_step=5000, len=14, n/ep=0, n/st=10, rew=14.00]                             \n"
     ]
    },
    {
     "name": "stdout",
     "output_type": "stream",
     "text": [
      "Epoch #10: test_reward: 14.800000 ± 1.661325, best_reward: 181.000000 ± 8.532292 in #1\n",
      "Finished training in 60.475462913513184 seconds\n"
     ]
    }
   ],
   "source": [
    "from tianshou.env import DummyVectorEnv\n",
    "# Prepare the new environment\n",
    "new_env_name = \"CartPole-v0\"\n",
    "# train_env_new = gym.make(new_env_name)\n",
    "# test_env_new = gym.make(new_env_name)\n",
    "train_env_new = DummyVectorEnv([lambda: gym.make(new_env_name)])\n",
    "test_env_new = DummyVectorEnv([lambda: gym.make(new_env_name)])\n",
    "\n",
    "# Update the collectors by setting their env attribute directly\n",
    "# train_collector.env = train_env_new\n",
    "train_collector = ts.data.Collector(\n",
    "    policy, train_env_new, ts.data.VectorReplayBuffer(20000, 1), exploration_noise=True\n",
    ")\n",
    "test_collector.env = test_env_new\n",
    "\n",
    "# Reset the new environments\n",
    "train_collector.reset_env()\n",
    "test_collector.reset_env()\n",
    "\n",
    "# Ensure the policy is set to training mode\n",
    "policy.load_state_dict(torch.load('models/cbp_dqn.pth'))\n",
    "policy.train()\n",
    "policy.set_eps(0.1)  # Exploration rate\n",
    "\n",
    "# Update logger\n",
    "logger = ts.utils.TensorboardLogger(SummaryWriter(f\"logs/cbp_dqn_{new_env_name}\"))\n",
    "\n",
    "# Define a new train function if desired\n",
    "def train_fn_new(epoch, env_step):\n",
    "    eps = max(0.1, 0.5 - epoch * 0.05)\n",
    "    policy.set_eps(eps)\n",
    "    policy.model.update_cbp()\n",
    "\n",
    "env_spec = gym.make(new_env_name).spec.reward_threshold\n",
    "\n",
    "# Run the training loop\n",
    "result = ts.trainer.OffpolicyTrainer(\n",
    "    policy=policy,\n",
    "    train_collector=train_collector,\n",
    "    test_collector=test_collector,\n",
    "    max_epoch=10,\n",
    "    step_per_epoch=5000,\n",
    "    step_per_collect=10,\n",
    "    episode_per_test=10,\n",
    "    batch_size=64,\n",
    "    update_per_step=1 / 10,\n",
    "    train_fn=train_fn_new,\n",
    "    test_fn=lambda epoch, env_step: policy.set_eps(0.05),\n",
    "    stop_fn=lambda mean_rewards: mean_rewards >= env_spec,\n",
    "    logger=logger,\n",
    ").run()\n",
    "\n",
    "print(f\"Finished training in {result.timing.total_time} seconds\")\n",
    "torch.save(policy.state_dict(), 'models/cbp_dqn_retest_v0.pth')\n",
    "\n",
    "# --- Evaluate the trained agent ---\n",
    "policy.load_state_dict(torch.load('models/cbp_dqn_retest_v0.pth'))\n",
    "policy.eval()\n",
    "policy.set_eps(0.05)\n",
    "\n",
    "# Create an environment with rendering enabled.\n",
    "eval_env = gym.make(env_name, render_mode=\"human\")\n",
    "eval_env.reset()\n",
    "collector = ts.data.Collector(policy, eval_env, exploration_noise=True)\n",
    "collector.collect(n_episode=1, render=1/35, reset_before_collect=True)\n",
    "eval_env.close()"
   ]
  },
  {
   "cell_type": "markdown",
   "metadata": {},
   "source": [
    "# Mod 2: Change cartpole-v1's metrics"
   ]
  },
  {
   "cell_type": "markdown",
   "metadata": {},
   "source": [
    "1. Incremental Variations of CartPole-v1 \n",
    "Modify CartPole-v1's parameters gradually over time to observe how well CBP adapts:  \n",
    "\n",
    "Gravity shift: Change gravity from 9.8 m/s² (Earth) to a lower value (e.g., Moon: 1.6 m/s²) or a higher value (e.g., Jupiter: 24.8 m/s²).  \n",
    "Pole length variations: Increase or decrease length of the pole.  \n",
    "Mass changes: Modify masspole or masscart dynamically every few episodes.  \n",
    "Friction changes: Adjust track friction dynamically to simulate different surfaces.  \n",
    "👉 Goal: See if the model continues learning and does not degrade in performance as physics conditions change.  "
   ]
  },
  {
   "cell_type": "code",
   "execution_count": 19,
   "metadata": {},
   "outputs": [
    {
     "name": "stdout",
     "output_type": "stream",
     "text": [
      "Episode 1: Gravity=5.04, Length=0.2016, Mass=0.0519, Friction=0.001\n",
      "Episode 1: Gravity=5.04, Length=0.2016, Mass=0.0519, Friction=0.001\n",
      "Episode 2: Gravity=5.08, Length=0.20320000000000002, Mass=0.0538, Friction=0.002\n",
      "Episode 3: Gravity=5.12, Length=0.2048, Mass=0.0557, Friction=0.003\n",
      "Episode 4: Gravity=5.16, Length=0.2064, Mass=0.057600000000000005, Friction=0.004\n",
      "Episode 5: Gravity=5.2, Length=0.20800000000000002, Mass=0.059500000000000004, Friction=0.005\n",
      "Episode 6: Gravity=5.24, Length=0.2096, Mass=0.0614, Friction=0.006\n",
      "Episode 7: Gravity=5.28, Length=0.2112, Mass=0.0633, Friction=0.007\n",
      "Episode 8: Gravity=5.32, Length=0.21280000000000002, Mass=0.06520000000000001, Friction=0.008\n",
      "Episode 9: Gravity=5.36, Length=0.2144, Mass=0.0671, Friction=0.009000000000000001\n",
      "Episode 10: Gravity=5.4, Length=0.21600000000000003, Mass=0.069, Friction=0.01\n",
      "Episode 11: Gravity=5.44, Length=0.21760000000000002, Mass=0.0709, Friction=0.011\n",
      "Episode 12: Gravity=5.48, Length=0.2192, Mass=0.0728, Friction=0.012\n",
      "Episode 13: Gravity=5.52, Length=0.22080000000000002, Mass=0.0747, Friction=0.013000000000000001\n",
      "Episode 14: Gravity=5.5600000000000005, Length=0.22240000000000001, Mass=0.0766, Friction=0.014\n",
      "Episode 15: Gravity=5.6, Length=0.224, Mass=0.0785, Friction=0.015\n",
      "Episode 16: Gravity=5.64, Length=0.22560000000000002, Mass=0.0804, Friction=0.016\n",
      "Episode 17: Gravity=5.68, Length=0.2272, Mass=0.08230000000000001, Friction=0.017\n",
      "Episode 18: Gravity=5.72, Length=0.2288, Mass=0.0842, Friction=0.018000000000000002\n",
      "Episode 19: Gravity=5.76, Length=0.23040000000000002, Mass=0.08610000000000001, Friction=0.019\n",
      "Episode 20: Gravity=5.8, Length=0.232, Mass=0.088, Friction=0.02\n",
      "Episode 21: Gravity=5.84, Length=0.23360000000000003, Mass=0.08990000000000001, Friction=0.021\n",
      "Episode 22: Gravity=5.88, Length=0.23520000000000002, Mass=0.09179999999999999, Friction=0.022\n",
      "Episode 23: Gravity=5.92, Length=0.2368, Mass=0.0937, Friction=0.023\n",
      "Episode 24: Gravity=5.96, Length=0.2384, Mass=0.0956, Friction=0.024\n",
      "Episode 25: Gravity=6.0, Length=0.24000000000000002, Mass=0.0975, Friction=0.025\n",
      "Episode 26: Gravity=6.04, Length=0.2416, Mass=0.0994, Friction=0.026000000000000002\n",
      "Episode 27: Gravity=6.08, Length=0.24320000000000003, Mass=0.1013, Friction=0.027\n",
      "Episode 28: Gravity=6.12, Length=0.24480000000000002, Mass=0.1032, Friction=0.028\n",
      "Episode 29: Gravity=6.16, Length=0.2464, Mass=0.1051, Friction=0.029\n",
      "Episode 30: Gravity=6.2, Length=0.248, Mass=0.10700000000000001, Friction=0.03\n",
      "Episode 31: Gravity=6.24, Length=0.24960000000000002, Mass=0.1089, Friction=0.031\n",
      "Episode 32: Gravity=6.28, Length=0.25120000000000003, Mass=0.11080000000000001, Friction=0.032\n",
      "Episode 33: Gravity=6.32, Length=0.2528, Mass=0.11270000000000001, Friction=0.033\n",
      "Episode 34: Gravity=6.36, Length=0.2544, Mass=0.11460000000000001, Friction=0.034\n",
      "Episode 35: Gravity=6.4, Length=0.256, Mass=0.1165, Friction=0.035\n",
      "Episode 36: Gravity=6.4399999999999995, Length=0.2576, Mass=0.1184, Friction=0.036000000000000004\n",
      "Episode 37: Gravity=6.48, Length=0.2592, Mass=0.1203, Friction=0.037\n",
      "Episode 38: Gravity=6.52, Length=0.26080000000000003, Mass=0.1222, Friction=0.038\n",
      "Episode 39: Gravity=6.5600000000000005, Length=0.2624, Mass=0.1241, Friction=0.039\n",
      "Episode 40: Gravity=6.6, Length=0.264, Mass=0.126, Friction=0.04\n",
      "Episode 41: Gravity=6.640000000000001, Length=0.2656, Mass=0.1279, Friction=0.041\n",
      "Episode 42: Gravity=6.68, Length=0.2672, Mass=0.1298, Friction=0.042\n",
      "Episode 43: Gravity=6.72, Length=0.26880000000000004, Mass=0.13169999999999998, Friction=0.043000000000000003\n",
      "Episode 44: Gravity=6.76, Length=0.27040000000000003, Mass=0.1336, Friction=0.044\n",
      "Episode 45: Gravity=6.8, Length=0.272, Mass=0.1355, Friction=0.045\n",
      "Episode 46: Gravity=6.84, Length=0.2736, Mass=0.13740000000000002, Friction=0.046\n",
      "Episode 47: Gravity=6.88, Length=0.2752, Mass=0.1393, Friction=0.047\n",
      "Episode 48: Gravity=6.92, Length=0.27680000000000005, Mass=0.1412, Friction=0.048\n",
      "Episode 49: Gravity=6.96, Length=0.2784, Mass=0.1431, Friction=0.049\n",
      "Episode 50: Gravity=7.0, Length=0.28, Mass=0.14500000000000002, Friction=0.05\n",
      "Episode 51: Gravity=7.04, Length=0.2816, Mass=0.1469, Friction=0.051000000000000004\n",
      "Episode 52: Gravity=7.08, Length=0.2832, Mass=0.1488, Friction=0.052000000000000005\n",
      "Episode 53: Gravity=7.12, Length=0.2848, Mass=0.1507, Friction=0.053\n",
      "Episode 54: Gravity=7.16, Length=0.2864, Mass=0.1526, Friction=0.054\n",
      "Episode 55: Gravity=7.2, Length=0.28800000000000003, Mass=0.1545, Friction=0.055\n",
      "Episode 56: Gravity=7.24, Length=0.2896, Mass=0.15639999999999998, Friction=0.056\n",
      "Episode 57: Gravity=7.28, Length=0.2912, Mass=0.1583, Friction=0.057\n",
      "Episode 58: Gravity=7.32, Length=0.2928, Mass=0.1602, Friction=0.058\n",
      "Episode 59: Gravity=7.359999999999999, Length=0.2944, Mass=0.16210000000000002, Friction=0.059000000000000004\n",
      "Episode 60: Gravity=7.4, Length=0.29600000000000004, Mass=0.164, Friction=0.06\n",
      "Episode 61: Gravity=7.4399999999999995, Length=0.29760000000000003, Mass=0.1659, Friction=0.061\n",
      "Episode 62: Gravity=7.48, Length=0.2992, Mass=0.1678, Friction=0.062\n",
      "Episode 63: Gravity=7.52, Length=0.3008, Mass=0.16970000000000002, Friction=0.063\n",
      "Episode 64: Gravity=7.5600000000000005, Length=0.3024, Mass=0.1716, Friction=0.064\n",
      "Episode 65: Gravity=7.6, Length=0.30400000000000005, Mass=0.1735, Friction=0.065\n",
      "Episode 66: Gravity=7.640000000000001, Length=0.3056, Mass=0.1754, Friction=0.066\n",
      "Episode 67: Gravity=7.68, Length=0.30720000000000003, Mass=0.1773, Friction=0.067\n",
      "Episode 68: Gravity=7.720000000000001, Length=0.3088, Mass=0.17920000000000003, Friction=0.068\n",
      "Episode 69: Gravity=7.76, Length=0.3104, Mass=0.18109999999999998, Friction=0.069\n",
      "Episode 70: Gravity=7.800000000000001, Length=0.312, Mass=0.183, Friction=0.07\n",
      "Episode 71: Gravity=7.84, Length=0.3136, Mass=0.1849, Friction=0.07100000000000001\n",
      "Episode 72: Gravity=7.88, Length=0.31520000000000004, Mass=0.18680000000000002, Friction=0.07200000000000001\n",
      "Episode 73: Gravity=7.92, Length=0.3168, Mass=0.18869999999999998, Friction=0.073\n",
      "Episode 74: Gravity=7.96, Length=0.3184, Mass=0.1906, Friction=0.074\n",
      "Episode 75: Gravity=8.0, Length=0.32, Mass=0.1925, Friction=0.075\n",
      "Episode 76: Gravity=8.04, Length=0.3216, Mass=0.19440000000000002, Friction=0.076\n",
      "Episode 77: Gravity=8.08, Length=0.32320000000000004, Mass=0.19630000000000003, Friction=0.077\n",
      "Episode 78: Gravity=8.120000000000001, Length=0.32480000000000003, Mass=0.1982, Friction=0.078\n",
      "Episode 79: Gravity=8.16, Length=0.3264, Mass=0.2001, Friction=0.079\n",
      "Episode 80: Gravity=8.2, Length=0.328, Mass=0.202, Friction=0.08\n",
      "Episode 81: Gravity=8.24, Length=0.3296, Mass=0.20390000000000003, Friction=0.081\n",
      "Episode 82: Gravity=8.280000000000001, Length=0.33120000000000005, Mass=0.20579999999999998, Friction=0.082\n",
      "Episode 83: Gravity=8.32, Length=0.3328, Mass=0.2077, Friction=0.083\n",
      "Episode 84: Gravity=8.36, Length=0.33440000000000003, Mass=0.2096, Friction=0.084\n",
      "Episode 85: Gravity=8.4, Length=0.336, Mass=0.21150000000000002, Friction=0.085\n",
      "Episode 86: Gravity=8.44, Length=0.3376, Mass=0.21339999999999998, Friction=0.08600000000000001\n",
      "Episode 87: Gravity=8.48, Length=0.33920000000000006, Mass=0.2153, Friction=0.08700000000000001\n",
      "Episode 88: Gravity=8.52, Length=0.3408, Mass=0.2172, Friction=0.088\n",
      "Episode 89: Gravity=8.56, Length=0.34240000000000004, Mass=0.21910000000000002, Friction=0.089\n",
      "Episode 90: Gravity=8.6, Length=0.34400000000000003, Mass=0.22100000000000003, Friction=0.09\n",
      "Episode 91: Gravity=8.64, Length=0.3456, Mass=0.2229, Friction=0.091\n",
      "Episode 92: Gravity=8.68, Length=0.3472, Mass=0.2248, Friction=0.092\n",
      "Episode 93: Gravity=8.72, Length=0.3488, Mass=0.2267, Friction=0.093\n",
      "Episode 94: Gravity=8.76, Length=0.35040000000000004, Mass=0.22860000000000003, Friction=0.094\n",
      "Episode 95: Gravity=8.8, Length=0.352, Mass=0.23049999999999998, Friction=0.095\n",
      "Episode 96: Gravity=8.84, Length=0.3536, Mass=0.2324, Friction=0.096\n",
      "Episode 97: Gravity=8.879999999999999, Length=0.3552, Mass=0.2343, Friction=0.097\n",
      "Episode 98: Gravity=8.92, Length=0.3568, Mass=0.23620000000000002, Friction=0.098\n",
      "Episode 99: Gravity=8.96, Length=0.35840000000000005, Mass=0.23809999999999998, Friction=0.099\n",
      "Episode 100: Gravity=9.0, Length=0.36, Mass=0.24, Friction=0.1\n",
      "Episode 101: Gravity=9.04, Length=0.36160000000000003, Mass=0.2419, Friction=0.101\n",
      "Episode 102: Gravity=9.08, Length=0.3632, Mass=0.24380000000000002, Friction=0.10200000000000001\n",
      "Episode 103: Gravity=9.120000000000001, Length=0.3648, Mass=0.24570000000000003, Friction=0.10300000000000001\n",
      "Episode 2: Gravity=5.08, Length=0.20320000000000002, Mass=0.0538, Friction=0.002\n",
      "Episode 104: Gravity=9.16, Length=0.36640000000000006, Mass=0.2476, Friction=0.10400000000000001\n",
      "Episode 105: Gravity=9.2, Length=0.368, Mass=0.2495, Friction=0.105\n",
      "Episode 106: Gravity=9.24, Length=0.36960000000000004, Mass=0.2514, Friction=0.106\n",
      "Episode 107: Gravity=9.280000000000001, Length=0.37120000000000003, Mass=0.2533, Friction=0.107\n",
      "Episode 108: Gravity=9.32, Length=0.3728, Mass=0.2552, Friction=0.108\n",
      "Episode 109: Gravity=9.36, Length=0.3744, Mass=0.2571, Friction=0.109\n",
      "Episode 110: Gravity=9.4, Length=0.376, Mass=0.259, Friction=0.11\n",
      "Episode 111: Gravity=9.440000000000001, Length=0.37760000000000005, Mass=0.2609, Friction=0.111\n",
      "Episode 112: Gravity=9.48, Length=0.3792, Mass=0.2628, Friction=0.112\n",
      "Episode 113: Gravity=9.52, Length=0.3808, Mass=0.2647, Friction=0.113\n",
      "Episode 114: Gravity=9.56, Length=0.3824, Mass=0.2666, Friction=0.114\n",
      "Episode 115: Gravity=9.600000000000001, Length=0.384, Mass=0.2685, Friction=0.115\n",
      "Episode 116: Gravity=9.64, Length=0.38560000000000005, Mass=0.27040000000000003, Friction=0.116\n",
      "Episode 117: Gravity=9.68, Length=0.3872, Mass=0.2723, Friction=0.117\n",
      "Episode 118: Gravity=9.719999999999999, Length=0.38880000000000003, Mass=0.2742, Friction=0.11800000000000001\n",
      "Episode 119: Gravity=9.76, Length=0.3904, Mass=0.2761, Friction=0.11900000000000001\n",
      "Episode 120: Gravity=9.8, Length=0.392, Mass=0.278, Friction=0.12\n",
      "Episode 121: Gravity=9.84, Length=0.39360000000000006, Mass=0.2799, Friction=0.121\n",
      "Episode 122: Gravity=9.879999999999999, Length=0.3952, Mass=0.2818, Friction=0.122\n",
      "Episode 123: Gravity=9.92, Length=0.39680000000000004, Mass=0.2837, Friction=0.123\n",
      "Episode 124: Gravity=9.96, Length=0.39840000000000003, Mass=0.2856, Friction=0.124\n",
      "Episode 125: Gravity=10.0, Length=0.4, Mass=0.2875, Friction=0.125\n",
      "Episode 126: Gravity=10.04, Length=0.4016, Mass=0.2894, Friction=0.126\n",
      "Episode 127: Gravity=10.08, Length=0.4032, Mass=0.2913, Friction=0.127\n",
      "Episode 128: Gravity=10.120000000000001, Length=0.40480000000000005, Mass=0.2932, Friction=0.128\n",
      "Episode 129: Gravity=10.16, Length=0.4064, Mass=0.29510000000000003, Friction=0.129\n",
      "Episode 130: Gravity=10.2, Length=0.40800000000000003, Mass=0.297, Friction=0.13\n",
      "Episode 131: Gravity=10.24, Length=0.4096, Mass=0.2989, Friction=0.131\n",
      "Episode 132: Gravity=10.280000000000001, Length=0.4112, Mass=0.3008, Friction=0.132\n",
      "Episode 133: Gravity=10.32, Length=0.41280000000000006, Mass=0.30269999999999997, Friction=0.133\n",
      "Episode 134: Gravity=10.36, Length=0.4144, Mass=0.3046, Friction=0.134\n",
      "Episode 135: Gravity=10.4, Length=0.41600000000000004, Mass=0.3065, Friction=0.135\n",
      "Episode 136: Gravity=10.440000000000001, Length=0.4176, Mass=0.3084, Friction=0.136\n",
      "Episode 137: Gravity=10.48, Length=0.4192, Mass=0.31029999999999996, Friction=0.137\n",
      "Episode 138: Gravity=10.52, Length=0.42080000000000006, Mass=0.3122, Friction=0.138\n",
      "Episode 139: Gravity=10.56, Length=0.4224, Mass=0.3141, Friction=0.139\n",
      "Episode 140: Gravity=10.600000000000001, Length=0.42400000000000004, Mass=0.316, Friction=0.14\n",
      "Episode 141: Gravity=10.64, Length=0.42560000000000003, Mass=0.3179, Friction=0.14100000000000001\n",
      "Episode 142: Gravity=10.68, Length=0.4272, Mass=0.3198, Friction=0.14200000000000002\n",
      "Episode 143: Gravity=10.719999999999999, Length=0.4288, Mass=0.3217, Friction=0.14300000000000002\n",
      "Episode 144: Gravity=10.76, Length=0.4304, Mass=0.3236, Friction=0.14400000000000002\n",
      "Episode 145: Gravity=10.8, Length=0.43200000000000005, Mass=0.3255, Friction=0.145\n",
      "Episode 146: Gravity=10.84, Length=0.4336, Mass=0.32739999999999997, Friction=0.146\n",
      "Episode 147: Gravity=10.879999999999999, Length=0.43520000000000003, Mass=0.3293, Friction=0.147\n",
      "Episode 148: Gravity=10.92, Length=0.4368, Mass=0.3312, Friction=0.148\n",
      "Episode 149: Gravity=10.96, Length=0.4384, Mass=0.3331, Friction=0.149\n",
      "Episode 150: Gravity=11.0, Length=0.44000000000000006, Mass=0.33499999999999996, Friction=0.15\n",
      "Episode 151: Gravity=11.04, Length=0.4416, Mass=0.3369, Friction=0.151\n",
      "Episode 152: Gravity=11.08, Length=0.44320000000000004, Mass=0.3388, Friction=0.152\n",
      "Episode 153: Gravity=11.120000000000001, Length=0.44480000000000003, Mass=0.3407, Friction=0.153\n",
      "Episode 154: Gravity=11.16, Length=0.4464, Mass=0.3426, Friction=0.154\n",
      "Episode 155: Gravity=11.2, Length=0.448, Mass=0.3445, Friction=0.155\n",
      "Episode 156: Gravity=11.24, Length=0.4496, Mass=0.3464, Friction=0.156\n",
      "Episode 157: Gravity=11.280000000000001, Length=0.45120000000000005, Mass=0.3483, Friction=0.157\n",
      "Episode 158: Gravity=11.32, Length=0.45280000000000004, Mass=0.3502, Friction=0.158\n",
      "Episode 159: Gravity=11.36, Length=0.4544, Mass=0.35209999999999997, Friction=0.159\n",
      "Episode 160: Gravity=11.4, Length=0.456, Mass=0.354, Friction=0.16\n",
      "Episode 161: Gravity=11.440000000000001, Length=0.4576, Mass=0.3559, Friction=0.161\n",
      "Episode 162: Gravity=11.48, Length=0.4592, Mass=0.3578, Friction=0.162\n",
      "Episode 163: Gravity=11.52, Length=0.46080000000000004, Mass=0.35969999999999996, Friction=0.163\n",
      "Episode 164: Gravity=11.56, Length=0.46240000000000003, Mass=0.3616, Friction=0.164\n",
      "Episode 165: Gravity=11.600000000000001, Length=0.464, Mass=0.3635, Friction=0.165\n",
      "Episode 166: Gravity=11.64, Length=0.4656, Mass=0.3654, Friction=0.166\n",
      "Episode 167: Gravity=11.68, Length=0.4672, Mass=0.3673, Friction=0.167\n",
      "Episode 168: Gravity=11.719999999999999, Length=0.46880000000000005, Mass=0.3692, Friction=0.168\n",
      "Episode 169: Gravity=11.76, Length=0.47040000000000004, Mass=0.3711, Friction=0.169\n",
      "Episode 170: Gravity=11.8, Length=0.47200000000000003, Mass=0.373, Friction=0.17\n",
      "Episode 171: Gravity=11.84, Length=0.4736, Mass=0.3749, Friction=0.171\n",
      "Episode 172: Gravity=11.879999999999999, Length=0.4752, Mass=0.37679999999999997, Friction=0.17200000000000001\n",
      "Episode 173: Gravity=11.92, Length=0.4768, Mass=0.3787, Friction=0.17300000000000001\n",
      "Episode 174: Gravity=11.96, Length=0.47840000000000005, Mass=0.3806, Friction=0.17400000000000002\n",
      "Episode 175: Gravity=12.0, Length=0.48000000000000004, Mass=0.3825, Friction=0.17500000000000002\n",
      "Episode 176: Gravity=12.04, Length=0.48160000000000003, Mass=0.38439999999999996, Friction=0.176\n",
      "Episode 177: Gravity=12.08, Length=0.4832, Mass=0.3863, Friction=0.177\n",
      "Episode 178: Gravity=12.120000000000001, Length=0.4848, Mass=0.3882, Friction=0.178\n",
      "Episode 179: Gravity=12.16, Length=0.4864, Mass=0.3901, Friction=0.179\n",
      "Episode 180: Gravity=12.2, Length=0.48800000000000004, Mass=0.392, Friction=0.18\n",
      "Episode 181: Gravity=12.24, Length=0.48960000000000004, Mass=0.3939, Friction=0.181\n",
      "Episode 182: Gravity=12.280000000000001, Length=0.4912, Mass=0.3958, Friction=0.182\n",
      "Episode 183: Gravity=12.32, Length=0.4928, Mass=0.3977, Friction=0.183\n",
      "Episode 184: Gravity=12.36, Length=0.4944, Mass=0.3996, Friction=0.184\n",
      "Episode 185: Gravity=12.4, Length=0.49600000000000005, Mass=0.40149999999999997, Friction=0.185\n",
      "Episode 186: Gravity=12.440000000000001, Length=0.49760000000000004, Mass=0.4034, Friction=0.186\n",
      "Episode 187: Gravity=12.48, Length=0.49920000000000003, Mass=0.4053, Friction=0.187\n",
      "Episode 188: Gravity=12.52, Length=0.5008, Mass=0.4072, Friction=0.188\n",
      "Episode 189: Gravity=12.56, Length=0.5024, Mass=0.40909999999999996, Friction=0.189\n",
      "Episode 190: Gravity=12.600000000000001, Length=0.504, Mass=0.411, Friction=0.19\n",
      "Episode 191: Gravity=12.64, Length=0.5056, Mass=0.4129, Friction=0.191\n",
      "Episode 192: Gravity=12.68, Length=0.5072000000000001, Mass=0.4148, Friction=0.192\n",
      "Episode 193: Gravity=12.719999999999999, Length=0.5088, Mass=0.4167, Friction=0.193\n",
      "Episode 194: Gravity=12.76, Length=0.5104, Mass=0.41859999999999997, Friction=0.194\n",
      "Episode 195: Gravity=12.8, Length=0.512, Mass=0.4205, Friction=0.195\n",
      "Episode 196: Gravity=12.84, Length=0.5136000000000001, Mass=0.4224, Friction=0.196\n",
      "Episode 197: Gravity=12.879999999999999, Length=0.5152000000000001, Mass=0.4243, Friction=0.197\n",
      "Episode 198: Gravity=12.92, Length=0.5168, Mass=0.42619999999999997, Friction=0.198\n",
      "Episode 199: Gravity=12.96, Length=0.5184, Mass=0.4281, Friction=0.199\n",
      "Episode 200: Gravity=13.0, Length=0.52, Mass=0.43, Friction=0.2\n",
      "Episode 201: Gravity=13.040000000000001, Length=0.5216000000000001, Mass=0.4319, Friction=0.201\n",
      "Episode 202: Gravity=13.08, Length=0.5232000000000001, Mass=0.43379999999999996, Friction=0.202\n",
      "Episode 203: Gravity=13.120000000000001, Length=0.5248, Mass=0.4357, Friction=0.203\n",
      "Episode 204: Gravity=13.16, Length=0.5264, Mass=0.4376, Friction=0.20400000000000001\n",
      "Episode 205: Gravity=13.2, Length=0.528, Mass=0.4395, Friction=0.20500000000000002\n",
      "Episode 206: Gravity=13.24, Length=0.5296000000000001, Mass=0.4414, Friction=0.20600000000000002\n"
     ]
    },
    {
     "name": "stderr",
     "output_type": "stream",
     "text": [
      "Epoch #1:   1%|1         | 100/10000 [00:00<00:10, 985.45it/s, env_step=100, gradient_step=10, len=48, n/ep=0, n/st=10, rew=48.00]"
     ]
    },
    {
     "name": "stdout",
     "output_type": "stream",
     "text": [
      "Episode 3: Gravity=5.12, Length=0.2048, Mass=0.0557, Friction=0.003\n",
      "Episode 4: Gravity=5.16, Length=0.2064, Mass=0.057600000000000005, Friction=0.004\n"
     ]
    },
    {
     "name": "stderr",
     "output_type": "stream",
     "text": [
      "Epoch #1:   2%|2         | 250/10000 [00:00<00:09, 1056.08it/s, env_step=250, gradient_step=25, len=12, n/ep=1, n/st=10, rew=12.00]"
     ]
    },
    {
     "name": "stdout",
     "output_type": "stream",
     "text": [
      "Episode 5: Gravity=5.2, Length=0.20800000000000002, Mass=0.059500000000000004, Friction=0.005\n",
      "Episode 6: Gravity=5.24, Length=0.2096, Mass=0.0614, Friction=0.006\n",
      "Episode 7: Gravity=5.28, Length=0.2112, Mass=0.0633, Friction=0.007\n",
      "Episode 8: Gravity=5.32, Length=0.21280000000000002, Mass=0.06520000000000001, Friction=0.008\n",
      "Episode 9: Gravity=5.36, Length=0.2144, Mass=0.0671, Friction=0.009000000000000001\n",
      "Episode 10: Gravity=5.4, Length=0.21600000000000003, Mass=0.069, Friction=0.01\n",
      "Episode 11: Gravity=5.44, Length=0.21760000000000002, Mass=0.0709, Friction=0.011\n",
      "Episode 12: Gravity=5.48, Length=0.2192, Mass=0.0728, Friction=0.012\n"
     ]
    },
    {
     "name": "stderr",
     "output_type": "stream",
     "text": [
      "Epoch #1:   4%|3         | 360/10000 [00:00<00:09, 1053.72it/s, env_step=360, gradient_step=36, len=10, n/ep=0, n/st=10, rew=10.00]"
     ]
    },
    {
     "name": "stdout",
     "output_type": "stream",
     "text": [
      "Episode 13: Gravity=5.52, Length=0.22080000000000002, Mass=0.0747, Friction=0.013000000000000001\n",
      "Episode 14: Gravity=5.5600000000000005, Length=0.22240000000000001, Mass=0.0766, Friction=0.014\n",
      "Episode 15: Gravity=5.6, Length=0.224, Mass=0.0785, Friction=0.015\n",
      "Episode 16: Gravity=5.64, Length=0.22560000000000002, Mass=0.0804, Friction=0.016\n",
      "Episode 17: Gravity=5.68, Length=0.2272, Mass=0.08230000000000001, Friction=0.017\n",
      "Episode 18: Gravity=5.72, Length=0.2288, Mass=0.0842, Friction=0.018000000000000002\n",
      "Episode 19: Gravity=5.76, Length=0.23040000000000002, Mass=0.08610000000000001, Friction=0.019\n",
      "Episode 20: Gravity=5.8, Length=0.232, Mass=0.088, Friction=0.02\n",
      "Episode 21: Gravity=5.84, Length=0.23360000000000003, Mass=0.08990000000000001, Friction=0.021\n",
      "Episode 22: Gravity=5.88, Length=0.23520000000000002, Mass=0.09179999999999999, Friction=0.022\n"
     ]
    },
    {
     "name": "stderr",
     "output_type": "stream",
     "text": [
      "Epoch #1:   4%|4         | 440/10000 [00:00<00:09, 958.15it/s, env_step=440, gradient_step=44, len=11, n/ep=1, n/st=10, rew=11.00] "
     ]
    },
    {
     "name": "stdout",
     "output_type": "stream",
     "text": [
      "Episode 23: Gravity=5.92, Length=0.2368, Mass=0.0937, Friction=0.023\n",
      "Episode 24: Gravity=5.96, Length=0.2384, Mass=0.0956, Friction=0.024\n",
      "Episode 25: Gravity=6.0, Length=0.24000000000000002, Mass=0.0975, Friction=0.025\n",
      "Episode 26: Gravity=6.04, Length=0.2416, Mass=0.0994, Friction=0.026000000000000002\n",
      "Episode 27: Gravity=6.08, Length=0.24320000000000003, Mass=0.1013, Friction=0.027\n",
      "Episode 28: Gravity=6.12, Length=0.24480000000000002, Mass=0.1032, Friction=0.028\n",
      "Episode 29: Gravity=6.16, Length=0.2464, Mass=0.1051, Friction=0.029\n",
      "Episode 30: Gravity=6.2, Length=0.248, Mass=0.10700000000000001, Friction=0.03\n"
     ]
    },
    {
     "name": "stderr",
     "output_type": "stream",
     "text": [
      "Epoch #1:   5%|5         | 530/10000 [00:00<00:09, 958.15it/s, env_step=530, gradient_step=53, len=9, n/ep=0, n/st=10, rew=9.00]  "
     ]
    },
    {
     "name": "stdout",
     "output_type": "stream",
     "text": [
      "Episode 31: Gravity=6.24, Length=0.24960000000000002, Mass=0.1089, Friction=0.031\n",
      "Episode 32: Gravity=6.28, Length=0.25120000000000003, Mass=0.11080000000000001, Friction=0.032\n",
      "Episode 33: Gravity=6.32, Length=0.2528, Mass=0.11270000000000001, Friction=0.033\n",
      "Episode 34: Gravity=6.36, Length=0.2544, Mass=0.11460000000000001, Friction=0.034\n",
      "Episode 35: Gravity=6.4, Length=0.256, Mass=0.1165, Friction=0.035\n",
      "Episode 36: Gravity=6.4399999999999995, Length=0.2576, Mass=0.1184, Friction=0.036000000000000004\n",
      "Episode 37: Gravity=6.48, Length=0.2592, Mass=0.1203, Friction=0.037\n",
      "Episode 38: Gravity=6.52, Length=0.26080000000000003, Mass=0.1222, Friction=0.038\n",
      "Episode 39: Gravity=6.5600000000000005, Length=0.2624, Mass=0.1241, Friction=0.039\n"
     ]
    },
    {
     "name": "stderr",
     "output_type": "stream",
     "text": [
      "Epoch #1:   6%|6         | 610/10000 [00:00<00:10, 882.52it/s, env_step=610, gradient_step=61, len=10, n/ep=1, n/st=10, rew=10.00]"
     ]
    },
    {
     "name": "stdout",
     "output_type": "stream",
     "text": [
      "Episode 40: Gravity=6.6, Length=0.264, Mass=0.126, Friction=0.04\n",
      "Episode 41: Gravity=6.640000000000001, Length=0.2656, Mass=0.1279, Friction=0.041\n",
      "Episode 42: Gravity=6.68, Length=0.2672, Mass=0.1298, Friction=0.042\n",
      "Episode 43: Gravity=6.72, Length=0.26880000000000004, Mass=0.13169999999999998, Friction=0.043000000000000003\n",
      "Episode 44: Gravity=6.76, Length=0.27040000000000003, Mass=0.1336, Friction=0.044\n",
      "Episode 45: Gravity=6.8, Length=0.272, Mass=0.1355, Friction=0.045\n",
      "Episode 46: Gravity=6.84, Length=0.2736, Mass=0.13740000000000002, Friction=0.046\n"
     ]
    },
    {
     "name": "stderr",
     "output_type": "stream",
     "text": [
      "Epoch #1:   7%|7         | 710/10000 [00:00<00:10, 868.35it/s, env_step=710, gradient_step=71, len=10, n/ep=1, n/st=10, rew=10.00]"
     ]
    },
    {
     "name": "stdout",
     "output_type": "stream",
     "text": [
      "Episode 47: Gravity=6.88, Length=0.2752, Mass=0.1393, Friction=0.047\n",
      "Episode 48: Gravity=6.92, Length=0.27680000000000005, Mass=0.1412, Friction=0.048\n",
      "Episode 49: Gravity=6.96, Length=0.2784, Mass=0.1431, Friction=0.049\n",
      "Episode 50: Gravity=7.0, Length=0.28, Mass=0.14500000000000002, Friction=0.05\n",
      "Episode 51: Gravity=7.04, Length=0.2816, Mass=0.1469, Friction=0.051000000000000004\n",
      "Episode 52: Gravity=7.08, Length=0.2832, Mass=0.1488, Friction=0.052000000000000005\n",
      "Episode 53: Gravity=7.12, Length=0.2848, Mass=0.1507, Friction=0.053\n",
      "Episode 54: Gravity=7.16, Length=0.2864, Mass=0.1526, Friction=0.054\n",
      "Episode 55: Gravity=7.2, Length=0.28800000000000003, Mass=0.1545, Friction=0.055\n",
      "Episode 56: Gravity=7.24, Length=0.2896, Mass=0.15639999999999998, Friction=0.056\n"
     ]
    },
    {
     "name": "stderr",
     "output_type": "stream",
     "text": [
      "Epoch #1:   8%|7         | 790/10000 [00:00<00:10, 861.71it/s, env_step=790, gradient_step=79, len=9, n/ep=1, n/st=10, rew=9.00]  "
     ]
    },
    {
     "name": "stdout",
     "output_type": "stream",
     "text": [
      "Episode 57: Gravity=7.28, Length=0.2912, Mass=0.1583, Friction=0.057\n",
      "Episode 58: Gravity=7.32, Length=0.2928, Mass=0.1602, Friction=0.058\n",
      "Episode 59: Gravity=7.359999999999999, Length=0.2944, Mass=0.16210000000000002, Friction=0.059000000000000004\n",
      "Episode 60: Gravity=7.4, Length=0.29600000000000004, Mass=0.164, Friction=0.06\n",
      "Episode 61: Gravity=7.4399999999999995, Length=0.29760000000000003, Mass=0.1659, Friction=0.061\n",
      "Episode 62: Gravity=7.48, Length=0.2992, Mass=0.1678, Friction=0.062\n",
      "Episode 63: Gravity=7.52, Length=0.3008, Mass=0.16970000000000002, Friction=0.063\n",
      "Episode 64: Gravity=7.5600000000000005, Length=0.3024, Mass=0.1716, Friction=0.064\n"
     ]
    },
    {
     "name": "stderr",
     "output_type": "stream",
     "text": [
      "Epoch #1:   9%|9         | 910/10000 [00:00<00:10, 893.81it/s, env_step=910, gradient_step=91, len=10, n/ep=1, n/st=10, rew=10.00]"
     ]
    },
    {
     "name": "stdout",
     "output_type": "stream",
     "text": [
      "Episode 65: Gravity=7.6, Length=0.30400000000000005, Mass=0.1735, Friction=0.065\n",
      "Episode 66: Gravity=7.640000000000001, Length=0.3056, Mass=0.1754, Friction=0.066\n",
      "Episode 67: Gravity=7.68, Length=0.30720000000000003, Mass=0.1773, Friction=0.067\n",
      "Episode 68: Gravity=7.720000000000001, Length=0.3088, Mass=0.17920000000000003, Friction=0.068\n",
      "Episode 69: Gravity=7.76, Length=0.3104, Mass=0.18109999999999998, Friction=0.069\n",
      "Episode 70: Gravity=7.800000000000001, Length=0.312, Mass=0.183, Friction=0.07\n",
      "Episode 71: Gravity=7.84, Length=0.3136, Mass=0.1849, Friction=0.07100000000000001\n",
      "Episode 72: Gravity=7.88, Length=0.31520000000000004, Mass=0.18680000000000002, Friction=0.07200000000000001\n",
      "Episode 73: Gravity=7.92, Length=0.3168, Mass=0.18869999999999998, Friction=0.073\n",
      "Episode 74: Gravity=7.96, Length=0.3184, Mass=0.1906, Friction=0.074\n",
      "Episode 75: Gravity=8.0, Length=0.32, Mass=0.1925, Friction=0.075\n",
      "Episode 76: Gravity=8.04, Length=0.3216, Mass=0.19440000000000002, Friction=0.076\n"
     ]
    },
    {
     "name": "stderr",
     "output_type": "stream",
     "text": [
      "Epoch #1:  10%|9         | 980/10000 [00:01<00:09, 919.53it/s, env_step=980, gradient_step=98, len=11, n/ep=1, n/st=10, rew=11.00]"
     ]
    },
    {
     "name": "stdout",
     "output_type": "stream",
     "text": [
      "Episode 77: Gravity=8.08, Length=0.32320000000000004, Mass=0.19630000000000003, Friction=0.077\n",
      "Episode 78: Gravity=8.120000000000001, Length=0.32480000000000003, Mass=0.1982, Friction=0.078\n",
      "Episode 79: Gravity=8.16, Length=0.3264, Mass=0.2001, Friction=0.079\n",
      "Episode 80: Gravity=8.2, Length=0.328, Mass=0.202, Friction=0.08\n",
      "Episode 81: Gravity=8.24, Length=0.3296, Mass=0.20390000000000003, Friction=0.081\n",
      "Episode 82: Gravity=8.280000000000001, Length=0.33120000000000005, Mass=0.20579999999999998, Friction=0.082\n",
      "Episode 83: Gravity=8.32, Length=0.3328, Mass=0.2077, Friction=0.083\n",
      "Episode 84: Gravity=8.36, Length=0.33440000000000003, Mass=0.2096, Friction=0.084\n"
     ]
    },
    {
     "name": "stderr",
     "output_type": "stream",
     "text": [
      "Epoch #1:  11%|#         | 1090/10000 [00:01<00:09, 918.27it/s, env_step=1090, gradient_step=109, len=9, n/ep=1, n/st=10, rew=9.00]  "
     ]
    },
    {
     "name": "stdout",
     "output_type": "stream",
     "text": [
      "Episode 85: Gravity=8.4, Length=0.336, Mass=0.21150000000000002, Friction=0.085\n",
      "Episode 86: Gravity=8.44, Length=0.3376, Mass=0.21339999999999998, Friction=0.08600000000000001\n",
      "Episode 87: Gravity=8.48, Length=0.33920000000000006, Mass=0.2153, Friction=0.08700000000000001\n",
      "Episode 88: Gravity=8.52, Length=0.3408, Mass=0.2172, Friction=0.088\n",
      "Episode 89: Gravity=8.56, Length=0.34240000000000004, Mass=0.21910000000000002, Friction=0.089\n",
      "Episode 90: Gravity=8.6, Length=0.34400000000000003, Mass=0.22100000000000003, Friction=0.09\n",
      "Episode 91: Gravity=8.64, Length=0.3456, Mass=0.2229, Friction=0.091\n",
      "Episode 92: Gravity=8.68, Length=0.3472, Mass=0.2248, Friction=0.092\n",
      "Episode 93: Gravity=8.72, Length=0.3488, Mass=0.2267, Friction=0.093\n",
      "Episode 94: Gravity=8.76, Length=0.35040000000000004, Mass=0.22860000000000003, Friction=0.094\n",
      "Episode 95: Gravity=8.8, Length=0.352, Mass=0.23049999999999998, Friction=0.095\n"
     ]
    },
    {
     "name": "stderr",
     "output_type": "stream",
     "text": [
      "Epoch #1:  12%|#1        | 1170/10000 [00:01<00:09, 913.35it/s, env_step=1170, gradient_step=117, len=12, n/ep=1, n/st=10, rew=12.00]"
     ]
    },
    {
     "name": "stdout",
     "output_type": "stream",
     "text": [
      "Episode 96: Gravity=8.84, Length=0.3536, Mass=0.2324, Friction=0.096\n",
      "Episode 97: Gravity=8.879999999999999, Length=0.3552, Mass=0.2343, Friction=0.097\n",
      "Episode 98: Gravity=8.92, Length=0.3568, Mass=0.23620000000000002, Friction=0.098\n",
      "Episode 99: Gravity=8.96, Length=0.35840000000000005, Mass=0.23809999999999998, Friction=0.099\n",
      "Episode 100: Gravity=9.0, Length=0.36, Mass=0.24, Friction=0.1\n",
      "Episode 101: Gravity=9.04, Length=0.36160000000000003, Mass=0.2419, Friction=0.101\n",
      "Episode 102: Gravity=9.08, Length=0.3632, Mass=0.24380000000000002, Friction=0.10200000000000001\n",
      "Episode 103: Gravity=9.120000000000001, Length=0.3648, Mass=0.24570000000000003, Friction=0.10300000000000001\n"
     ]
    },
    {
     "name": "stderr",
     "output_type": "stream",
     "text": [
      "Epoch #1:  13%|#2        | 1260/10000 [00:01<00:09, 887.69it/s, env_step=1260, gradient_step=126, len=9, n/ep=1, n/st=10, rew=9.00]  "
     ]
    },
    {
     "name": "stdout",
     "output_type": "stream",
     "text": [
      "Episode 104: Gravity=9.16, Length=0.36640000000000006, Mass=0.2476, Friction=0.10400000000000001\n",
      "Episode 105: Gravity=9.2, Length=0.368, Mass=0.2495, Friction=0.105\n",
      "Episode 106: Gravity=9.24, Length=0.36960000000000004, Mass=0.2514, Friction=0.106\n",
      "Episode 107: Gravity=9.280000000000001, Length=0.37120000000000003, Mass=0.2533, Friction=0.107\n",
      "Episode 108: Gravity=9.32, Length=0.3728, Mass=0.2552, Friction=0.108\n",
      "Episode 109: Gravity=9.36, Length=0.3744, Mass=0.2571, Friction=0.109\n",
      "Episode 110: Gravity=9.4, Length=0.376, Mass=0.259, Friction=0.11\n",
      "Episode 111: Gravity=9.440000000000001, Length=0.37760000000000005, Mass=0.2609, Friction=0.111\n",
      "Episode 112: Gravity=9.48, Length=0.3792, Mass=0.2628, Friction=0.112\n",
      "Episode 113: Gravity=9.52, Length=0.3808, Mass=0.2647, Friction=0.113\n"
     ]
    },
    {
     "name": "stderr",
     "output_type": "stream",
     "text": [
      "Epoch #1:  13%|#3        | 1330/10000 [00:01<00:10, 857.71it/s, env_step=1330, gradient_step=133, len=10, n/ep=1, n/st=10, rew=10.00]"
     ]
    },
    {
     "name": "stdout",
     "output_type": "stream",
     "text": [
      "Episode 114: Gravity=9.56, Length=0.3824, Mass=0.2666, Friction=0.114\n",
      "Episode 115: Gravity=9.600000000000001, Length=0.384, Mass=0.2685, Friction=0.115\n",
      "Episode 116: Gravity=9.64, Length=0.38560000000000005, Mass=0.27040000000000003, Friction=0.116\n",
      "Episode 117: Gravity=9.68, Length=0.3872, Mass=0.2723, Friction=0.117\n",
      "Episode 118: Gravity=9.719999999999999, Length=0.38880000000000003, Mass=0.2742, Friction=0.11800000000000001\n",
      "Episode 119: Gravity=9.76, Length=0.3904, Mass=0.2761, Friction=0.11900000000000001\n"
     ]
    },
    {
     "name": "stderr",
     "output_type": "stream",
     "text": [
      "Epoch #1:  14%|#4        | 1400/10000 [00:01<00:10, 784.61it/s, env_step=1400, gradient_step=140, len=11, n/ep=2, n/st=10, rew=11.50]"
     ]
    },
    {
     "name": "stdout",
     "output_type": "stream",
     "text": [
      "Episode 120: Gravity=9.8, Length=0.392, Mass=0.278, Friction=0.12\n",
      "Episode 121: Gravity=9.84, Length=0.39360000000000006, Mass=0.2799, Friction=0.121\n",
      "Episode 122: Gravity=9.879999999999999, Length=0.3952, Mass=0.2818, Friction=0.122\n",
      "Episode 123: Gravity=9.92, Length=0.39680000000000004, Mass=0.2837, Friction=0.123\n",
      "Episode 124: Gravity=9.96, Length=0.39840000000000003, Mass=0.2856, Friction=0.124\n",
      "Episode 125: Gravity=10.0, Length=0.4, Mass=0.2875, Friction=0.125\n",
      "Episode 126: Gravity=10.04, Length=0.4016, Mass=0.2894, Friction=0.126\n",
      "Episode 127: Gravity=10.08, Length=0.4032, Mass=0.2913, Friction=0.127\n"
     ]
    },
    {
     "name": "stderr",
     "output_type": "stream",
     "text": [
      "Epoch #1:  15%|#4        | 1460/10000 [00:01<00:10, 784.61it/s, env_step=1460, gradient_step=146, len=8, n/ep=1, n/st=10, rew=8.00]  "
     ]
    },
    {
     "name": "stdout",
     "output_type": "stream",
     "text": [
      "Episode 128: Gravity=10.120000000000001, Length=0.40480000000000005, Mass=0.2932, Friction=0.128\n",
      "Episode 129: Gravity=10.16, Length=0.4064, Mass=0.29510000000000003, Friction=0.129\n",
      "Episode 130: Gravity=10.2, Length=0.40800000000000003, Mass=0.297, Friction=0.13\n",
      "Episode 131: Gravity=10.24, Length=0.4096, Mass=0.2989, Friction=0.131\n",
      "Episode 132: Gravity=10.280000000000001, Length=0.4112, Mass=0.3008, Friction=0.132\n"
     ]
    },
    {
     "name": "stderr",
     "output_type": "stream",
     "text": [
      "Epoch #1:  15%|#5        | 1540/10000 [00:01<00:11, 736.40it/s, env_step=1540, gradient_step=154, len=10, n/ep=1, n/st=10, rew=10.00]"
     ]
    },
    {
     "name": "stdout",
     "output_type": "stream",
     "text": [
      "Episode 133: Gravity=10.32, Length=0.41280000000000006, Mass=0.30269999999999997, Friction=0.133\n",
      "Episode 134: Gravity=10.36, Length=0.4144, Mass=0.3046, Friction=0.134\n",
      "Episode 135: Gravity=10.4, Length=0.41600000000000004, Mass=0.3065, Friction=0.135\n",
      "Episode 136: Gravity=10.440000000000001, Length=0.4176, Mass=0.3084, Friction=0.136\n",
      "Episode 137: Gravity=10.48, Length=0.4192, Mass=0.31029999999999996, Friction=0.137\n",
      "Episode 138: Gravity=10.52, Length=0.42080000000000006, Mass=0.3122, Friction=0.138\n",
      "Episode 139: Gravity=10.56, Length=0.4224, Mass=0.3141, Friction=0.139\n",
      "Episode 140: Gravity=10.600000000000001, Length=0.42400000000000004, Mass=0.316, Friction=0.14\n",
      "Episode 141: Gravity=10.64, Length=0.42560000000000003, Mass=0.3179, Friction=0.14100000000000001\n"
     ]
    },
    {
     "name": "stderr",
     "output_type": "stream",
     "text": [
      "Epoch #1:  16%|#5        | 1590/10000 [00:01<00:11, 712.44it/s, env_step=1590, gradient_step=159, len=10, n/ep=1, n/st=10, rew=10.00]"
     ]
    },
    {
     "name": "stdout",
     "output_type": "stream",
     "text": [
      "Episode 142: Gravity=10.68, Length=0.4272, Mass=0.3198, Friction=0.14200000000000002\n",
      "Episode 143: Gravity=10.719999999999999, Length=0.4288, Mass=0.3217, Friction=0.14300000000000002\n",
      "Episode 144: Gravity=10.76, Length=0.4304, Mass=0.3236, Friction=0.14400000000000002\n",
      "Episode 145: Gravity=10.8, Length=0.43200000000000005, Mass=0.3255, Friction=0.145\n",
      "Episode 146: Gravity=10.84, Length=0.4336, Mass=0.32739999999999997, Friction=0.146\n"
     ]
    },
    {
     "name": "stderr",
     "output_type": "stream",
     "text": [
      "Epoch #1:  17%|#7        | 1700/10000 [00:02<00:11, 714.28it/s, env_step=1700, gradient_step=170, len=8, n/ep=0, n/st=10, rew=8.00]  "
     ]
    },
    {
     "name": "stdout",
     "output_type": "stream",
     "text": [
      "Episode 147: Gravity=10.879999999999999, Length=0.43520000000000003, Mass=0.3293, Friction=0.147\n",
      "Episode 148: Gravity=10.92, Length=0.4368, Mass=0.3312, Friction=0.148\n",
      "Episode 149: Gravity=10.96, Length=0.4384, Mass=0.3331, Friction=0.149\n",
      "Episode 150: Gravity=11.0, Length=0.44000000000000006, Mass=0.33499999999999996, Friction=0.15\n",
      "Episode 151: Gravity=11.04, Length=0.4416, Mass=0.3369, Friction=0.151\n",
      "Episode 152: Gravity=11.08, Length=0.44320000000000004, Mass=0.3388, Friction=0.152\n",
      "Episode 153: Gravity=11.120000000000001, Length=0.44480000000000003, Mass=0.3407, Friction=0.153\n",
      "Episode 154: Gravity=11.16, Length=0.4464, Mass=0.3426, Friction=0.154\n",
      "Episode 155: Gravity=11.2, Length=0.448, Mass=0.3445, Friction=0.155\n",
      "Episode 156: Gravity=11.24, Length=0.4496, Mass=0.3464, Friction=0.156\n"
     ]
    },
    {
     "name": "stderr",
     "output_type": "stream",
     "text": [
      "Epoch #1:  18%|#7        | 1760/10000 [00:02<00:11, 744.12it/s, env_step=1760, gradient_step=176, len=9, n/ep=1, n/st=10, rew=9.00]  "
     ]
    },
    {
     "name": "stdout",
     "output_type": "stream",
     "text": [
      "Episode 157: Gravity=11.280000000000001, Length=0.45120000000000005, Mass=0.3483, Friction=0.157\n",
      "Episode 158: Gravity=11.32, Length=0.45280000000000004, Mass=0.3502, Friction=0.158\n",
      "Episode 159: Gravity=11.36, Length=0.4544, Mass=0.35209999999999997, Friction=0.159\n",
      "Episode 160: Gravity=11.4, Length=0.456, Mass=0.354, Friction=0.16\n",
      "Episode 161: Gravity=11.440000000000001, Length=0.4576, Mass=0.3559, Friction=0.161\n",
      "Episode 162: Gravity=11.48, Length=0.4592, Mass=0.3578, Friction=0.162\n",
      "Episode 163: Gravity=11.52, Length=0.46080000000000004, Mass=0.35969999999999996, Friction=0.163\n",
      "Episode 164: Gravity=11.56, Length=0.46240000000000003, Mass=0.3616, Friction=0.164\n"
     ]
    },
    {
     "name": "stderr",
     "output_type": "stream",
     "text": [
      "Epoch #1:  19%|#8        | 1890/10000 [00:02<00:10, 804.24it/s, env_step=1890, gradient_step=189, len=14, n/ep=1, n/st=10, rew=14.00]"
     ]
    },
    {
     "name": "stdout",
     "output_type": "stream",
     "text": [
      "Episode 165: Gravity=11.600000000000001, Length=0.464, Mass=0.3635, Friction=0.165\n",
      "Episode 166: Gravity=11.64, Length=0.4656, Mass=0.3654, Friction=0.166\n",
      "Episode 167: Gravity=11.68, Length=0.4672, Mass=0.3673, Friction=0.167\n",
      "Episode 168: Gravity=11.719999999999999, Length=0.46880000000000005, Mass=0.3692, Friction=0.168\n",
      "Episode 169: Gravity=11.76, Length=0.47040000000000004, Mass=0.3711, Friction=0.169\n",
      "Episode 170: Gravity=11.8, Length=0.47200000000000003, Mass=0.373, Friction=0.17\n",
      "Episode 171: Gravity=11.84, Length=0.4736, Mass=0.3749, Friction=0.171\n",
      "Episode 172: Gravity=11.879999999999999, Length=0.4752, Mass=0.37679999999999997, Friction=0.17200000000000001\n",
      "Episode 173: Gravity=11.92, Length=0.4768, Mass=0.3787, Friction=0.17300000000000001\n",
      "Episode 174: Gravity=11.96, Length=0.47840000000000005, Mass=0.3806, Friction=0.17400000000000002\n",
      "Episode 175: Gravity=12.0, Length=0.48000000000000004, Mass=0.3825, Friction=0.17500000000000002\n",
      "Episode 176: Gravity=12.04, Length=0.48160000000000003, Mass=0.38439999999999996, Friction=0.176\n",
      "Episode 177: Gravity=12.08, Length=0.4832, Mass=0.3863, Friction=0.177\n"
     ]
    },
    {
     "name": "stderr",
     "output_type": "stream",
     "text": [
      "Epoch #1:  20%|#9        | 1980/10000 [00:02<00:09, 874.72it/s, env_step=1980, gradient_step=198, len=9, n/ep=1, n/st=10, rew=9.00]  "
     ]
    },
    {
     "name": "stdout",
     "output_type": "stream",
     "text": [
      "Episode 178: Gravity=12.120000000000001, Length=0.4848, Mass=0.3882, Friction=0.178\n",
      "Episode 179: Gravity=12.16, Length=0.4864, Mass=0.3901, Friction=0.179\n",
      "Episode 180: Gravity=12.2, Length=0.48800000000000004, Mass=0.392, Friction=0.18\n",
      "Episode 181: Gravity=12.24, Length=0.48960000000000004, Mass=0.3939, Friction=0.181\n",
      "Episode 182: Gravity=12.280000000000001, Length=0.4912, Mass=0.3958, Friction=0.182\n",
      "Episode 183: Gravity=12.32, Length=0.4928, Mass=0.3977, Friction=0.183\n",
      "Episode 184: Gravity=12.36, Length=0.4944, Mass=0.3996, Friction=0.184\n",
      "Episode 185: Gravity=12.4, Length=0.49600000000000005, Mass=0.40149999999999997, Friction=0.185\n",
      "Episode 186: Gravity=12.440000000000001, Length=0.49760000000000004, Mass=0.4034, Friction=0.186\n"
     ]
    },
    {
     "name": "stderr",
     "output_type": "stream",
     "text": [
      "Epoch #1:  21%|##1       | 2130/10000 [00:02<00:08, 948.52it/s, env_step=2130, gradient_step=213, len=10, n/ep=1, n/st=10, rew=10.00]"
     ]
    },
    {
     "name": "stdout",
     "output_type": "stream",
     "text": [
      "Episode 187: Gravity=12.48, Length=0.49920000000000003, Mass=0.4053, Friction=0.187\n",
      "Episode 188: Gravity=12.52, Length=0.5008, Mass=0.4072, Friction=0.188\n",
      "Episode 189: Gravity=12.56, Length=0.5024, Mass=0.40909999999999996, Friction=0.189\n",
      "Episode 190: Gravity=12.600000000000001, Length=0.504, Mass=0.411, Friction=0.19\n",
      "Episode 191: Gravity=12.64, Length=0.5056, Mass=0.4129, Friction=0.191\n",
      "Episode 192: Gravity=12.68, Length=0.5072000000000001, Mass=0.4148, Friction=0.192\n",
      "Episode 193: Gravity=12.719999999999999, Length=0.5088, Mass=0.4167, Friction=0.193\n",
      "Episode 194: Gravity=12.76, Length=0.5104, Mass=0.41859999999999997, Friction=0.194\n",
      "Episode 195: Gravity=12.8, Length=0.512, Mass=0.4205, Friction=0.195\n",
      "Episode 196: Gravity=12.84, Length=0.5136000000000001, Mass=0.4224, Friction=0.196\n",
      "Episode 197: Gravity=12.879999999999999, Length=0.5152000000000001, Mass=0.4243, Friction=0.197\n",
      "Episode 198: Gravity=12.92, Length=0.5168, Mass=0.42619999999999997, Friction=0.198\n",
      "Episode 199: Gravity=12.96, Length=0.5184, Mass=0.4281, Friction=0.199\n",
      "Episode 200: Gravity=13.0, Length=0.52, Mass=0.43, Friction=0.2\n",
      "Episode 201: Gravity=13.040000000000001, Length=0.5216000000000001, Mass=0.4319, Friction=0.201\n"
     ]
    },
    {
     "name": "stderr",
     "output_type": "stream",
     "text": [
      "Epoch #1:  22%|##2       | 2210/10000 [00:02<00:07, 995.86it/s, env_step=2210, gradient_step=221, len=10, n/ep=1, n/st=10, rew=10.00]"
     ]
    },
    {
     "name": "stdout",
     "output_type": "stream",
     "text": [
      "Episode 202: Gravity=13.08, Length=0.5232000000000001, Mass=0.43379999999999996, Friction=0.202\n",
      "Episode 203: Gravity=13.120000000000001, Length=0.5248, Mass=0.4357, Friction=0.203\n",
      "Episode 204: Gravity=13.16, Length=0.5264, Mass=0.4376, Friction=0.20400000000000001\n",
      "Episode 205: Gravity=13.2, Length=0.528, Mass=0.4395, Friction=0.20500000000000002\n",
      "Episode 206: Gravity=13.24, Length=0.5296000000000001, Mass=0.4414, Friction=0.20600000000000002\n",
      "Episode 207: Gravity=13.28, Length=0.5312, Mass=0.44329999999999997, Friction=0.20700000000000002\n",
      "Episode 208: Gravity=13.32, Length=0.5328, Mass=0.4452, Friction=0.20800000000000002\n",
      "Episode 209: Gravity=13.36, Length=0.5344, Mass=0.4471, Friction=0.209\n"
     ]
    },
    {
     "name": "stderr",
     "output_type": "stream",
     "text": [
      "Epoch #1:  23%|##3       | 2340/10000 [00:02<00:07, 995.00it/s, env_step=2340, gradient_step=234, len=11, n/ep=1, n/st=10, rew=11.00]"
     ]
    },
    {
     "name": "stdout",
     "output_type": "stream",
     "text": [
      "Episode 210: Gravity=13.4, Length=0.536, Mass=0.449, Friction=0.21\n",
      "Episode 211: Gravity=13.44, Length=0.5376000000000001, Mass=0.45089999999999997, Friction=0.211\n",
      "Episode 212: Gravity=13.48, Length=0.5392, Mass=0.4528, Friction=0.212\n",
      "Episode 213: Gravity=13.52, Length=0.5408, Mass=0.4547, Friction=0.213\n",
      "Episode 214: Gravity=13.56, Length=0.5424, Mass=0.4566, Friction=0.214\n",
      "Episode 215: Gravity=13.6, Length=0.544, Mass=0.45849999999999996, Friction=0.215\n",
      "Episode 216: Gravity=13.64, Length=0.5456000000000001, Mass=0.4604, Friction=0.216\n",
      "Episode 217: Gravity=13.68, Length=0.5472, Mass=0.4623, Friction=0.217\n",
      "Episode 218: Gravity=13.72, Length=0.5488, Mass=0.4642, Friction=0.218\n",
      "Episode 219: Gravity=13.76, Length=0.5504, Mass=0.4661, Friction=0.219\n",
      "Episode 220: Gravity=13.8, Length=0.552, Mass=0.46799999999999997, Friction=0.22\n",
      "Episode 221: Gravity=13.84, Length=0.5536000000000001, Mass=0.4699, Friction=0.221\n",
      "Episode 222: Gravity=13.88, Length=0.5552, Mass=0.4718, Friction=0.222\n",
      "Episode 223: Gravity=13.92, Length=0.5568, Mass=0.4737, Friction=0.223\n"
     ]
    },
    {
     "name": "stderr",
     "output_type": "stream",
     "text": [
      "Epoch #1:  24%|##4       | 2410/10000 [00:02<00:07, 1003.54it/s, env_step=2410, gradient_step=241, len=8, n/ep=1, n/st=10, rew=8.00]  "
     ]
    },
    {
     "name": "stdout",
     "output_type": "stream",
     "text": [
      "Episode 224: Gravity=13.96, Length=0.5584, Mass=0.47559999999999997, Friction=0.224\n",
      "Episode 225: Gravity=14.0, Length=0.56, Mass=0.4775, Friction=0.225\n",
      "Episode 226: Gravity=14.040000000000001, Length=0.5616000000000001, Mass=0.4794, Friction=0.226\n",
      "Episode 227: Gravity=14.08, Length=0.5632, Mass=0.4813, Friction=0.227\n",
      "Episode 228: Gravity=14.120000000000001, Length=0.5648, Mass=0.48319999999999996, Friction=0.228\n",
      "Episode 229: Gravity=14.16, Length=0.5664, Mass=0.4851, Friction=0.229\n",
      "Episode 230: Gravity=14.200000000000001, Length=0.5680000000000001, Mass=0.487, Friction=0.23\n"
     ]
    },
    {
     "name": "stderr",
     "output_type": "stream",
     "text": [
      "Epoch #1:  26%|##5       | 2560/10000 [00:02<00:07, 1025.24it/s, env_step=2560, gradient_step=256, len=11, n/ep=1, n/st=10, rew=11.00]"
     ]
    },
    {
     "name": "stdout",
     "output_type": "stream",
     "text": [
      "Episode 231: Gravity=14.24, Length=0.5696000000000001, Mass=0.4889, Friction=0.231\n",
      "Episode 232: Gravity=14.28, Length=0.5712, Mass=0.4908, Friction=0.232\n",
      "Episode 233: Gravity=14.32, Length=0.5728, Mass=0.49269999999999997, Friction=0.233\n",
      "Episode 234: Gravity=14.36, Length=0.5744, Mass=0.4946, Friction=0.234\n",
      "Episode 235: Gravity=14.4, Length=0.5760000000000001, Mass=0.4965, Friction=0.23500000000000001\n",
      "Episode 236: Gravity=14.44, Length=0.5776, Mass=0.4984, Friction=0.23600000000000002\n",
      "Episode 237: Gravity=14.48, Length=0.5792, Mass=0.5003, Friction=0.23700000000000002\n",
      "Episode 238: Gravity=14.52, Length=0.5808, Mass=0.5022, Friction=0.23800000000000002\n",
      "Episode 239: Gravity=14.56, Length=0.5824, Mass=0.5041, Friction=0.23900000000000002\n",
      "Episode 240: Gravity=14.6, Length=0.5840000000000001, Mass=0.506, Friction=0.24\n",
      "Episode 241: Gravity=14.64, Length=0.5856, Mass=0.5079, Friction=0.241\n",
      "Episode 242: Gravity=14.68, Length=0.5872, Mass=0.5098, Friction=0.242\n",
      "Episode 243: Gravity=14.72, Length=0.5888, Mass=0.5117, Friction=0.243\n",
      "Episode 244: Gravity=14.76, Length=0.5904, Mass=0.5136000000000001, Friction=0.244\n"
     ]
    },
    {
     "name": "stderr",
     "output_type": "stream",
     "text": [
      "Epoch #1:  26%|##6       | 2620/10000 [00:02<00:07, 1003.25it/s, env_step=2620, gradient_step=262, len=9, n/ep=1, n/st=10, rew=9.00]  "
     ]
    },
    {
     "name": "stdout",
     "output_type": "stream",
     "text": [
      "Episode 245: Gravity=14.8, Length=0.5920000000000001, Mass=0.5155000000000001, Friction=0.245\n",
      "Episode 246: Gravity=14.84, Length=0.5936, Mass=0.5174, Friction=0.246\n",
      "Episode 247: Gravity=14.88, Length=0.5952, Mass=0.5193, Friction=0.247\n",
      "Episode 248: Gravity=14.92, Length=0.5968, Mass=0.5212, Friction=0.248\n",
      "Episode 249: Gravity=14.96, Length=0.5984, Mass=0.5231, Friction=0.249\n",
      "Episode 250: Gravity=15.0, Length=0.6000000000000001, Mass=0.525, Friction=0.25\n"
     ]
    },
    {
     "name": "stderr",
     "output_type": "stream",
     "text": [
      "Epoch #1:  28%|##7       | 2750/10000 [00:03<00:07, 976.58it/s, env_step=2750, gradient_step=275, len=11, n/ep=1, n/st=10, rew=11.00] "
     ]
    },
    {
     "name": "stdout",
     "output_type": "stream",
     "text": [
      "Episode 251: Gravity=15.040000000000001, Length=0.6016, Mass=0.5269, Friction=0.251\n",
      "Episode 252: Gravity=15.08, Length=0.6032, Mass=0.5288, Friction=0.252\n",
      "Episode 253: Gravity=15.120000000000001, Length=0.6048, Mass=0.5307000000000001, Friction=0.253\n",
      "Episode 254: Gravity=15.16, Length=0.6064, Mass=0.5326, Friction=0.254\n",
      "Episode 255: Gravity=15.200000000000001, Length=0.6080000000000001, Mass=0.5345, Friction=0.255\n",
      "Episode 256: Gravity=15.24, Length=0.6096, Mass=0.5364, Friction=0.256\n",
      "Episode 257: Gravity=15.28, Length=0.6112, Mass=0.5383, Friction=0.257\n",
      "Episode 258: Gravity=15.32, Length=0.6128, Mass=0.5402, Friction=0.258\n",
      "Episode 259: Gravity=15.36, Length=0.6144000000000001, Mass=0.5421, Friction=0.259\n",
      "Episode 260: Gravity=15.4, Length=0.6160000000000001, Mass=0.544, Friction=0.26\n",
      "Episode 261: Gravity=15.44, Length=0.6176, Mass=0.5459, Friction=0.261\n",
      "Episode 262: Gravity=15.48, Length=0.6192, Mass=0.5478000000000001, Friction=0.262\n",
      "Episode 263: Gravity=15.52, Length=0.6208, Mass=0.5497, Friction=0.263\n"
     ]
    },
    {
     "name": "stderr",
     "output_type": "stream",
     "text": [
      "Epoch #1:  28%|##8       | 2800/10000 [00:03<00:07, 976.58it/s, env_step=2800, gradient_step=280, len=10, n/ep=1, n/st=10, rew=10.00]"
     ]
    },
    {
     "name": "stdout",
     "output_type": "stream",
     "text": [
      "Episode 264: Gravity=15.56, Length=0.6224000000000001, Mass=0.5516000000000001, Friction=0.264\n",
      "Episode 265: Gravity=15.6, Length=0.6240000000000001, Mass=0.5535, Friction=0.265\n",
      "Episode 266: Gravity=15.64, Length=0.6256, Mass=0.5554, Friction=0.266\n",
      "Episode 267: Gravity=15.68, Length=0.6272, Mass=0.5573, Friction=0.267\n",
      "Episode 268: Gravity=15.72, Length=0.6288, Mass=0.5592, Friction=0.268\n",
      "Episode 269: Gravity=15.76, Length=0.6304000000000001, Mass=0.5611, Friction=0.269\n"
     ]
    },
    {
     "name": "stderr",
     "output_type": "stream",
     "text": [
      "Epoch #1:  29%|##9       | 2930/10000 [00:03<00:07, 919.30it/s, env_step=2930, gradient_step=293, len=11, n/ep=1, n/st=10, rew=11.00]"
     ]
    },
    {
     "name": "stdout",
     "output_type": "stream",
     "text": [
      "Episode 270: Gravity=15.8, Length=0.632, Mass=0.5630000000000001, Friction=0.27\n",
      "Episode 271: Gravity=15.84, Length=0.6336, Mass=0.5649000000000001, Friction=0.271\n",
      "Episode 272: Gravity=15.88, Length=0.6352, Mass=0.5668000000000001, Friction=0.272\n",
      "Episode 273: Gravity=15.92, Length=0.6368, Mass=0.5687000000000001, Friction=0.273\n",
      "Episode 274: Gravity=15.96, Length=0.6384000000000001, Mass=0.5706, Friction=0.274\n",
      "Episode 275: Gravity=16.0, Length=0.64, Mass=0.5725, Friction=0.275\n",
      "Episode 276: Gravity=16.04, Length=0.6416000000000001, Mass=0.5744, Friction=0.276\n",
      "Episode 277: Gravity=16.08, Length=0.6432, Mass=0.5763, Friction=0.277\n",
      "Episode 278: Gravity=16.12, Length=0.6448, Mass=0.5782, Friction=0.278\n",
      "Episode 279: Gravity=16.16, Length=0.6464000000000001, Mass=0.5801000000000001, Friction=0.279\n",
      "Episode 280: Gravity=16.200000000000003, Length=0.648, Mass=0.5820000000000001, Friction=0.28\n"
     ]
    },
    {
     "name": "stderr",
     "output_type": "stream",
     "text": [
      "Epoch #1:  30%|##9       | 2990/10000 [00:03<00:07, 919.30it/s, env_step=2990, gradient_step=299, len=14, n/ep=1, n/st=10, rew=14.00]"
     ]
    },
    {
     "name": "stdout",
     "output_type": "stream",
     "text": [
      "Episode 281: Gravity=16.240000000000002, Length=0.6496, Mass=0.5839000000000001, Friction=0.281\n",
      "Episode 282: Gravity=16.28, Length=0.6512, Mass=0.5858000000000001, Friction=0.28200000000000003\n",
      "Episode 283: Gravity=16.32, Length=0.6528, Mass=0.5877, Friction=0.28300000000000003\n",
      "Episode 284: Gravity=16.36, Length=0.6544000000000001, Mass=0.5896, Friction=0.28400000000000003\n",
      "Episode 285: Gravity=16.4, Length=0.656, Mass=0.5915, Friction=0.28500000000000003\n",
      "Episode 286: Gravity=16.439999999999998, Length=0.6576, Mass=0.5934, Friction=0.28600000000000003\n",
      "Episode 287: Gravity=16.48, Length=0.6592, Mass=0.5953, Friction=0.28700000000000003\n",
      "Episode 288: Gravity=16.52, Length=0.6608, Mass=0.5972000000000001, Friction=0.28800000000000003\n"
     ]
    },
    {
     "name": "stderr",
     "output_type": "stream",
     "text": [
      "Epoch #1:  31%|###1      | 3130/10000 [00:03<00:07, 930.71it/s, env_step=3130, gradient_step=313, len=8, n/ep=1, n/st=10, rew=8.00]  "
     ]
    },
    {
     "name": "stdout",
     "output_type": "stream",
     "text": [
      "Episode 289: Gravity=16.560000000000002, Length=0.6624000000000001, Mass=0.5991000000000001, Friction=0.289\n",
      "Episode 290: Gravity=16.6, Length=0.664, Mass=0.6010000000000001, Friction=0.29\n",
      "Episode 291: Gravity=16.64, Length=0.6656, Mass=0.6029, Friction=0.291\n",
      "Episode 292: Gravity=16.68, Length=0.6672, Mass=0.6048, Friction=0.292\n",
      "Episode 293: Gravity=16.72, Length=0.6688000000000001, Mass=0.6067, Friction=0.293\n",
      "Episode 294: Gravity=16.759999999999998, Length=0.6704000000000001, Mass=0.6086, Friction=0.294\n",
      "Episode 295: Gravity=16.8, Length=0.672, Mass=0.6105, Friction=0.295\n",
      "Episode 296: Gravity=16.84, Length=0.6736, Mass=0.6124, Friction=0.296\n",
      "Episode 297: Gravity=16.880000000000003, Length=0.6752, Mass=0.6143000000000001, Friction=0.297\n",
      "Episode 298: Gravity=16.92, Length=0.6768000000000001, Mass=0.6162000000000001, Friction=0.298\n",
      "Episode 299: Gravity=16.96, Length=0.6784000000000001, Mass=0.6181000000000001, Friction=0.299\n",
      "Episode 300: Gravity=17.0, Length=0.68, Mass=0.62, Friction=0.3\n",
      "Episode 301: Gravity=17.04, Length=0.6816, Mass=0.6219, Friction=0.301\n",
      "Episode 302: Gravity=17.08, Length=0.6832, Mass=0.6238, Friction=0.302\n"
     ]
    },
    {
     "name": "stderr",
     "output_type": "stream",
     "text": [
      "Epoch #1:  32%|###2      | 3220/10000 [00:03<00:06, 976.31it/s, env_step=3220, gradient_step=322, len=8, n/ep=1, n/st=10, rew=8.00]  "
     ]
    },
    {
     "name": "stdout",
     "output_type": "stream",
     "text": [
      "Episode 303: Gravity=17.12, Length=0.6848000000000001, Mass=0.6257, Friction=0.303\n",
      "Episode 304: Gravity=17.16, Length=0.6864, Mass=0.6276, Friction=0.304\n",
      "Episode 305: Gravity=17.200000000000003, Length=0.6880000000000001, Mass=0.6295000000000001, Friction=0.305\n",
      "Episode 306: Gravity=17.240000000000002, Length=0.6896, Mass=0.6314000000000001, Friction=0.306\n",
      "Episode 307: Gravity=17.28, Length=0.6912, Mass=0.6333000000000001, Friction=0.307\n",
      "Episode 308: Gravity=17.32, Length=0.6928000000000001, Mass=0.6352000000000001, Friction=0.308\n",
      "Episode 309: Gravity=17.36, Length=0.6944, Mass=0.6371, Friction=0.309\n",
      "Episode 310: Gravity=17.4, Length=0.696, Mass=0.639, Friction=0.31\n",
      "Episode 311: Gravity=17.439999999999998, Length=0.6976, Mass=0.6409, Friction=0.311\n"
     ]
    },
    {
     "name": "stderr",
     "output_type": "stream",
     "text": [
      "Epoch #1:  34%|###3      | 3360/10000 [00:03<00:06, 1025.85it/s, env_step=3360, gradient_step=336, len=10, n/ep=1, n/st=10, rew=10.00]"
     ]
    },
    {
     "name": "stdout",
     "output_type": "stream",
     "text": [
      "Episode 312: Gravity=17.48, Length=0.6992, Mass=0.6428, Friction=0.312\n",
      "Episode 313: Gravity=17.52, Length=0.7008000000000001, Mass=0.6447, Friction=0.313\n",
      "Episode 314: Gravity=17.560000000000002, Length=0.7024000000000001, Mass=0.6466000000000001, Friction=0.314\n",
      "Episode 315: Gravity=17.6, Length=0.704, Mass=0.6485000000000001, Friction=0.315\n",
      "Episode 316: Gravity=17.64, Length=0.7056, Mass=0.6504000000000001, Friction=0.316\n",
      "Episode 317: Gravity=17.68, Length=0.7072, Mass=0.6523, Friction=0.317\n",
      "Episode 318: Gravity=17.72, Length=0.7088000000000001, Mass=0.6542, Friction=0.318\n",
      "Episode 319: Gravity=17.759999999999998, Length=0.7104000000000001, Mass=0.6561, Friction=0.319\n",
      "Episode 320: Gravity=17.8, Length=0.712, Mass=0.658, Friction=0.32\n",
      "Episode 321: Gravity=17.84, Length=0.7136, Mass=0.6599, Friction=0.321\n",
      "Episode 322: Gravity=17.880000000000003, Length=0.7152000000000001, Mass=0.6618, Friction=0.322\n",
      "Episode 323: Gravity=17.92, Length=0.7168000000000001, Mass=0.6637000000000001, Friction=0.323\n",
      "Episode 324: Gravity=17.96, Length=0.7183999999999999, Mass=0.6656000000000001, Friction=0.324\n",
      "Episode 325: Gravity=18.0, Length=0.72, Mass=0.6675000000000001, Friction=0.325\n"
     ]
    },
    {
     "name": "stderr",
     "output_type": "stream",
     "text": [
      "Epoch #1:  34%|###4      | 3440/10000 [00:03<00:06, 1040.81it/s, env_step=3440, gradient_step=344, len=8, n/ep=1, n/st=10, rew=8.00]  "
     ]
    },
    {
     "name": "stdout",
     "output_type": "stream",
     "text": [
      "Episode 326: Gravity=18.04, Length=0.7216, Mass=0.6694, Friction=0.326\n",
      "Episode 327: Gravity=18.08, Length=0.7232000000000001, Mass=0.6713, Friction=0.327\n",
      "Episode 328: Gravity=18.12, Length=0.7248000000000001, Mass=0.6732, Friction=0.328\n",
      "Episode 329: Gravity=18.16, Length=0.7263999999999999, Mass=0.6751, Friction=0.329\n",
      "Episode 330: Gravity=18.200000000000003, Length=0.728, Mass=0.677, Friction=0.33\n",
      "Episode 331: Gravity=18.240000000000002, Length=0.7296, Mass=0.6789000000000001, Friction=0.331\n",
      "Episode 332: Gravity=18.28, Length=0.7312000000000001, Mass=0.6808000000000001, Friction=0.332\n"
     ]
    },
    {
     "name": "stderr",
     "output_type": "stream",
     "text": [
      "Epoch #1:  36%|###5      | 3560/10000 [00:03<00:06, 1022.53it/s, env_step=3560, gradient_step=356, len=9, n/ep=1, n/st=10, rew=9.00]  "
     ]
    },
    {
     "name": "stdout",
     "output_type": "stream",
     "text": [
      "Episode 333: Gravity=18.32, Length=0.7328000000000001, Mass=0.6827000000000001, Friction=0.333\n",
      "Episode 334: Gravity=18.36, Length=0.7343999999999999, Mass=0.6846000000000001, Friction=0.334\n",
      "Episode 335: Gravity=18.4, Length=0.736, Mass=0.6865, Friction=0.335\n",
      "Episode 336: Gravity=18.439999999999998, Length=0.7376, Mass=0.6884, Friction=0.336\n",
      "Episode 337: Gravity=18.48, Length=0.7392000000000001, Mass=0.6903, Friction=0.337\n",
      "Episode 338: Gravity=18.52, Length=0.7408000000000001, Mass=0.6922, Friction=0.338\n",
      "Episode 339: Gravity=18.560000000000002, Length=0.7424, Mass=0.6941, Friction=0.339\n",
      "Episode 340: Gravity=18.6, Length=0.744, Mass=0.6960000000000001, Friction=0.34\n",
      "Episode 341: Gravity=18.64, Length=0.7456, Mass=0.6979000000000001, Friction=0.341\n",
      "Episode 342: Gravity=18.68, Length=0.7472000000000001, Mass=0.6998000000000001, Friction=0.342\n",
      "Episode 343: Gravity=18.72, Length=0.7488000000000001, Mass=0.7017, Friction=0.343\n",
      "Episode 344: Gravity=18.759999999999998, Length=0.7504, Mass=0.7036, Friction=0.34400000000000003\n"
     ]
    },
    {
     "name": "stderr",
     "output_type": "stream",
     "text": [
      "Epoch #1:  36%|###6      | 3630/10000 [00:03<00:06, 983.05it/s, env_step=3630, gradient_step=363, len=12, n/ep=1, n/st=10, rew=12.00] "
     ]
    },
    {
     "name": "stdout",
     "output_type": "stream",
     "text": [
      "Episode 345: Gravity=18.8, Length=0.752, Mass=0.7055, Friction=0.34500000000000003\n",
      "Episode 346: Gravity=18.84, Length=0.7536, Mass=0.7074, Friction=0.34600000000000003\n",
      "Episode 347: Gravity=18.880000000000003, Length=0.7552000000000001, Mass=0.7093, Friction=0.34700000000000003\n",
      "Episode 348: Gravity=18.92, Length=0.7568000000000001, Mass=0.7112, Friction=0.34800000000000003\n",
      "Episode 349: Gravity=18.96, Length=0.7584, Mass=0.7131000000000001, Friction=0.34900000000000003\n",
      "Episode 350: Gravity=19.0, Length=0.76, Mass=0.7150000000000001, Friction=0.35000000000000003\n",
      "Episode 351: Gravity=19.04, Length=0.7616, Mass=0.7169000000000001, Friction=0.35100000000000003\n"
     ]
    },
    {
     "name": "stderr",
     "output_type": "stream",
     "text": [
      "Epoch #1:  37%|###7      | 3730/10000 [00:04<00:06, 931.35it/s, env_step=3730, gradient_step=373, len=10, n/ep=1, n/st=10, rew=10.00]"
     ]
    },
    {
     "name": "stdout",
     "output_type": "stream",
     "text": [
      "Episode 352: Gravity=19.08, Length=0.7632000000000001, Mass=0.7188, Friction=0.352\n",
      "Episode 353: Gravity=19.12, Length=0.7648000000000001, Mass=0.7207, Friction=0.353\n",
      "Episode 354: Gravity=19.16, Length=0.7664, Mass=0.7226, Friction=0.354\n",
      "Episode 355: Gravity=19.200000000000003, Length=0.768, Mass=0.7245, Friction=0.355\n",
      "Episode 356: Gravity=19.240000000000002, Length=0.7696000000000001, Mass=0.7264, Friction=0.356\n",
      "Episode 357: Gravity=19.28, Length=0.7712000000000001, Mass=0.7283000000000001, Friction=0.357\n",
      "Episode 358: Gravity=19.32, Length=0.7727999999999999, Mass=0.7302000000000001, Friction=0.358\n",
      "Episode 359: Gravity=19.36, Length=0.7744, Mass=0.7321000000000001, Friction=0.359\n",
      "Episode 360: Gravity=19.4, Length=0.776, Mass=0.7340000000000001, Friction=0.36\n",
      "Episode 361: Gravity=19.439999999999998, Length=0.7776000000000001, Mass=0.7359, Friction=0.361\n",
      "Episode 362: Gravity=19.48, Length=0.7792000000000001, Mass=0.7378, Friction=0.362\n"
     ]
    },
    {
     "name": "stderr",
     "output_type": "stream",
     "text": [
      "Epoch #1:  38%|###8      | 3800/10000 [00:04<00:06, 904.06it/s, env_step=3800, gradient_step=380, len=9, n/ep=1, n/st=10, rew=9.00]  "
     ]
    },
    {
     "name": "stdout",
     "output_type": "stream",
     "text": [
      "Episode 363: Gravity=19.52, Length=0.7807999999999999, Mass=0.7397, Friction=0.363\n",
      "Episode 364: Gravity=19.560000000000002, Length=0.7824, Mass=0.7416, Friction=0.364\n",
      "Episode 365: Gravity=19.6, Length=0.784, Mass=0.7435, Friction=0.365\n",
      "Episode 366: Gravity=19.64, Length=0.7856000000000001, Mass=0.7454000000000001, Friction=0.366\n",
      "Episode 367: Gravity=19.68, Length=0.7872000000000001, Mass=0.7473000000000001, Friction=0.367\n",
      "Episode 368: Gravity=19.72, Length=0.7888, Mass=0.7492000000000001, Friction=0.368\n",
      "Episode 369: Gravity=19.759999999999998, Length=0.7904, Mass=0.7511, Friction=0.369\n"
     ]
    },
    {
     "name": "stderr",
     "output_type": "stream",
     "text": [
      "Epoch #1:  39%|###9      | 3930/10000 [00:04<00:06, 903.60it/s, env_step=3930, gradient_step=393, len=10, n/ep=1, n/st=10, rew=10.00]"
     ]
    },
    {
     "name": "stdout",
     "output_type": "stream",
     "text": [
      "Episode 370: Gravity=19.8, Length=0.792, Mass=0.753, Friction=0.37\n",
      "Episode 371: Gravity=19.84, Length=0.7936000000000001, Mass=0.7549, Friction=0.371\n",
      "Episode 372: Gravity=19.880000000000003, Length=0.7952000000000001, Mass=0.7568, Friction=0.372\n",
      "Episode 373: Gravity=19.92, Length=0.7968, Mass=0.7587, Friction=0.373\n",
      "Episode 374: Gravity=19.96, Length=0.7984, Mass=0.7606, Friction=0.374\n",
      "Episode 375: Gravity=20.0, Length=0.8, Mass=0.7625000000000001, Friction=0.375\n",
      "Episode 376: Gravity=20.04, Length=0.8016000000000001, Mass=0.7644000000000001, Friction=0.376\n",
      "Episode 377: Gravity=20.08, Length=0.8032000000000001, Mass=0.7663000000000001, Friction=0.377\n",
      "Episode 378: Gravity=20.12, Length=0.8048, Mass=0.7682, Friction=0.378\n",
      "Episode 379: Gravity=20.16, Length=0.8064, Mass=0.7701, Friction=0.379\n",
      "Episode 380: Gravity=20.200000000000003, Length=0.808, Mass=0.772, Friction=0.38\n",
      "Episode 381: Gravity=20.240000000000002, Length=0.8096000000000001, Mass=0.7739, Friction=0.381\n"
     ]
    },
    {
     "name": "stderr",
     "output_type": "stream",
     "text": [
      "Epoch #1:  40%|####      | 4000/10000 [00:04<00:06, 929.17it/s, env_step=4000, gradient_step=400, len=9, n/ep=1, n/st=10, rew=9.00]  "
     ]
    },
    {
     "name": "stdout",
     "output_type": "stream",
     "text": [
      "Episode 382: Gravity=20.28, Length=0.8112000000000001, Mass=0.7758, Friction=0.382\n",
      "Episode 383: Gravity=20.32, Length=0.8128, Mass=0.7777000000000001, Friction=0.383\n",
      "Episode 384: Gravity=20.36, Length=0.8144, Mass=0.7796000000000001, Friction=0.384\n",
      "Episode 385: Gravity=20.4, Length=0.8160000000000001, Mass=0.7815000000000001, Friction=0.385\n",
      "Episode 386: Gravity=20.439999999999998, Length=0.8176000000000001, Mass=0.7834000000000001, Friction=0.386\n",
      "Episode 387: Gravity=20.48, Length=0.8192000000000002, Mass=0.7853, Friction=0.387\n",
      "Episode 388: Gravity=20.52, Length=0.8208, Mass=0.7872, Friction=0.388\n",
      "Episode 389: Gravity=20.560000000000002, Length=0.8224, Mass=0.7891, Friction=0.389\n"
     ]
    },
    {
     "name": "stderr",
     "output_type": "stream",
     "text": [
      "Epoch #1:  41%|####1     | 4140/10000 [00:04<00:06, 943.35it/s, env_step=4140, gradient_step=414, len=11, n/ep=1, n/st=10, rew=11.00]"
     ]
    },
    {
     "name": "stdout",
     "output_type": "stream",
     "text": [
      "Episode 390: Gravity=20.6, Length=0.8240000000000001, Mass=0.791, Friction=0.39\n",
      "Episode 391: Gravity=20.64, Length=0.8256000000000001, Mass=0.7929, Friction=0.391\n",
      "Episode 392: Gravity=20.68, Length=0.8271999999999999, Mass=0.7948000000000001, Friction=0.392\n",
      "Episode 393: Gravity=20.72, Length=0.8288, Mass=0.7967000000000001, Friction=0.393\n",
      "Episode 394: Gravity=20.759999999999998, Length=0.8304, Mass=0.7986000000000001, Friction=0.394\n",
      "Episode 395: Gravity=20.8, Length=0.8320000000000001, Mass=0.8005, Friction=0.395\n",
      "Episode 396: Gravity=20.84, Length=0.8336000000000001, Mass=0.8024, Friction=0.396\n",
      "Episode 397: Gravity=20.880000000000003, Length=0.8351999999999999, Mass=0.8043, Friction=0.397\n",
      "Episode 398: Gravity=20.92, Length=0.8368, Mass=0.8062, Friction=0.398\n",
      "Episode 399: Gravity=20.96, Length=0.8384, Mass=0.8081, Friction=0.399\n",
      "Episode 400: Gravity=21.0, Length=0.8400000000000001, Mass=0.81, Friction=0.4\n",
      "Episode 401: Gravity=21.04, Length=0.8416000000000001, Mass=0.8119000000000001, Friction=0.401\n",
      "Episode 402: Gravity=21.080000000000002, Length=0.8432, Mass=0.8138000000000001, Friction=0.402\n"
     ]
    },
    {
     "name": "stderr",
     "output_type": "stream",
     "text": [
      "Epoch #1:  42%|####2     | 4220/10000 [00:04<00:05, 968.86it/s, env_step=4220, gradient_step=422, len=10, n/ep=1, n/st=10, rew=10.00]"
     ]
    },
    {
     "name": "stdout",
     "output_type": "stream",
     "text": [
      "Episode 403: Gravity=21.12, Length=0.8448, Mass=0.8157000000000001, Friction=0.403\n",
      "Episode 404: Gravity=21.16, Length=0.8464, Mass=0.8176, Friction=0.404\n",
      "Episode 405: Gravity=21.2, Length=0.8480000000000001, Mass=0.8195, Friction=0.405\n",
      "Episode 406: Gravity=21.240000000000002, Length=0.8496000000000001, Mass=0.8214, Friction=0.406\n",
      "Episode 407: Gravity=21.28, Length=0.8512, Mass=0.8233, Friction=0.40700000000000003\n",
      "Episode 408: Gravity=21.32, Length=0.8528, Mass=0.8252, Friction=0.40800000000000003\n",
      "Episode 409: Gravity=21.36, Length=0.8544, Mass=0.8271000000000001, Friction=0.40900000000000003\n",
      "Episode 410: Gravity=21.4, Length=0.8560000000000001, Mass=0.8290000000000001, Friction=0.41000000000000003\n"
     ]
    },
    {
     "name": "stderr",
     "output_type": "stream",
     "text": [
      "Epoch #1:  44%|####3     | 4360/10000 [00:04<00:05, 1005.11it/s, env_step=4360, gradient_step=436, len=9, n/ep=2, n/st=10, rew=9.50]  "
     ]
    },
    {
     "name": "stdout",
     "output_type": "stream",
     "text": [
      "Episode 411: Gravity=21.44, Length=0.8576000000000001, Mass=0.8309000000000001, Friction=0.41100000000000003\n",
      "Episode 412: Gravity=21.48, Length=0.8592, Mass=0.8328000000000001, Friction=0.41200000000000003\n",
      "Episode 413: Gravity=21.52, Length=0.8608, Mass=0.8347, Friction=0.41300000000000003\n",
      "Episode 414: Gravity=21.56, Length=0.8624, Mass=0.8366, Friction=0.41400000000000003\n",
      "Episode 415: Gravity=21.6, Length=0.8640000000000001, Mass=0.8385, Friction=0.41500000000000004\n",
      "Episode 416: Gravity=21.64, Length=0.8656000000000001, Mass=0.8404, Friction=0.41600000000000004\n",
      "Episode 417: Gravity=21.68, Length=0.8672, Mass=0.8423, Friction=0.417\n",
      "Episode 418: Gravity=21.72, Length=0.8688, Mass=0.8442000000000001, Friction=0.418\n",
      "Episode 419: Gravity=21.76, Length=0.8704000000000001, Mass=0.8461000000000001, Friction=0.419\n",
      "Episode 420: Gravity=21.8, Length=0.8720000000000001, Mass=0.8480000000000001, Friction=0.42\n",
      "Episode 421: Gravity=21.84, Length=0.8736000000000002, Mass=0.8499, Friction=0.421\n",
      "Episode 422: Gravity=21.88, Length=0.8752, Mass=0.8518, Friction=0.422\n",
      "Episode 423: Gravity=21.92, Length=0.8768, Mass=0.8537, Friction=0.423\n",
      "Episode 424: Gravity=21.96, Length=0.8784000000000001, Mass=0.8556, Friction=0.424\n",
      "Episode 425: Gravity=22.0, Length=0.8800000000000001, Mass=0.8575, Friction=0.425\n"
     ]
    },
    {
     "name": "stderr",
     "output_type": "stream",
     "text": [
      "Epoch #1:  44%|####4     | 4440/10000 [00:04<00:05, 1040.98it/s, env_step=4440, gradient_step=444, len=11, n/ep=1, n/st=10, rew=11.00]"
     ]
    },
    {
     "name": "stdout",
     "output_type": "stream",
     "text": [
      "Episode 426: Gravity=22.04, Length=0.8815999999999999, Mass=0.8594, Friction=0.426\n",
      "Episode 427: Gravity=22.080000000000002, Length=0.8832, Mass=0.8613000000000001, Friction=0.427\n",
      "Episode 428: Gravity=22.12, Length=0.8848, Mass=0.8632000000000001, Friction=0.428\n",
      "Episode 429: Gravity=22.16, Length=0.8864000000000001, Mass=0.8651000000000001, Friction=0.429\n",
      "Episode 430: Gravity=22.2, Length=0.8880000000000001, Mass=0.867, Friction=0.43\n",
      "Episode 431: Gravity=22.240000000000002, Length=0.8896, Mass=0.8689, Friction=0.431\n",
      "Episode 432: Gravity=22.28, Length=0.8912, Mass=0.8708, Friction=0.432\n",
      "Episode 433: Gravity=22.32, Length=0.8928, Mass=0.8727, Friction=0.433\n"
     ]
    },
    {
     "name": "stderr",
     "output_type": "stream",
     "text": [
      "Epoch #1:  45%|####5     | 4510/10000 [00:04<00:05, 1040.98it/s, env_step=4510, gradient_step=451, len=10, n/ep=1, n/st=10, rew=10.00]"
     ]
    },
    {
     "name": "stdout",
     "output_type": "stream",
     "text": [
      "Episode 434: Gravity=22.36, Length=0.8944000000000001, Mass=0.8746, Friction=0.434\n",
      "Episode 435: Gravity=22.400000000000002, Length=0.8960000000000001, Mass=0.8765000000000001, Friction=0.435\n",
      "Episode 436: Gravity=22.44, Length=0.8976, Mass=0.8784000000000001, Friction=0.436\n",
      "Episode 437: Gravity=22.48, Length=0.8992, Mass=0.8803000000000001, Friction=0.437\n",
      "Episode 438: Gravity=22.52, Length=0.9008, Mass=0.8822000000000001, Friction=0.438\n",
      "Episode 439: Gravity=22.56, Length=0.9024000000000001, Mass=0.8841, Friction=0.439\n"
     ]
    },
    {
     "name": "stderr",
     "output_type": "stream",
     "text": [
      "Epoch #1:  48%|####7     | 4780/10000 [00:06<00:15, 332.67it/s, env_step=4780, gradient_step=478, len=9, n/ep=1, n/st=10, rew=9.00]   "
     ]
    },
    {
     "name": "stdout",
     "output_type": "stream",
     "text": [
      "Episode 440: Gravity=22.6, Length=0.9040000000000001, Mass=0.886, Friction=0.44\n",
      "Episode 441: Gravity=22.64, Length=0.9056, Mass=0.8879, Friction=0.441\n",
      "Episode 442: Gravity=22.68, Length=0.9072, Mass=0.8898, Friction=0.442\n",
      "Episode 443: Gravity=22.72, Length=0.9088, Mass=0.8917, Friction=0.443\n",
      "Episode 444: Gravity=22.76, Length=0.9104000000000001, Mass=0.8936000000000001, Friction=0.444\n",
      "Episode 445: Gravity=22.8, Length=0.9120000000000001, Mass=0.8955000000000001, Friction=0.445\n",
      "Episode 446: Gravity=22.84, Length=0.9136, Mass=0.8974000000000001, Friction=0.446\n",
      "Episode 447: Gravity=22.88, Length=0.9152, Mass=0.8993, Friction=0.447\n",
      "Episode 448: Gravity=22.92, Length=0.9168000000000001, Mass=0.9012, Friction=0.448\n",
      "Episode 449: Gravity=22.96, Length=0.9184000000000001, Mass=0.9031, Friction=0.449\n",
      "Episode 450: Gravity=23.0, Length=0.9200000000000002, Mass=0.905, Friction=0.45\n",
      "Episode 451: Gravity=23.04, Length=0.9216, Mass=0.9069, Friction=0.451\n",
      "Episode 452: Gravity=23.080000000000002, Length=0.9232, Mass=0.9088, Friction=0.452\n",
      "Episode 453: Gravity=23.12, Length=0.9248000000000001, Mass=0.9107000000000001, Friction=0.453\n",
      "Episode 454: Gravity=23.16, Length=0.9264000000000001, Mass=0.9126000000000001, Friction=0.454\n",
      "Episode 455: Gravity=23.2, Length=0.9279999999999999, Mass=0.9145000000000001, Friction=0.455\n",
      "Episode 456: Gravity=23.240000000000002, Length=0.9296, Mass=0.9164, Friction=0.456\n",
      "Episode 457: Gravity=23.28, Length=0.9312, Mass=0.9183, Friction=0.457\n",
      "Episode 458: Gravity=23.32, Length=0.9328000000000001, Mass=0.9202, Friction=0.458\n",
      "Episode 459: Gravity=23.36, Length=0.9344000000000001, Mass=0.9221, Friction=0.459\n",
      "Episode 460: Gravity=23.400000000000002, Length=0.9359999999999999, Mass=0.924, Friction=0.46\n",
      "Episode 461: Gravity=23.44, Length=0.9376, Mass=0.9259000000000001, Friction=0.461\n",
      "Episode 462: Gravity=23.48, Length=0.9392, Mass=0.9278000000000001, Friction=0.462\n",
      "Episode 463: Gravity=23.52, Length=0.9408000000000001, Mass=0.9297000000000001, Friction=0.463\n",
      "Episode 464: Gravity=23.56, Length=0.9424000000000001, Mass=0.9316000000000001, Friction=0.464\n",
      "Episode 465: Gravity=23.6, Length=0.944, Mass=0.9335, Friction=0.465\n",
      "Episode 466: Gravity=23.64, Length=0.9456, Mass=0.9354, Friction=0.466\n"
     ]
    },
    {
     "name": "stderr",
     "output_type": "stream",
     "text": [
      "Epoch #1:  50%|#####     | 5040/10000 [00:06<00:08, 568.07it/s, env_step=5040, gradient_step=504, len=9, n/ep=1, n/st=10, rew=9.00]  "
     ]
    },
    {
     "name": "stdout",
     "output_type": "stream",
     "text": [
      "Episode 467: Gravity=23.68, Length=0.9472, Mass=0.9373, Friction=0.467\n",
      "Episode 468: Gravity=23.72, Length=0.9488000000000001, Mass=0.9392, Friction=0.468\n",
      "Episode 469: Gravity=23.76, Length=0.9504000000000001, Mass=0.9411, Friction=0.46900000000000003\n",
      "Episode 470: Gravity=23.8, Length=0.952, Mass=0.9430000000000001, Friction=0.47000000000000003\n",
      "Episode 471: Gravity=23.84, Length=0.9536, Mass=0.9449000000000001, Friction=0.47100000000000003\n",
      "Episode 472: Gravity=23.88, Length=0.9552, Mass=0.9468000000000001, Friction=0.47200000000000003\n",
      "Episode 473: Gravity=23.92, Length=0.9568000000000001, Mass=0.9487, Friction=0.47300000000000003\n",
      "Episode 474: Gravity=23.96, Length=0.9584000000000001, Mass=0.9506, Friction=0.47400000000000003\n",
      "Episode 475: Gravity=24.0, Length=0.96, Mass=0.9525, Friction=0.47500000000000003\n",
      "Episode 476: Gravity=24.04, Length=0.9616, Mass=0.9544, Friction=0.47600000000000003\n",
      "Episode 477: Gravity=24.080000000000002, Length=0.9632000000000001, Mass=0.9563, Friction=0.47700000000000004\n",
      "Episode 478: Gravity=24.12, Length=0.9648000000000001, Mass=0.9582, Friction=0.47800000000000004\n",
      "Episode 479: Gravity=24.16, Length=0.9664000000000001, Mass=0.9601000000000001, Friction=0.47900000000000004\n",
      "Episode 480: Gravity=24.2, Length=0.968, Mass=0.9620000000000001, Friction=0.48\n",
      "Episode 481: Gravity=24.240000000000002, Length=0.9696, Mass=0.9639000000000001, Friction=0.481\n",
      "Episode 482: Gravity=24.28, Length=0.9712000000000001, Mass=0.9658, Friction=0.482\n",
      "Episode 483: Gravity=24.32, Length=0.9728000000000001, Mass=0.9677, Friction=0.483\n",
      "Episode 484: Gravity=24.36, Length=0.9744000000000002, Mass=0.9696, Friction=0.484\n",
      "Episode 485: Gravity=24.400000000000002, Length=0.976, Mass=0.9715, Friction=0.485\n",
      "Episode 486: Gravity=24.44, Length=0.9776, Mass=0.9734, Friction=0.486\n",
      "Episode 487: Gravity=24.48, Length=0.9792000000000001, Mass=0.9753000000000001, Friction=0.487\n",
      "Episode 488: Gravity=24.52, Length=0.9808000000000001, Mass=0.9772000000000001, Friction=0.488\n",
      "Episode 489: Gravity=24.56, Length=0.9823999999999999, Mass=0.9791000000000001, Friction=0.489\n",
      "Episode 490: Gravity=24.6, Length=0.984, Mass=0.9810000000000001, Friction=0.49\n",
      "Episode 491: Gravity=24.64, Length=0.9856, Mass=0.9829, Friction=0.491\n",
      "Episode 492: Gravity=24.68, Length=0.9872000000000001, Mass=0.9848, Friction=0.492\n",
      "Episode 493: Gravity=24.72, Length=0.9888000000000001, Mass=0.9867, Friction=0.493\n"
     ]
    },
    {
     "name": "stderr",
     "output_type": "stream",
     "text": [
      "Epoch #1:  53%|#####3    | 5310/10000 [00:06<00:05, 789.39it/s, env_step=5310, gradient_step=531, len=10, n/ep=1, n/st=10, rew=10.00]"
     ]
    },
    {
     "name": "stdout",
     "output_type": "stream",
     "text": [
      "Episode 494: Gravity=24.76, Length=0.9904, Mass=0.9886, Friction=0.494\n",
      "Episode 495: Gravity=24.8, Length=0.992, Mass=0.9905, Friction=0.495\n",
      "Episode 496: Gravity=24.84, Length=0.9936, Mass=0.9924000000000001, Friction=0.496\n",
      "Episode 497: Gravity=24.88, Length=0.9952000000000001, Mass=0.9943000000000001, Friction=0.497\n",
      "Episode 498: Gravity=24.92, Length=0.9968000000000001, Mass=0.9962000000000001, Friction=0.498\n",
      "Episode 499: Gravity=24.96, Length=0.9984, Mass=0.9981, Friction=0.499\n",
      "Episode 500: Gravity=25.0, Length=1.0, Mass=1.0, Friction=0.5\n",
      "Episode 501: Gravity=25.0, Length=1.0, Mass=1.0, Friction=0.5\n",
      "Episode 502: Gravity=25.0, Length=1.0, Mass=1.0, Friction=0.5\n",
      "Episode 503: Gravity=25.0, Length=1.0, Mass=1.0, Friction=0.5\n",
      "Episode 504: Gravity=25.0, Length=1.0, Mass=1.0, Friction=0.5\n",
      "Episode 505: Gravity=25.0, Length=1.0, Mass=1.0, Friction=0.5\n",
      "Episode 506: Gravity=25.0, Length=1.0, Mass=1.0, Friction=0.5\n",
      "Episode 507: Gravity=25.0, Length=1.0, Mass=1.0, Friction=0.5\n",
      "Episode 508: Gravity=25.0, Length=1.0, Mass=1.0, Friction=0.5\n",
      "Episode 509: Gravity=25.0, Length=1.0, Mass=1.0, Friction=0.5\n",
      "Episode 510: Gravity=25.0, Length=1.0, Mass=1.0, Friction=0.5\n",
      "Episode 511: Gravity=25.0, Length=1.0, Mass=1.0, Friction=0.5\n",
      "Episode 512: Gravity=25.0, Length=1.0, Mass=1.0, Friction=0.5\n",
      "Episode 513: Gravity=25.0, Length=1.0, Mass=1.0, Friction=0.5\n",
      "Episode 514: Gravity=25.0, Length=1.0, Mass=1.0, Friction=0.5\n",
      "Episode 515: Gravity=25.0, Length=1.0, Mass=1.0, Friction=0.5\n",
      "Episode 516: Gravity=25.0, Length=1.0, Mass=1.0, Friction=0.5\n",
      "Episode 517: Gravity=25.0, Length=1.0, Mass=1.0, Friction=0.5\n",
      "Episode 518: Gravity=25.0, Length=1.0, Mass=1.0, Friction=0.5\n",
      "Episode 519: Gravity=25.0, Length=1.0, Mass=1.0, Friction=0.5\n"
     ]
    },
    {
     "name": "stderr",
     "output_type": "stream",
     "text": [
      "Epoch #1:  56%|#####5    | 5580/10000 [00:06<00:04, 1005.71it/s, env_step=5580, gradient_step=558, len=9, n/ep=1, n/st=10, rew=9.00]  "
     ]
    },
    {
     "name": "stdout",
     "output_type": "stream",
     "text": [
      "Episode 520: Gravity=25.0, Length=1.0, Mass=1.0, Friction=0.5\n",
      "Episode 521: Gravity=25.0, Length=1.0, Mass=1.0, Friction=0.5\n",
      "Episode 522: Gravity=25.0, Length=1.0, Mass=1.0, Friction=0.5\n",
      "Episode 523: Gravity=25.0, Length=1.0, Mass=1.0, Friction=0.5\n",
      "Episode 524: Gravity=25.0, Length=1.0, Mass=1.0, Friction=0.5\n",
      "Episode 525: Gravity=25.0, Length=1.0, Mass=1.0, Friction=0.5\n",
      "Episode 526: Gravity=25.0, Length=1.0, Mass=1.0, Friction=0.5\n",
      "Episode 527: Gravity=25.0, Length=1.0, Mass=1.0, Friction=0.5\n",
      "Episode 528: Gravity=25.0, Length=1.0, Mass=1.0, Friction=0.5\n",
      "Episode 529: Gravity=25.0, Length=1.0, Mass=1.0, Friction=0.5\n",
      "Episode 530: Gravity=25.0, Length=1.0, Mass=1.0, Friction=0.5\n",
      "Episode 531: Gravity=25.0, Length=1.0, Mass=1.0, Friction=0.5\n",
      "Episode 532: Gravity=25.0, Length=1.0, Mass=1.0, Friction=0.5\n",
      "Episode 533: Gravity=25.0, Length=1.0, Mass=1.0, Friction=0.5\n",
      "Episode 534: Gravity=25.0, Length=1.0, Mass=1.0, Friction=0.5\n",
      "Episode 535: Gravity=25.0, Length=1.0, Mass=1.0, Friction=0.5\n",
      "Episode 536: Gravity=25.0, Length=1.0, Mass=1.0, Friction=0.5\n",
      "Episode 537: Gravity=25.0, Length=1.0, Mass=1.0, Friction=0.5\n",
      "Episode 538: Gravity=25.0, Length=1.0, Mass=1.0, Friction=0.5\n",
      "Episode 539: Gravity=25.0, Length=1.0, Mass=1.0, Friction=0.5\n",
      "Episode 540: Gravity=25.0, Length=1.0, Mass=1.0, Friction=0.5\n",
      "Episode 541: Gravity=25.0, Length=1.0, Mass=1.0, Friction=0.5\n",
      "Episode 542: Gravity=25.0, Length=1.0, Mass=1.0, Friction=0.5\n",
      "Episode 543: Gravity=25.0, Length=1.0, Mass=1.0, Friction=0.5\n",
      "Episode 544: Gravity=25.0, Length=1.0, Mass=1.0, Friction=0.5\n",
      "Episode 545: Gravity=25.0, Length=1.0, Mass=1.0, Friction=0.5\n",
      "Episode 546: Gravity=25.0, Length=1.0, Mass=1.0, Friction=0.5\n",
      "Episode 547: Gravity=25.0, Length=1.0, Mass=1.0, Friction=0.5\n"
     ]
    },
    {
     "name": "stderr",
     "output_type": "stream",
     "text": [
      "Epoch #1:  58%|#####8    | 5850/10000 [00:07<00:03, 1144.12it/s, env_step=5850, gradient_step=585, len=12, n/ep=1, n/st=10, rew=12.00]"
     ]
    },
    {
     "name": "stdout",
     "output_type": "stream",
     "text": [
      "Episode 548: Gravity=25.0, Length=1.0, Mass=1.0, Friction=0.5\n",
      "Episode 549: Gravity=25.0, Length=1.0, Mass=1.0, Friction=0.5\n",
      "Episode 550: Gravity=25.0, Length=1.0, Mass=1.0, Friction=0.5\n",
      "Episode 551: Gravity=25.0, Length=1.0, Mass=1.0, Friction=0.5\n",
      "Episode 552: Gravity=25.0, Length=1.0, Mass=1.0, Friction=0.5\n",
      "Episode 553: Gravity=25.0, Length=1.0, Mass=1.0, Friction=0.5\n",
      "Episode 554: Gravity=25.0, Length=1.0, Mass=1.0, Friction=0.5\n",
      "Episode 555: Gravity=25.0, Length=1.0, Mass=1.0, Friction=0.5\n",
      "Episode 556: Gravity=25.0, Length=1.0, Mass=1.0, Friction=0.5\n",
      "Episode 557: Gravity=25.0, Length=1.0, Mass=1.0, Friction=0.5\n",
      "Episode 558: Gravity=25.0, Length=1.0, Mass=1.0, Friction=0.5\n",
      "Episode 559: Gravity=25.0, Length=1.0, Mass=1.0, Friction=0.5\n",
      "Episode 560: Gravity=25.0, Length=1.0, Mass=1.0, Friction=0.5\n",
      "Episode 561: Gravity=25.0, Length=1.0, Mass=1.0, Friction=0.5\n",
      "Episode 562: Gravity=25.0, Length=1.0, Mass=1.0, Friction=0.5\n",
      "Episode 563: Gravity=25.0, Length=1.0, Mass=1.0, Friction=0.5\n",
      "Episode 564: Gravity=25.0, Length=1.0, Mass=1.0, Friction=0.5\n",
      "Episode 565: Gravity=25.0, Length=1.0, Mass=1.0, Friction=0.5\n",
      "Episode 566: Gravity=25.0, Length=1.0, Mass=1.0, Friction=0.5\n",
      "Episode 567: Gravity=25.0, Length=1.0, Mass=1.0, Friction=0.5\n",
      "Episode 568: Gravity=25.0, Length=1.0, Mass=1.0, Friction=0.5\n",
      "Episode 569: Gravity=25.0, Length=1.0, Mass=1.0, Friction=0.5\n",
      "Episode 570: Gravity=25.0, Length=1.0, Mass=1.0, Friction=0.5\n",
      "Episode 571: Gravity=25.0, Length=1.0, Mass=1.0, Friction=0.5\n",
      "Episode 572: Gravity=25.0, Length=1.0, Mass=1.0, Friction=0.5\n",
      "Episode 573: Gravity=25.0, Length=1.0, Mass=1.0, Friction=0.5\n",
      "Episode 574: Gravity=25.0, Length=1.0, Mass=1.0, Friction=0.5\n"
     ]
    },
    {
     "name": "stderr",
     "output_type": "stream",
     "text": [
      "Epoch #1:  61%|######1   | 6110/10000 [00:07<00:03, 1226.02it/s, env_step=6110, gradient_step=611, len=8, n/ep=1, n/st=10, rew=8.00]  "
     ]
    },
    {
     "name": "stdout",
     "output_type": "stream",
     "text": [
      "Episode 575: Gravity=25.0, Length=1.0, Mass=1.0, Friction=0.5\n",
      "Episode 576: Gravity=25.0, Length=1.0, Mass=1.0, Friction=0.5\n",
      "Episode 577: Gravity=25.0, Length=1.0, Mass=1.0, Friction=0.5\n",
      "Episode 578: Gravity=25.0, Length=1.0, Mass=1.0, Friction=0.5\n",
      "Episode 579: Gravity=25.0, Length=1.0, Mass=1.0, Friction=0.5\n",
      "Episode 580: Gravity=25.0, Length=1.0, Mass=1.0, Friction=0.5\n",
      "Episode 581: Gravity=25.0, Length=1.0, Mass=1.0, Friction=0.5\n",
      "Episode 582: Gravity=25.0, Length=1.0, Mass=1.0, Friction=0.5\n",
      "Episode 583: Gravity=25.0, Length=1.0, Mass=1.0, Friction=0.5\n",
      "Episode 584: Gravity=25.0, Length=1.0, Mass=1.0, Friction=0.5\n",
      "Episode 585: Gravity=25.0, Length=1.0, Mass=1.0, Friction=0.5\n",
      "Episode 586: Gravity=25.0, Length=1.0, Mass=1.0, Friction=0.5\n",
      "Episode 587: Gravity=25.0, Length=1.0, Mass=1.0, Friction=0.5\n",
      "Episode 588: Gravity=25.0, Length=1.0, Mass=1.0, Friction=0.5\n",
      "Episode 589: Gravity=25.0, Length=1.0, Mass=1.0, Friction=0.5\n",
      "Episode 590: Gravity=25.0, Length=1.0, Mass=1.0, Friction=0.5\n",
      "Episode 591: Gravity=25.0, Length=1.0, Mass=1.0, Friction=0.5\n",
      "Episode 592: Gravity=25.0, Length=1.0, Mass=1.0, Friction=0.5\n",
      "Episode 593: Gravity=25.0, Length=1.0, Mass=1.0, Friction=0.5\n",
      "Episode 594: Gravity=25.0, Length=1.0, Mass=1.0, Friction=0.5\n",
      "Episode 595: Gravity=25.0, Length=1.0, Mass=1.0, Friction=0.5\n",
      "Episode 596: Gravity=25.0, Length=1.0, Mass=1.0, Friction=0.5\n",
      "Episode 597: Gravity=25.0, Length=1.0, Mass=1.0, Friction=0.5\n",
      "Episode 598: Gravity=25.0, Length=1.0, Mass=1.0, Friction=0.5\n",
      "Episode 599: Gravity=25.0, Length=1.0, Mass=1.0, Friction=0.5\n",
      "Episode 600: Gravity=25.0, Length=1.0, Mass=1.0, Friction=0.5\n",
      "Episode 601: Gravity=25.0, Length=1.0, Mass=1.0, Friction=0.5\n"
     ]
    },
    {
     "name": "stderr",
     "output_type": "stream",
     "text": [
      "Epoch #1:  64%|######3   | 6380/10000 [00:07<00:02, 1262.23it/s, env_step=6380, gradient_step=638, len=10, n/ep=1, n/st=10, rew=10.00]"
     ]
    },
    {
     "name": "stdout",
     "output_type": "stream",
     "text": [
      "Episode 602: Gravity=25.0, Length=1.0, Mass=1.0, Friction=0.5\n",
      "Episode 603: Gravity=25.0, Length=1.0, Mass=1.0, Friction=0.5\n",
      "Episode 604: Gravity=25.0, Length=1.0, Mass=1.0, Friction=0.5\n",
      "Episode 605: Gravity=25.0, Length=1.0, Mass=1.0, Friction=0.5\n",
      "Episode 606: Gravity=25.0, Length=1.0, Mass=1.0, Friction=0.5\n",
      "Episode 607: Gravity=25.0, Length=1.0, Mass=1.0, Friction=0.5\n",
      "Episode 608: Gravity=25.0, Length=1.0, Mass=1.0, Friction=0.5\n",
      "Episode 609: Gravity=25.0, Length=1.0, Mass=1.0, Friction=0.5\n",
      "Episode 610: Gravity=25.0, Length=1.0, Mass=1.0, Friction=0.5\n",
      "Episode 611: Gravity=25.0, Length=1.0, Mass=1.0, Friction=0.5\n",
      "Episode 612: Gravity=25.0, Length=1.0, Mass=1.0, Friction=0.5\n",
      "Episode 613: Gravity=25.0, Length=1.0, Mass=1.0, Friction=0.5\n",
      "Episode 614: Gravity=25.0, Length=1.0, Mass=1.0, Friction=0.5\n",
      "Episode 615: Gravity=25.0, Length=1.0, Mass=1.0, Friction=0.5\n",
      "Episode 616: Gravity=25.0, Length=1.0, Mass=1.0, Friction=0.5\n",
      "Episode 617: Gravity=25.0, Length=1.0, Mass=1.0, Friction=0.5\n",
      "Episode 618: Gravity=25.0, Length=1.0, Mass=1.0, Friction=0.5\n",
      "Episode 619: Gravity=25.0, Length=1.0, Mass=1.0, Friction=0.5\n",
      "Episode 620: Gravity=25.0, Length=1.0, Mass=1.0, Friction=0.5\n",
      "Episode 621: Gravity=25.0, Length=1.0, Mass=1.0, Friction=0.5\n",
      "Episode 622: Gravity=25.0, Length=1.0, Mass=1.0, Friction=0.5\n",
      "Episode 623: Gravity=25.0, Length=1.0, Mass=1.0, Friction=0.5\n",
      "Episode 624: Gravity=25.0, Length=1.0, Mass=1.0, Friction=0.5\n",
      "Episode 625: Gravity=25.0, Length=1.0, Mass=1.0, Friction=0.5\n",
      "Episode 626: Gravity=25.0, Length=1.0, Mass=1.0, Friction=0.5\n",
      "Episode 627: Gravity=25.0, Length=1.0, Mass=1.0, Friction=0.5\n"
     ]
    },
    {
     "name": "stderr",
     "output_type": "stream",
     "text": [
      "Epoch #1:  66%|######6   | 6640/10000 [00:07<00:02, 1283.84it/s, env_step=6640, gradient_step=664, len=43, n/ep=0, n/st=10, rew=43.00]"
     ]
    },
    {
     "name": "stdout",
     "output_type": "stream",
     "text": [
      "Episode 628: Gravity=25.0, Length=1.0, Mass=1.0, Friction=0.5\n",
      "Episode 629: Gravity=25.0, Length=1.0, Mass=1.0, Friction=0.5\n",
      "Episode 630: Gravity=25.0, Length=1.0, Mass=1.0, Friction=0.5\n",
      "Episode 631: Gravity=25.0, Length=1.0, Mass=1.0, Friction=0.5\n",
      "Episode 632: Gravity=25.0, Length=1.0, Mass=1.0, Friction=0.5\n",
      "Episode 633: Gravity=25.0, Length=1.0, Mass=1.0, Friction=0.5\n",
      "Episode 634: Gravity=25.0, Length=1.0, Mass=1.0, Friction=0.5\n",
      "Episode 635: Gravity=25.0, Length=1.0, Mass=1.0, Friction=0.5\n",
      "Episode 636: Gravity=25.0, Length=1.0, Mass=1.0, Friction=0.5\n",
      "Episode 637: Gravity=25.0, Length=1.0, Mass=1.0, Friction=0.5\n",
      "Episode 638: Gravity=25.0, Length=1.0, Mass=1.0, Friction=0.5\n",
      "Episode 639: Gravity=25.0, Length=1.0, Mass=1.0, Friction=0.5\n",
      "Episode 640: Gravity=25.0, Length=1.0, Mass=1.0, Friction=0.5\n",
      "Episode 641: Gravity=25.0, Length=1.0, Mass=1.0, Friction=0.5\n",
      "Episode 642: Gravity=25.0, Length=1.0, Mass=1.0, Friction=0.5\n",
      "Episode 643: Gravity=25.0, Length=1.0, Mass=1.0, Friction=0.5\n",
      "Episode 644: Gravity=25.0, Length=1.0, Mass=1.0, Friction=0.5\n",
      "Episode 645: Gravity=25.0, Length=1.0, Mass=1.0, Friction=0.5\n",
      "Episode 646: Gravity=25.0, Length=1.0, Mass=1.0, Friction=0.5\n",
      "Episode 647: Gravity=25.0, Length=1.0, Mass=1.0, Friction=0.5\n",
      "Episode 648: Gravity=25.0, Length=1.0, Mass=1.0, Friction=0.5\n"
     ]
    },
    {
     "name": "stderr",
     "output_type": "stream",
     "text": [
      "Epoch #1:  69%|######9   | 6920/10000 [00:07<00:02, 1308.43it/s, env_step=6920, gradient_step=692, len=12, n/ep=1, n/st=10, rew=12.00]"
     ]
    },
    {
     "name": "stdout",
     "output_type": "stream",
     "text": [
      "Episode 649: Gravity=25.0, Length=1.0, Mass=1.0, Friction=0.5\n",
      "Episode 650: Gravity=25.0, Length=1.0, Mass=1.0, Friction=0.5\n",
      "Episode 651: Gravity=25.0, Length=1.0, Mass=1.0, Friction=0.5\n",
      "Episode 652: Gravity=25.0, Length=1.0, Mass=1.0, Friction=0.5\n",
      "Episode 653: Gravity=25.0, Length=1.0, Mass=1.0, Friction=0.5\n",
      "Episode 654: Gravity=25.0, Length=1.0, Mass=1.0, Friction=0.5\n",
      "Episode 655: Gravity=25.0, Length=1.0, Mass=1.0, Friction=0.5\n",
      "Episode 656: Gravity=25.0, Length=1.0, Mass=1.0, Friction=0.5\n",
      "Episode 657: Gravity=25.0, Length=1.0, Mass=1.0, Friction=0.5\n",
      "Episode 658: Gravity=25.0, Length=1.0, Mass=1.0, Friction=0.5\n",
      "Episode 659: Gravity=25.0, Length=1.0, Mass=1.0, Friction=0.5\n"
     ]
    },
    {
     "name": "stderr",
     "output_type": "stream",
     "text": [
      "Epoch #1:  72%|#######1  | 7190/10000 [00:08<00:02, 1328.24it/s, env_step=7190, gradient_step=719, len=10, n/ep=1, n/st=10, rew=10.00]"
     ]
    },
    {
     "name": "stdout",
     "output_type": "stream",
     "text": [
      "Episode 660: Gravity=25.0, Length=1.0, Mass=1.0, Friction=0.5\n",
      "Episode 661: Gravity=25.0, Length=1.0, Mass=1.0, Friction=0.5\n",
      "Episode 662: Gravity=25.0, Length=1.0, Mass=1.0, Friction=0.5\n",
      "Episode 663: Gravity=25.0, Length=1.0, Mass=1.0, Friction=0.5\n",
      "Episode 664: Gravity=25.0, Length=1.0, Mass=1.0, Friction=0.5\n",
      "Episode 665: Gravity=25.0, Length=1.0, Mass=1.0, Friction=0.5\n",
      "Episode 666: Gravity=25.0, Length=1.0, Mass=1.0, Friction=0.5\n",
      "Episode 667: Gravity=25.0, Length=1.0, Mass=1.0, Friction=0.5\n",
      "Episode 668: Gravity=25.0, Length=1.0, Mass=1.0, Friction=0.5\n",
      "Episode 669: Gravity=25.0, Length=1.0, Mass=1.0, Friction=0.5\n",
      "Episode 670: Gravity=25.0, Length=1.0, Mass=1.0, Friction=0.5\n",
      "Episode 671: Gravity=25.0, Length=1.0, Mass=1.0, Friction=0.5\n",
      "Episode 672: Gravity=25.0, Length=1.0, Mass=1.0, Friction=0.5\n",
      "Episode 673: Gravity=25.0, Length=1.0, Mass=1.0, Friction=0.5\n",
      "Episode 674: Gravity=25.0, Length=1.0, Mass=1.0, Friction=0.5\n",
      "Episode 675: Gravity=25.0, Length=1.0, Mass=1.0, Friction=0.5\n",
      "Episode 676: Gravity=25.0, Length=1.0, Mass=1.0, Friction=0.5\n",
      "Episode 677: Gravity=25.0, Length=1.0, Mass=1.0, Friction=0.5\n",
      "Episode 678: Gravity=25.0, Length=1.0, Mass=1.0, Friction=0.5\n",
      "Episode 679: Gravity=25.0, Length=1.0, Mass=1.0, Friction=0.5\n",
      "Episode 680: Gravity=25.0, Length=1.0, Mass=1.0, Friction=0.5\n",
      "Episode 681: Gravity=25.0, Length=1.0, Mass=1.0, Friction=0.5\n",
      "Episode 682: Gravity=25.0, Length=1.0, Mass=1.0, Friction=0.5\n",
      "Episode 683: Gravity=25.0, Length=1.0, Mass=1.0, Friction=0.5\n",
      "Episode 684: Gravity=25.0, Length=1.0, Mass=1.0, Friction=0.5\n",
      "Episode 685: Gravity=25.0, Length=1.0, Mass=1.0, Friction=0.5\n"
     ]
    },
    {
     "name": "stderr",
     "output_type": "stream",
     "text": [
      "Epoch #1:  74%|#######4  | 7420/10000 [00:08<00:02, 1263.60it/s, env_step=7420, gradient_step=742, len=11, n/ep=1, n/st=10, rew=11.00]"
     ]
    },
    {
     "name": "stdout",
     "output_type": "stream",
     "text": [
      "Episode 686: Gravity=25.0, Length=1.0, Mass=1.0, Friction=0.5\n",
      "Episode 687: Gravity=25.0, Length=1.0, Mass=1.0, Friction=0.5\n",
      "Episode 688: Gravity=25.0, Length=1.0, Mass=1.0, Friction=0.5\n",
      "Episode 689: Gravity=25.0, Length=1.0, Mass=1.0, Friction=0.5\n",
      "Episode 690: Gravity=25.0, Length=1.0, Mass=1.0, Friction=0.5\n",
      "Episode 691: Gravity=25.0, Length=1.0, Mass=1.0, Friction=0.5\n",
      "Episode 692: Gravity=25.0, Length=1.0, Mass=1.0, Friction=0.5\n",
      "Episode 693: Gravity=25.0, Length=1.0, Mass=1.0, Friction=0.5\n",
      "Episode 694: Gravity=25.0, Length=1.0, Mass=1.0, Friction=0.5\n",
      "Episode 695: Gravity=25.0, Length=1.0, Mass=1.0, Friction=0.5\n",
      "Episode 696: Gravity=25.0, Length=1.0, Mass=1.0, Friction=0.5\n",
      "Episode 697: Gravity=25.0, Length=1.0, Mass=1.0, Friction=0.5\n",
      "Episode 698: Gravity=25.0, Length=1.0, Mass=1.0, Friction=0.5\n",
      "Episode 699: Gravity=25.0, Length=1.0, Mass=1.0, Friction=0.5\n",
      "Episode 700: Gravity=25.0, Length=1.0, Mass=1.0, Friction=0.5\n",
      "Episode 701: Gravity=25.0, Length=1.0, Mass=1.0, Friction=0.5\n",
      "Episode 702: Gravity=25.0, Length=1.0, Mass=1.0, Friction=0.5\n",
      "Episode 703: Gravity=25.0, Length=1.0, Mass=1.0, Friction=0.5\n",
      "Episode 704: Gravity=25.0, Length=1.0, Mass=1.0, Friction=0.5\n",
      "Episode 705: Gravity=25.0, Length=1.0, Mass=1.0, Friction=0.5\n",
      "Episode 706: Gravity=25.0, Length=1.0, Mass=1.0, Friction=0.5\n",
      "Episode 707: Gravity=25.0, Length=1.0, Mass=1.0, Friction=0.5\n",
      "Episode 708: Gravity=25.0, Length=1.0, Mass=1.0, Friction=0.5\n"
     ]
    },
    {
     "name": "stderr",
     "output_type": "stream",
     "text": [
      "Epoch #1:  77%|#######6  | 7660/10000 [00:08<00:01, 1213.25it/s, env_step=7660, gradient_step=766, len=9, n/ep=1, n/st=10, rew=9.00]  "
     ]
    },
    {
     "name": "stdout",
     "output_type": "stream",
     "text": [
      "Episode 709: Gravity=25.0, Length=1.0, Mass=1.0, Friction=0.5\n",
      "Episode 710: Gravity=25.0, Length=1.0, Mass=1.0, Friction=0.5\n",
      "Episode 711: Gravity=25.0, Length=1.0, Mass=1.0, Friction=0.5\n",
      "Episode 712: Gravity=25.0, Length=1.0, Mass=1.0, Friction=0.5\n",
      "Episode 713: Gravity=25.0, Length=1.0, Mass=1.0, Friction=0.5\n",
      "Episode 714: Gravity=25.0, Length=1.0, Mass=1.0, Friction=0.5\n",
      "Episode 715: Gravity=25.0, Length=1.0, Mass=1.0, Friction=0.5\n",
      "Episode 716: Gravity=25.0, Length=1.0, Mass=1.0, Friction=0.5\n",
      "Episode 717: Gravity=25.0, Length=1.0, Mass=1.0, Friction=0.5\n",
      "Episode 718: Gravity=25.0, Length=1.0, Mass=1.0, Friction=0.5\n",
      "Episode 719: Gravity=25.0, Length=1.0, Mass=1.0, Friction=0.5\n",
      "Episode 720: Gravity=25.0, Length=1.0, Mass=1.0, Friction=0.5\n",
      "Episode 721: Gravity=25.0, Length=1.0, Mass=1.0, Friction=0.5\n",
      "Episode 722: Gravity=25.0, Length=1.0, Mass=1.0, Friction=0.5\n",
      "Episode 723: Gravity=25.0, Length=1.0, Mass=1.0, Friction=0.5\n",
      "Episode 724: Gravity=25.0, Length=1.0, Mass=1.0, Friction=0.5\n",
      "Episode 725: Gravity=25.0, Length=1.0, Mass=1.0, Friction=0.5\n",
      "Episode 726: Gravity=25.0, Length=1.0, Mass=1.0, Friction=0.5\n",
      "Episode 727: Gravity=25.0, Length=1.0, Mass=1.0, Friction=0.5\n",
      "Episode 728: Gravity=25.0, Length=1.0, Mass=1.0, Friction=0.5\n",
      "Episode 729: Gravity=25.0, Length=1.0, Mass=1.0, Friction=0.5\n",
      "Episode 730: Gravity=25.0, Length=1.0, Mass=1.0, Friction=0.5\n",
      "Episode 731: Gravity=25.0, Length=1.0, Mass=1.0, Friction=0.5\n",
      "Episode 732: Gravity=25.0, Length=1.0, Mass=1.0, Friction=0.5\n"
     ]
    },
    {
     "name": "stderr",
     "output_type": "stream",
     "text": [
      "Epoch #1:  79%|#######8  | 7860/10000 [00:08<00:01, 1097.03it/s, env_step=7860, gradient_step=786, len=11, n/ep=1, n/st=10, rew=11.00]"
     ]
    },
    {
     "name": "stdout",
     "output_type": "stream",
     "text": [
      "Episode 733: Gravity=25.0, Length=1.0, Mass=1.0, Friction=0.5\n",
      "Episode 734: Gravity=25.0, Length=1.0, Mass=1.0, Friction=0.5\n",
      "Episode 735: Gravity=25.0, Length=1.0, Mass=1.0, Friction=0.5\n",
      "Episode 736: Gravity=25.0, Length=1.0, Mass=1.0, Friction=0.5\n",
      "Episode 737: Gravity=25.0, Length=1.0, Mass=1.0, Friction=0.5\n",
      "Episode 738: Gravity=25.0, Length=1.0, Mass=1.0, Friction=0.5\n",
      "Episode 739: Gravity=25.0, Length=1.0, Mass=1.0, Friction=0.5\n",
      "Episode 740: Gravity=25.0, Length=1.0, Mass=1.0, Friction=0.5\n",
      "Episode 741: Gravity=25.0, Length=1.0, Mass=1.0, Friction=0.5\n",
      "Episode 742: Gravity=25.0, Length=1.0, Mass=1.0, Friction=0.5\n",
      "Episode 743: Gravity=25.0, Length=1.0, Mass=1.0, Friction=0.5\n",
      "Episode 744: Gravity=25.0, Length=1.0, Mass=1.0, Friction=0.5\n",
      "Episode 745: Gravity=25.0, Length=1.0, Mass=1.0, Friction=0.5\n",
      "Episode 746: Gravity=25.0, Length=1.0, Mass=1.0, Friction=0.5\n",
      "Episode 747: Gravity=25.0, Length=1.0, Mass=1.0, Friction=0.5\n",
      "Episode 748: Gravity=25.0, Length=1.0, Mass=1.0, Friction=0.5\n",
      "Episode 749: Gravity=25.0, Length=1.0, Mass=1.0, Friction=0.5\n",
      "Episode 750: Gravity=25.0, Length=1.0, Mass=1.0, Friction=0.5\n",
      "Episode 751: Gravity=25.0, Length=1.0, Mass=1.0, Friction=0.5\n",
      "Episode 752: Gravity=25.0, Length=1.0, Mass=1.0, Friction=0.5\n"
     ]
    },
    {
     "name": "stderr",
     "output_type": "stream",
     "text": [
      "Epoch #1:  81%|########  | 8070/10000 [00:08<00:01, 1051.42it/s, env_step=8070, gradient_step=807, len=13, n/ep=1, n/st=10, rew=13.00]"
     ]
    },
    {
     "name": "stdout",
     "output_type": "stream",
     "text": [
      "Episode 753: Gravity=25.0, Length=1.0, Mass=1.0, Friction=0.5\n",
      "Episode 754: Gravity=25.0, Length=1.0, Mass=1.0, Friction=0.5\n",
      "Episode 755: Gravity=25.0, Length=1.0, Mass=1.0, Friction=0.5\n",
      "Episode 756: Gravity=25.0, Length=1.0, Mass=1.0, Friction=0.5\n",
      "Episode 757: Gravity=25.0, Length=1.0, Mass=1.0, Friction=0.5\n",
      "Episode 758: Gravity=25.0, Length=1.0, Mass=1.0, Friction=0.5\n",
      "Episode 759: Gravity=25.0, Length=1.0, Mass=1.0, Friction=0.5\n",
      "Episode 760: Gravity=25.0, Length=1.0, Mass=1.0, Friction=0.5\n",
      "Episode 761: Gravity=25.0, Length=1.0, Mass=1.0, Friction=0.5\n",
      "Episode 762: Gravity=25.0, Length=1.0, Mass=1.0, Friction=0.5\n",
      "Episode 763: Gravity=25.0, Length=1.0, Mass=1.0, Friction=0.5\n",
      "Episode 764: Gravity=25.0, Length=1.0, Mass=1.0, Friction=0.5\n",
      "Episode 765: Gravity=25.0, Length=1.0, Mass=1.0, Friction=0.5\n",
      "Episode 766: Gravity=25.0, Length=1.0, Mass=1.0, Friction=0.5\n",
      "Episode 767: Gravity=25.0, Length=1.0, Mass=1.0, Friction=0.5\n",
      "Episode 768: Gravity=25.0, Length=1.0, Mass=1.0, Friction=0.5\n",
      "Episode 769: Gravity=25.0, Length=1.0, Mass=1.0, Friction=0.5\n",
      "Episode 770: Gravity=25.0, Length=1.0, Mass=1.0, Friction=0.5\n",
      "Episode 771: Gravity=25.0, Length=1.0, Mass=1.0, Friction=0.5\n",
      "Episode 772: Gravity=25.0, Length=1.0, Mass=1.0, Friction=0.5\n",
      "Episode 773: Gravity=25.0, Length=1.0, Mass=1.0, Friction=0.5\n"
     ]
    },
    {
     "name": "stderr",
     "output_type": "stream",
     "text": [
      "Epoch #1:  83%|########2 | 8300/10000 [00:09<00:01, 1065.96it/s, env_step=8300, gradient_step=830, len=10, n/ep=1, n/st=10, rew=10.00]"
     ]
    },
    {
     "name": "stdout",
     "output_type": "stream",
     "text": [
      "Episode 774: Gravity=25.0, Length=1.0, Mass=1.0, Friction=0.5\n",
      "Episode 775: Gravity=25.0, Length=1.0, Mass=1.0, Friction=0.5\n",
      "Episode 776: Gravity=25.0, Length=1.0, Mass=1.0, Friction=0.5\n",
      "Episode 777: Gravity=25.0, Length=1.0, Mass=1.0, Friction=0.5\n",
      "Episode 778: Gravity=25.0, Length=1.0, Mass=1.0, Friction=0.5\n",
      "Episode 779: Gravity=25.0, Length=1.0, Mass=1.0, Friction=0.5\n",
      "Episode 780: Gravity=25.0, Length=1.0, Mass=1.0, Friction=0.5\n",
      "Episode 781: Gravity=25.0, Length=1.0, Mass=1.0, Friction=0.5\n",
      "Episode 782: Gravity=25.0, Length=1.0, Mass=1.0, Friction=0.5\n",
      "Episode 783: Gravity=25.0, Length=1.0, Mass=1.0, Friction=0.5\n",
      "Episode 784: Gravity=25.0, Length=1.0, Mass=1.0, Friction=0.5\n",
      "Episode 785: Gravity=25.0, Length=1.0, Mass=1.0, Friction=0.5\n",
      "Episode 786: Gravity=25.0, Length=1.0, Mass=1.0, Friction=0.5\n",
      "Episode 787: Gravity=25.0, Length=1.0, Mass=1.0, Friction=0.5\n",
      "Episode 788: Gravity=25.0, Length=1.0, Mass=1.0, Friction=0.5\n",
      "Episode 789: Gravity=25.0, Length=1.0, Mass=1.0, Friction=0.5\n",
      "Episode 790: Gravity=25.0, Length=1.0, Mass=1.0, Friction=0.5\n",
      "Episode 791: Gravity=25.0, Length=1.0, Mass=1.0, Friction=0.5\n",
      "Episode 792: Gravity=25.0, Length=1.0, Mass=1.0, Friction=0.5\n",
      "Episode 793: Gravity=25.0, Length=1.0, Mass=1.0, Friction=0.5\n",
      "Episode 794: Gravity=25.0, Length=1.0, Mass=1.0, Friction=0.5\n",
      "Episode 795: Gravity=25.0, Length=1.0, Mass=1.0, Friction=0.5\n",
      "Episode 796: Gravity=25.0, Length=1.0, Mass=1.0, Friction=0.5\n"
     ]
    },
    {
     "name": "stderr",
     "output_type": "stream",
     "text": [
      "Epoch #1:  85%|########4 | 8480/10000 [00:09<00:01, 1051.73it/s, env_step=8480, gradient_step=848, len=8, n/ep=1, n/st=10, rew=8.00]  "
     ]
    },
    {
     "name": "stdout",
     "output_type": "stream",
     "text": [
      "Episode 797: Gravity=25.0, Length=1.0, Mass=1.0, Friction=0.5\n",
      "Episode 798: Gravity=25.0, Length=1.0, Mass=1.0, Friction=0.5\n",
      "Episode 799: Gravity=25.0, Length=1.0, Mass=1.0, Friction=0.5\n",
      "Episode 800: Gravity=25.0, Length=1.0, Mass=1.0, Friction=0.5\n",
      "Episode 801: Gravity=25.0, Length=1.0, Mass=1.0, Friction=0.5\n",
      "Episode 802: Gravity=25.0, Length=1.0, Mass=1.0, Friction=0.5\n",
      "Episode 803: Gravity=25.0, Length=1.0, Mass=1.0, Friction=0.5\n",
      "Episode 804: Gravity=25.0, Length=1.0, Mass=1.0, Friction=0.5\n",
      "Episode 805: Gravity=25.0, Length=1.0, Mass=1.0, Friction=0.5\n",
      "Episode 806: Gravity=25.0, Length=1.0, Mass=1.0, Friction=0.5\n",
      "Episode 807: Gravity=25.0, Length=1.0, Mass=1.0, Friction=0.5\n",
      "Episode 808: Gravity=25.0, Length=1.0, Mass=1.0, Friction=0.5\n",
      "Episode 809: Gravity=25.0, Length=1.0, Mass=1.0, Friction=0.5\n",
      "Episode 810: Gravity=25.0, Length=1.0, Mass=1.0, Friction=0.5\n",
      "Episode 811: Gravity=25.0, Length=1.0, Mass=1.0, Friction=0.5\n",
      "Episode 812: Gravity=25.0, Length=1.0, Mass=1.0, Friction=0.5\n",
      "Episode 813: Gravity=25.0, Length=1.0, Mass=1.0, Friction=0.5\n",
      "Episode 814: Gravity=25.0, Length=1.0, Mass=1.0, Friction=0.5\n",
      "Episode 815: Gravity=25.0, Length=1.0, Mass=1.0, Friction=0.5\n"
     ]
    },
    {
     "name": "stderr",
     "output_type": "stream",
     "text": [
      "Epoch #1:  87%|########6 | 8660/10000 [00:09<00:01, 931.30it/s, env_step=8660, gradient_step=866, len=10, n/ep=1, n/st=10, rew=10.00]"
     ]
    },
    {
     "name": "stdout",
     "output_type": "stream",
     "text": [
      "Episode 816: Gravity=25.0, Length=1.0, Mass=1.0, Friction=0.5\n",
      "Episode 817: Gravity=25.0, Length=1.0, Mass=1.0, Friction=0.5\n",
      "Episode 818: Gravity=25.0, Length=1.0, Mass=1.0, Friction=0.5\n",
      "Episode 819: Gravity=25.0, Length=1.0, Mass=1.0, Friction=0.5\n",
      "Episode 820: Gravity=25.0, Length=1.0, Mass=1.0, Friction=0.5\n",
      "Episode 821: Gravity=25.0, Length=1.0, Mass=1.0, Friction=0.5\n",
      "Episode 822: Gravity=25.0, Length=1.0, Mass=1.0, Friction=0.5\n",
      "Episode 823: Gravity=25.0, Length=1.0, Mass=1.0, Friction=0.5\n",
      "Episode 824: Gravity=25.0, Length=1.0, Mass=1.0, Friction=0.5\n",
      "Episode 825: Gravity=25.0, Length=1.0, Mass=1.0, Friction=0.5\n",
      "Episode 826: Gravity=25.0, Length=1.0, Mass=1.0, Friction=0.5\n",
      "Episode 827: Gravity=25.0, Length=1.0, Mass=1.0, Friction=0.5\n",
      "Episode 828: Gravity=25.0, Length=1.0, Mass=1.0, Friction=0.5\n",
      "Episode 829: Gravity=25.0, Length=1.0, Mass=1.0, Friction=0.5\n",
      "Episode 830: Gravity=25.0, Length=1.0, Mass=1.0, Friction=0.5\n",
      "Episode 831: Gravity=25.0, Length=1.0, Mass=1.0, Friction=0.5\n",
      "Episode 832: Gravity=25.0, Length=1.0, Mass=1.0, Friction=0.5\n",
      "Episode 833: Gravity=25.0, Length=1.0, Mass=1.0, Friction=0.5\n",
      "Episode 834: Gravity=25.0, Length=1.0, Mass=1.0, Friction=0.5\n"
     ]
    },
    {
     "name": "stderr",
     "output_type": "stream",
     "text": [
      "Epoch #1:  88%|########8 | 8830/10000 [00:09<00:01, 923.76it/s, env_step=8830, gradient_step=883, len=10, n/ep=0, n/st=10, rew=10.00]"
     ]
    },
    {
     "name": "stdout",
     "output_type": "stream",
     "text": [
      "Episode 835: Gravity=25.0, Length=1.0, Mass=1.0, Friction=0.5\n",
      "Episode 836: Gravity=25.0, Length=1.0, Mass=1.0, Friction=0.5\n",
      "Episode 837: Gravity=25.0, Length=1.0, Mass=1.0, Friction=0.5\n",
      "Episode 838: Gravity=25.0, Length=1.0, Mass=1.0, Friction=0.5\n",
      "Episode 839: Gravity=25.0, Length=1.0, Mass=1.0, Friction=0.5\n",
      "Episode 840: Gravity=25.0, Length=1.0, Mass=1.0, Friction=0.5\n",
      "Episode 841: Gravity=25.0, Length=1.0, Mass=1.0, Friction=0.5\n",
      "Episode 842: Gravity=25.0, Length=1.0, Mass=1.0, Friction=0.5\n",
      "Episode 843: Gravity=25.0, Length=1.0, Mass=1.0, Friction=0.5\n",
      "Episode 844: Gravity=25.0, Length=1.0, Mass=1.0, Friction=0.5\n",
      "Episode 845: Gravity=25.0, Length=1.0, Mass=1.0, Friction=0.5\n",
      "Episode 846: Gravity=25.0, Length=1.0, Mass=1.0, Friction=0.5\n",
      "Episode 847: Gravity=25.0, Length=1.0, Mass=1.0, Friction=0.5\n",
      "Episode 848: Gravity=25.0, Length=1.0, Mass=1.0, Friction=0.5\n",
      "Episode 849: Gravity=25.0, Length=1.0, Mass=1.0, Friction=0.5\n",
      "Episode 850: Gravity=25.0, Length=1.0, Mass=1.0, Friction=0.5\n",
      "Episode 851: Gravity=25.0, Length=1.0, Mass=1.0, Friction=0.5\n"
     ]
    },
    {
     "name": "stderr",
     "output_type": "stream",
     "text": [
      "Epoch #1:  90%|########9 | 8970/10000 [00:09<00:01, 772.83it/s, env_step=8970, gradient_step=897, len=10, n/ep=1, n/st=10, rew=10.00]"
     ]
    },
    {
     "name": "stdout",
     "output_type": "stream",
     "text": [
      "Episode 852: Gravity=25.0, Length=1.0, Mass=1.0, Friction=0.5\n",
      "Episode 853: Gravity=25.0, Length=1.0, Mass=1.0, Friction=0.5\n",
      "Episode 854: Gravity=25.0, Length=1.0, Mass=1.0, Friction=0.5\n",
      "Episode 855: Gravity=25.0, Length=1.0, Mass=1.0, Friction=0.5\n",
      "Episode 856: Gravity=25.0, Length=1.0, Mass=1.0, Friction=0.5\n",
      "Episode 857: Gravity=25.0, Length=1.0, Mass=1.0, Friction=0.5\n",
      "Episode 858: Gravity=25.0, Length=1.0, Mass=1.0, Friction=0.5\n",
      "Episode 859: Gravity=25.0, Length=1.0, Mass=1.0, Friction=0.5\n",
      "Episode 860: Gravity=25.0, Length=1.0, Mass=1.0, Friction=0.5\n",
      "Episode 861: Gravity=25.0, Length=1.0, Mass=1.0, Friction=0.5\n",
      "Episode 862: Gravity=25.0, Length=1.0, Mass=1.0, Friction=0.5\n",
      "Episode 863: Gravity=25.0, Length=1.0, Mass=1.0, Friction=0.5\n",
      "Episode 864: Gravity=25.0, Length=1.0, Mass=1.0, Friction=0.5\n",
      "Episode 865: Gravity=25.0, Length=1.0, Mass=1.0, Friction=0.5\n"
     ]
    },
    {
     "name": "stderr",
     "output_type": "stream",
     "text": [
      "Epoch #1:  92%|#########1| 9180/10000 [00:10<00:01, 811.79it/s, env_step=9180, gradient_step=918, len=9, n/ep=1, n/st=10, rew=9.00]  "
     ]
    },
    {
     "name": "stdout",
     "output_type": "stream",
     "text": [
      "Episode 866: Gravity=25.0, Length=1.0, Mass=1.0, Friction=0.5\n",
      "Episode 867: Gravity=25.0, Length=1.0, Mass=1.0, Friction=0.5\n",
      "Episode 868: Gravity=25.0, Length=1.0, Mass=1.0, Friction=0.5\n",
      "Episode 869: Gravity=25.0, Length=1.0, Mass=1.0, Friction=0.5\n",
      "Episode 870: Gravity=25.0, Length=1.0, Mass=1.0, Friction=0.5\n",
      "Episode 871: Gravity=25.0, Length=1.0, Mass=1.0, Friction=0.5\n",
      "Episode 872: Gravity=25.0, Length=1.0, Mass=1.0, Friction=0.5\n",
      "Episode 873: Gravity=25.0, Length=1.0, Mass=1.0, Friction=0.5\n",
      "Episode 874: Gravity=25.0, Length=1.0, Mass=1.0, Friction=0.5\n",
      "Episode 875: Gravity=25.0, Length=1.0, Mass=1.0, Friction=0.5\n",
      "Episode 876: Gravity=25.0, Length=1.0, Mass=1.0, Friction=0.5\n",
      "Episode 877: Gravity=25.0, Length=1.0, Mass=1.0, Friction=0.5\n",
      "Episode 878: Gravity=25.0, Length=1.0, Mass=1.0, Friction=0.5\n",
      "Episode 879: Gravity=25.0, Length=1.0, Mass=1.0, Friction=0.5\n",
      "Episode 880: Gravity=25.0, Length=1.0, Mass=1.0, Friction=0.5\n",
      "Episode 881: Gravity=25.0, Length=1.0, Mass=1.0, Friction=0.5\n",
      "Episode 882: Gravity=25.0, Length=1.0, Mass=1.0, Friction=0.5\n",
      "Episode 883: Gravity=25.0, Length=1.0, Mass=1.0, Friction=0.5\n",
      "Episode 884: Gravity=25.0, Length=1.0, Mass=1.0, Friction=0.5\n",
      "Episode 885: Gravity=25.0, Length=1.0, Mass=1.0, Friction=0.5\n",
      "Episode 886: Gravity=25.0, Length=1.0, Mass=1.0, Friction=0.5\n"
     ]
    },
    {
     "name": "stderr",
     "output_type": "stream",
     "text": [
      "Epoch #1:  94%|#########4| 9420/10000 [00:10<00:00, 958.47it/s, env_step=9420, gradient_step=942, len=11, n/ep=1, n/st=10, rew=11.00]"
     ]
    },
    {
     "name": "stdout",
     "output_type": "stream",
     "text": [
      "Episode 887: Gravity=25.0, Length=1.0, Mass=1.0, Friction=0.5\n",
      "Episode 888: Gravity=25.0, Length=1.0, Mass=1.0, Friction=0.5\n",
      "Episode 889: Gravity=25.0, Length=1.0, Mass=1.0, Friction=0.5\n",
      "Episode 890: Gravity=25.0, Length=1.0, Mass=1.0, Friction=0.5\n",
      "Episode 891: Gravity=25.0, Length=1.0, Mass=1.0, Friction=0.5\n",
      "Episode 892: Gravity=25.0, Length=1.0, Mass=1.0, Friction=0.5\n",
      "Episode 893: Gravity=25.0, Length=1.0, Mass=1.0, Friction=0.5\n",
      "Episode 894: Gravity=25.0, Length=1.0, Mass=1.0, Friction=0.5\n",
      "Episode 895: Gravity=25.0, Length=1.0, Mass=1.0, Friction=0.5\n",
      "Episode 896: Gravity=25.0, Length=1.0, Mass=1.0, Friction=0.5\n",
      "Episode 897: Gravity=25.0, Length=1.0, Mass=1.0, Friction=0.5\n",
      "Episode 898: Gravity=25.0, Length=1.0, Mass=1.0, Friction=0.5\n",
      "Episode 899: Gravity=25.0, Length=1.0, Mass=1.0, Friction=0.5\n",
      "Episode 900: Gravity=25.0, Length=1.0, Mass=1.0, Friction=0.5\n",
      "Episode 901: Gravity=25.0, Length=1.0, Mass=1.0, Friction=0.5\n",
      "Episode 902: Gravity=25.0, Length=1.0, Mass=1.0, Friction=0.5\n",
      "Episode 903: Gravity=25.0, Length=1.0, Mass=1.0, Friction=0.5\n",
      "Episode 904: Gravity=25.0, Length=1.0, Mass=1.0, Friction=0.5\n",
      "Episode 905: Gravity=25.0, Length=1.0, Mass=1.0, Friction=0.5\n",
      "Episode 906: Gravity=25.0, Length=1.0, Mass=1.0, Friction=0.5\n",
      "Episode 907: Gravity=25.0, Length=1.0, Mass=1.0, Friction=0.5\n",
      "Episode 908: Gravity=25.0, Length=1.0, Mass=1.0, Friction=0.5\n",
      "Episode 909: Gravity=25.0, Length=1.0, Mass=1.0, Friction=0.5\n",
      "Episode 910: Gravity=25.0, Length=1.0, Mass=1.0, Friction=0.5\n"
     ]
    },
    {
     "name": "stderr",
     "output_type": "stream",
     "text": [
      "Epoch #1:  97%|#########6| 9660/10000 [00:10<00:00, 1047.44it/s, env_step=9660, gradient_step=966, len=10, n/ep=1, n/st=10, rew=10.00]"
     ]
    },
    {
     "name": "stdout",
     "output_type": "stream",
     "text": [
      "Episode 911: Gravity=25.0, Length=1.0, Mass=1.0, Friction=0.5\n",
      "Episode 912: Gravity=25.0, Length=1.0, Mass=1.0, Friction=0.5\n",
      "Episode 913: Gravity=25.0, Length=1.0, Mass=1.0, Friction=0.5\n",
      "Episode 914: Gravity=25.0, Length=1.0, Mass=1.0, Friction=0.5\n",
      "Episode 915: Gravity=25.0, Length=1.0, Mass=1.0, Friction=0.5\n",
      "Episode 916: Gravity=25.0, Length=1.0, Mass=1.0, Friction=0.5\n",
      "Episode 917: Gravity=25.0, Length=1.0, Mass=1.0, Friction=0.5\n",
      "Episode 918: Gravity=25.0, Length=1.0, Mass=1.0, Friction=0.5\n",
      "Episode 919: Gravity=25.0, Length=1.0, Mass=1.0, Friction=0.5\n",
      "Episode 920: Gravity=25.0, Length=1.0, Mass=1.0, Friction=0.5\n",
      "Episode 921: Gravity=25.0, Length=1.0, Mass=1.0, Friction=0.5\n",
      "Episode 922: Gravity=25.0, Length=1.0, Mass=1.0, Friction=0.5\n",
      "Episode 923: Gravity=25.0, Length=1.0, Mass=1.0, Friction=0.5\n",
      "Episode 924: Gravity=25.0, Length=1.0, Mass=1.0, Friction=0.5\n",
      "Episode 925: Gravity=25.0, Length=1.0, Mass=1.0, Friction=0.5\n",
      "Episode 926: Gravity=25.0, Length=1.0, Mass=1.0, Friction=0.5\n",
      "Episode 927: Gravity=25.0, Length=1.0, Mass=1.0, Friction=0.5\n",
      "Episode 928: Gravity=25.0, Length=1.0, Mass=1.0, Friction=0.5\n",
      "Episode 929: Gravity=25.0, Length=1.0, Mass=1.0, Friction=0.5\n",
      "Episode 930: Gravity=25.0, Length=1.0, Mass=1.0, Friction=0.5\n",
      "Episode 931: Gravity=25.0, Length=1.0, Mass=1.0, Friction=0.5\n",
      "Episode 932: Gravity=25.0, Length=1.0, Mass=1.0, Friction=0.5\n",
      "Episode 933: Gravity=25.0, Length=1.0, Mass=1.0, Friction=0.5\n",
      "Episode 934: Gravity=25.0, Length=1.0, Mass=1.0, Friction=0.5\n"
     ]
    },
    {
     "name": "stderr",
     "output_type": "stream",
     "text": [
      "Epoch #1:  99%|#########8| 9890/10000 [00:10<00:00, 1103.16it/s, env_step=9890, gradient_step=989, len=11, n/ep=1, n/st=10, rew=11.00]"
     ]
    },
    {
     "name": "stdout",
     "output_type": "stream",
     "text": [
      "Episode 935: Gravity=25.0, Length=1.0, Mass=1.0, Friction=0.5\n",
      "Episode 936: Gravity=25.0, Length=1.0, Mass=1.0, Friction=0.5\n",
      "Episode 937: Gravity=25.0, Length=1.0, Mass=1.0, Friction=0.5\n",
      "Episode 938: Gravity=25.0, Length=1.0, Mass=1.0, Friction=0.5\n",
      "Episode 939: Gravity=25.0, Length=1.0, Mass=1.0, Friction=0.5\n",
      "Episode 940: Gravity=25.0, Length=1.0, Mass=1.0, Friction=0.5\n",
      "Episode 941: Gravity=25.0, Length=1.0, Mass=1.0, Friction=0.5\n",
      "Episode 942: Gravity=25.0, Length=1.0, Mass=1.0, Friction=0.5\n",
      "Episode 943: Gravity=25.0, Length=1.0, Mass=1.0, Friction=0.5\n",
      "Episode 944: Gravity=25.0, Length=1.0, Mass=1.0, Friction=0.5\n",
      "Episode 945: Gravity=25.0, Length=1.0, Mass=1.0, Friction=0.5\n",
      "Episode 946: Gravity=25.0, Length=1.0, Mass=1.0, Friction=0.5\n",
      "Episode 947: Gravity=25.0, Length=1.0, Mass=1.0, Friction=0.5\n",
      "Episode 948: Gravity=25.0, Length=1.0, Mass=1.0, Friction=0.5\n",
      "Episode 949: Gravity=25.0, Length=1.0, Mass=1.0, Friction=0.5\n",
      "Episode 950: Gravity=25.0, Length=1.0, Mass=1.0, Friction=0.5\n",
      "Episode 951: Gravity=25.0, Length=1.0, Mass=1.0, Friction=0.5\n",
      "Episode 952: Gravity=25.0, Length=1.0, Mass=1.0, Friction=0.5\n",
      "Episode 953: Gravity=25.0, Length=1.0, Mass=1.0, Friction=0.5\n",
      "Episode 954: Gravity=25.0, Length=1.0, Mass=1.0, Friction=0.5\n",
      "Episode 955: Gravity=25.0, Length=1.0, Mass=1.0, Friction=0.5\n",
      "Episode 956: Gravity=25.0, Length=1.0, Mass=1.0, Friction=0.5\n",
      "Episode 957: Gravity=25.0, Length=1.0, Mass=1.0, Friction=0.5\n",
      "Episode 958: Gravity=25.0, Length=1.0, Mass=1.0, Friction=0.5\n"
     ]
    },
    {
     "name": "stderr",
     "output_type": "stream",
     "text": [
      "Epoch #1: 10001it [00:10, 916.16it/s, env_step=10000, gradient_step=1000, len=10, n/ep=1, n/st=10, rew=10.00]                            \n"
     ]
    },
    {
     "name": "stdout",
     "output_type": "stream",
     "text": [
      "Episode 959: Gravity=25.0, Length=1.0, Mass=1.0, Friction=0.5\n",
      "Episode 960: Gravity=25.0, Length=1.0, Mass=1.0, Friction=0.5\n",
      "Episode 961: Gravity=25.0, Length=1.0, Mass=1.0, Friction=0.5\n",
      "Episode 962: Gravity=25.0, Length=1.0, Mass=1.0, Friction=0.5\n",
      "Episode 963: Gravity=25.0, Length=1.0, Mass=1.0, Friction=0.5\n",
      "Episode 964: Gravity=25.0, Length=1.0, Mass=1.0, Friction=0.5\n",
      "Episode 965: Gravity=25.0, Length=1.0, Mass=1.0, Friction=0.5\n",
      "Episode 966: Gravity=25.0, Length=1.0, Mass=1.0, Friction=0.5\n",
      "Episode 967: Gravity=25.0, Length=1.0, Mass=1.0, Friction=0.5\n",
      "Episode 207: Gravity=13.28, Length=0.5312, Mass=0.44329999999999997, Friction=0.20700000000000002\n",
      "Episode 208: Gravity=13.32, Length=0.5328, Mass=0.4452, Friction=0.20800000000000002\n",
      "Episode 209: Gravity=13.36, Length=0.5344, Mass=0.4471, Friction=0.209\n",
      "Episode 210: Gravity=13.4, Length=0.536, Mass=0.449, Friction=0.21\n",
      "Episode 211: Gravity=13.44, Length=0.5376000000000001, Mass=0.45089999999999997, Friction=0.211\n",
      "Episode 212: Gravity=13.48, Length=0.5392, Mass=0.4528, Friction=0.212\n",
      "Episode 213: Gravity=13.52, Length=0.5408, Mass=0.4547, Friction=0.213\n",
      "Episode 214: Gravity=13.56, Length=0.5424, Mass=0.4566, Friction=0.214\n",
      "Episode 215: Gravity=13.6, Length=0.544, Mass=0.45849999999999996, Friction=0.215\n",
      "Episode 216: Gravity=13.64, Length=0.5456000000000001, Mass=0.4604, Friction=0.216\n",
      "Episode 217: Gravity=13.68, Length=0.5472, Mass=0.4623, Friction=0.217\n",
      "Episode 218: Gravity=13.72, Length=0.5488, Mass=0.4642, Friction=0.218\n",
      "Episode 219: Gravity=13.76, Length=0.5504, Mass=0.4661, Friction=0.219\n",
      "Episode 220: Gravity=13.8, Length=0.552, Mass=0.46799999999999997, Friction=0.22\n",
      "Episode 221: Gravity=13.84, Length=0.5536000000000001, Mass=0.4699, Friction=0.221\n",
      "Episode 222: Gravity=13.88, Length=0.5552, Mass=0.4718, Friction=0.222\n",
      "Episode 223: Gravity=13.92, Length=0.5568, Mass=0.4737, Friction=0.223\n",
      "Episode 224: Gravity=13.96, Length=0.5584, Mass=0.47559999999999997, Friction=0.224\n",
      "Episode 225: Gravity=14.0, Length=0.56, Mass=0.4775, Friction=0.225\n",
      "Episode 226: Gravity=14.040000000000001, Length=0.5616000000000001, Mass=0.4794, Friction=0.226\n",
      "Episode 227: Gravity=14.08, Length=0.5632, Mass=0.4813, Friction=0.227\n",
      "Episode 228: Gravity=14.120000000000001, Length=0.5648, Mass=0.48319999999999996, Friction=0.228\n",
      "Episode 229: Gravity=14.16, Length=0.5664, Mass=0.4851, Friction=0.229\n",
      "Episode 230: Gravity=14.200000000000001, Length=0.5680000000000001, Mass=0.487, Friction=0.23\n",
      "Episode 231: Gravity=14.24, Length=0.5696000000000001, Mass=0.4889, Friction=0.231\n",
      "Episode 232: Gravity=14.28, Length=0.5712, Mass=0.4908, Friction=0.232\n",
      "Episode 233: Gravity=14.32, Length=0.5728, Mass=0.49269999999999997, Friction=0.233\n",
      "Episode 234: Gravity=14.36, Length=0.5744, Mass=0.4946, Friction=0.234\n",
      "Episode 235: Gravity=14.4, Length=0.5760000000000001, Mass=0.4965, Friction=0.23500000000000001\n",
      "Episode 236: Gravity=14.44, Length=0.5776, Mass=0.4984, Friction=0.23600000000000002\n",
      "Episode 237: Gravity=14.48, Length=0.5792, Mass=0.5003, Friction=0.23700000000000002\n",
      "Episode 238: Gravity=14.52, Length=0.5808, Mass=0.5022, Friction=0.23800000000000002\n",
      "Episode 239: Gravity=14.56, Length=0.5824, Mass=0.5041, Friction=0.23900000000000002\n",
      "Episode 240: Gravity=14.6, Length=0.5840000000000001, Mass=0.506, Friction=0.24\n",
      "Episode 241: Gravity=14.64, Length=0.5856, Mass=0.5079, Friction=0.241\n",
      "Episode 242: Gravity=14.68, Length=0.5872, Mass=0.5098, Friction=0.242\n",
      "Episode 243: Gravity=14.72, Length=0.5888, Mass=0.5117, Friction=0.243\n",
      "Episode 244: Gravity=14.76, Length=0.5904, Mass=0.5136000000000001, Friction=0.244\n",
      "Episode 245: Gravity=14.8, Length=0.5920000000000001, Mass=0.5155000000000001, Friction=0.245\n",
      "Episode 246: Gravity=14.84, Length=0.5936, Mass=0.5174, Friction=0.246\n",
      "Episode 247: Gravity=14.88, Length=0.5952, Mass=0.5193, Friction=0.247\n",
      "Episode 248: Gravity=14.92, Length=0.5968, Mass=0.5212, Friction=0.248\n",
      "Episode 249: Gravity=14.96, Length=0.5984, Mass=0.5231, Friction=0.249\n",
      "Episode 250: Gravity=15.0, Length=0.6000000000000001, Mass=0.525, Friction=0.25\n",
      "Episode 251: Gravity=15.040000000000001, Length=0.6016, Mass=0.5269, Friction=0.251\n",
      "Episode 252: Gravity=15.08, Length=0.6032, Mass=0.5288, Friction=0.252\n",
      "Episode 253: Gravity=15.120000000000001, Length=0.6048, Mass=0.5307000000000001, Friction=0.253\n",
      "Episode 254: Gravity=15.16, Length=0.6064, Mass=0.5326, Friction=0.254\n",
      "Episode 255: Gravity=15.200000000000001, Length=0.6080000000000001, Mass=0.5345, Friction=0.255\n",
      "Episode 256: Gravity=15.24, Length=0.6096, Mass=0.5364, Friction=0.256\n",
      "Episode 257: Gravity=15.28, Length=0.6112, Mass=0.5383, Friction=0.257\n",
      "Episode 258: Gravity=15.32, Length=0.6128, Mass=0.5402, Friction=0.258\n",
      "Episode 259: Gravity=15.36, Length=0.6144000000000001, Mass=0.5421, Friction=0.259\n",
      "Episode 260: Gravity=15.4, Length=0.6160000000000001, Mass=0.544, Friction=0.26\n",
      "Episode 261: Gravity=15.44, Length=0.6176, Mass=0.5459, Friction=0.261\n",
      "Episode 262: Gravity=15.48, Length=0.6192, Mass=0.5478000000000001, Friction=0.262\n",
      "Episode 263: Gravity=15.52, Length=0.6208, Mass=0.5497, Friction=0.263\n",
      "Episode 264: Gravity=15.56, Length=0.6224000000000001, Mass=0.5516000000000001, Friction=0.264\n",
      "Episode 265: Gravity=15.6, Length=0.6240000000000001, Mass=0.5535, Friction=0.265\n",
      "Episode 266: Gravity=15.64, Length=0.6256, Mass=0.5554, Friction=0.266\n",
      "Episode 267: Gravity=15.68, Length=0.6272, Mass=0.5573, Friction=0.267\n",
      "Episode 268: Gravity=15.72, Length=0.6288, Mass=0.5592, Friction=0.268\n",
      "Episode 269: Gravity=15.76, Length=0.6304000000000001, Mass=0.5611, Friction=0.269\n",
      "Episode 270: Gravity=15.8, Length=0.632, Mass=0.5630000000000001, Friction=0.27\n",
      "Episode 271: Gravity=15.84, Length=0.6336, Mass=0.5649000000000001, Friction=0.271\n",
      "Episode 272: Gravity=15.88, Length=0.6352, Mass=0.5668000000000001, Friction=0.272\n",
      "Episode 273: Gravity=15.92, Length=0.6368, Mass=0.5687000000000001, Friction=0.273\n",
      "Episode 274: Gravity=15.96, Length=0.6384000000000001, Mass=0.5706, Friction=0.274\n",
      "Episode 275: Gravity=16.0, Length=0.64, Mass=0.5725, Friction=0.275\n",
      "Episode 276: Gravity=16.04, Length=0.6416000000000001, Mass=0.5744, Friction=0.276\n",
      "Episode 277: Gravity=16.08, Length=0.6432, Mass=0.5763, Friction=0.277\n",
      "Episode 278: Gravity=16.12, Length=0.6448, Mass=0.5782, Friction=0.278\n",
      "Episode 279: Gravity=16.16, Length=0.6464000000000001, Mass=0.5801000000000001, Friction=0.279\n",
      "Episode 280: Gravity=16.200000000000003, Length=0.648, Mass=0.5820000000000001, Friction=0.28\n",
      "Episode 281: Gravity=16.240000000000002, Length=0.6496, Mass=0.5839000000000001, Friction=0.281\n",
      "Episode 282: Gravity=16.28, Length=0.6512, Mass=0.5858000000000001, Friction=0.28200000000000003\n",
      "Episode 283: Gravity=16.32, Length=0.6528, Mass=0.5877, Friction=0.28300000000000003\n",
      "Episode 284: Gravity=16.36, Length=0.6544000000000001, Mass=0.5896, Friction=0.28400000000000003\n",
      "Episode 285: Gravity=16.4, Length=0.656, Mass=0.5915, Friction=0.28500000000000003\n",
      "Episode 286: Gravity=16.439999999999998, Length=0.6576, Mass=0.5934, Friction=0.28600000000000003\n",
      "Episode 287: Gravity=16.48, Length=0.6592, Mass=0.5953, Friction=0.28700000000000003\n",
      "Episode 288: Gravity=16.52, Length=0.6608, Mass=0.5972000000000001, Friction=0.28800000000000003\n",
      "Episode 289: Gravity=16.560000000000002, Length=0.6624000000000001, Mass=0.5991000000000001, Friction=0.289\n",
      "Episode 290: Gravity=16.6, Length=0.664, Mass=0.6010000000000001, Friction=0.29\n",
      "Episode 291: Gravity=16.64, Length=0.6656, Mass=0.6029, Friction=0.291\n",
      "Episode 292: Gravity=16.68, Length=0.6672, Mass=0.6048, Friction=0.292\n",
      "Episode 293: Gravity=16.72, Length=0.6688000000000001, Mass=0.6067, Friction=0.293\n",
      "Episode 294: Gravity=16.759999999999998, Length=0.6704000000000001, Mass=0.6086, Friction=0.294\n",
      "Episode 295: Gravity=16.8, Length=0.672, Mass=0.6105, Friction=0.295\n",
      "Episode 296: Gravity=16.84, Length=0.6736, Mass=0.6124, Friction=0.296\n",
      "Episode 297: Gravity=16.880000000000003, Length=0.6752, Mass=0.6143000000000001, Friction=0.297\n",
      "Episode 298: Gravity=16.92, Length=0.6768000000000001, Mass=0.6162000000000001, Friction=0.298\n",
      "Episode 299: Gravity=16.96, Length=0.6784000000000001, Mass=0.6181000000000001, Friction=0.299\n",
      "Episode 300: Gravity=17.0, Length=0.68, Mass=0.62, Friction=0.3\n",
      "Episode 301: Gravity=17.04, Length=0.6816, Mass=0.6219, Friction=0.301\n",
      "Episode 302: Gravity=17.08, Length=0.6832, Mass=0.6238, Friction=0.302\n",
      "Episode 303: Gravity=17.12, Length=0.6848000000000001, Mass=0.6257, Friction=0.303\n",
      "Episode 304: Gravity=17.16, Length=0.6864, Mass=0.6276, Friction=0.304\n",
      "Episode 305: Gravity=17.200000000000003, Length=0.6880000000000001, Mass=0.6295000000000001, Friction=0.305\n",
      "Episode 306: Gravity=17.240000000000002, Length=0.6896, Mass=0.6314000000000001, Friction=0.306\n",
      "Episode 307: Gravity=17.28, Length=0.6912, Mass=0.6333000000000001, Friction=0.307\n",
      "Episode 308: Gravity=17.32, Length=0.6928000000000001, Mass=0.6352000000000001, Friction=0.308\n",
      "Epoch #1: test_reward: 10.250000 ± 1.080509, best_reward: 58.140000 ± 7.794896 in #0\n"
     ]
    },
    {
     "name": "stderr",
     "output_type": "stream",
     "text": [
      "Epoch #2:   2%|2         | 250/10000 [00:00<00:06, 1415.24it/s, env_step=10250, gradient_step=1025, len=8, n/ep=2, n/st=10, rew=8.50]  "
     ]
    },
    {
     "name": "stdout",
     "output_type": "stream",
     "text": [
      "Episode 968: Gravity=25.0, Length=1.0, Mass=1.0, Friction=0.5\n",
      "Episode 969: Gravity=25.0, Length=1.0, Mass=1.0, Friction=0.5\n",
      "Episode 970: Gravity=25.0, Length=1.0, Mass=1.0, Friction=0.5\n",
      "Episode 971: Gravity=25.0, Length=1.0, Mass=1.0, Friction=0.5\n",
      "Episode 972: Gravity=25.0, Length=1.0, Mass=1.0, Friction=0.5\n",
      "Episode 973: Gravity=25.0, Length=1.0, Mass=1.0, Friction=0.5\n",
      "Episode 974: Gravity=25.0, Length=1.0, Mass=1.0, Friction=0.5\n",
      "Episode 975: Gravity=25.0, Length=1.0, Mass=1.0, Friction=0.5\n",
      "Episode 976: Gravity=25.0, Length=1.0, Mass=1.0, Friction=0.5\n",
      "Episode 977: Gravity=25.0, Length=1.0, Mass=1.0, Friction=0.5\n",
      "Episode 978: Gravity=25.0, Length=1.0, Mass=1.0, Friction=0.5\n",
      "Episode 979: Gravity=25.0, Length=1.0, Mass=1.0, Friction=0.5\n",
      "Episode 980: Gravity=25.0, Length=1.0, Mass=1.0, Friction=0.5\n",
      "Episode 981: Gravity=25.0, Length=1.0, Mass=1.0, Friction=0.5\n",
      "Episode 982: Gravity=25.0, Length=1.0, Mass=1.0, Friction=0.5\n",
      "Episode 983: Gravity=25.0, Length=1.0, Mass=1.0, Friction=0.5\n",
      "Episode 984: Gravity=25.0, Length=1.0, Mass=1.0, Friction=0.5\n",
      "Episode 985: Gravity=25.0, Length=1.0, Mass=1.0, Friction=0.5\n",
      "Episode 986: Gravity=25.0, Length=1.0, Mass=1.0, Friction=0.5\n",
      "Episode 987: Gravity=25.0, Length=1.0, Mass=1.0, Friction=0.5\n"
     ]
    },
    {
     "name": "stderr",
     "output_type": "stream",
     "text": [
      "Epoch #2:   3%|2         | 280/10000 [00:00<00:06, 1415.24it/s, env_step=10280, gradient_step=1028, len=13, n/ep=1, n/st=10, rew=13.00]"
     ]
    },
    {
     "name": "stdout",
     "output_type": "stream",
     "text": [
      "Episode 988: Gravity=25.0, Length=1.0, Mass=1.0, Friction=0.5\n",
      "Episode 989: Gravity=25.0, Length=1.0, Mass=1.0, Friction=0.5\n",
      "Episode 990: Gravity=25.0, Length=1.0, Mass=1.0, Friction=0.5\n"
     ]
    },
    {
     "name": "stderr",
     "output_type": "stream",
     "text": [
      "Epoch #2:   5%|5         | 530/10000 [00:00<00:06, 1371.93it/s, env_step=10530, gradient_step=1053, len=29, n/ep=1, n/st=10, rew=29.00]"
     ]
    },
    {
     "name": "stdout",
     "output_type": "stream",
     "text": [
      "Episode 991: Gravity=25.0, Length=1.0, Mass=1.0, Friction=0.5\n",
      "Episode 992: Gravity=25.0, Length=1.0, Mass=1.0, Friction=0.5\n",
      "Episode 993: Gravity=25.0, Length=1.0, Mass=1.0, Friction=0.5\n",
      "Episode 994: Gravity=25.0, Length=1.0, Mass=1.0, Friction=0.5\n",
      "Episode 995: Gravity=25.0, Length=1.0, Mass=1.0, Friction=0.5\n",
      "Episode 996: Gravity=25.0, Length=1.0, Mass=1.0, Friction=0.5\n",
      "Episode 997: Gravity=25.0, Length=1.0, Mass=1.0, Friction=0.5\n",
      "Episode 998: Gravity=25.0, Length=1.0, Mass=1.0, Friction=0.5\n",
      "Episode 999: Gravity=25.0, Length=1.0, Mass=1.0, Friction=0.5\n",
      "Episode 1000: Gravity=25.0, Length=1.0, Mass=1.0, Friction=0.5\n",
      "Episode 1001: Gravity=25.0, Length=1.0, Mass=1.0, Friction=0.5\n",
      "Episode 1002: Gravity=25.0, Length=1.0, Mass=1.0, Friction=0.5\n",
      "Episode 1003: Gravity=25.0, Length=1.0, Mass=1.0, Friction=0.5\n",
      "Episode 1004: Gravity=25.0, Length=1.0, Mass=1.0, Friction=0.5\n",
      "Episode 1005: Gravity=25.0, Length=1.0, Mass=1.0, Friction=0.5\n",
      "Episode 1006: Gravity=25.0, Length=1.0, Mass=1.0, Friction=0.5\n",
      "Episode 1007: Gravity=25.0, Length=1.0, Mass=1.0, Friction=0.5\n",
      "Episode 1008: Gravity=25.0, Length=1.0, Mass=1.0, Friction=0.5\n",
      "Episode 1009: Gravity=25.0, Length=1.0, Mass=1.0, Friction=0.5\n"
     ]
    },
    {
     "name": "stderr",
     "output_type": "stream",
     "text": [
      "Epoch #2:   6%|5         | 560/10000 [00:00<00:06, 1371.93it/s, env_step=10560, gradient_step=1056, len=17, n/ep=1, n/st=10, rew=17.00]"
     ]
    },
    {
     "name": "stdout",
     "output_type": "stream",
     "text": [
      "Episode 1010: Gravity=25.0, Length=1.0, Mass=1.0, Friction=0.5\n",
      "Episode 1011: Gravity=25.0, Length=1.0, Mass=1.0, Friction=0.5\n"
     ]
    },
    {
     "name": "stderr",
     "output_type": "stream",
     "text": [
      "Epoch #2:   8%|8         | 800/10000 [00:00<00:06, 1365.93it/s, env_step=10800, gradient_step=1080, len=10, n/ep=1, n/st=10, rew=10.00]"
     ]
    },
    {
     "name": "stdout",
     "output_type": "stream",
     "text": [
      "Episode 1012: Gravity=25.0, Length=1.0, Mass=1.0, Friction=0.5\n",
      "Episode 1013: Gravity=25.0, Length=1.0, Mass=1.0, Friction=0.5\n",
      "Episode 1014: Gravity=25.0, Length=1.0, Mass=1.0, Friction=0.5\n",
      "Episode 1015: Gravity=25.0, Length=1.0, Mass=1.0, Friction=0.5\n",
      "Episode 1016: Gravity=25.0, Length=1.0, Mass=1.0, Friction=0.5\n",
      "Episode 1017: Gravity=25.0, Length=1.0, Mass=1.0, Friction=0.5\n",
      "Episode 1018: Gravity=25.0, Length=1.0, Mass=1.0, Friction=0.5\n",
      "Episode 1019: Gravity=25.0, Length=1.0, Mass=1.0, Friction=0.5\n",
      "Episode 1020: Gravity=25.0, Length=1.0, Mass=1.0, Friction=0.5\n",
      "Episode 1021: Gravity=25.0, Length=1.0, Mass=1.0, Friction=0.5\n",
      "Episode 1022: Gravity=25.0, Length=1.0, Mass=1.0, Friction=0.5\n",
      "Episode 1023: Gravity=25.0, Length=1.0, Mass=1.0, Friction=0.5\n",
      "Episode 1024: Gravity=25.0, Length=1.0, Mass=1.0, Friction=0.5\n",
      "Episode 1025: Gravity=25.0, Length=1.0, Mass=1.0, Friction=0.5\n",
      "Episode 1026: Gravity=25.0, Length=1.0, Mass=1.0, Friction=0.5\n",
      "Episode 1027: Gravity=25.0, Length=1.0, Mass=1.0, Friction=0.5\n",
      "Episode 1028: Gravity=25.0, Length=1.0, Mass=1.0, Friction=0.5\n",
      "Episode 1029: Gravity=25.0, Length=1.0, Mass=1.0, Friction=0.5\n",
      "Episode 1030: Gravity=25.0, Length=1.0, Mass=1.0, Friction=0.5\n",
      "Episode 1031: Gravity=25.0, Length=1.0, Mass=1.0, Friction=0.5\n"
     ]
    },
    {
     "name": "stderr",
     "output_type": "stream",
     "text": [
      "Epoch #2:   8%|8         | 840/10000 [00:00<00:06, 1365.93it/s, env_step=10840, gradient_step=1084, len=12, n/ep=1, n/st=10, rew=12.00]"
     ]
    },
    {
     "name": "stdout",
     "output_type": "stream",
     "text": [
      "Episode 1032: Gravity=25.0, Length=1.0, Mass=1.0, Friction=0.5\n",
      "Episode 1033: Gravity=25.0, Length=1.0, Mass=1.0, Friction=0.5\n",
      "Episode 1034: Gravity=25.0, Length=1.0, Mass=1.0, Friction=0.5\n"
     ]
    },
    {
     "name": "stderr",
     "output_type": "stream",
     "text": [
      "Epoch #2:  11%|#         | 1080/10000 [00:00<00:06, 1359.36it/s, env_step=11080, gradient_step=1108, len=10, n/ep=1, n/st=10, rew=10.00]"
     ]
    },
    {
     "name": "stdout",
     "output_type": "stream",
     "text": [
      "Episode 1035: Gravity=25.0, Length=1.0, Mass=1.0, Friction=0.5\n",
      "Episode 1036: Gravity=25.0, Length=1.0, Mass=1.0, Friction=0.5\n",
      "Episode 1037: Gravity=25.0, Length=1.0, Mass=1.0, Friction=0.5\n",
      "Episode 1038: Gravity=25.0, Length=1.0, Mass=1.0, Friction=0.5\n",
      "Episode 1039: Gravity=25.0, Length=1.0, Mass=1.0, Friction=0.5\n",
      "Episode 1040: Gravity=25.0, Length=1.0, Mass=1.0, Friction=0.5\n",
      "Episode 1041: Gravity=25.0, Length=1.0, Mass=1.0, Friction=0.5\n",
      "Episode 1042: Gravity=25.0, Length=1.0, Mass=1.0, Friction=0.5\n",
      "Episode 1043: Gravity=25.0, Length=1.0, Mass=1.0, Friction=0.5\n",
      "Episode 1044: Gravity=25.0, Length=1.0, Mass=1.0, Friction=0.5\n",
      "Episode 1045: Gravity=25.0, Length=1.0, Mass=1.0, Friction=0.5\n",
      "Episode 1046: Gravity=25.0, Length=1.0, Mass=1.0, Friction=0.5\n",
      "Episode 1047: Gravity=25.0, Length=1.0, Mass=1.0, Friction=0.5\n",
      "Episode 1048: Gravity=25.0, Length=1.0, Mass=1.0, Friction=0.5\n",
      "Episode 1049: Gravity=25.0, Length=1.0, Mass=1.0, Friction=0.5\n",
      "Episode 1050: Gravity=25.0, Length=1.0, Mass=1.0, Friction=0.5\n",
      "Episode 1051: Gravity=25.0, Length=1.0, Mass=1.0, Friction=0.5\n",
      "Episode 1052: Gravity=25.0, Length=1.0, Mass=1.0, Friction=0.5\n",
      "Episode 1053: Gravity=25.0, Length=1.0, Mass=1.0, Friction=0.5\n",
      "Episode 1054: Gravity=25.0, Length=1.0, Mass=1.0, Friction=0.5\n"
     ]
    },
    {
     "name": "stderr",
     "output_type": "stream",
     "text": [
      "Epoch #2:  11%|#1        | 1110/10000 [00:00<00:06, 1359.36it/s, env_step=11110, gradient_step=1111, len=11, n/ep=1, n/st=10, rew=11.00]"
     ]
    },
    {
     "name": "stdout",
     "output_type": "stream",
     "text": [
      "Episode 1055: Gravity=25.0, Length=1.0, Mass=1.0, Friction=0.5\n",
      "Episode 1056: Gravity=25.0, Length=1.0, Mass=1.0, Friction=0.5\n",
      "Episode 1057: Gravity=25.0, Length=1.0, Mass=1.0, Friction=0.5\n"
     ]
    },
    {
     "name": "stderr",
     "output_type": "stream",
     "text": [
      "Epoch #2:  13%|#3        | 1300/10000 [00:00<00:06, 1251.21it/s, env_step=11300, gradient_step=1130, len=10, n/ep=1, n/st=10, rew=10.00]"
     ]
    },
    {
     "name": "stdout",
     "output_type": "stream",
     "text": [
      "Episode 1058: Gravity=25.0, Length=1.0, Mass=1.0, Friction=0.5\n",
      "Episode 1059: Gravity=25.0, Length=1.0, Mass=1.0, Friction=0.5\n",
      "Episode 1060: Gravity=25.0, Length=1.0, Mass=1.0, Friction=0.5\n",
      "Episode 1061: Gravity=25.0, Length=1.0, Mass=1.0, Friction=0.5\n",
      "Episode 1062: Gravity=25.0, Length=1.0, Mass=1.0, Friction=0.5\n",
      "Episode 1063: Gravity=25.0, Length=1.0, Mass=1.0, Friction=0.5\n",
      "Episode 1064: Gravity=25.0, Length=1.0, Mass=1.0, Friction=0.5\n",
      "Episode 1065: Gravity=25.0, Length=1.0, Mass=1.0, Friction=0.5\n",
      "Episode 1066: Gravity=25.0, Length=1.0, Mass=1.0, Friction=0.5\n",
      "Episode 1067: Gravity=25.0, Length=1.0, Mass=1.0, Friction=0.5\n",
      "Episode 1068: Gravity=25.0, Length=1.0, Mass=1.0, Friction=0.5\n",
      "Episode 1069: Gravity=25.0, Length=1.0, Mass=1.0, Friction=0.5\n",
      "Episode 1070: Gravity=25.0, Length=1.0, Mass=1.0, Friction=0.5\n",
      "Episode 1071: Gravity=25.0, Length=1.0, Mass=1.0, Friction=0.5\n",
      "Episode 1072: Gravity=25.0, Length=1.0, Mass=1.0, Friction=0.5\n",
      "Episode 1073: Gravity=25.0, Length=1.0, Mass=1.0, Friction=0.5\n",
      "Episode 1074: Gravity=25.0, Length=1.0, Mass=1.0, Friction=0.5\n"
     ]
    },
    {
     "name": "stderr",
     "output_type": "stream",
     "text": [
      "Epoch #2:  13%|#3        | 1330/10000 [00:01<00:06, 1251.21it/s, env_step=11330, gradient_step=1133, len=10, n/ep=1, n/st=10, rew=10.00]"
     ]
    },
    {
     "name": "stdout",
     "output_type": "stream",
     "text": [
      "Episode 1075: Gravity=25.0, Length=1.0, Mass=1.0, Friction=0.5\n",
      "Episode 1076: Gravity=25.0, Length=1.0, Mass=1.0, Friction=0.5\n"
     ]
    },
    {
     "name": "stderr",
     "output_type": "stream",
     "text": [
      "Epoch #2:  15%|#4        | 1480/10000 [00:01<00:07, 1090.43it/s, env_step=11480, gradient_step=1148, len=9, n/ep=1, n/st=10, rew=9.00]  "
     ]
    },
    {
     "name": "stdout",
     "output_type": "stream",
     "text": [
      "Episode 1077: Gravity=25.0, Length=1.0, Mass=1.0, Friction=0.5\n",
      "Episode 1078: Gravity=25.0, Length=1.0, Mass=1.0, Friction=0.5\n",
      "Episode 1079: Gravity=25.0, Length=1.0, Mass=1.0, Friction=0.5\n",
      "Episode 1080: Gravity=25.0, Length=1.0, Mass=1.0, Friction=0.5\n",
      "Episode 1081: Gravity=25.0, Length=1.0, Mass=1.0, Friction=0.5\n",
      "Episode 1082: Gravity=25.0, Length=1.0, Mass=1.0, Friction=0.5\n",
      "Episode 1083: Gravity=25.0, Length=1.0, Mass=1.0, Friction=0.5\n",
      "Episode 1084: Gravity=25.0, Length=1.0, Mass=1.0, Friction=0.5\n",
      "Episode 1085: Gravity=25.0, Length=1.0, Mass=1.0, Friction=0.5\n",
      "Episode 1086: Gravity=25.0, Length=1.0, Mass=1.0, Friction=0.5\n",
      "Episode 1087: Gravity=25.0, Length=1.0, Mass=1.0, Friction=0.5\n",
      "Episode 1088: Gravity=25.0, Length=1.0, Mass=1.0, Friction=0.5\n",
      "Episode 1089: Gravity=25.0, Length=1.0, Mass=1.0, Friction=0.5\n",
      "Episode 1090: Gravity=25.0, Length=1.0, Mass=1.0, Friction=0.5\n"
     ]
    },
    {
     "name": "stderr",
     "output_type": "stream",
     "text": [
      "Epoch #2:  15%|#5        | 1510/10000 [00:01<00:07, 1090.43it/s, env_step=11510, gradient_step=1151, len=9, n/ep=1, n/st=10, rew=9.00]  "
     ]
    },
    {
     "name": "stdout",
     "output_type": "stream",
     "text": [
      "Episode 1091: Gravity=25.0, Length=1.0, Mass=1.0, Friction=0.5\n",
      "Episode 1092: Gravity=25.0, Length=1.0, Mass=1.0, Friction=0.5\n"
     ]
    },
    {
     "name": "stderr",
     "output_type": "stream",
     "text": [
      "Epoch #2:  17%|#6        | 1690/10000 [00:01<00:08, 1012.32it/s, env_step=11690, gradient_step=1169, len=11, n/ep=1, n/st=10, rew=11.00]"
     ]
    },
    {
     "name": "stdout",
     "output_type": "stream",
     "text": [
      "Episode 1093: Gravity=25.0, Length=1.0, Mass=1.0, Friction=0.5\n",
      "Episode 1094: Gravity=25.0, Length=1.0, Mass=1.0, Friction=0.5\n",
      "Episode 1095: Gravity=25.0, Length=1.0, Mass=1.0, Friction=0.5\n",
      "Episode 1096: Gravity=25.0, Length=1.0, Mass=1.0, Friction=0.5\n",
      "Episode 1097: Gravity=25.0, Length=1.0, Mass=1.0, Friction=0.5\n",
      "Episode 1098: Gravity=25.0, Length=1.0, Mass=1.0, Friction=0.5\n",
      "Episode 1099: Gravity=25.0, Length=1.0, Mass=1.0, Friction=0.5\n",
      "Episode 1100: Gravity=25.0, Length=1.0, Mass=1.0, Friction=0.5\n",
      "Episode 1101: Gravity=25.0, Length=1.0, Mass=1.0, Friction=0.5\n",
      "Episode 1102: Gravity=25.0, Length=1.0, Mass=1.0, Friction=0.5\n",
      "Episode 1103: Gravity=25.0, Length=1.0, Mass=1.0, Friction=0.5\n",
      "Episode 1104: Gravity=25.0, Length=1.0, Mass=1.0, Friction=0.5\n",
      "Episode 1105: Gravity=25.0, Length=1.0, Mass=1.0, Friction=0.5\n",
      "Episode 1106: Gravity=25.0, Length=1.0, Mass=1.0, Friction=0.5\n",
      "Episode 1107: Gravity=25.0, Length=1.0, Mass=1.0, Friction=0.5\n",
      "Episode 1108: Gravity=25.0, Length=1.0, Mass=1.0, Friction=0.5\n",
      "Episode 1109: Gravity=25.0, Length=1.0, Mass=1.0, Friction=0.5\n"
     ]
    },
    {
     "name": "stderr",
     "output_type": "stream",
     "text": [
      "Epoch #2:  17%|#7        | 1710/10000 [00:01<00:08, 1012.32it/s, env_step=11710, gradient_step=1171, len=9, n/ep=1, n/st=10, rew=9.00]  "
     ]
    },
    {
     "name": "stdout",
     "output_type": "stream",
     "text": [
      "Episode 1110: Gravity=25.0, Length=1.0, Mass=1.0, Friction=0.5\n",
      "Episode 1111: Gravity=25.0, Length=1.0, Mass=1.0, Friction=0.5\n",
      "Episode 1112: Gravity=25.0, Length=1.0, Mass=1.0, Friction=0.5\n"
     ]
    },
    {
     "name": "stderr",
     "output_type": "stream",
     "text": [
      "Epoch #2:  19%|#9        | 1910/10000 [00:01<00:07, 1057.06it/s, env_step=11910, gradient_step=1191, len=10, n/ep=1, n/st=10, rew=10.00]"
     ]
    },
    {
     "name": "stdout",
     "output_type": "stream",
     "text": [
      "Episode 1113: Gravity=25.0, Length=1.0, Mass=1.0, Friction=0.5\n",
      "Episode 1114: Gravity=25.0, Length=1.0, Mass=1.0, Friction=0.5\n",
      "Episode 1115: Gravity=25.0, Length=1.0, Mass=1.0, Friction=0.5\n",
      "Episode 1116: Gravity=25.0, Length=1.0, Mass=1.0, Friction=0.5\n",
      "Episode 1117: Gravity=25.0, Length=1.0, Mass=1.0, Friction=0.5\n",
      "Episode 1118: Gravity=25.0, Length=1.0, Mass=1.0, Friction=0.5\n",
      "Episode 1119: Gravity=25.0, Length=1.0, Mass=1.0, Friction=0.5\n",
      "Episode 1120: Gravity=25.0, Length=1.0, Mass=1.0, Friction=0.5\n",
      "Episode 1121: Gravity=25.0, Length=1.0, Mass=1.0, Friction=0.5\n",
      "Episode 1122: Gravity=25.0, Length=1.0, Mass=1.0, Friction=0.5\n",
      "Episode 1123: Gravity=25.0, Length=1.0, Mass=1.0, Friction=0.5\n",
      "Episode 1124: Gravity=25.0, Length=1.0, Mass=1.0, Friction=0.5\n",
      "Episode 1125: Gravity=25.0, Length=1.0, Mass=1.0, Friction=0.5\n",
      "Episode 1126: Gravity=25.0, Length=1.0, Mass=1.0, Friction=0.5\n",
      "Episode 1127: Gravity=25.0, Length=1.0, Mass=1.0, Friction=0.5\n",
      "Episode 1128: Gravity=25.0, Length=1.0, Mass=1.0, Friction=0.5\n",
      "Episode 1129: Gravity=25.0, Length=1.0, Mass=1.0, Friction=0.5\n",
      "Episode 1130: Gravity=25.0, Length=1.0, Mass=1.0, Friction=0.5\n",
      "Episode 1131: Gravity=25.0, Length=1.0, Mass=1.0, Friction=0.5\n"
     ]
    },
    {
     "name": "stderr",
     "output_type": "stream",
     "text": [
      "Epoch #2:  20%|#9        | 1950/10000 [00:01<00:07, 1057.06it/s, env_step=11950, gradient_step=1195, len=12, n/ep=1, n/st=10, rew=12.00]"
     ]
    },
    {
     "name": "stdout",
     "output_type": "stream",
     "text": [
      "Episode 1132: Gravity=25.0, Length=1.0, Mass=1.0, Friction=0.5\n",
      "Episode 1133: Gravity=25.0, Length=1.0, Mass=1.0, Friction=0.5\n",
      "Episode 1134: Gravity=25.0, Length=1.0, Mass=1.0, Friction=0.5\n"
     ]
    },
    {
     "name": "stderr",
     "output_type": "stream",
     "text": [
      "Epoch #2:  21%|##1       | 2100/10000 [00:01<00:07, 1007.52it/s, env_step=12100, gradient_step=1210, len=9, n/ep=2, n/st=10, rew=9.50]  "
     ]
    },
    {
     "name": "stdout",
     "output_type": "stream",
     "text": [
      "Episode 1135: Gravity=25.0, Length=1.0, Mass=1.0, Friction=0.5\n",
      "Episode 1136: Gravity=25.0, Length=1.0, Mass=1.0, Friction=0.5\n",
      "Episode 1137: Gravity=25.0, Length=1.0, Mass=1.0, Friction=0.5\n",
      "Episode 1138: Gravity=25.0, Length=1.0, Mass=1.0, Friction=0.5\n",
      "Episode 1139: Gravity=25.0, Length=1.0, Mass=1.0, Friction=0.5\n",
      "Episode 1140: Gravity=25.0, Length=1.0, Mass=1.0, Friction=0.5\n",
      "Episode 1141: Gravity=25.0, Length=1.0, Mass=1.0, Friction=0.5\n",
      "Episode 1142: Gravity=25.0, Length=1.0, Mass=1.0, Friction=0.5\n",
      "Episode 1143: Gravity=25.0, Length=1.0, Mass=1.0, Friction=0.5\n",
      "Episode 1144: Gravity=25.0, Length=1.0, Mass=1.0, Friction=0.5\n",
      "Episode 1145: Gravity=25.0, Length=1.0, Mass=1.0, Friction=0.5\n",
      "Episode 1146: Gravity=25.0, Length=1.0, Mass=1.0, Friction=0.5\n",
      "Episode 1147: Gravity=25.0, Length=1.0, Mass=1.0, Friction=0.5\n",
      "Episode 1148: Gravity=25.0, Length=1.0, Mass=1.0, Friction=0.5\n",
      "Episode 1149: Gravity=25.0, Length=1.0, Mass=1.0, Friction=0.5\n"
     ]
    },
    {
     "name": "stderr",
     "output_type": "stream",
     "text": [
      "Epoch #2:  21%|##1       | 2130/10000 [00:01<00:07, 1007.52it/s, env_step=12130, gradient_step=1213, len=10, n/ep=1, n/st=10, rew=10.00]"
     ]
    },
    {
     "name": "stdout",
     "output_type": "stream",
     "text": [
      "Episode 1150: Gravity=25.0, Length=1.0, Mass=1.0, Friction=0.5\n",
      "Episode 1151: Gravity=25.0, Length=1.0, Mass=1.0, Friction=0.5\n",
      "Episode 1152: Gravity=25.0, Length=1.0, Mass=1.0, Friction=0.5\n"
     ]
    },
    {
     "name": "stderr",
     "output_type": "stream",
     "text": [
      "Epoch #2:  23%|##2       | 2280/10000 [00:02<00:08, 959.56it/s, env_step=12280, gradient_step=1228, len=10, n/ep=1, n/st=10, rew=10.00] "
     ]
    },
    {
     "name": "stdout",
     "output_type": "stream",
     "text": [
      "Episode 1153: Gravity=25.0, Length=1.0, Mass=1.0, Friction=0.5\n",
      "Episode 1154: Gravity=25.0, Length=1.0, Mass=1.0, Friction=0.5\n",
      "Episode 1155: Gravity=25.0, Length=1.0, Mass=1.0, Friction=0.5\n",
      "Episode 1156: Gravity=25.0, Length=1.0, Mass=1.0, Friction=0.5\n",
      "Episode 1157: Gravity=25.0, Length=1.0, Mass=1.0, Friction=0.5\n",
      "Episode 1158: Gravity=25.0, Length=1.0, Mass=1.0, Friction=0.5\n",
      "Episode 1159: Gravity=25.0, Length=1.0, Mass=1.0, Friction=0.5\n",
      "Episode 1160: Gravity=25.0, Length=1.0, Mass=1.0, Friction=0.5\n",
      "Episode 1161: Gravity=25.0, Length=1.0, Mass=1.0, Friction=0.5\n",
      "Episode 1162: Gravity=25.0, Length=1.0, Mass=1.0, Friction=0.5\n",
      "Episode 1163: Gravity=25.0, Length=1.0, Mass=1.0, Friction=0.5\n",
      "Episode 1164: Gravity=25.0, Length=1.0, Mass=1.0, Friction=0.5\n",
      "Episode 1165: Gravity=25.0, Length=1.0, Mass=1.0, Friction=0.5\n",
      "Episode 1166: Gravity=25.0, Length=1.0, Mass=1.0, Friction=0.5\n",
      "Episode 1167: Gravity=25.0, Length=1.0, Mass=1.0, Friction=0.5\n",
      "Episode 1168: Gravity=25.0, Length=1.0, Mass=1.0, Friction=0.5\n"
     ]
    },
    {
     "name": "stderr",
     "output_type": "stream",
     "text": [
      "Epoch #2:  23%|##3       | 2310/10000 [00:02<00:08, 929.39it/s, env_step=12310, gradient_step=1231, len=12, n/ep=1, n/st=10, rew=12.00]"
     ]
    },
    {
     "name": "stdout",
     "output_type": "stream",
     "text": [
      "Episode 1169: Gravity=25.0, Length=1.0, Mass=1.0, Friction=0.5\n",
      "Episode 1170: Gravity=25.0, Length=1.0, Mass=1.0, Friction=0.5\n",
      "Episode 1171: Gravity=25.0, Length=1.0, Mass=1.0, Friction=0.5\n"
     ]
    },
    {
     "name": "stderr",
     "output_type": "stream",
     "text": [
      "Epoch #2:  25%|##4       | 2460/10000 [00:02<00:08, 908.98it/s, env_step=12460, gradient_step=1246, len=11, n/ep=1, n/st=10, rew=11.00]"
     ]
    },
    {
     "name": "stdout",
     "output_type": "stream",
     "text": [
      "Episode 1172: Gravity=25.0, Length=1.0, Mass=1.0, Friction=0.5\n",
      "Episode 1173: Gravity=25.0, Length=1.0, Mass=1.0, Friction=0.5\n",
      "Episode 1174: Gravity=25.0, Length=1.0, Mass=1.0, Friction=0.5\n",
      "Episode 1175: Gravity=25.0, Length=1.0, Mass=1.0, Friction=0.5\n",
      "Episode 1176: Gravity=25.0, Length=1.0, Mass=1.0, Friction=0.5\n",
      "Episode 1177: Gravity=25.0, Length=1.0, Mass=1.0, Friction=0.5\n",
      "Episode 1178: Gravity=25.0, Length=1.0, Mass=1.0, Friction=0.5\n",
      "Episode 1179: Gravity=25.0, Length=1.0, Mass=1.0, Friction=0.5\n",
      "Episode 1180: Gravity=25.0, Length=1.0, Mass=1.0, Friction=0.5\n",
      "Episode 1181: Gravity=25.0, Length=1.0, Mass=1.0, Friction=0.5\n",
      "Episode 1182: Gravity=25.0, Length=1.0, Mass=1.0, Friction=0.5\n",
      "Episode 1183: Gravity=25.0, Length=1.0, Mass=1.0, Friction=0.5\n",
      "Episode 1184: Gravity=25.0, Length=1.0, Mass=1.0, Friction=0.5\n",
      "Episode 1185: Gravity=25.0, Length=1.0, Mass=1.0, Friction=0.5\n"
     ]
    },
    {
     "name": "stderr",
     "output_type": "stream",
     "text": [
      "Epoch #2:  25%|##5       | 2500/10000 [00:02<00:08, 908.98it/s, env_step=12500, gradient_step=1250, len=16, n/ep=1, n/st=10, rew=16.00]"
     ]
    },
    {
     "name": "stdout",
     "output_type": "stream",
     "text": [
      "Episode 1186: Gravity=25.0, Length=1.0, Mass=1.0, Friction=0.5\n",
      "Episode 1187: Gravity=25.0, Length=1.0, Mass=1.0, Friction=0.5\n",
      "Episode 1188: Gravity=25.0, Length=1.0, Mass=1.0, Friction=0.5\n"
     ]
    },
    {
     "name": "stderr",
     "output_type": "stream",
     "text": [
      "Epoch #2:  26%|##6       | 2640/10000 [00:02<00:08, 866.47it/s, env_step=12640, gradient_step=1264, len=14, n/ep=1, n/st=10, rew=14.00]"
     ]
    },
    {
     "name": "stdout",
     "output_type": "stream",
     "text": [
      "Episode 1189: Gravity=25.0, Length=1.0, Mass=1.0, Friction=0.5\n",
      "Episode 1190: Gravity=25.0, Length=1.0, Mass=1.0, Friction=0.5\n",
      "Episode 1191: Gravity=25.0, Length=1.0, Mass=1.0, Friction=0.5\n",
      "Episode 1192: Gravity=25.0, Length=1.0, Mass=1.0, Friction=0.5\n",
      "Episode 1193: Gravity=25.0, Length=1.0, Mass=1.0, Friction=0.5\n",
      "Episode 1194: Gravity=25.0, Length=1.0, Mass=1.0, Friction=0.5\n",
      "Episode 1195: Gravity=25.0, Length=1.0, Mass=1.0, Friction=0.5\n",
      "Episode 1196: Gravity=25.0, Length=1.0, Mass=1.0, Friction=0.5\n",
      "Episode 1197: Gravity=25.0, Length=1.0, Mass=1.0, Friction=0.5\n",
      "Episode 1198: Gravity=25.0, Length=1.0, Mass=1.0, Friction=0.5\n",
      "Episode 1199: Gravity=25.0, Length=1.0, Mass=1.0, Friction=0.5\n",
      "Episode 1200: Gravity=25.0, Length=1.0, Mass=1.0, Friction=0.5\n",
      "Episode 1201: Gravity=25.0, Length=1.0, Mass=1.0, Friction=0.5\n",
      "Episode 1202: Gravity=25.0, Length=1.0, Mass=1.0, Friction=0.5\n"
     ]
    },
    {
     "name": "stderr",
     "output_type": "stream",
     "text": [
      "Epoch #2:  27%|##6       | 2690/10000 [00:02<00:08, 866.47it/s, env_step=12690, gradient_step=1269, len=10, n/ep=1, n/st=10, rew=10.00]"
     ]
    },
    {
     "name": "stdout",
     "output_type": "stream",
     "text": [
      "Episode 1203: Gravity=25.0, Length=1.0, Mass=1.0, Friction=0.5\n",
      "Episode 1204: Gravity=25.0, Length=1.0, Mass=1.0, Friction=0.5\n",
      "Episode 1205: Gravity=25.0, Length=1.0, Mass=1.0, Friction=0.5\n",
      "Episode 1206: Gravity=25.0, Length=1.0, Mass=1.0, Friction=0.5\n",
      "Episode 1207: Gravity=25.0, Length=1.0, Mass=1.0, Friction=0.5\n"
     ]
    },
    {
     "name": "stderr",
     "output_type": "stream",
     "text": [
      "Epoch #2:  28%|##8       | 2850/10000 [00:02<00:07, 930.86it/s, env_step=12850, gradient_step=1285, len=10, n/ep=1, n/st=10, rew=10.00]"
     ]
    },
    {
     "name": "stdout",
     "output_type": "stream",
     "text": [
      "Episode 1208: Gravity=25.0, Length=1.0, Mass=1.0, Friction=0.5\n",
      "Episode 1209: Gravity=25.0, Length=1.0, Mass=1.0, Friction=0.5\n",
      "Episode 1210: Gravity=25.0, Length=1.0, Mass=1.0, Friction=0.5\n",
      "Episode 1211: Gravity=25.0, Length=1.0, Mass=1.0, Friction=0.5\n",
      "Episode 1212: Gravity=25.0, Length=1.0, Mass=1.0, Friction=0.5\n",
      "Episode 1213: Gravity=25.0, Length=1.0, Mass=1.0, Friction=0.5\n",
      "Episode 1214: Gravity=25.0, Length=1.0, Mass=1.0, Friction=0.5\n",
      "Episode 1215: Gravity=25.0, Length=1.0, Mass=1.0, Friction=0.5\n",
      "Episode 1216: Gravity=25.0, Length=1.0, Mass=1.0, Friction=0.5\n",
      "Episode 1217: Gravity=25.0, Length=1.0, Mass=1.0, Friction=0.5\n",
      "Episode 1218: Gravity=25.0, Length=1.0, Mass=1.0, Friction=0.5\n",
      "Episode 1219: Gravity=25.0, Length=1.0, Mass=1.0, Friction=0.5\n",
      "Episode 1220: Gravity=25.0, Length=1.0, Mass=1.0, Friction=0.5\n",
      "Episode 1221: Gravity=25.0, Length=1.0, Mass=1.0, Friction=0.5\n",
      "Episode 1222: Gravity=25.0, Length=1.0, Mass=1.0, Friction=0.5\n"
     ]
    },
    {
     "name": "stderr",
     "output_type": "stream",
     "text": [
      "Epoch #2:  29%|##9       | 2900/10000 [00:02<00:07, 930.86it/s, env_step=12900, gradient_step=1290, len=10, n/ep=1, n/st=10, rew=10.00]"
     ]
    },
    {
     "name": "stdout",
     "output_type": "stream",
     "text": [
      "Episode 1223: Gravity=25.0, Length=1.0, Mass=1.0, Friction=0.5\n",
      "Episode 1224: Gravity=25.0, Length=1.0, Mass=1.0, Friction=0.5\n",
      "Episode 1225: Gravity=25.0, Length=1.0, Mass=1.0, Friction=0.5\n",
      "Episode 1226: Gravity=25.0, Length=1.0, Mass=1.0, Friction=0.5\n",
      "Episode 1227: Gravity=25.0, Length=1.0, Mass=1.0, Friction=0.5\n"
     ]
    },
    {
     "name": "stderr",
     "output_type": "stream",
     "text": [
      "Epoch #2:  31%|###       | 3060/10000 [00:02<00:07, 963.61it/s, env_step=13060, gradient_step=1306, len=10, n/ep=1, n/st=10, rew=10.00]"
     ]
    },
    {
     "name": "stdout",
     "output_type": "stream",
     "text": [
      "Episode 1228: Gravity=25.0, Length=1.0, Mass=1.0, Friction=0.5\n",
      "Episode 1229: Gravity=25.0, Length=1.0, Mass=1.0, Friction=0.5\n",
      "Episode 1230: Gravity=25.0, Length=1.0, Mass=1.0, Friction=0.5\n",
      "Episode 1231: Gravity=25.0, Length=1.0, Mass=1.0, Friction=0.5\n",
      "Episode 1232: Gravity=25.0, Length=1.0, Mass=1.0, Friction=0.5\n",
      "Episode 1233: Gravity=25.0, Length=1.0, Mass=1.0, Friction=0.5\n",
      "Episode 1234: Gravity=25.0, Length=1.0, Mass=1.0, Friction=0.5\n",
      "Episode 1235: Gravity=25.0, Length=1.0, Mass=1.0, Friction=0.5\n",
      "Episode 1236: Gravity=25.0, Length=1.0, Mass=1.0, Friction=0.5\n",
      "Episode 1237: Gravity=25.0, Length=1.0, Mass=1.0, Friction=0.5\n",
      "Episode 1238: Gravity=25.0, Length=1.0, Mass=1.0, Friction=0.5\n",
      "Episode 1239: Gravity=25.0, Length=1.0, Mass=1.0, Friction=0.5\n",
      "Episode 1240: Gravity=25.0, Length=1.0, Mass=1.0, Friction=0.5\n",
      "Episode 1241: Gravity=25.0, Length=1.0, Mass=1.0, Friction=0.5\n",
      "Episode 1242: Gravity=25.0, Length=1.0, Mass=1.0, Friction=0.5\n",
      "Episode 1243: Gravity=25.0, Length=1.0, Mass=1.0, Friction=0.5\n"
     ]
    },
    {
     "name": "stderr",
     "output_type": "stream",
     "text": [
      "Epoch #2:  31%|###1      | 3110/10000 [00:02<00:07, 963.61it/s, env_step=13110, gradient_step=1311, len=11, n/ep=1, n/st=10, rew=11.00]"
     ]
    },
    {
     "name": "stdout",
     "output_type": "stream",
     "text": [
      "Episode 1244: Gravity=25.0, Length=1.0, Mass=1.0, Friction=0.5\n",
      "Episode 1245: Gravity=25.0, Length=1.0, Mass=1.0, Friction=0.5\n",
      "Episode 1246: Gravity=25.0, Length=1.0, Mass=1.0, Friction=0.5\n",
      "Episode 1247: Gravity=25.0, Length=1.0, Mass=1.0, Friction=0.5\n",
      "Episode 1248: Gravity=25.0, Length=1.0, Mass=1.0, Friction=0.5\n"
     ]
    },
    {
     "name": "stderr",
     "output_type": "stream",
     "text": [
      "Epoch #2:  32%|###2      | 3230/10000 [00:03<00:07, 921.42it/s, env_step=13230, gradient_step=1323, len=9, n/ep=1, n/st=10, rew=9.00]  "
     ]
    },
    {
     "name": "stdout",
     "output_type": "stream",
     "text": [
      "Episode 1249: Gravity=25.0, Length=1.0, Mass=1.0, Friction=0.5\n",
      "Episode 1250: Gravity=25.0, Length=1.0, Mass=1.0, Friction=0.5\n",
      "Episode 1251: Gravity=25.0, Length=1.0, Mass=1.0, Friction=0.5\n",
      "Episode 1252: Gravity=25.0, Length=1.0, Mass=1.0, Friction=0.5\n",
      "Episode 1253: Gravity=25.0, Length=1.0, Mass=1.0, Friction=0.5\n",
      "Episode 1254: Gravity=25.0, Length=1.0, Mass=1.0, Friction=0.5\n",
      "Episode 1255: Gravity=25.0, Length=1.0, Mass=1.0, Friction=0.5\n",
      "Episode 1256: Gravity=25.0, Length=1.0, Mass=1.0, Friction=0.5\n",
      "Episode 1257: Gravity=25.0, Length=1.0, Mass=1.0, Friction=0.5\n",
      "Episode 1258: Gravity=25.0, Length=1.0, Mass=1.0, Friction=0.5\n",
      "Episode 1259: Gravity=25.0, Length=1.0, Mass=1.0, Friction=0.5\n"
     ]
    },
    {
     "name": "stderr",
     "output_type": "stream",
     "text": [
      "Epoch #2:  33%|###2      | 3290/10000 [00:03<00:07, 921.42it/s, env_step=13290, gradient_step=1329, len=11, n/ep=1, n/st=10, rew=11.00]"
     ]
    },
    {
     "name": "stdout",
     "output_type": "stream",
     "text": [
      "Episode 1260: Gravity=25.0, Length=1.0, Mass=1.0, Friction=0.5\n",
      "Episode 1261: Gravity=25.0, Length=1.0, Mass=1.0, Friction=0.5\n",
      "Episode 1262: Gravity=25.0, Length=1.0, Mass=1.0, Friction=0.5\n",
      "Episode 1263: Gravity=25.0, Length=1.0, Mass=1.0, Friction=0.5\n",
      "Episode 1264: Gravity=25.0, Length=1.0, Mass=1.0, Friction=0.5\n",
      "Episode 1265: Gravity=25.0, Length=1.0, Mass=1.0, Friction=0.5\n"
     ]
    },
    {
     "name": "stderr",
     "output_type": "stream",
     "text": [
      "Epoch #2:  34%|###4      | 3430/10000 [00:03<00:06, 939.64it/s, env_step=13430, gradient_step=1343, len=14, n/ep=1, n/st=10, rew=14.00]"
     ]
    },
    {
     "name": "stdout",
     "output_type": "stream",
     "text": [
      "Episode 1266: Gravity=25.0, Length=1.0, Mass=1.0, Friction=0.5\n",
      "Episode 1267: Gravity=25.0, Length=1.0, Mass=1.0, Friction=0.5\n",
      "Episode 1268: Gravity=25.0, Length=1.0, Mass=1.0, Friction=0.5\n",
      "Episode 1269: Gravity=25.0, Length=1.0, Mass=1.0, Friction=0.5\n",
      "Episode 1270: Gravity=25.0, Length=1.0, Mass=1.0, Friction=0.5\n",
      "Episode 1271: Gravity=25.0, Length=1.0, Mass=1.0, Friction=0.5\n",
      "Episode 1272: Gravity=25.0, Length=1.0, Mass=1.0, Friction=0.5\n",
      "Episode 1273: Gravity=25.0, Length=1.0, Mass=1.0, Friction=0.5\n",
      "Episode 1274: Gravity=25.0, Length=1.0, Mass=1.0, Friction=0.5\n",
      "Episode 1275: Gravity=25.0, Length=1.0, Mass=1.0, Friction=0.5\n",
      "Episode 1276: Gravity=25.0, Length=1.0, Mass=1.0, Friction=0.5\n",
      "Episode 1277: Gravity=25.0, Length=1.0, Mass=1.0, Friction=0.5\n",
      "Episode 1278: Gravity=25.0, Length=1.0, Mass=1.0, Friction=0.5\n"
     ]
    },
    {
     "name": "stderr",
     "output_type": "stream",
     "text": [
      "Epoch #2:  35%|###5      | 3510/10000 [00:03<00:06, 939.64it/s, env_step=13510, gradient_step=1351, len=11, n/ep=1, n/st=10, rew=11.00]"
     ]
    },
    {
     "name": "stdout",
     "output_type": "stream",
     "text": [
      "Episode 1279: Gravity=25.0, Length=1.0, Mass=1.0, Friction=0.5\n",
      "Episode 1280: Gravity=25.0, Length=1.0, Mass=1.0, Friction=0.5\n",
      "Episode 1281: Gravity=25.0, Length=1.0, Mass=1.0, Friction=0.5\n",
      "Episode 1282: Gravity=25.0, Length=1.0, Mass=1.0, Friction=0.5\n",
      "Episode 1283: Gravity=25.0, Length=1.0, Mass=1.0, Friction=0.5\n",
      "Episode 1284: Gravity=25.0, Length=1.0, Mass=1.0, Friction=0.5\n",
      "Episode 1285: Gravity=25.0, Length=1.0, Mass=1.0, Friction=0.5\n"
     ]
    },
    {
     "name": "stderr",
     "output_type": "stream",
     "text": [
      "Epoch #2:  37%|###6      | 3670/10000 [00:03<00:06, 1037.97it/s, env_step=13670, gradient_step=1367, len=11, n/ep=0, n/st=10, rew=11.00]"
     ]
    },
    {
     "name": "stdout",
     "output_type": "stream",
     "text": [
      "Episode 1286: Gravity=25.0, Length=1.0, Mass=1.0, Friction=0.5\n",
      "Episode 1287: Gravity=25.0, Length=1.0, Mass=1.0, Friction=0.5\n",
      "Episode 1288: Gravity=25.0, Length=1.0, Mass=1.0, Friction=0.5\n",
      "Episode 1289: Gravity=25.0, Length=1.0, Mass=1.0, Friction=0.5\n",
      "Episode 1290: Gravity=25.0, Length=1.0, Mass=1.0, Friction=0.5\n",
      "Episode 1291: Gravity=25.0, Length=1.0, Mass=1.0, Friction=0.5\n",
      "Episode 1292: Gravity=25.0, Length=1.0, Mass=1.0, Friction=0.5\n",
      "Episode 1293: Gravity=25.0, Length=1.0, Mass=1.0, Friction=0.5\n",
      "Episode 1294: Gravity=25.0, Length=1.0, Mass=1.0, Friction=0.5\n",
      "Episode 1295: Gravity=25.0, Length=1.0, Mass=1.0, Friction=0.5\n",
      "Episode 1296: Gravity=25.0, Length=1.0, Mass=1.0, Friction=0.5\n",
      "Episode 1297: Gravity=25.0, Length=1.0, Mass=1.0, Friction=0.5\n",
      "Episode 1298: Gravity=25.0, Length=1.0, Mass=1.0, Friction=0.5\n",
      "Episode 1299: Gravity=25.0, Length=1.0, Mass=1.0, Friction=0.5\n",
      "Episode 1300: Gravity=25.0, Length=1.0, Mass=1.0, Friction=0.5\n"
     ]
    },
    {
     "name": "stderr",
     "output_type": "stream",
     "text": [
      "Epoch #2:  37%|###7      | 3730/10000 [00:03<00:06, 1037.97it/s, env_step=13730, gradient_step=1373, len=9, n/ep=1, n/st=10, rew=9.00]  "
     ]
    },
    {
     "name": "stdout",
     "output_type": "stream",
     "text": [
      "Episode 1301: Gravity=25.0, Length=1.0, Mass=1.0, Friction=0.5\n",
      "Episode 1302: Gravity=25.0, Length=1.0, Mass=1.0, Friction=0.5\n",
      "Episode 1303: Gravity=25.0, Length=1.0, Mass=1.0, Friction=0.5\n",
      "Episode 1304: Gravity=25.0, Length=1.0, Mass=1.0, Friction=0.5\n",
      "Episode 1305: Gravity=25.0, Length=1.0, Mass=1.0, Friction=0.5\n",
      "Episode 1306: Gravity=25.0, Length=1.0, Mass=1.0, Friction=0.5\n"
     ]
    },
    {
     "name": "stderr",
     "output_type": "stream",
     "text": [
      "Epoch #2:  39%|###8      | 3890/10000 [00:03<00:05, 1034.10it/s, env_step=13890, gradient_step=1389, len=9, n/ep=1, n/st=10, rew=9.00]  "
     ]
    },
    {
     "name": "stdout",
     "output_type": "stream",
     "text": [
      "Episode 1307: Gravity=25.0, Length=1.0, Mass=1.0, Friction=0.5\n",
      "Episode 1308: Gravity=25.0, Length=1.0, Mass=1.0, Friction=0.5\n",
      "Episode 1309: Gravity=25.0, Length=1.0, Mass=1.0, Friction=0.5\n",
      "Episode 1310: Gravity=25.0, Length=1.0, Mass=1.0, Friction=0.5\n",
      "Episode 1311: Gravity=25.0, Length=1.0, Mass=1.0, Friction=0.5\n",
      "Episode 1312: Gravity=25.0, Length=1.0, Mass=1.0, Friction=0.5\n",
      "Episode 1313: Gravity=25.0, Length=1.0, Mass=1.0, Friction=0.5\n",
      "Episode 1314: Gravity=25.0, Length=1.0, Mass=1.0, Friction=0.5\n",
      "Episode 1315: Gravity=25.0, Length=1.0, Mass=1.0, Friction=0.5\n",
      "Episode 1316: Gravity=25.0, Length=1.0, Mass=1.0, Friction=0.5\n",
      "Episode 1317: Gravity=25.0, Length=1.0, Mass=1.0, Friction=0.5\n",
      "Episode 1318: Gravity=25.0, Length=1.0, Mass=1.0, Friction=0.5\n",
      "Episode 1319: Gravity=25.0, Length=1.0, Mass=1.0, Friction=0.5\n",
      "Episode 1320: Gravity=25.0, Length=1.0, Mass=1.0, Friction=0.5\n",
      "Episode 1321: Gravity=25.0, Length=1.0, Mass=1.0, Friction=0.5\n",
      "Episode 1322: Gravity=25.0, Length=1.0, Mass=1.0, Friction=0.5\n",
      "Episode 1323: Gravity=25.0, Length=1.0, Mass=1.0, Friction=0.5\n"
     ]
    },
    {
     "name": "stderr",
     "output_type": "stream",
     "text": [
      "Epoch #2:  40%|###9      | 3960/10000 [00:03<00:05, 1078.37it/s, env_step=13960, gradient_step=1396, len=11, n/ep=1, n/st=10, rew=11.00]"
     ]
    },
    {
     "name": "stdout",
     "output_type": "stream",
     "text": [
      "Episode 1324: Gravity=25.0, Length=1.0, Mass=1.0, Friction=0.5\n",
      "Episode 1325: Gravity=25.0, Length=1.0, Mass=1.0, Friction=0.5\n",
      "Episode 1326: Gravity=25.0, Length=1.0, Mass=1.0, Friction=0.5\n",
      "Episode 1327: Gravity=25.0, Length=1.0, Mass=1.0, Friction=0.5\n",
      "Episode 1328: Gravity=25.0, Length=1.0, Mass=1.0, Friction=0.5\n",
      "Episode 1329: Gravity=25.0, Length=1.0, Mass=1.0, Friction=0.5\n",
      "Episode 1330: Gravity=25.0, Length=1.0, Mass=1.0, Friction=0.5\n"
     ]
    },
    {
     "name": "stderr",
     "output_type": "stream",
     "text": [
      "Epoch #2:  41%|####1     | 4120/10000 [00:03<00:05, 1084.86it/s, env_step=14120, gradient_step=1412, len=11, n/ep=1, n/st=10, rew=11.00]"
     ]
    },
    {
     "name": "stdout",
     "output_type": "stream",
     "text": [
      "Episode 1331: Gravity=25.0, Length=1.0, Mass=1.0, Friction=0.5\n",
      "Episode 1332: Gravity=25.0, Length=1.0, Mass=1.0, Friction=0.5\n",
      "Episode 1333: Gravity=25.0, Length=1.0, Mass=1.0, Friction=0.5\n",
      "Episode 1334: Gravity=25.0, Length=1.0, Mass=1.0, Friction=0.5\n",
      "Episode 1335: Gravity=25.0, Length=1.0, Mass=1.0, Friction=0.5\n",
      "Episode 1336: Gravity=25.0, Length=1.0, Mass=1.0, Friction=0.5\n",
      "Episode 1337: Gravity=25.0, Length=1.0, Mass=1.0, Friction=0.5\n",
      "Episode 1338: Gravity=25.0, Length=1.0, Mass=1.0, Friction=0.5\n",
      "Episode 1339: Gravity=25.0, Length=1.0, Mass=1.0, Friction=0.5\n",
      "Episode 1340: Gravity=25.0, Length=1.0, Mass=1.0, Friction=0.5\n",
      "Episode 1341: Gravity=25.0, Length=1.0, Mass=1.0, Friction=0.5\n",
      "Episode 1342: Gravity=25.0, Length=1.0, Mass=1.0, Friction=0.5\n",
      "Episode 1343: Gravity=25.0, Length=1.0, Mass=1.0, Friction=0.5\n",
      "Episode 1344: Gravity=25.0, Length=1.0, Mass=1.0, Friction=0.5\n",
      "Episode 1345: Gravity=25.0, Length=1.0, Mass=1.0, Friction=0.5\n"
     ]
    },
    {
     "name": "stderr",
     "output_type": "stream",
     "text": [
      "Epoch #2:  42%|####1     | 4180/10000 [00:03<00:05, 1087.34it/s, env_step=14180, gradient_step=1418, len=10, n/ep=1, n/st=10, rew=10.00]"
     ]
    },
    {
     "name": "stdout",
     "output_type": "stream",
     "text": [
      "Episode 1346: Gravity=25.0, Length=1.0, Mass=1.0, Friction=0.5\n",
      "Episode 1347: Gravity=25.0, Length=1.0, Mass=1.0, Friction=0.5\n",
      "Episode 1348: Gravity=25.0, Length=1.0, Mass=1.0, Friction=0.5\n",
      "Episode 1349: Gravity=25.0, Length=1.0, Mass=1.0, Friction=0.5\n",
      "Episode 1350: Gravity=25.0, Length=1.0, Mass=1.0, Friction=0.5\n",
      "Episode 1351: Gravity=25.0, Length=1.0, Mass=1.0, Friction=0.5\n",
      "Episode 1352: Gravity=25.0, Length=1.0, Mass=1.0, Friction=0.5\n",
      "Episode 1353: Gravity=25.0, Length=1.0, Mass=1.0, Friction=0.5\n"
     ]
    },
    {
     "name": "stderr",
     "output_type": "stream",
     "text": [
      "Epoch #2:  44%|####3     | 4350/10000 [00:04<00:05, 1100.50it/s, env_step=14350, gradient_step=1435, len=10, n/ep=1, n/st=10, rew=10.00]"
     ]
    },
    {
     "name": "stdout",
     "output_type": "stream",
     "text": [
      "Episode 1354: Gravity=25.0, Length=1.0, Mass=1.0, Friction=0.5\n",
      "Episode 1355: Gravity=25.0, Length=1.0, Mass=1.0, Friction=0.5\n",
      "Episode 1356: Gravity=25.0, Length=1.0, Mass=1.0, Friction=0.5\n",
      "Episode 1357: Gravity=25.0, Length=1.0, Mass=1.0, Friction=0.5\n",
      "Episode 1358: Gravity=25.0, Length=1.0, Mass=1.0, Friction=0.5\n",
      "Episode 1359: Gravity=25.0, Length=1.0, Mass=1.0, Friction=0.5\n",
      "Episode 1360: Gravity=25.0, Length=1.0, Mass=1.0, Friction=0.5\n",
      "Episode 1361: Gravity=25.0, Length=1.0, Mass=1.0, Friction=0.5\n",
      "Episode 1362: Gravity=25.0, Length=1.0, Mass=1.0, Friction=0.5\n",
      "Episode 1363: Gravity=25.0, Length=1.0, Mass=1.0, Friction=0.5\n",
      "Episode 1364: Gravity=25.0, Length=1.0, Mass=1.0, Friction=0.5\n",
      "Episode 1365: Gravity=25.0, Length=1.0, Mass=1.0, Friction=0.5\n",
      "Episode 1366: Gravity=25.0, Length=1.0, Mass=1.0, Friction=0.5\n",
      "Episode 1367: Gravity=25.0, Length=1.0, Mass=1.0, Friction=0.5\n",
      "Episode 1368: Gravity=25.0, Length=1.0, Mass=1.0, Friction=0.5\n",
      "Episode 1369: Gravity=25.0, Length=1.0, Mass=1.0, Friction=0.5\n",
      "Episode 1370: Gravity=25.0, Length=1.0, Mass=1.0, Friction=0.5\n",
      "Episode 1371: Gravity=25.0, Length=1.0, Mass=1.0, Friction=0.5\n"
     ]
    },
    {
     "name": "stderr",
     "output_type": "stream",
     "text": [
      "Epoch #2:  44%|####4     | 4430/10000 [00:04<00:04, 1127.48it/s, env_step=14430, gradient_step=1443, len=9, n/ep=1, n/st=10, rew=9.00]  "
     ]
    },
    {
     "name": "stdout",
     "output_type": "stream",
     "text": [
      "Episode 1372: Gravity=25.0, Length=1.0, Mass=1.0, Friction=0.5\n",
      "Episode 1373: Gravity=25.0, Length=1.0, Mass=1.0, Friction=0.5\n",
      "Episode 1374: Gravity=25.0, Length=1.0, Mass=1.0, Friction=0.5\n",
      "Episode 1375: Gravity=25.0, Length=1.0, Mass=1.0, Friction=0.5\n",
      "Episode 1376: Gravity=25.0, Length=1.0, Mass=1.0, Friction=0.5\n",
      "Episode 1377: Gravity=25.0, Length=1.0, Mass=1.0, Friction=0.5\n",
      "Episode 1378: Gravity=25.0, Length=1.0, Mass=1.0, Friction=0.5\n"
     ]
    },
    {
     "name": "stderr",
     "output_type": "stream",
     "text": [
      "Epoch #2:  46%|####5     | 4590/10000 [00:04<00:04, 1134.56it/s, env_step=14590, gradient_step=1459, len=9, n/ep=1, n/st=10, rew=9.00]  "
     ]
    },
    {
     "name": "stdout",
     "output_type": "stream",
     "text": [
      "Episode 1379: Gravity=25.0, Length=1.0, Mass=1.0, Friction=0.5\n",
      "Episode 1380: Gravity=25.0, Length=1.0, Mass=1.0, Friction=0.5\n",
      "Episode 1381: Gravity=25.0, Length=1.0, Mass=1.0, Friction=0.5\n",
      "Episode 1382: Gravity=25.0, Length=1.0, Mass=1.0, Friction=0.5\n",
      "Episode 1383: Gravity=25.0, Length=1.0, Mass=1.0, Friction=0.5\n",
      "Episode 1384: Gravity=25.0, Length=1.0, Mass=1.0, Friction=0.5\n",
      "Episode 1385: Gravity=25.0, Length=1.0, Mass=1.0, Friction=0.5\n",
      "Episode 1386: Gravity=25.0, Length=1.0, Mass=1.0, Friction=0.5\n",
      "Episode 1387: Gravity=25.0, Length=1.0, Mass=1.0, Friction=0.5\n",
      "Episode 1388: Gravity=25.0, Length=1.0, Mass=1.0, Friction=0.5\n",
      "Episode 1389: Gravity=25.0, Length=1.0, Mass=1.0, Friction=0.5\n",
      "Episode 1390: Gravity=25.0, Length=1.0, Mass=1.0, Friction=0.5\n",
      "Episode 1391: Gravity=25.0, Length=1.0, Mass=1.0, Friction=0.5\n",
      "Episode 1392: Gravity=25.0, Length=1.0, Mass=1.0, Friction=0.5\n",
      "Episode 1393: Gravity=25.0, Length=1.0, Mass=1.0, Friction=0.5\n",
      "Episode 1394: Gravity=25.0, Length=1.0, Mass=1.0, Friction=0.5\n"
     ]
    },
    {
     "name": "stderr",
     "output_type": "stream",
     "text": [
      "Epoch #2:  47%|####6     | 4660/10000 [00:04<00:04, 1141.30it/s, env_step=14660, gradient_step=1466, len=9, n/ep=1, n/st=10, rew=9.00]  "
     ]
    },
    {
     "name": "stdout",
     "output_type": "stream",
     "text": [
      "Episode 1395: Gravity=25.0, Length=1.0, Mass=1.0, Friction=0.5\n",
      "Episode 1396: Gravity=25.0, Length=1.0, Mass=1.0, Friction=0.5\n",
      "Episode 1397: Gravity=25.0, Length=1.0, Mass=1.0, Friction=0.5\n",
      "Episode 1398: Gravity=25.0, Length=1.0, Mass=1.0, Friction=0.5\n",
      "Episode 1399: Gravity=25.0, Length=1.0, Mass=1.0, Friction=0.5\n",
      "Episode 1400: Gravity=25.0, Length=1.0, Mass=1.0, Friction=0.5\n",
      "Episode 1401: Gravity=25.0, Length=1.0, Mass=1.0, Friction=0.5\n"
     ]
    },
    {
     "name": "stderr",
     "output_type": "stream",
     "text": [
      "Epoch #2:  48%|####8     | 4840/10000 [00:04<00:04, 1150.35it/s, env_step=14840, gradient_step=1484, len=8, n/ep=1, n/st=10, rew=8.00]  "
     ]
    },
    {
     "name": "stdout",
     "output_type": "stream",
     "text": [
      "Episode 1402: Gravity=25.0, Length=1.0, Mass=1.0, Friction=0.5\n",
      "Episode 1403: Gravity=25.0, Length=1.0, Mass=1.0, Friction=0.5\n",
      "Episode 1404: Gravity=25.0, Length=1.0, Mass=1.0, Friction=0.5\n",
      "Episode 1405: Gravity=25.0, Length=1.0, Mass=1.0, Friction=0.5\n",
      "Episode 1406: Gravity=25.0, Length=1.0, Mass=1.0, Friction=0.5\n",
      "Episode 1407: Gravity=25.0, Length=1.0, Mass=1.0, Friction=0.5\n",
      "Episode 1408: Gravity=25.0, Length=1.0, Mass=1.0, Friction=0.5\n",
      "Episode 1409: Gravity=25.0, Length=1.0, Mass=1.0, Friction=0.5\n",
      "Episode 1410: Gravity=25.0, Length=1.0, Mass=1.0, Friction=0.5\n",
      "Episode 1411: Gravity=25.0, Length=1.0, Mass=1.0, Friction=0.5\n",
      "Episode 1412: Gravity=25.0, Length=1.0, Mass=1.0, Friction=0.5\n",
      "Episode 1413: Gravity=25.0, Length=1.0, Mass=1.0, Friction=0.5\n",
      "Episode 1414: Gravity=25.0, Length=1.0, Mass=1.0, Friction=0.5\n",
      "Episode 1415: Gravity=25.0, Length=1.0, Mass=1.0, Friction=0.5\n",
      "Episode 1416: Gravity=25.0, Length=1.0, Mass=1.0, Friction=0.5\n",
      "Episode 1417: Gravity=25.0, Length=1.0, Mass=1.0, Friction=0.5\n",
      "Episode 1418: Gravity=25.0, Length=1.0, Mass=1.0, Friction=0.5\n",
      "Episode 1419: Gravity=25.0, Length=1.0, Mass=1.0, Friction=0.5\n"
     ]
    },
    {
     "name": "stderr",
     "output_type": "stream",
     "text": [
      "Epoch #2:  49%|####9     | 4910/10000 [00:04<00:04, 1167.56it/s, env_step=14910, gradient_step=1491, len=11, n/ep=1, n/st=10, rew=11.00]"
     ]
    },
    {
     "name": "stdout",
     "output_type": "stream",
     "text": [
      "Episode 1420: Gravity=25.0, Length=1.0, Mass=1.0, Friction=0.5\n",
      "Episode 1421: Gravity=25.0, Length=1.0, Mass=1.0, Friction=0.5\n",
      "Episode 1422: Gravity=25.0, Length=1.0, Mass=1.0, Friction=0.5\n",
      "Episode 1423: Gravity=25.0, Length=1.0, Mass=1.0, Friction=0.5\n",
      "Episode 1424: Gravity=25.0, Length=1.0, Mass=1.0, Friction=0.5\n",
      "Episode 1425: Gravity=25.0, Length=1.0, Mass=1.0, Friction=0.5\n",
      "Episode 1426: Gravity=25.0, Length=1.0, Mass=1.0, Friction=0.5\n"
     ]
    },
    {
     "name": "stderr",
     "output_type": "stream",
     "text": [
      "Epoch #2:  51%|#####     | 5080/10000 [00:04<00:04, 1174.48it/s, env_step=15080, gradient_step=1508, len=10, n/ep=1, n/st=10, rew=10.00]"
     ]
    },
    {
     "name": "stdout",
     "output_type": "stream",
     "text": [
      "Episode 1427: Gravity=25.0, Length=1.0, Mass=1.0, Friction=0.5\n",
      "Episode 1428: Gravity=25.0, Length=1.0, Mass=1.0, Friction=0.5\n",
      "Episode 1429: Gravity=25.0, Length=1.0, Mass=1.0, Friction=0.5\n",
      "Episode 1430: Gravity=25.0, Length=1.0, Mass=1.0, Friction=0.5\n",
      "Episode 1431: Gravity=25.0, Length=1.0, Mass=1.0, Friction=0.5\n",
      "Episode 1432: Gravity=25.0, Length=1.0, Mass=1.0, Friction=0.5\n",
      "Episode 1433: Gravity=25.0, Length=1.0, Mass=1.0, Friction=0.5\n",
      "Episode 1434: Gravity=25.0, Length=1.0, Mass=1.0, Friction=0.5\n",
      "Episode 1435: Gravity=25.0, Length=1.0, Mass=1.0, Friction=0.5\n",
      "Episode 1436: Gravity=25.0, Length=1.0, Mass=1.0, Friction=0.5\n",
      "Episode 1437: Gravity=25.0, Length=1.0, Mass=1.0, Friction=0.5\n",
      "Episode 1438: Gravity=25.0, Length=1.0, Mass=1.0, Friction=0.5\n",
      "Episode 1439: Gravity=25.0, Length=1.0, Mass=1.0, Friction=0.5\n",
      "Episode 1440: Gravity=25.0, Length=1.0, Mass=1.0, Friction=0.5\n",
      "Episode 1441: Gravity=25.0, Length=1.0, Mass=1.0, Friction=0.5\n",
      "Episode 1442: Gravity=25.0, Length=1.0, Mass=1.0, Friction=0.5\n",
      "Episode 1443: Gravity=25.0, Length=1.0, Mass=1.0, Friction=0.5\n",
      "Episode 1444: Gravity=25.0, Length=1.0, Mass=1.0, Friction=0.5\n"
     ]
    },
    {
     "name": "stderr",
     "output_type": "stream",
     "text": [
      "Epoch #2:  52%|#####1    | 5150/10000 [00:04<00:04, 1181.81it/s, env_step=15150, gradient_step=1515, len=10, n/ep=1, n/st=10, rew=10.00]"
     ]
    },
    {
     "name": "stdout",
     "output_type": "stream",
     "text": [
      "Episode 1445: Gravity=25.0, Length=1.0, Mass=1.0, Friction=0.5\n",
      "Episode 1446: Gravity=25.0, Length=1.0, Mass=1.0, Friction=0.5\n",
      "Episode 1447: Gravity=25.0, Length=1.0, Mass=1.0, Friction=0.5\n",
      "Episode 1448: Gravity=25.0, Length=1.0, Mass=1.0, Friction=0.5\n",
      "Episode 1449: Gravity=25.0, Length=1.0, Mass=1.0, Friction=0.5\n",
      "Episode 1450: Gravity=25.0, Length=1.0, Mass=1.0, Friction=0.5\n",
      "Episode 1451: Gravity=25.0, Length=1.0, Mass=1.0, Friction=0.5\n"
     ]
    },
    {
     "name": "stderr",
     "output_type": "stream",
     "text": [
      "Epoch #2:  53%|#####3    | 5330/10000 [00:04<00:03, 1180.08it/s, env_step=15330, gradient_step=1533, len=9, n/ep=1, n/st=10, rew=9.00]  "
     ]
    },
    {
     "name": "stdout",
     "output_type": "stream",
     "text": [
      "Episode 1452: Gravity=25.0, Length=1.0, Mass=1.0, Friction=0.5\n",
      "Episode 1453: Gravity=25.0, Length=1.0, Mass=1.0, Friction=0.5\n",
      "Episode 1454: Gravity=25.0, Length=1.0, Mass=1.0, Friction=0.5\n",
      "Episode 1455: Gravity=25.0, Length=1.0, Mass=1.0, Friction=0.5\n",
      "Episode 1456: Gravity=25.0, Length=1.0, Mass=1.0, Friction=0.5\n",
      "Episode 1457: Gravity=25.0, Length=1.0, Mass=1.0, Friction=0.5\n",
      "Episode 1458: Gravity=25.0, Length=1.0, Mass=1.0, Friction=0.5\n",
      "Episode 1459: Gravity=25.0, Length=1.0, Mass=1.0, Friction=0.5\n",
      "Episode 1460: Gravity=25.0, Length=1.0, Mass=1.0, Friction=0.5\n",
      "Episode 1461: Gravity=25.0, Length=1.0, Mass=1.0, Friction=0.5\n",
      "Episode 1462: Gravity=25.0, Length=1.0, Mass=1.0, Friction=0.5\n",
      "Episode 1463: Gravity=25.0, Length=1.0, Mass=1.0, Friction=0.5\n",
      "Episode 1464: Gravity=25.0, Length=1.0, Mass=1.0, Friction=0.5\n",
      "Episode 1465: Gravity=25.0, Length=1.0, Mass=1.0, Friction=0.5\n",
      "Episode 1466: Gravity=25.0, Length=1.0, Mass=1.0, Friction=0.5\n",
      "Episode 1467: Gravity=25.0, Length=1.0, Mass=1.0, Friction=0.5\n",
      "Episode 1468: Gravity=25.0, Length=1.0, Mass=1.0, Friction=0.5\n",
      "Episode 1469: Gravity=25.0, Length=1.0, Mass=1.0, Friction=0.5\n"
     ]
    },
    {
     "name": "stderr",
     "output_type": "stream",
     "text": [
      "Epoch #2:  54%|#####4    | 5400/10000 [00:04<00:03, 1185.55it/s, env_step=15400, gradient_step=1540, len=10, n/ep=1, n/st=10, rew=10.00]"
     ]
    },
    {
     "name": "stdout",
     "output_type": "stream",
     "text": [
      "Episode 1470: Gravity=25.0, Length=1.0, Mass=1.0, Friction=0.5\n",
      "Episode 1471: Gravity=25.0, Length=1.0, Mass=1.0, Friction=0.5\n",
      "Episode 1472: Gravity=25.0, Length=1.0, Mass=1.0, Friction=0.5\n",
      "Episode 1473: Gravity=25.0, Length=1.0, Mass=1.0, Friction=0.5\n",
      "Episode 1474: Gravity=25.0, Length=1.0, Mass=1.0, Friction=0.5\n",
      "Episode 1475: Gravity=25.0, Length=1.0, Mass=1.0, Friction=0.5\n"
     ]
    },
    {
     "name": "stderr",
     "output_type": "stream",
     "text": [
      "Epoch #2:  56%|#####5    | 5570/10000 [00:05<00:03, 1192.28it/s, env_step=15570, gradient_step=1557, len=10, n/ep=1, n/st=10, rew=10.00]"
     ]
    },
    {
     "name": "stdout",
     "output_type": "stream",
     "text": [
      "Episode 1476: Gravity=25.0, Length=1.0, Mass=1.0, Friction=0.5\n",
      "Episode 1477: Gravity=25.0, Length=1.0, Mass=1.0, Friction=0.5\n",
      "Episode 1478: Gravity=25.0, Length=1.0, Mass=1.0, Friction=0.5\n",
      "Episode 1479: Gravity=25.0, Length=1.0, Mass=1.0, Friction=0.5\n",
      "Episode 1480: Gravity=25.0, Length=1.0, Mass=1.0, Friction=0.5\n",
      "Episode 1481: Gravity=25.0, Length=1.0, Mass=1.0, Friction=0.5\n",
      "Episode 1482: Gravity=25.0, Length=1.0, Mass=1.0, Friction=0.5\n",
      "Episode 1483: Gravity=25.0, Length=1.0, Mass=1.0, Friction=0.5\n",
      "Episode 1484: Gravity=25.0, Length=1.0, Mass=1.0, Friction=0.5\n",
      "Episode 1485: Gravity=25.0, Length=1.0, Mass=1.0, Friction=0.5\n",
      "Episode 1486: Gravity=25.0, Length=1.0, Mass=1.0, Friction=0.5\n",
      "Episode 1487: Gravity=25.0, Length=1.0, Mass=1.0, Friction=0.5\n",
      "Episode 1488: Gravity=25.0, Length=1.0, Mass=1.0, Friction=0.5\n",
      "Episode 1489: Gravity=25.0, Length=1.0, Mass=1.0, Friction=0.5\n",
      "Episode 1490: Gravity=25.0, Length=1.0, Mass=1.0, Friction=0.5\n",
      "Episode 1491: Gravity=25.0, Length=1.0, Mass=1.0, Friction=0.5\n",
      "Episode 1492: Gravity=25.0, Length=1.0, Mass=1.0, Friction=0.5\n",
      "Episode 1493: Gravity=25.0, Length=1.0, Mass=1.0, Friction=0.5\n",
      "Episode 1494: Gravity=25.0, Length=1.0, Mass=1.0, Friction=0.5\n"
     ]
    },
    {
     "name": "stderr",
     "output_type": "stream",
     "text": [
      "Epoch #2:  56%|#####6    | 5640/10000 [00:05<00:03, 1202.95it/s, env_step=15640, gradient_step=1564, len=11, n/ep=1, n/st=10, rew=11.00]"
     ]
    },
    {
     "name": "stdout",
     "output_type": "stream",
     "text": [
      "Episode 1495: Gravity=25.0, Length=1.0, Mass=1.0, Friction=0.5\n",
      "Episode 1496: Gravity=25.0, Length=1.0, Mass=1.0, Friction=0.5\n",
      "Episode 1497: Gravity=25.0, Length=1.0, Mass=1.0, Friction=0.5\n",
      "Episode 1498: Gravity=25.0, Length=1.0, Mass=1.0, Friction=0.5\n",
      "Episode 1499: Gravity=25.0, Length=1.0, Mass=1.0, Friction=0.5\n",
      "Episode 1500: Gravity=25.0, Length=1.0, Mass=1.0, Friction=0.5\n"
     ]
    },
    {
     "name": "stderr",
     "output_type": "stream",
     "text": [
      "Epoch #2:  58%|#####8    | 5830/10000 [00:05<00:03, 1199.19it/s, env_step=15830, gradient_step=1583, len=9, n/ep=1, n/st=10, rew=9.00]  "
     ]
    },
    {
     "name": "stdout",
     "output_type": "stream",
     "text": [
      "Episode 1501: Gravity=25.0, Length=1.0, Mass=1.0, Friction=0.5\n",
      "Episode 1502: Gravity=25.0, Length=1.0, Mass=1.0, Friction=0.5\n",
      "Episode 1503: Gravity=25.0, Length=1.0, Mass=1.0, Friction=0.5\n",
      "Episode 1504: Gravity=25.0, Length=1.0, Mass=1.0, Friction=0.5\n",
      "Episode 1505: Gravity=25.0, Length=1.0, Mass=1.0, Friction=0.5\n",
      "Episode 1506: Gravity=25.0, Length=1.0, Mass=1.0, Friction=0.5\n",
      "Episode 1507: Gravity=25.0, Length=1.0, Mass=1.0, Friction=0.5\n",
      "Episode 1508: Gravity=25.0, Length=1.0, Mass=1.0, Friction=0.5\n",
      "Episode 1509: Gravity=25.0, Length=1.0, Mass=1.0, Friction=0.5\n",
      "Episode 1510: Gravity=25.0, Length=1.0, Mass=1.0, Friction=0.5\n",
      "Episode 1511: Gravity=25.0, Length=1.0, Mass=1.0, Friction=0.5\n",
      "Episode 1512: Gravity=25.0, Length=1.0, Mass=1.0, Friction=0.5\n",
      "Episode 1513: Gravity=25.0, Length=1.0, Mass=1.0, Friction=0.5\n",
      "Episode 1514: Gravity=25.0, Length=1.0, Mass=1.0, Friction=0.5\n",
      "Episode 1515: Gravity=25.0, Length=1.0, Mass=1.0, Friction=0.5\n",
      "Episode 1516: Gravity=25.0, Length=1.0, Mass=1.0, Friction=0.5\n",
      "Episode 1517: Gravity=25.0, Length=1.0, Mass=1.0, Friction=0.5\n",
      "Episode 1518: Gravity=25.0, Length=1.0, Mass=1.0, Friction=0.5\n"
     ]
    },
    {
     "name": "stderr",
     "output_type": "stream",
     "text": [
      "Epoch #2:  59%|#####8    | 5890/10000 [00:05<00:03, 1194.29it/s, env_step=15890, gradient_step=1589, len=10, n/ep=1, n/st=10, rew=10.00]"
     ]
    },
    {
     "name": "stdout",
     "output_type": "stream",
     "text": [
      "Episode 1519: Gravity=25.0, Length=1.0, Mass=1.0, Friction=0.5\n",
      "Episode 1520: Gravity=25.0, Length=1.0, Mass=1.0, Friction=0.5\n",
      "Episode 1521: Gravity=25.0, Length=1.0, Mass=1.0, Friction=0.5\n",
      "Episode 1522: Gravity=25.0, Length=1.0, Mass=1.0, Friction=0.5\n",
      "Episode 1523: Gravity=25.0, Length=1.0, Mass=1.0, Friction=0.5\n",
      "Episode 1524: Gravity=25.0, Length=1.0, Mass=1.0, Friction=0.5\n"
     ]
    },
    {
     "name": "stderr",
     "output_type": "stream",
     "text": [
      "Epoch #2:  61%|######    | 6060/10000 [00:05<00:03, 1184.06it/s, env_step=16060, gradient_step=1606, len=9, n/ep=1, n/st=10, rew=9.00]  "
     ]
    },
    {
     "name": "stdout",
     "output_type": "stream",
     "text": [
      "Episode 1525: Gravity=25.0, Length=1.0, Mass=1.0, Friction=0.5\n",
      "Episode 1526: Gravity=25.0, Length=1.0, Mass=1.0, Friction=0.5\n",
      "Episode 1527: Gravity=25.0, Length=1.0, Mass=1.0, Friction=0.5\n",
      "Episode 1528: Gravity=25.0, Length=1.0, Mass=1.0, Friction=0.5\n",
      "Episode 1529: Gravity=25.0, Length=1.0, Mass=1.0, Friction=0.5\n",
      "Episode 1530: Gravity=25.0, Length=1.0, Mass=1.0, Friction=0.5\n",
      "Episode 1531: Gravity=25.0, Length=1.0, Mass=1.0, Friction=0.5\n",
      "Episode 1532: Gravity=25.0, Length=1.0, Mass=1.0, Friction=0.5\n",
      "Episode 1533: Gravity=25.0, Length=1.0, Mass=1.0, Friction=0.5\n",
      "Episode 1534: Gravity=25.0, Length=1.0, Mass=1.0, Friction=0.5\n",
      "Episode 1535: Gravity=25.0, Length=1.0, Mass=1.0, Friction=0.5\n",
      "Episode 1536: Gravity=25.0, Length=1.0, Mass=1.0, Friction=0.5\n",
      "Episode 1537: Gravity=25.0, Length=1.0, Mass=1.0, Friction=0.5\n",
      "Episode 1538: Gravity=25.0, Length=1.0, Mass=1.0, Friction=0.5\n",
      "Episode 1539: Gravity=25.0, Length=1.0, Mass=1.0, Friction=0.5\n",
      "Episode 1540: Gravity=25.0, Length=1.0, Mass=1.0, Friction=0.5\n",
      "Episode 1541: Gravity=25.0, Length=1.0, Mass=1.0, Friction=0.5\n"
     ]
    },
    {
     "name": "stderr",
     "output_type": "stream",
     "text": [
      "Epoch #2:  61%|######1   | 6130/10000 [00:05<00:03, 1183.56it/s, env_step=16130, gradient_step=1613, len=10, n/ep=1, n/st=10, rew=10.00]"
     ]
    },
    {
     "name": "stdout",
     "output_type": "stream",
     "text": [
      "Episode 1542: Gravity=25.0, Length=1.0, Mass=1.0, Friction=0.5\n",
      "Episode 1543: Gravity=25.0, Length=1.0, Mass=1.0, Friction=0.5\n",
      "Episode 1544: Gravity=25.0, Length=1.0, Mass=1.0, Friction=0.5\n",
      "Episode 1545: Gravity=25.0, Length=1.0, Mass=1.0, Friction=0.5\n",
      "Episode 1546: Gravity=25.0, Length=1.0, Mass=1.0, Friction=0.5\n",
      "Episode 1547: Gravity=25.0, Length=1.0, Mass=1.0, Friction=0.5\n"
     ]
    },
    {
     "name": "stderr",
     "output_type": "stream",
     "text": [
      "Epoch #2:  63%|######3   | 6310/10000 [00:05<00:03, 1179.35it/s, env_step=16310, gradient_step=1631, len=10, n/ep=1, n/st=10, rew=10.00]"
     ]
    },
    {
     "name": "stdout",
     "output_type": "stream",
     "text": [
      "Episode 1548: Gravity=25.0, Length=1.0, Mass=1.0, Friction=0.5\n",
      "Episode 1549: Gravity=25.0, Length=1.0, Mass=1.0, Friction=0.5\n",
      "Episode 1550: Gravity=25.0, Length=1.0, Mass=1.0, Friction=0.5\n",
      "Episode 1551: Gravity=25.0, Length=1.0, Mass=1.0, Friction=0.5\n",
      "Episode 1552: Gravity=25.0, Length=1.0, Mass=1.0, Friction=0.5\n",
      "Episode 1553: Gravity=25.0, Length=1.0, Mass=1.0, Friction=0.5\n",
      "Episode 1554: Gravity=25.0, Length=1.0, Mass=1.0, Friction=0.5\n",
      "Episode 1555: Gravity=25.0, Length=1.0, Mass=1.0, Friction=0.5\n",
      "Episode 1556: Gravity=25.0, Length=1.0, Mass=1.0, Friction=0.5\n",
      "Episode 1557: Gravity=25.0, Length=1.0, Mass=1.0, Friction=0.5\n",
      "Episode 1558: Gravity=25.0, Length=1.0, Mass=1.0, Friction=0.5\n",
      "Episode 1559: Gravity=25.0, Length=1.0, Mass=1.0, Friction=0.5\n",
      "Episode 1560: Gravity=25.0, Length=1.0, Mass=1.0, Friction=0.5\n",
      "Episode 1561: Gravity=25.0, Length=1.0, Mass=1.0, Friction=0.5\n",
      "Episode 1562: Gravity=25.0, Length=1.0, Mass=1.0, Friction=0.5\n",
      "Episode 1563: Gravity=25.0, Length=1.0, Mass=1.0, Friction=0.5\n",
      "Episode 1564: Gravity=25.0, Length=1.0, Mass=1.0, Friction=0.5\n",
      "Episode 1565: Gravity=25.0, Length=1.0, Mass=1.0, Friction=0.5\n",
      "Episode 1566: Gravity=25.0, Length=1.0, Mass=1.0, Friction=0.5\n"
     ]
    },
    {
     "name": "stderr",
     "output_type": "stream",
     "text": [
      "Epoch #2:  64%|######3   | 6370/10000 [00:05<00:03, 1188.09it/s, env_step=16370, gradient_step=1637, len=9, n/ep=1, n/st=10, rew=9.00]  "
     ]
    },
    {
     "name": "stdout",
     "output_type": "stream",
     "text": [
      "Episode 1567: Gravity=25.0, Length=1.0, Mass=1.0, Friction=0.5\n",
      "Episode 1568: Gravity=25.0, Length=1.0, Mass=1.0, Friction=0.5\n",
      "Episode 1569: Gravity=25.0, Length=1.0, Mass=1.0, Friction=0.5\n",
      "Episode 1570: Gravity=25.0, Length=1.0, Mass=1.0, Friction=0.5\n",
      "Episode 1571: Gravity=25.0, Length=1.0, Mass=1.0, Friction=0.5\n",
      "Episode 1572: Gravity=25.0, Length=1.0, Mass=1.0, Friction=0.5\n",
      "Episode 1573: Gravity=25.0, Length=1.0, Mass=1.0, Friction=0.5\n"
     ]
    },
    {
     "name": "stderr",
     "output_type": "stream",
     "text": [
      "Epoch #2:  66%|######5   | 6550/10000 [00:05<00:02, 1186.16it/s, env_step=16550, gradient_step=1655, len=9, n/ep=1, n/st=10, rew=9.00]  "
     ]
    },
    {
     "name": "stdout",
     "output_type": "stream",
     "text": [
      "Episode 1574: Gravity=25.0, Length=1.0, Mass=1.0, Friction=0.5\n",
      "Episode 1575: Gravity=25.0, Length=1.0, Mass=1.0, Friction=0.5\n",
      "Episode 1576: Gravity=25.0, Length=1.0, Mass=1.0, Friction=0.5\n",
      "Episode 1577: Gravity=25.0, Length=1.0, Mass=1.0, Friction=0.5\n",
      "Episode 1578: Gravity=25.0, Length=1.0, Mass=1.0, Friction=0.5\n",
      "Episode 1579: Gravity=25.0, Length=1.0, Mass=1.0, Friction=0.5\n",
      "Episode 1580: Gravity=25.0, Length=1.0, Mass=1.0, Friction=0.5\n",
      "Episode 1581: Gravity=25.0, Length=1.0, Mass=1.0, Friction=0.5\n",
      "Episode 1582: Gravity=25.0, Length=1.0, Mass=1.0, Friction=0.5\n",
      "Episode 1583: Gravity=25.0, Length=1.0, Mass=1.0, Friction=0.5\n",
      "Episode 1584: Gravity=25.0, Length=1.0, Mass=1.0, Friction=0.5\n",
      "Episode 1585: Gravity=25.0, Length=1.0, Mass=1.0, Friction=0.5\n",
      "Episode 1586: Gravity=25.0, Length=1.0, Mass=1.0, Friction=0.5\n",
      "Episode 1587: Gravity=25.0, Length=1.0, Mass=1.0, Friction=0.5\n",
      "Episode 1588: Gravity=25.0, Length=1.0, Mass=1.0, Friction=0.5\n",
      "Episode 1589: Gravity=25.0, Length=1.0, Mass=1.0, Friction=0.5\n",
      "Episode 1590: Gravity=25.0, Length=1.0, Mass=1.0, Friction=0.5\n",
      "Episode 1591: Gravity=25.0, Length=1.0, Mass=1.0, Friction=0.5\n"
     ]
    },
    {
     "name": "stderr",
     "output_type": "stream",
     "text": [
      "Epoch #2:  66%|######6   | 6620/10000 [00:06<00:02, 1188.67it/s, env_step=16620, gradient_step=1662, len=13, n/ep=1, n/st=10, rew=13.00]"
     ]
    },
    {
     "name": "stdout",
     "output_type": "stream",
     "text": [
      "Episode 1592: Gravity=25.0, Length=1.0, Mass=1.0, Friction=0.5\n",
      "Episode 1593: Gravity=25.0, Length=1.0, Mass=1.0, Friction=0.5\n",
      "Episode 1594: Gravity=25.0, Length=1.0, Mass=1.0, Friction=0.5\n",
      "Episode 1595: Gravity=25.0, Length=1.0, Mass=1.0, Friction=0.5\n",
      "Episode 1596: Gravity=25.0, Length=1.0, Mass=1.0, Friction=0.5\n",
      "Episode 1597: Gravity=25.0, Length=1.0, Mass=1.0, Friction=0.5\n",
      "Episode 1598: Gravity=25.0, Length=1.0, Mass=1.0, Friction=0.5\n"
     ]
    },
    {
     "name": "stderr",
     "output_type": "stream",
     "text": [
      "Epoch #2:  68%|######7   | 6790/10000 [00:06<00:02, 1198.32it/s, env_step=16790, gradient_step=1679, len=9, n/ep=1, n/st=10, rew=9.00]  "
     ]
    },
    {
     "name": "stdout",
     "output_type": "stream",
     "text": [
      "Episode 1599: Gravity=25.0, Length=1.0, Mass=1.0, Friction=0.5\n",
      "Episode 1600: Gravity=25.0, Length=1.0, Mass=1.0, Friction=0.5\n",
      "Episode 1601: Gravity=25.0, Length=1.0, Mass=1.0, Friction=0.5\n",
      "Episode 1602: Gravity=25.0, Length=1.0, Mass=1.0, Friction=0.5\n",
      "Episode 1603: Gravity=25.0, Length=1.0, Mass=1.0, Friction=0.5\n",
      "Episode 1604: Gravity=25.0, Length=1.0, Mass=1.0, Friction=0.5\n",
      "Episode 1605: Gravity=25.0, Length=1.0, Mass=1.0, Friction=0.5\n",
      "Episode 1606: Gravity=25.0, Length=1.0, Mass=1.0, Friction=0.5\n",
      "Episode 1607: Gravity=25.0, Length=1.0, Mass=1.0, Friction=0.5\n",
      "Episode 1608: Gravity=25.0, Length=1.0, Mass=1.0, Friction=0.5\n",
      "Episode 1609: Gravity=25.0, Length=1.0, Mass=1.0, Friction=0.5\n",
      "Episode 1610: Gravity=25.0, Length=1.0, Mass=1.0, Friction=0.5\n",
      "Episode 1611: Gravity=25.0, Length=1.0, Mass=1.0, Friction=0.5\n",
      "Episode 1612: Gravity=25.0, Length=1.0, Mass=1.0, Friction=0.5\n",
      "Episode 1613: Gravity=25.0, Length=1.0, Mass=1.0, Friction=0.5\n",
      "Episode 1614: Gravity=25.0, Length=1.0, Mass=1.0, Friction=0.5\n"
     ]
    },
    {
     "name": "stderr",
     "output_type": "stream",
     "text": [
      "Epoch #2:  69%|######8   | 6860/10000 [00:06<00:02, 1186.51it/s, env_step=16860, gradient_step=1686, len=12, n/ep=1, n/st=10, rew=12.00]"
     ]
    },
    {
     "name": "stdout",
     "output_type": "stream",
     "text": [
      "Episode 1615: Gravity=25.0, Length=1.0, Mass=1.0, Friction=0.5\n",
      "Episode 1616: Gravity=25.0, Length=1.0, Mass=1.0, Friction=0.5\n",
      "Episode 1617: Gravity=25.0, Length=1.0, Mass=1.0, Friction=0.5\n",
      "Episode 1618: Gravity=25.0, Length=1.0, Mass=1.0, Friction=0.5\n",
      "Episode 1619: Gravity=25.0, Length=1.0, Mass=1.0, Friction=0.5\n",
      "Episode 1620: Gravity=25.0, Length=1.0, Mass=1.0, Friction=0.5\n",
      "Episode 1621: Gravity=25.0, Length=1.0, Mass=1.0, Friction=0.5\n",
      "Episode 1622: Gravity=25.0, Length=1.0, Mass=1.0, Friction=0.5\n"
     ]
    },
    {
     "name": "stderr",
     "output_type": "stream",
     "text": [
      "Epoch #2:  70%|#######   | 7020/10000 [00:06<00:02, 1180.42it/s, env_step=17020, gradient_step=1702, len=10, n/ep=1, n/st=10, rew=10.00]"
     ]
    },
    {
     "name": "stdout",
     "output_type": "stream",
     "text": [
      "Episode 1623: Gravity=25.0, Length=1.0, Mass=1.0, Friction=0.5\n",
      "Episode 1624: Gravity=25.0, Length=1.0, Mass=1.0, Friction=0.5\n",
      "Episode 1625: Gravity=25.0, Length=1.0, Mass=1.0, Friction=0.5\n",
      "Episode 1626: Gravity=25.0, Length=1.0, Mass=1.0, Friction=0.5\n",
      "Episode 1627: Gravity=25.0, Length=1.0, Mass=1.0, Friction=0.5\n",
      "Episode 1628: Gravity=25.0, Length=1.0, Mass=1.0, Friction=0.5\n",
      "Episode 1629: Gravity=25.0, Length=1.0, Mass=1.0, Friction=0.5\n",
      "Episode 1630: Gravity=25.0, Length=1.0, Mass=1.0, Friction=0.5\n",
      "Episode 1631: Gravity=25.0, Length=1.0, Mass=1.0, Friction=0.5\n",
      "Episode 1632: Gravity=25.0, Length=1.0, Mass=1.0, Friction=0.5\n",
      "Episode 1633: Gravity=25.0, Length=1.0, Mass=1.0, Friction=0.5\n",
      "Episode 1634: Gravity=25.0, Length=1.0, Mass=1.0, Friction=0.5\n",
      "Episode 1635: Gravity=25.0, Length=1.0, Mass=1.0, Friction=0.5\n",
      "Episode 1636: Gravity=25.0, Length=1.0, Mass=1.0, Friction=0.5\n",
      "Episode 1637: Gravity=25.0, Length=1.0, Mass=1.0, Friction=0.5\n",
      "Episode 1638: Gravity=25.0, Length=1.0, Mass=1.0, Friction=0.5\n",
      "Episode 1639: Gravity=25.0, Length=1.0, Mass=1.0, Friction=0.5\n"
     ]
    },
    {
     "name": "stderr",
     "output_type": "stream",
     "text": [
      "Epoch #2:  71%|#######1  | 7100/10000 [00:06<00:02, 1168.01it/s, env_step=17100, gradient_step=1710, len=10, n/ep=1, n/st=10, rew=10.00]"
     ]
    },
    {
     "name": "stdout",
     "output_type": "stream",
     "text": [
      "Episode 1640: Gravity=25.0, Length=1.0, Mass=1.0, Friction=0.5\n",
      "Episode 1641: Gravity=25.0, Length=1.0, Mass=1.0, Friction=0.5\n",
      "Episode 1642: Gravity=25.0, Length=1.0, Mass=1.0, Friction=0.5\n",
      "Episode 1643: Gravity=25.0, Length=1.0, Mass=1.0, Friction=0.5\n",
      "Episode 1644: Gravity=25.0, Length=1.0, Mass=1.0, Friction=0.5\n",
      "Episode 1645: Gravity=25.0, Length=1.0, Mass=1.0, Friction=0.5\n",
      "Episode 1646: Gravity=25.0, Length=1.0, Mass=1.0, Friction=0.5\n",
      "Episode 1647: Gravity=25.0, Length=1.0, Mass=1.0, Friction=0.5\n"
     ]
    },
    {
     "name": "stderr",
     "output_type": "stream",
     "text": [
      "Epoch #2:  73%|#######2  | 7260/10000 [00:06<00:02, 1166.37it/s, env_step=17260, gradient_step=1726, len=9, n/ep=1, n/st=10, rew=9.00]  "
     ]
    },
    {
     "name": "stdout",
     "output_type": "stream",
     "text": [
      "Episode 1648: Gravity=25.0, Length=1.0, Mass=1.0, Friction=0.5\n",
      "Episode 1649: Gravity=25.0, Length=1.0, Mass=1.0, Friction=0.5\n",
      "Episode 1650: Gravity=25.0, Length=1.0, Mass=1.0, Friction=0.5\n",
      "Episode 1651: Gravity=25.0, Length=1.0, Mass=1.0, Friction=0.5\n",
      "Episode 1652: Gravity=25.0, Length=1.0, Mass=1.0, Friction=0.5\n",
      "Episode 1653: Gravity=25.0, Length=1.0, Mass=1.0, Friction=0.5\n",
      "Episode 1654: Gravity=25.0, Length=1.0, Mass=1.0, Friction=0.5\n",
      "Episode 1655: Gravity=25.0, Length=1.0, Mass=1.0, Friction=0.5\n",
      "Episode 1656: Gravity=25.0, Length=1.0, Mass=1.0, Friction=0.5\n",
      "Episode 1657: Gravity=25.0, Length=1.0, Mass=1.0, Friction=0.5\n",
      "Episode 1658: Gravity=25.0, Length=1.0, Mass=1.0, Friction=0.5\n",
      "Episode 1659: Gravity=25.0, Length=1.0, Mass=1.0, Friction=0.5\n",
      "Episode 1660: Gravity=25.0, Length=1.0, Mass=1.0, Friction=0.5\n",
      "Episode 1661: Gravity=25.0, Length=1.0, Mass=1.0, Friction=0.5\n",
      "Episode 1662: Gravity=25.0, Length=1.0, Mass=1.0, Friction=0.5\n",
      "Episode 1663: Gravity=25.0, Length=1.0, Mass=1.0, Friction=0.5\n"
     ]
    },
    {
     "name": "stderr",
     "output_type": "stream",
     "text": [
      "Epoch #2:  74%|#######3  | 7350/10000 [00:06<00:02, 1177.22it/s, env_step=17350, gradient_step=1735, len=8, n/ep=2, n/st=10, rew=8.50]  "
     ]
    },
    {
     "name": "stdout",
     "output_type": "stream",
     "text": [
      "Episode 1664: Gravity=25.0, Length=1.0, Mass=1.0, Friction=0.5\n",
      "Episode 1665: Gravity=25.0, Length=1.0, Mass=1.0, Friction=0.5\n",
      "Episode 1666: Gravity=25.0, Length=1.0, Mass=1.0, Friction=0.5\n",
      "Episode 1667: Gravity=25.0, Length=1.0, Mass=1.0, Friction=0.5\n",
      "Episode 1668: Gravity=25.0, Length=1.0, Mass=1.0, Friction=0.5\n",
      "Episode 1669: Gravity=25.0, Length=1.0, Mass=1.0, Friction=0.5\n",
      "Episode 1670: Gravity=25.0, Length=1.0, Mass=1.0, Friction=0.5\n",
      "Episode 1671: Gravity=25.0, Length=1.0, Mass=1.0, Friction=0.5\n",
      "Episode 1672: Gravity=25.0, Length=1.0, Mass=1.0, Friction=0.5\n"
     ]
    },
    {
     "name": "stderr",
     "output_type": "stream",
     "text": [
      "Epoch #2:  75%|#######5  | 7510/10000 [00:06<00:02, 1180.09it/s, env_step=17510, gradient_step=1751, len=10, n/ep=1, n/st=10, rew=10.00]"
     ]
    },
    {
     "name": "stdout",
     "output_type": "stream",
     "text": [
      "Episode 1673: Gravity=25.0, Length=1.0, Mass=1.0, Friction=0.5\n",
      "Episode 1674: Gravity=25.0, Length=1.0, Mass=1.0, Friction=0.5\n",
      "Episode 1675: Gravity=25.0, Length=1.0, Mass=1.0, Friction=0.5\n",
      "Episode 1676: Gravity=25.0, Length=1.0, Mass=1.0, Friction=0.5\n",
      "Episode 1677: Gravity=25.0, Length=1.0, Mass=1.0, Friction=0.5\n",
      "Episode 1678: Gravity=25.0, Length=1.0, Mass=1.0, Friction=0.5\n",
      "Episode 1679: Gravity=25.0, Length=1.0, Mass=1.0, Friction=0.5\n",
      "Episode 1680: Gravity=25.0, Length=1.0, Mass=1.0, Friction=0.5\n",
      "Episode 1681: Gravity=25.0, Length=1.0, Mass=1.0, Friction=0.5\n",
      "Episode 1682: Gravity=25.0, Length=1.0, Mass=1.0, Friction=0.5\n",
      "Episode 1683: Gravity=25.0, Length=1.0, Mass=1.0, Friction=0.5\n",
      "Episode 1684: Gravity=25.0, Length=1.0, Mass=1.0, Friction=0.5\n",
      "Episode 1685: Gravity=25.0, Length=1.0, Mass=1.0, Friction=0.5\n",
      "Episode 1686: Gravity=25.0, Length=1.0, Mass=1.0, Friction=0.5\n",
      "Episode 1687: Gravity=25.0, Length=1.0, Mass=1.0, Friction=0.5\n"
     ]
    },
    {
     "name": "stderr",
     "output_type": "stream",
     "text": [
      "Epoch #2:  76%|#######5  | 7580/10000 [00:06<00:02, 1167.30it/s, env_step=17580, gradient_step=1758, len=9, n/ep=1, n/st=10, rew=9.00]  "
     ]
    },
    {
     "name": "stdout",
     "output_type": "stream",
     "text": [
      "Episode 1688: Gravity=25.0, Length=1.0, Mass=1.0, Friction=0.5\n",
      "Episode 1689: Gravity=25.0, Length=1.0, Mass=1.0, Friction=0.5\n",
      "Episode 1690: Gravity=25.0, Length=1.0, Mass=1.0, Friction=0.5\n",
      "Episode 1691: Gravity=25.0, Length=1.0, Mass=1.0, Friction=0.5\n",
      "Episode 1692: Gravity=25.0, Length=1.0, Mass=1.0, Friction=0.5\n",
      "Episode 1693: Gravity=25.0, Length=1.0, Mass=1.0, Friction=0.5\n",
      "Episode 1694: Gravity=25.0, Length=1.0, Mass=1.0, Friction=0.5\n",
      "Episode 1695: Gravity=25.0, Length=1.0, Mass=1.0, Friction=0.5\n"
     ]
    },
    {
     "name": "stderr",
     "output_type": "stream",
     "text": [
      "Epoch #2:  77%|#######7  | 7720/10000 [00:06<00:01, 1161.71it/s, env_step=17720, gradient_step=1772, len=9, n/ep=1, n/st=10, rew=9.00]  "
     ]
    },
    {
     "name": "stdout",
     "output_type": "stream",
     "text": [
      "Episode 1696: Gravity=25.0, Length=1.0, Mass=1.0, Friction=0.5\n",
      "Episode 1697: Gravity=25.0, Length=1.0, Mass=1.0, Friction=0.5\n",
      "Episode 1698: Gravity=25.0, Length=1.0, Mass=1.0, Friction=0.5\n",
      "Episode 1699: Gravity=25.0, Length=1.0, Mass=1.0, Friction=0.5\n",
      "Episode 1700: Gravity=25.0, Length=1.0, Mass=1.0, Friction=0.5\n",
      "Episode 1701: Gravity=25.0, Length=1.0, Mass=1.0, Friction=0.5\n",
      "Episode 1702: Gravity=25.0, Length=1.0, Mass=1.0, Friction=0.5\n",
      "Episode 1703: Gravity=25.0, Length=1.0, Mass=1.0, Friction=0.5\n",
      "Episode 1704: Gravity=25.0, Length=1.0, Mass=1.0, Friction=0.5\n",
      "Episode 1705: Gravity=25.0, Length=1.0, Mass=1.0, Friction=0.5\n",
      "Episode 1706: Gravity=25.0, Length=1.0, Mass=1.0, Friction=0.5\n",
      "Episode 1707: Gravity=25.0, Length=1.0, Mass=1.0, Friction=0.5\n",
      "Episode 1708: Gravity=25.0, Length=1.0, Mass=1.0, Friction=0.5\n"
     ]
    },
    {
     "name": "stderr",
     "output_type": "stream",
     "text": [
      "Epoch #2:  77%|#######7  | 7740/10000 [00:07<00:01, 1161.71it/s, env_step=17740, gradient_step=1774, len=18, n/ep=1, n/st=10, rew=18.00]"
     ]
    },
    {
     "name": "stdout",
     "output_type": "stream",
     "text": [
      "Episode 1709: Gravity=25.0, Length=1.0, Mass=1.0, Friction=0.5\n"
     ]
    },
    {
     "name": "stderr",
     "output_type": "stream",
     "text": [
      "Epoch #2:  79%|#######9  | 7920/10000 [00:07<00:02, 939.07it/s, env_step=17920, gradient_step=1792, len=9, n/ep=1, n/st=10, rew=9.00]   "
     ]
    },
    {
     "name": "stdout",
     "output_type": "stream",
     "text": [
      "Episode 1710: Gravity=25.0, Length=1.0, Mass=1.0, Friction=0.5\n",
      "Episode 1711: Gravity=25.0, Length=1.0, Mass=1.0, Friction=0.5\n",
      "Episode 1712: Gravity=25.0, Length=1.0, Mass=1.0, Friction=0.5\n",
      "Episode 1713: Gravity=25.0, Length=1.0, Mass=1.0, Friction=0.5\n",
      "Episode 1714: Gravity=25.0, Length=1.0, Mass=1.0, Friction=0.5\n",
      "Episode 1715: Gravity=25.0, Length=1.0, Mass=1.0, Friction=0.5\n",
      "Episode 1716: Gravity=25.0, Length=1.0, Mass=1.0, Friction=0.5\n",
      "Episode 1717: Gravity=25.0, Length=1.0, Mass=1.0, Friction=0.5\n",
      "Episode 1718: Gravity=25.0, Length=1.0, Mass=1.0, Friction=0.5\n",
      "Episode 1719: Gravity=25.0, Length=1.0, Mass=1.0, Friction=0.5\n",
      "Episode 1720: Gravity=25.0, Length=1.0, Mass=1.0, Friction=0.5\n",
      "Episode 1721: Gravity=25.0, Length=1.0, Mass=1.0, Friction=0.5\n",
      "Episode 1722: Gravity=25.0, Length=1.0, Mass=1.0, Friction=0.5\n",
      "Episode 1723: Gravity=25.0, Length=1.0, Mass=1.0, Friction=0.5\n",
      "Episode 1724: Gravity=25.0, Length=1.0, Mass=1.0, Friction=0.5\n",
      "Episode 1725: Gravity=25.0, Length=1.0, Mass=1.0, Friction=0.5\n",
      "Episode 1726: Gravity=25.0, Length=1.0, Mass=1.0, Friction=0.5\n",
      "Episode 1727: Gravity=25.0, Length=1.0, Mass=1.0, Friction=0.5\n",
      "Episode 1728: Gravity=25.0, Length=1.0, Mass=1.0, Friction=0.5\n"
     ]
    },
    {
     "name": "stderr",
     "output_type": "stream",
     "text": [
      "Epoch #2:  79%|#######9  | 7930/10000 [00:07<00:02, 939.07it/s, env_step=17930, gradient_step=1793, len=10, n/ep=1, n/st=10, rew=10.00]"
     ]
    },
    {
     "name": "stdout",
     "output_type": "stream",
     "text": [
      "Episode 1729: Gravity=25.0, Length=1.0, Mass=1.0, Friction=0.5\n"
     ]
    },
    {
     "name": "stderr",
     "output_type": "stream",
     "text": [
      "Epoch #2:  82%|########1 | 8150/10000 [00:07<00:01, 1029.73it/s, env_step=18150, gradient_step=1815, len=10, n/ep=1, n/st=10, rew=10.00]"
     ]
    },
    {
     "name": "stdout",
     "output_type": "stream",
     "text": [
      "Episode 1730: Gravity=25.0, Length=1.0, Mass=1.0, Friction=0.5\n",
      "Episode 1731: Gravity=25.0, Length=1.0, Mass=1.0, Friction=0.5\n",
      "Episode 1732: Gravity=25.0, Length=1.0, Mass=1.0, Friction=0.5\n",
      "Episode 1733: Gravity=25.0, Length=1.0, Mass=1.0, Friction=0.5\n",
      "Episode 1734: Gravity=25.0, Length=1.0, Mass=1.0, Friction=0.5\n",
      "Episode 1735: Gravity=25.0, Length=1.0, Mass=1.0, Friction=0.5\n",
      "Episode 1736: Gravity=25.0, Length=1.0, Mass=1.0, Friction=0.5\n",
      "Episode 1737: Gravity=25.0, Length=1.0, Mass=1.0, Friction=0.5\n",
      "Episode 1738: Gravity=25.0, Length=1.0, Mass=1.0, Friction=0.5\n",
      "Episode 1739: Gravity=25.0, Length=1.0, Mass=1.0, Friction=0.5\n",
      "Episode 1740: Gravity=25.0, Length=1.0, Mass=1.0, Friction=0.5\n",
      "Episode 1741: Gravity=25.0, Length=1.0, Mass=1.0, Friction=0.5\n",
      "Episode 1742: Gravity=25.0, Length=1.0, Mass=1.0, Friction=0.5\n",
      "Episode 1743: Gravity=25.0, Length=1.0, Mass=1.0, Friction=0.5\n",
      "Episode 1744: Gravity=25.0, Length=1.0, Mass=1.0, Friction=0.5\n",
      "Episode 1745: Gravity=25.0, Length=1.0, Mass=1.0, Friction=0.5\n",
      "Episode 1746: Gravity=25.0, Length=1.0, Mass=1.0, Friction=0.5\n",
      "Episode 1747: Gravity=25.0, Length=1.0, Mass=1.0, Friction=0.5\n",
      "Episode 1748: Gravity=25.0, Length=1.0, Mass=1.0, Friction=0.5\n",
      "Episode 1749: Gravity=25.0, Length=1.0, Mass=1.0, Friction=0.5\n",
      "Episode 1750: Gravity=25.0, Length=1.0, Mass=1.0, Friction=0.5\n",
      "Episode 1751: Gravity=25.0, Length=1.0, Mass=1.0, Friction=0.5\n",
      "Episode 1752: Gravity=25.0, Length=1.0, Mass=1.0, Friction=0.5\n"
     ]
    },
    {
     "name": "stderr",
     "output_type": "stream",
     "text": [
      "Epoch #2:  82%|########1 | 8160/10000 [00:07<00:01, 1029.73it/s, env_step=18160, gradient_step=1816, len=10, n/ep=1, n/st=10, rew=10.00]"
     ]
    },
    {
     "name": "stdout",
     "output_type": "stream",
     "text": [
      "Episode 1753: Gravity=25.0, Length=1.0, Mass=1.0, Friction=0.5\n"
     ]
    },
    {
     "name": "stderr",
     "output_type": "stream",
     "text": [
      "Epoch #2:  84%|########4 | 8400/10000 [00:07<00:01, 1081.04it/s, env_step=18400, gradient_step=1840, len=11, n/ep=1, n/st=10, rew=11.00]"
     ]
    },
    {
     "name": "stdout",
     "output_type": "stream",
     "text": [
      "Episode 1754: Gravity=25.0, Length=1.0, Mass=1.0, Friction=0.5\n",
      "Episode 1755: Gravity=25.0, Length=1.0, Mass=1.0, Friction=0.5\n",
      "Episode 1756: Gravity=25.0, Length=1.0, Mass=1.0, Friction=0.5\n",
      "Episode 1757: Gravity=25.0, Length=1.0, Mass=1.0, Friction=0.5\n",
      "Episode 1758: Gravity=25.0, Length=1.0, Mass=1.0, Friction=0.5\n",
      "Episode 1759: Gravity=25.0, Length=1.0, Mass=1.0, Friction=0.5\n",
      "Episode 1760: Gravity=25.0, Length=1.0, Mass=1.0, Friction=0.5\n",
      "Episode 1761: Gravity=25.0, Length=1.0, Mass=1.0, Friction=0.5\n",
      "Episode 1762: Gravity=25.0, Length=1.0, Mass=1.0, Friction=0.5\n",
      "Episode 1763: Gravity=25.0, Length=1.0, Mass=1.0, Friction=0.5\n",
      "Episode 1764: Gravity=25.0, Length=1.0, Mass=1.0, Friction=0.5\n",
      "Episode 1765: Gravity=25.0, Length=1.0, Mass=1.0, Friction=0.5\n",
      "Episode 1766: Gravity=25.0, Length=1.0, Mass=1.0, Friction=0.5\n",
      "Episode 1767: Gravity=25.0, Length=1.0, Mass=1.0, Friction=0.5\n",
      "Episode 1768: Gravity=25.0, Length=1.0, Mass=1.0, Friction=0.5\n",
      "Episode 1769: Gravity=25.0, Length=1.0, Mass=1.0, Friction=0.5\n",
      "Episode 1770: Gravity=25.0, Length=1.0, Mass=1.0, Friction=0.5\n",
      "Episode 1771: Gravity=25.0, Length=1.0, Mass=1.0, Friction=0.5\n",
      "Episode 1772: Gravity=25.0, Length=1.0, Mass=1.0, Friction=0.5\n",
      "Episode 1773: Gravity=25.0, Length=1.0, Mass=1.0, Friction=0.5\n",
      "Episode 1774: Gravity=25.0, Length=1.0, Mass=1.0, Friction=0.5\n",
      "Episode 1775: Gravity=25.0, Length=1.0, Mass=1.0, Friction=0.5\n",
      "Episode 1776: Gravity=25.0, Length=1.0, Mass=1.0, Friction=0.5\n",
      "Episode 1777: Gravity=25.0, Length=1.0, Mass=1.0, Friction=0.5\n",
      "Episode 1778: Gravity=25.0, Length=1.0, Mass=1.0, Friction=0.5\n"
     ]
    },
    {
     "name": "stderr",
     "output_type": "stream",
     "text": [
      "Epoch #2:  84%|########4 | 8410/10000 [00:07<00:01, 1117.13it/s, env_step=18410, gradient_step=1841, len=9, n/ep=1, n/st=10, rew=9.00]  "
     ]
    },
    {
     "name": "stdout",
     "output_type": "stream",
     "text": [
      "Episode 1779: Gravity=25.0, Length=1.0, Mass=1.0, Friction=0.5\n"
     ]
    },
    {
     "name": "stderr",
     "output_type": "stream",
     "text": [
      "Epoch #2:  86%|########6 | 8650/10000 [00:07<00:01, 1143.92it/s, env_step=18650, gradient_step=1865, len=9, n/ep=1, n/st=10, rew=9.00]  "
     ]
    },
    {
     "name": "stdout",
     "output_type": "stream",
     "text": [
      "Episode 1780: Gravity=25.0, Length=1.0, Mass=1.0, Friction=0.5\n",
      "Episode 1781: Gravity=25.0, Length=1.0, Mass=1.0, Friction=0.5\n",
      "Episode 1782: Gravity=25.0, Length=1.0, Mass=1.0, Friction=0.5\n",
      "Episode 1783: Gravity=25.0, Length=1.0, Mass=1.0, Friction=0.5\n",
      "Episode 1784: Gravity=25.0, Length=1.0, Mass=1.0, Friction=0.5\n",
      "Episode 1785: Gravity=25.0, Length=1.0, Mass=1.0, Friction=0.5\n",
      "Episode 1786: Gravity=25.0, Length=1.0, Mass=1.0, Friction=0.5\n",
      "Episode 1787: Gravity=25.0, Length=1.0, Mass=1.0, Friction=0.5\n",
      "Episode 1788: Gravity=25.0, Length=1.0, Mass=1.0, Friction=0.5\n",
      "Episode 1789: Gravity=25.0, Length=1.0, Mass=1.0, Friction=0.5\n",
      "Episode 1790: Gravity=25.0, Length=1.0, Mass=1.0, Friction=0.5\n",
      "Episode 1791: Gravity=25.0, Length=1.0, Mass=1.0, Friction=0.5\n",
      "Episode 1792: Gravity=25.0, Length=1.0, Mass=1.0, Friction=0.5\n",
      "Episode 1793: Gravity=25.0, Length=1.0, Mass=1.0, Friction=0.5\n",
      "Episode 1794: Gravity=25.0, Length=1.0, Mass=1.0, Friction=0.5\n",
      "Episode 1795: Gravity=25.0, Length=1.0, Mass=1.0, Friction=0.5\n",
      "Episode 1796: Gravity=25.0, Length=1.0, Mass=1.0, Friction=0.5\n",
      "Episode 1797: Gravity=25.0, Length=1.0, Mass=1.0, Friction=0.5\n",
      "Episode 1798: Gravity=25.0, Length=1.0, Mass=1.0, Friction=0.5\n",
      "Episode 1799: Gravity=25.0, Length=1.0, Mass=1.0, Friction=0.5\n",
      "Episode 1800: Gravity=25.0, Length=1.0, Mass=1.0, Friction=0.5\n",
      "Episode 1801: Gravity=25.0, Length=1.0, Mass=1.0, Friction=0.5\n",
      "Episode 1802: Gravity=25.0, Length=1.0, Mass=1.0, Friction=0.5\n",
      "Episode 1803: Gravity=25.0, Length=1.0, Mass=1.0, Friction=0.5\n"
     ]
    },
    {
     "name": "stderr",
     "output_type": "stream",
     "text": [
      "Epoch #2:  87%|########6 | 8660/10000 [00:07<00:01, 1143.92it/s, env_step=18660, gradient_step=1866, len=10, n/ep=1, n/st=10, rew=10.00]"
     ]
    },
    {
     "name": "stdout",
     "output_type": "stream",
     "text": [
      "Episode 1804: Gravity=25.0, Length=1.0, Mass=1.0, Friction=0.5\n"
     ]
    },
    {
     "name": "stderr",
     "output_type": "stream",
     "text": [
      "Epoch #2:  89%|########8 | 8890/10000 [00:08<00:00, 1175.94it/s, env_step=18890, gradient_step=1889, len=8, n/ep=1, n/st=10, rew=8.00]  "
     ]
    },
    {
     "name": "stdout",
     "output_type": "stream",
     "text": [
      "Episode 1805: Gravity=25.0, Length=1.0, Mass=1.0, Friction=0.5\n",
      "Episode 1806: Gravity=25.0, Length=1.0, Mass=1.0, Friction=0.5\n",
      "Episode 1807: Gravity=25.0, Length=1.0, Mass=1.0, Friction=0.5\n",
      "Episode 1808: Gravity=25.0, Length=1.0, Mass=1.0, Friction=0.5\n",
      "Episode 1809: Gravity=25.0, Length=1.0, Mass=1.0, Friction=0.5\n",
      "Episode 1810: Gravity=25.0, Length=1.0, Mass=1.0, Friction=0.5\n",
      "Episode 1811: Gravity=25.0, Length=1.0, Mass=1.0, Friction=0.5\n",
      "Episode 1812: Gravity=25.0, Length=1.0, Mass=1.0, Friction=0.5\n",
      "Episode 1813: Gravity=25.0, Length=1.0, Mass=1.0, Friction=0.5\n",
      "Episode 1814: Gravity=25.0, Length=1.0, Mass=1.0, Friction=0.5\n",
      "Episode 1815: Gravity=25.0, Length=1.0, Mass=1.0, Friction=0.5\n",
      "Episode 1816: Gravity=25.0, Length=1.0, Mass=1.0, Friction=0.5\n",
      "Episode 1817: Gravity=25.0, Length=1.0, Mass=1.0, Friction=0.5\n",
      "Episode 1818: Gravity=25.0, Length=1.0, Mass=1.0, Friction=0.5\n",
      "Episode 1819: Gravity=25.0, Length=1.0, Mass=1.0, Friction=0.5\n",
      "Episode 1820: Gravity=25.0, Length=1.0, Mass=1.0, Friction=0.5\n",
      "Episode 1821: Gravity=25.0, Length=1.0, Mass=1.0, Friction=0.5\n",
      "Episode 1822: Gravity=25.0, Length=1.0, Mass=1.0, Friction=0.5\n",
      "Episode 1823: Gravity=25.0, Length=1.0, Mass=1.0, Friction=0.5\n",
      "Episode 1824: Gravity=25.0, Length=1.0, Mass=1.0, Friction=0.5\n",
      "Episode 1825: Gravity=25.0, Length=1.0, Mass=1.0, Friction=0.5\n",
      "Episode 1826: Gravity=25.0, Length=1.0, Mass=1.0, Friction=0.5\n",
      "Episode 1827: Gravity=25.0, Length=1.0, Mass=1.0, Friction=0.5\n",
      "Episode 1828: Gravity=25.0, Length=1.0, Mass=1.0, Friction=0.5\n"
     ]
    },
    {
     "name": "stderr",
     "output_type": "stream",
     "text": [
      "Epoch #2:  89%|########9 | 8900/10000 [00:08<00:00, 1175.94it/s, env_step=18900, gradient_step=1890, len=11, n/ep=1, n/st=10, rew=11.00]"
     ]
    },
    {
     "name": "stdout",
     "output_type": "stream",
     "text": [
      "Episode 1829: Gravity=25.0, Length=1.0, Mass=1.0, Friction=0.5\n"
     ]
    },
    {
     "name": "stderr",
     "output_type": "stream",
     "text": [
      "Epoch #2:  91%|######### | 9080/10000 [00:08<00:00, 1039.64it/s, env_step=19080, gradient_step=1908, len=10, n/ep=1, n/st=10, rew=10.00]"
     ]
    },
    {
     "name": "stdout",
     "output_type": "stream",
     "text": [
      "Episode 1830: Gravity=25.0, Length=1.0, Mass=1.0, Friction=0.5\n",
      "Episode 1831: Gravity=25.0, Length=1.0, Mass=1.0, Friction=0.5\n",
      "Episode 1832: Gravity=25.0, Length=1.0, Mass=1.0, Friction=0.5\n",
      "Episode 1833: Gravity=25.0, Length=1.0, Mass=1.0, Friction=0.5\n",
      "Episode 1834: Gravity=25.0, Length=1.0, Mass=1.0, Friction=0.5\n",
      "Episode 1835: Gravity=25.0, Length=1.0, Mass=1.0, Friction=0.5\n",
      "Episode 1836: Gravity=25.0, Length=1.0, Mass=1.0, Friction=0.5\n",
      "Episode 1837: Gravity=25.0, Length=1.0, Mass=1.0, Friction=0.5\n",
      "Episode 1838: Gravity=25.0, Length=1.0, Mass=1.0, Friction=0.5\n",
      "Episode 1839: Gravity=25.0, Length=1.0, Mass=1.0, Friction=0.5\n",
      "Episode 1840: Gravity=25.0, Length=1.0, Mass=1.0, Friction=0.5\n",
      "Episode 1841: Gravity=25.0, Length=1.0, Mass=1.0, Friction=0.5\n",
      "Episode 1842: Gravity=25.0, Length=1.0, Mass=1.0, Friction=0.5\n",
      "Episode 1843: Gravity=25.0, Length=1.0, Mass=1.0, Friction=0.5\n",
      "Episode 1844: Gravity=25.0, Length=1.0, Mass=1.0, Friction=0.5\n",
      "Episode 1845: Gravity=25.0, Length=1.0, Mass=1.0, Friction=0.5\n",
      "Episode 1846: Gravity=25.0, Length=1.0, Mass=1.0, Friction=0.5\n",
      "Episode 1847: Gravity=25.0, Length=1.0, Mass=1.0, Friction=0.5\n"
     ]
    },
    {
     "name": "stderr",
     "output_type": "stream",
     "text": [
      "Epoch #2:  91%|######### | 9090/10000 [00:08<00:00, 1039.64it/s, env_step=19090, gradient_step=1909, len=8, n/ep=1, n/st=10, rew=8.00]  "
     ]
    },
    {
     "name": "stdout",
     "output_type": "stream",
     "text": [
      "Episode 1848: Gravity=25.0, Length=1.0, Mass=1.0, Friction=0.5\n"
     ]
    },
    {
     "name": "stderr",
     "output_type": "stream",
     "text": [
      "Epoch #2:  93%|#########3| 9310/10000 [00:08<00:00, 1068.02it/s, env_step=19310, gradient_step=1931, len=9, n/ep=1, n/st=10, rew=9.00]  "
     ]
    },
    {
     "name": "stdout",
     "output_type": "stream",
     "text": [
      "Episode 1849: Gravity=25.0, Length=1.0, Mass=1.0, Friction=0.5\n",
      "Episode 1850: Gravity=25.0, Length=1.0, Mass=1.0, Friction=0.5\n",
      "Episode 1851: Gravity=25.0, Length=1.0, Mass=1.0, Friction=0.5\n",
      "Episode 1852: Gravity=25.0, Length=1.0, Mass=1.0, Friction=0.5\n",
      "Episode 1853: Gravity=25.0, Length=1.0, Mass=1.0, Friction=0.5\n",
      "Episode 1854: Gravity=25.0, Length=1.0, Mass=1.0, Friction=0.5\n",
      "Episode 1855: Gravity=25.0, Length=1.0, Mass=1.0, Friction=0.5\n",
      "Episode 1856: Gravity=25.0, Length=1.0, Mass=1.0, Friction=0.5\n",
      "Episode 1857: Gravity=25.0, Length=1.0, Mass=1.0, Friction=0.5\n",
      "Episode 1858: Gravity=25.0, Length=1.0, Mass=1.0, Friction=0.5\n",
      "Episode 1859: Gravity=25.0, Length=1.0, Mass=1.0, Friction=0.5\n",
      "Episode 1860: Gravity=25.0, Length=1.0, Mass=1.0, Friction=0.5\n",
      "Episode 1861: Gravity=25.0, Length=1.0, Mass=1.0, Friction=0.5\n",
      "Episode 1862: Gravity=25.0, Length=1.0, Mass=1.0, Friction=0.5\n",
      "Episode 1863: Gravity=25.0, Length=1.0, Mass=1.0, Friction=0.5\n",
      "Episode 1864: Gravity=25.0, Length=1.0, Mass=1.0, Friction=0.5\n",
      "Episode 1865: Gravity=25.0, Length=1.0, Mass=1.0, Friction=0.5\n",
      "Episode 1866: Gravity=25.0, Length=1.0, Mass=1.0, Friction=0.5\n",
      "Episode 1867: Gravity=25.0, Length=1.0, Mass=1.0, Friction=0.5\n",
      "Episode 1868: Gravity=25.0, Length=1.0, Mass=1.0, Friction=0.5\n",
      "Episode 1869: Gravity=25.0, Length=1.0, Mass=1.0, Friction=0.5\n",
      "Episode 1870: Gravity=25.0, Length=1.0, Mass=1.0, Friction=0.5\n"
     ]
    },
    {
     "name": "stderr",
     "output_type": "stream",
     "text": [
      "Epoch #2:  93%|#########3| 9320/10000 [00:08<00:00, 1068.02it/s, env_step=19320, gradient_step=1932, len=10, n/ep=1, n/st=10, rew=10.00]"
     ]
    },
    {
     "name": "stdout",
     "output_type": "stream",
     "text": [
      "Episode 1871: Gravity=25.0, Length=1.0, Mass=1.0, Friction=0.5\n"
     ]
    },
    {
     "name": "stderr",
     "output_type": "stream",
     "text": [
      "Epoch #2:  96%|#########5| 9560/10000 [00:08<00:00, 1121.54it/s, env_step=19560, gradient_step=1956, len=9, n/ep=0, n/st=10, rew=9.50]  "
     ]
    },
    {
     "name": "stdout",
     "output_type": "stream",
     "text": [
      "Episode 1872: Gravity=25.0, Length=1.0, Mass=1.0, Friction=0.5\n",
      "Episode 1873: Gravity=25.0, Length=1.0, Mass=1.0, Friction=0.5\n",
      "Episode 1874: Gravity=25.0, Length=1.0, Mass=1.0, Friction=0.5\n",
      "Episode 1875: Gravity=25.0, Length=1.0, Mass=1.0, Friction=0.5\n",
      "Episode 1876: Gravity=25.0, Length=1.0, Mass=1.0, Friction=0.5\n",
      "Episode 1877: Gravity=25.0, Length=1.0, Mass=1.0, Friction=0.5\n",
      "Episode 1878: Gravity=25.0, Length=1.0, Mass=1.0, Friction=0.5\n",
      "Episode 1879: Gravity=25.0, Length=1.0, Mass=1.0, Friction=0.5\n",
      "Episode 1880: Gravity=25.0, Length=1.0, Mass=1.0, Friction=0.5\n",
      "Episode 1881: Gravity=25.0, Length=1.0, Mass=1.0, Friction=0.5\n",
      "Episode 1882: Gravity=25.0, Length=1.0, Mass=1.0, Friction=0.5\n",
      "Episode 1883: Gravity=25.0, Length=1.0, Mass=1.0, Friction=0.5\n",
      "Episode 1884: Gravity=25.0, Length=1.0, Mass=1.0, Friction=0.5\n",
      "Episode 1885: Gravity=25.0, Length=1.0, Mass=1.0, Friction=0.5\n",
      "Episode 1886: Gravity=25.0, Length=1.0, Mass=1.0, Friction=0.5\n",
      "Episode 1887: Gravity=25.0, Length=1.0, Mass=1.0, Friction=0.5\n",
      "Episode 1888: Gravity=25.0, Length=1.0, Mass=1.0, Friction=0.5\n",
      "Episode 1889: Gravity=25.0, Length=1.0, Mass=1.0, Friction=0.5\n",
      "Episode 1890: Gravity=25.0, Length=1.0, Mass=1.0, Friction=0.5\n",
      "Episode 1891: Gravity=25.0, Length=1.0, Mass=1.0, Friction=0.5\n",
      "Episode 1892: Gravity=25.0, Length=1.0, Mass=1.0, Friction=0.5\n",
      "Episode 1893: Gravity=25.0, Length=1.0, Mass=1.0, Friction=0.5\n",
      "Episode 1894: Gravity=25.0, Length=1.0, Mass=1.0, Friction=0.5\n"
     ]
    },
    {
     "name": "stderr",
     "output_type": "stream",
     "text": [
      "Epoch #2:  96%|#########5| 9570/10000 [00:08<00:00, 1121.54it/s, env_step=19570, gradient_step=1957, len=12, n/ep=1, n/st=10, rew=12.00]"
     ]
    },
    {
     "name": "stdout",
     "output_type": "stream",
     "text": [
      "Episode 1895: Gravity=25.0, Length=1.0, Mass=1.0, Friction=0.5\n",
      "Episode 1896: Gravity=25.0, Length=1.0, Mass=1.0, Friction=0.5\n"
     ]
    },
    {
     "name": "stderr",
     "output_type": "stream",
     "text": [
      "Epoch #2:  98%|#########8| 9800/10000 [00:08<00:00, 1165.66it/s, env_step=19800, gradient_step=1980, len=11, n/ep=1, n/st=10, rew=11.00]"
     ]
    },
    {
     "name": "stdout",
     "output_type": "stream",
     "text": [
      "Episode 1897: Gravity=25.0, Length=1.0, Mass=1.0, Friction=0.5\n",
      "Episode 1898: Gravity=25.0, Length=1.0, Mass=1.0, Friction=0.5\n",
      "Episode 1899: Gravity=25.0, Length=1.0, Mass=1.0, Friction=0.5\n",
      "Episode 1900: Gravity=25.0, Length=1.0, Mass=1.0, Friction=0.5\n",
      "Episode 1901: Gravity=25.0, Length=1.0, Mass=1.0, Friction=0.5\n",
      "Episode 1902: Gravity=25.0, Length=1.0, Mass=1.0, Friction=0.5\n",
      "Episode 1903: Gravity=25.0, Length=1.0, Mass=1.0, Friction=0.5\n",
      "Episode 1904: Gravity=25.0, Length=1.0, Mass=1.0, Friction=0.5\n",
      "Episode 1905: Gravity=25.0, Length=1.0, Mass=1.0, Friction=0.5\n",
      "Episode 1906: Gravity=25.0, Length=1.0, Mass=1.0, Friction=0.5\n",
      "Episode 1907: Gravity=25.0, Length=1.0, Mass=1.0, Friction=0.5\n",
      "Episode 1908: Gravity=25.0, Length=1.0, Mass=1.0, Friction=0.5\n",
      "Episode 1909: Gravity=25.0, Length=1.0, Mass=1.0, Friction=0.5\n",
      "Episode 1910: Gravity=25.0, Length=1.0, Mass=1.0, Friction=0.5\n",
      "Episode 1911: Gravity=25.0, Length=1.0, Mass=1.0, Friction=0.5\n",
      "Episode 1912: Gravity=25.0, Length=1.0, Mass=1.0, Friction=0.5\n",
      "Episode 1913: Gravity=25.0, Length=1.0, Mass=1.0, Friction=0.5\n",
      "Episode 1914: Gravity=25.0, Length=1.0, Mass=1.0, Friction=0.5\n",
      "Episode 1915: Gravity=25.0, Length=1.0, Mass=1.0, Friction=0.5\n",
      "Episode 1916: Gravity=25.0, Length=1.0, Mass=1.0, Friction=0.5\n",
      "Episode 1917: Gravity=25.0, Length=1.0, Mass=1.0, Friction=0.5\n",
      "Episode 1918: Gravity=25.0, Length=1.0, Mass=1.0, Friction=0.5\n",
      "Episode 1919: Gravity=25.0, Length=1.0, Mass=1.0, Friction=0.5\n"
     ]
    },
    {
     "name": "stderr",
     "output_type": "stream",
     "text": [
      "Epoch #2:  98%|#########8| 9820/10000 [00:08<00:00, 1165.66it/s, env_step=19820, gradient_step=1982, len=9, n/ep=1, n/st=10, rew=9.00]  "
     ]
    },
    {
     "name": "stdout",
     "output_type": "stream",
     "text": [
      "Episode 1920: Gravity=25.0, Length=1.0, Mass=1.0, Friction=0.5\n",
      "Episode 1921: Gravity=25.0, Length=1.0, Mass=1.0, Friction=0.5\n",
      "Episode 1922: Gravity=25.0, Length=1.0, Mass=1.0, Friction=0.5\n"
     ]
    },
    {
     "name": "stderr",
     "output_type": "stream",
     "text": [
      "Epoch #2: 10001it [00:09, 1104.94it/s, env_step=20000, gradient_step=2000, len=10, n/ep=1, n/st=10, rew=10.00]                           \n"
     ]
    },
    {
     "name": "stdout",
     "output_type": "stream",
     "text": [
      "Episode 1923: Gravity=25.0, Length=1.0, Mass=1.0, Friction=0.5\n",
      "Episode 1924: Gravity=25.0, Length=1.0, Mass=1.0, Friction=0.5\n",
      "Episode 1925: Gravity=25.0, Length=1.0, Mass=1.0, Friction=0.5\n",
      "Episode 1926: Gravity=25.0, Length=1.0, Mass=1.0, Friction=0.5\n",
      "Episode 1927: Gravity=25.0, Length=1.0, Mass=1.0, Friction=0.5\n",
      "Episode 1928: Gravity=25.0, Length=1.0, Mass=1.0, Friction=0.5\n",
      "Episode 1929: Gravity=25.0, Length=1.0, Mass=1.0, Friction=0.5\n",
      "Episode 1930: Gravity=25.0, Length=1.0, Mass=1.0, Friction=0.5\n",
      "Episode 1931: Gravity=25.0, Length=1.0, Mass=1.0, Friction=0.5\n",
      "Episode 1932: Gravity=25.0, Length=1.0, Mass=1.0, Friction=0.5\n",
      "Episode 1933: Gravity=25.0, Length=1.0, Mass=1.0, Friction=0.5\n",
      "Episode 1934: Gravity=25.0, Length=1.0, Mass=1.0, Friction=0.5\n",
      "Episode 1935: Gravity=25.0, Length=1.0, Mass=1.0, Friction=0.5\n",
      "Episode 1936: Gravity=25.0, Length=1.0, Mass=1.0, Friction=0.5\n",
      "Episode 1937: Gravity=25.0, Length=1.0, Mass=1.0, Friction=0.5\n",
      "Episode 1938: Gravity=25.0, Length=1.0, Mass=1.0, Friction=0.5\n",
      "Episode 1939: Gravity=25.0, Length=1.0, Mass=1.0, Friction=0.5\n",
      "Episode 309: Gravity=17.36, Length=0.6944, Mass=0.6371, Friction=0.309\n",
      "Episode 310: Gravity=17.4, Length=0.696, Mass=0.639, Friction=0.31\n",
      "Episode 311: Gravity=17.439999999999998, Length=0.6976, Mass=0.6409, Friction=0.311\n",
      "Episode 312: Gravity=17.48, Length=0.6992, Mass=0.6428, Friction=0.312\n",
      "Episode 313: Gravity=17.52, Length=0.7008000000000001, Mass=0.6447, Friction=0.313\n",
      "Episode 314: Gravity=17.560000000000002, Length=0.7024000000000001, Mass=0.6466000000000001, Friction=0.314\n",
      "Episode 315: Gravity=17.6, Length=0.704, Mass=0.6485000000000001, Friction=0.315\n",
      "Episode 316: Gravity=17.64, Length=0.7056, Mass=0.6504000000000001, Friction=0.316\n",
      "Episode 317: Gravity=17.68, Length=0.7072, Mass=0.6523, Friction=0.317\n",
      "Episode 318: Gravity=17.72, Length=0.7088000000000001, Mass=0.6542, Friction=0.318\n",
      "Episode 319: Gravity=17.759999999999998, Length=0.7104000000000001, Mass=0.6561, Friction=0.319\n",
      "Episode 320: Gravity=17.8, Length=0.712, Mass=0.658, Friction=0.32\n",
      "Episode 321: Gravity=17.84, Length=0.7136, Mass=0.6599, Friction=0.321\n",
      "Episode 322: Gravity=17.880000000000003, Length=0.7152000000000001, Mass=0.6618, Friction=0.322\n",
      "Episode 323: Gravity=17.92, Length=0.7168000000000001, Mass=0.6637000000000001, Friction=0.323\n",
      "Episode 324: Gravity=17.96, Length=0.7183999999999999, Mass=0.6656000000000001, Friction=0.324\n",
      "Episode 325: Gravity=18.0, Length=0.72, Mass=0.6675000000000001, Friction=0.325\n",
      "Episode 326: Gravity=18.04, Length=0.7216, Mass=0.6694, Friction=0.326\n",
      "Episode 327: Gravity=18.08, Length=0.7232000000000001, Mass=0.6713, Friction=0.327\n",
      "Episode 328: Gravity=18.12, Length=0.7248000000000001, Mass=0.6732, Friction=0.328\n",
      "Episode 329: Gravity=18.16, Length=0.7263999999999999, Mass=0.6751, Friction=0.329\n",
      "Episode 330: Gravity=18.200000000000003, Length=0.728, Mass=0.677, Friction=0.33\n",
      "Episode 331: Gravity=18.240000000000002, Length=0.7296, Mass=0.6789000000000001, Friction=0.331\n",
      "Episode 332: Gravity=18.28, Length=0.7312000000000001, Mass=0.6808000000000001, Friction=0.332\n",
      "Episode 333: Gravity=18.32, Length=0.7328000000000001, Mass=0.6827000000000001, Friction=0.333\n",
      "Episode 334: Gravity=18.36, Length=0.7343999999999999, Mass=0.6846000000000001, Friction=0.334\n",
      "Episode 335: Gravity=18.4, Length=0.736, Mass=0.6865, Friction=0.335\n",
      "Episode 336: Gravity=18.439999999999998, Length=0.7376, Mass=0.6884, Friction=0.336\n",
      "Episode 337: Gravity=18.48, Length=0.7392000000000001, Mass=0.6903, Friction=0.337\n",
      "Episode 338: Gravity=18.52, Length=0.7408000000000001, Mass=0.6922, Friction=0.338\n",
      "Episode 339: Gravity=18.560000000000002, Length=0.7424, Mass=0.6941, Friction=0.339\n",
      "Episode 340: Gravity=18.6, Length=0.744, Mass=0.6960000000000001, Friction=0.34\n",
      "Episode 341: Gravity=18.64, Length=0.7456, Mass=0.6979000000000001, Friction=0.341\n",
      "Episode 342: Gravity=18.68, Length=0.7472000000000001, Mass=0.6998000000000001, Friction=0.342\n",
      "Episode 343: Gravity=18.72, Length=0.7488000000000001, Mass=0.7017, Friction=0.343\n",
      "Episode 344: Gravity=18.759999999999998, Length=0.7504, Mass=0.7036, Friction=0.34400000000000003\n",
      "Episode 345: Gravity=18.8, Length=0.752, Mass=0.7055, Friction=0.34500000000000003\n",
      "Episode 346: Gravity=18.84, Length=0.7536, Mass=0.7074, Friction=0.34600000000000003\n",
      "Episode 347: Gravity=18.880000000000003, Length=0.7552000000000001, Mass=0.7093, Friction=0.34700000000000003\n",
      "Episode 348: Gravity=18.92, Length=0.7568000000000001, Mass=0.7112, Friction=0.34800000000000003\n",
      "Episode 349: Gravity=18.96, Length=0.7584, Mass=0.7131000000000001, Friction=0.34900000000000003\n",
      "Episode 350: Gravity=19.0, Length=0.76, Mass=0.7150000000000001, Friction=0.35000000000000003\n",
      "Episode 351: Gravity=19.04, Length=0.7616, Mass=0.7169000000000001, Friction=0.35100000000000003\n",
      "Episode 352: Gravity=19.08, Length=0.7632000000000001, Mass=0.7188, Friction=0.352\n",
      "Episode 353: Gravity=19.12, Length=0.7648000000000001, Mass=0.7207, Friction=0.353\n",
      "Episode 354: Gravity=19.16, Length=0.7664, Mass=0.7226, Friction=0.354\n",
      "Episode 355: Gravity=19.200000000000003, Length=0.768, Mass=0.7245, Friction=0.355\n",
      "Episode 356: Gravity=19.240000000000002, Length=0.7696000000000001, Mass=0.7264, Friction=0.356\n",
      "Episode 357: Gravity=19.28, Length=0.7712000000000001, Mass=0.7283000000000001, Friction=0.357\n",
      "Episode 358: Gravity=19.32, Length=0.7727999999999999, Mass=0.7302000000000001, Friction=0.358\n",
      "Episode 359: Gravity=19.36, Length=0.7744, Mass=0.7321000000000001, Friction=0.359\n",
      "Episode 360: Gravity=19.4, Length=0.776, Mass=0.7340000000000001, Friction=0.36\n",
      "Episode 361: Gravity=19.439999999999998, Length=0.7776000000000001, Mass=0.7359, Friction=0.361\n",
      "Episode 362: Gravity=19.48, Length=0.7792000000000001, Mass=0.7378, Friction=0.362\n",
      "Episode 363: Gravity=19.52, Length=0.7807999999999999, Mass=0.7397, Friction=0.363\n",
      "Episode 364: Gravity=19.560000000000002, Length=0.7824, Mass=0.7416, Friction=0.364\n",
      "Episode 365: Gravity=19.6, Length=0.784, Mass=0.7435, Friction=0.365\n",
      "Episode 366: Gravity=19.64, Length=0.7856000000000001, Mass=0.7454000000000001, Friction=0.366\n",
      "Episode 367: Gravity=19.68, Length=0.7872000000000001, Mass=0.7473000000000001, Friction=0.367\n",
      "Episode 368: Gravity=19.72, Length=0.7888, Mass=0.7492000000000001, Friction=0.368\n",
      "Episode 369: Gravity=19.759999999999998, Length=0.7904, Mass=0.7511, Friction=0.369\n",
      "Episode 370: Gravity=19.8, Length=0.792, Mass=0.753, Friction=0.37\n",
      "Episode 371: Gravity=19.84, Length=0.7936000000000001, Mass=0.7549, Friction=0.371\n",
      "Episode 372: Gravity=19.880000000000003, Length=0.7952000000000001, Mass=0.7568, Friction=0.372\n",
      "Episode 373: Gravity=19.92, Length=0.7968, Mass=0.7587, Friction=0.373\n",
      "Episode 374: Gravity=19.96, Length=0.7984, Mass=0.7606, Friction=0.374\n",
      "Episode 375: Gravity=20.0, Length=0.8, Mass=0.7625000000000001, Friction=0.375\n",
      "Episode 376: Gravity=20.04, Length=0.8016000000000001, Mass=0.7644000000000001, Friction=0.376\n",
      "Episode 377: Gravity=20.08, Length=0.8032000000000001, Mass=0.7663000000000001, Friction=0.377\n",
      "Episode 378: Gravity=20.12, Length=0.8048, Mass=0.7682, Friction=0.378\n",
      "Episode 379: Gravity=20.16, Length=0.8064, Mass=0.7701, Friction=0.379\n",
      "Episode 380: Gravity=20.200000000000003, Length=0.808, Mass=0.772, Friction=0.38\n",
      "Episode 381: Gravity=20.240000000000002, Length=0.8096000000000001, Mass=0.7739, Friction=0.381\n",
      "Episode 382: Gravity=20.28, Length=0.8112000000000001, Mass=0.7758, Friction=0.382\n",
      "Episode 383: Gravity=20.32, Length=0.8128, Mass=0.7777000000000001, Friction=0.383\n",
      "Episode 384: Gravity=20.36, Length=0.8144, Mass=0.7796000000000001, Friction=0.384\n",
      "Episode 385: Gravity=20.4, Length=0.8160000000000001, Mass=0.7815000000000001, Friction=0.385\n",
      "Episode 386: Gravity=20.439999999999998, Length=0.8176000000000001, Mass=0.7834000000000001, Friction=0.386\n",
      "Episode 387: Gravity=20.48, Length=0.8192000000000002, Mass=0.7853, Friction=0.387\n",
      "Episode 388: Gravity=20.52, Length=0.8208, Mass=0.7872, Friction=0.388\n",
      "Episode 389: Gravity=20.560000000000002, Length=0.8224, Mass=0.7891, Friction=0.389\n",
      "Episode 390: Gravity=20.6, Length=0.8240000000000001, Mass=0.791, Friction=0.39\n",
      "Episode 391: Gravity=20.64, Length=0.8256000000000001, Mass=0.7929, Friction=0.391\n",
      "Episode 392: Gravity=20.68, Length=0.8271999999999999, Mass=0.7948000000000001, Friction=0.392\n",
      "Episode 393: Gravity=20.72, Length=0.8288, Mass=0.7967000000000001, Friction=0.393\n",
      "Episode 394: Gravity=20.759999999999998, Length=0.8304, Mass=0.7986000000000001, Friction=0.394\n",
      "Episode 395: Gravity=20.8, Length=0.8320000000000001, Mass=0.8005, Friction=0.395\n",
      "Episode 396: Gravity=20.84, Length=0.8336000000000001, Mass=0.8024, Friction=0.396\n",
      "Episode 397: Gravity=20.880000000000003, Length=0.8351999999999999, Mass=0.8043, Friction=0.397\n",
      "Episode 398: Gravity=20.92, Length=0.8368, Mass=0.8062, Friction=0.398\n",
      "Episode 399: Gravity=20.96, Length=0.8384, Mass=0.8081, Friction=0.399\n",
      "Episode 400: Gravity=21.0, Length=0.8400000000000001, Mass=0.81, Friction=0.4\n",
      "Episode 401: Gravity=21.04, Length=0.8416000000000001, Mass=0.8119000000000001, Friction=0.401\n",
      "Episode 402: Gravity=21.080000000000002, Length=0.8432, Mass=0.8138000000000001, Friction=0.402\n",
      "Episode 403: Gravity=21.12, Length=0.8448, Mass=0.8157000000000001, Friction=0.403\n",
      "Episode 404: Gravity=21.16, Length=0.8464, Mass=0.8176, Friction=0.404\n",
      "Episode 405: Gravity=21.2, Length=0.8480000000000001, Mass=0.8195, Friction=0.405\n",
      "Episode 406: Gravity=21.240000000000002, Length=0.8496000000000001, Mass=0.8214, Friction=0.406\n",
      "Episode 407: Gravity=21.28, Length=0.8512, Mass=0.8233, Friction=0.40700000000000003\n",
      "Episode 408: Gravity=21.32, Length=0.8528, Mass=0.8252, Friction=0.40800000000000003\n",
      "Episode 409: Gravity=21.36, Length=0.8544, Mass=0.8271000000000001, Friction=0.40900000000000003\n",
      "Episode 410: Gravity=21.4, Length=0.8560000000000001, Mass=0.8290000000000001, Friction=0.41000000000000003\n",
      "Epoch #2: test_reward: 9.660000 ± 1.106526, best_reward: 58.140000 ± 7.794896 in #0\n"
     ]
    },
    {
     "name": "stderr",
     "output_type": "stream",
     "text": [
      "Epoch #3:   2%|1         | 170/10000 [00:00<00:07, 1361.91it/s, env_step=20170, gradient_step=2017, len=10, n/ep=1, n/st=10, rew=10.00]"
     ]
    },
    {
     "name": "stdout",
     "output_type": "stream",
     "text": [
      "Episode 1940: Gravity=25.0, Length=1.0, Mass=1.0, Friction=0.5\n",
      "Episode 1941: Gravity=25.0, Length=1.0, Mass=1.0, Friction=0.5\n",
      "Episode 1942: Gravity=25.0, Length=1.0, Mass=1.0, Friction=0.5\n",
      "Episode 1943: Gravity=25.0, Length=1.0, Mass=1.0, Friction=0.5\n",
      "Episode 1944: Gravity=25.0, Length=1.0, Mass=1.0, Friction=0.5\n",
      "Episode 1945: Gravity=25.0, Length=1.0, Mass=1.0, Friction=0.5\n",
      "Episode 1946: Gravity=25.0, Length=1.0, Mass=1.0, Friction=0.5\n",
      "Episode 1947: Gravity=25.0, Length=1.0, Mass=1.0, Friction=0.5\n",
      "Episode 1948: Gravity=25.0, Length=1.0, Mass=1.0, Friction=0.5\n",
      "Episode 1949: Gravity=25.0, Length=1.0, Mass=1.0, Friction=0.5\n",
      "Episode 1950: Gravity=25.0, Length=1.0, Mass=1.0, Friction=0.5\n",
      "Episode 1951: Gravity=25.0, Length=1.0, Mass=1.0, Friction=0.5\n",
      "Episode 1952: Gravity=25.0, Length=1.0, Mass=1.0, Friction=0.5\n",
      "Episode 1953: Gravity=25.0, Length=1.0, Mass=1.0, Friction=0.5\n",
      "Episode 1954: Gravity=25.0, Length=1.0, Mass=1.0, Friction=0.5\n"
     ]
    },
    {
     "name": "stderr",
     "output_type": "stream",
     "text": [
      "Epoch #3:   2%|2         | 200/10000 [00:00<00:07, 1361.91it/s, env_step=20200, gradient_step=2020, len=11, n/ep=1, n/st=10, rew=11.00]"
     ]
    },
    {
     "name": "stdout",
     "output_type": "stream",
     "text": [
      "Episode 1955: Gravity=25.0, Length=1.0, Mass=1.0, Friction=0.5\n",
      "Episode 1956: Gravity=25.0, Length=1.0, Mass=1.0, Friction=0.5\n"
     ]
    },
    {
     "name": "stderr",
     "output_type": "stream",
     "text": [
      "Epoch #3:   3%|2         | 260/10000 [00:00<00:07, 1361.91it/s, env_step=20260, gradient_step=2026, len=10, n/ep=1, n/st=10, rew=10.00]"
     ]
    },
    {
     "name": "stdout",
     "output_type": "stream",
     "text": [
      "Episode 1957: Gravity=25.0, Length=1.0, Mass=1.0, Friction=0.5\n",
      "Episode 1958: Gravity=25.0, Length=1.0, Mass=1.0, Friction=0.5\n",
      "Episode 1959: Gravity=25.0, Length=1.0, Mass=1.0, Friction=0.5\n",
      "Episode 1960: Gravity=25.0, Length=1.0, Mass=1.0, Friction=0.5\n",
      "Episode 1961: Gravity=25.0, Length=1.0, Mass=1.0, Friction=0.5\n",
      "Episode 1962: Gravity=25.0, Length=1.0, Mass=1.0, Friction=0.5\n",
      "Episode 1963: Gravity=25.0, Length=1.0, Mass=1.0, Friction=0.5\n"
     ]
    },
    {
     "name": "stderr",
     "output_type": "stream",
     "text": [
      "Epoch #3:   4%|4         | 440/10000 [00:00<00:07, 1309.73it/s, env_step=20440, gradient_step=2044, len=13, n/ep=1, n/st=10, rew=13.00]"
     ]
    },
    {
     "name": "stdout",
     "output_type": "stream",
     "text": [
      "Episode 1964: Gravity=25.0, Length=1.0, Mass=1.0, Friction=0.5\n",
      "Episode 1965: Gravity=25.0, Length=1.0, Mass=1.0, Friction=0.5\n",
      "Episode 1966: Gravity=25.0, Length=1.0, Mass=1.0, Friction=0.5\n",
      "Episode 1967: Gravity=25.0, Length=1.0, Mass=1.0, Friction=0.5\n",
      "Episode 1968: Gravity=25.0, Length=1.0, Mass=1.0, Friction=0.5\n",
      "Episode 1969: Gravity=25.0, Length=1.0, Mass=1.0, Friction=0.5\n",
      "Episode 1970: Gravity=25.0, Length=1.0, Mass=1.0, Friction=0.5\n",
      "Episode 1971: Gravity=25.0, Length=1.0, Mass=1.0, Friction=0.5\n",
      "Episode 1972: Gravity=25.0, Length=1.0, Mass=1.0, Friction=0.5\n",
      "Episode 1973: Gravity=25.0, Length=1.0, Mass=1.0, Friction=0.5\n",
      "Episode 1974: Gravity=25.0, Length=1.0, Mass=1.0, Friction=0.5\n",
      "Episode 1975: Gravity=25.0, Length=1.0, Mass=1.0, Friction=0.5\n",
      "Episode 1976: Gravity=25.0, Length=1.0, Mass=1.0, Friction=0.5\n",
      "Episode 1977: Gravity=25.0, Length=1.0, Mass=1.0, Friction=0.5\n",
      "Episode 1978: Gravity=25.0, Length=1.0, Mass=1.0, Friction=0.5\n"
     ]
    },
    {
     "name": "stderr",
     "output_type": "stream",
     "text": [
      "Epoch #3:   5%|4         | 460/10000 [00:00<00:07, 1309.73it/s, env_step=20460, gradient_step=2046, len=11, n/ep=1, n/st=10, rew=11.00]"
     ]
    },
    {
     "name": "stdout",
     "output_type": "stream",
     "text": [
      "Episode 1979: Gravity=25.0, Length=1.0, Mass=1.0, Friction=0.5\n",
      "Episode 1980: Gravity=25.0, Length=1.0, Mass=1.0, Friction=0.5\n"
     ]
    },
    {
     "name": "stderr",
     "output_type": "stream",
     "text": [
      "Epoch #3:   5%|5         | 520/10000 [00:00<00:07, 1309.73it/s, env_step=20520, gradient_step=2052, len=12, n/ep=1, n/st=10, rew=12.00]"
     ]
    },
    {
     "name": "stdout",
     "output_type": "stream",
     "text": [
      "Episode 1981: Gravity=25.0, Length=1.0, Mass=1.0, Friction=0.5\n",
      "Episode 1982: Gravity=25.0, Length=1.0, Mass=1.0, Friction=0.5\n",
      "Episode 1983: Gravity=25.0, Length=1.0, Mass=1.0, Friction=0.5\n",
      "Episode 1984: Gravity=25.0, Length=1.0, Mass=1.0, Friction=0.5\n",
      "Episode 1985: Gravity=25.0, Length=1.0, Mass=1.0, Friction=0.5\n",
      "Episode 1986: Gravity=25.0, Length=1.0, Mass=1.0, Friction=0.5\n"
     ]
    },
    {
     "name": "stderr",
     "output_type": "stream",
     "text": [
      "Epoch #3:   6%|6         | 650/10000 [00:00<00:07, 1255.85it/s, env_step=20650, gradient_step=2065, len=16, n/ep=0, n/st=10, rew=16.00]"
     ]
    },
    {
     "name": "stdout",
     "output_type": "stream",
     "text": [
      "Episode 1987: Gravity=25.0, Length=1.0, Mass=1.0, Friction=0.5\n",
      "Episode 1988: Gravity=25.0, Length=1.0, Mass=1.0, Friction=0.5\n",
      "Episode 1989: Gravity=25.0, Length=1.0, Mass=1.0, Friction=0.5\n",
      "Episode 1990: Gravity=25.0, Length=1.0, Mass=1.0, Friction=0.5\n",
      "Episode 1991: Gravity=25.0, Length=1.0, Mass=1.0, Friction=0.5\n",
      "Episode 1992: Gravity=25.0, Length=1.0, Mass=1.0, Friction=0.5\n",
      "Episode 1993: Gravity=25.0, Length=1.0, Mass=1.0, Friction=0.5\n",
      "Episode 1994: Gravity=25.0, Length=1.0, Mass=1.0, Friction=0.5\n"
     ]
    },
    {
     "name": "stderr",
     "output_type": "stream",
     "text": [
      "Epoch #3:   7%|6         | 660/10000 [00:00<00:07, 1255.85it/s, env_step=20660, gradient_step=2066, len=19, n/ep=1, n/st=10, rew=19.00]"
     ]
    },
    {
     "name": "stdout",
     "output_type": "stream",
     "text": [
      "Episode 1995: Gravity=25.0, Length=1.0, Mass=1.0, Friction=0.5\n"
     ]
    },
    {
     "name": "stderr",
     "output_type": "stream",
     "text": [
      "Epoch #3:   7%|7         | 710/10000 [00:00<00:08, 1099.16it/s, env_step=20710, gradient_step=2071, len=19, n/ep=0, n/st=10, rew=19.00]"
     ]
    },
    {
     "name": "stdout",
     "output_type": "stream",
     "text": [
      "Episode 1996: Gravity=25.0, Length=1.0, Mass=1.0, Friction=0.5\n"
     ]
    },
    {
     "name": "stderr",
     "output_type": "stream",
     "text": [
      "Epoch #3:   8%|7         | 780/10000 [00:00<00:08, 1099.16it/s, env_step=20780, gradient_step=2078, len=21, n/ep=1, n/st=10, rew=21.00]"
     ]
    },
    {
     "name": "stdout",
     "output_type": "stream",
     "text": [
      "Episode 1997: Gravity=25.0, Length=1.0, Mass=1.0, Friction=0.5\n",
      "Episode 1998: Gravity=25.0, Length=1.0, Mass=1.0, Friction=0.5\n",
      "Episode 1999: Gravity=25.0, Length=1.0, Mass=1.0, Friction=0.5\n",
      "Episode 2000: Gravity=25.0, Length=1.0, Mass=1.0, Friction=0.5\n"
     ]
    },
    {
     "name": "stderr",
     "output_type": "stream",
     "text": [
      "Epoch #3:   8%|7         | 790/10000 [00:00<00:08, 1099.16it/s, env_step=20790, gradient_step=2079, len=21, n/ep=0, n/st=10, rew=21.00]"
     ]
    },
    {
     "name": "stdout",
     "output_type": "stream",
     "text": [
      "Episode 2001: Gravity=25.0, Length=1.0, Mass=1.0, Friction=0.5\n"
     ]
    },
    {
     "name": "stderr",
     "output_type": "stream",
     "text": [
      "Epoch #3:  10%|9         | 950/10000 [00:00<00:11, 815.90it/s, env_step=20950, gradient_step=2095, len=35, n/ep=0, n/st=10, rew=35.00] "
     ]
    },
    {
     "name": "stdout",
     "output_type": "stream",
     "text": [
      "Episode 2002: Gravity=25.0, Length=1.0, Mass=1.0, Friction=0.5\n",
      "Episode 2003: Gravity=25.0, Length=1.0, Mass=1.0, Friction=0.5\n",
      "Episode 2004: Gravity=25.0, Length=1.0, Mass=1.0, Friction=0.5\n",
      "Episode 2005: Gravity=25.0, Length=1.0, Mass=1.0, Friction=0.5\n",
      "Episode 2006: Gravity=25.0, Length=1.0, Mass=1.0, Friction=0.5\n"
     ]
    },
    {
     "name": "stderr",
     "output_type": "stream",
     "text": [
      "Epoch #3:  10%|#         | 1010/10000 [00:01<00:10, 853.99it/s, env_step=21010, gradient_step=2101, len=28, n/ep=0, n/st=10, rew=28.00]"
     ]
    },
    {
     "name": "stdout",
     "output_type": "stream",
     "text": [
      "Episode 2007: Gravity=25.0, Length=1.0, Mass=1.0, Friction=0.5\n",
      "Episode 2008: Gravity=25.0, Length=1.0, Mass=1.0, Friction=0.5\n"
     ]
    },
    {
     "name": "stderr",
     "output_type": "stream",
     "text": [
      "Epoch #3:  11%|#1        | 1130/10000 [00:01<00:10, 822.49it/s, env_step=21130, gradient_step=2113, len=33, n/ep=0, n/st=10, rew=33.00]"
     ]
    },
    {
     "name": "stdout",
     "output_type": "stream",
     "text": [
      "Episode 2009: Gravity=25.0, Length=1.0, Mass=1.0, Friction=0.5\n",
      "Episode 2010: Gravity=25.0, Length=1.0, Mass=1.0, Friction=0.5\n",
      "Episode 2011: Gravity=25.0, Length=1.0, Mass=1.0, Friction=0.5\n",
      "Episode 2012: Gravity=25.0, Length=1.0, Mass=1.0, Friction=0.5\n"
     ]
    },
    {
     "name": "stderr",
     "output_type": "stream",
     "text": [
      "Epoch #3:  12%|#1        | 1170/10000 [00:01<00:10, 822.49it/s, env_step=21170, gradient_step=2117, len=26, n/ep=1, n/st=10, rew=26.00]"
     ]
    },
    {
     "name": "stdout",
     "output_type": "stream",
     "text": [
      "Episode 2013: Gravity=25.0, Length=1.0, Mass=1.0, Friction=0.5\n"
     ]
    },
    {
     "name": "stderr",
     "output_type": "stream",
     "text": [
      "Epoch #3:  13%|#2        | 1290/10000 [00:01<00:11, 738.57it/s, env_step=21290, gradient_step=2129, len=36, n/ep=0, n/st=10, rew=36.00]"
     ]
    },
    {
     "name": "stdout",
     "output_type": "stream",
     "text": [
      "Episode 2014: Gravity=25.0, Length=1.0, Mass=1.0, Friction=0.5\n"
     ]
    },
    {
     "name": "stderr",
     "output_type": "stream",
     "text": [
      "Epoch #3:  13%|#3        | 1320/10000 [00:01<00:11, 738.57it/s, env_step=21320, gradient_step=2132, len=106, n/ep=0, n/st=10, rew=106.00]"
     ]
    },
    {
     "name": "stdout",
     "output_type": "stream",
     "text": [
      "Episode 2015: Gravity=25.0, Length=1.0, Mass=1.0, Friction=0.5\n"
     ]
    },
    {
     "name": "stderr",
     "output_type": "stream",
     "text": [
      "Epoch #3:  14%|#4        | 1440/10000 [00:01<00:12, 712.52it/s, env_step=21440, gradient_step=2144, len=31, n/ep=0, n/st=10, rew=31.00]  "
     ]
    },
    {
     "name": "stdout",
     "output_type": "stream",
     "text": [
      "Episode 2016: Gravity=25.0, Length=1.0, Mass=1.0, Friction=0.5\n",
      "Episode 2017: Gravity=25.0, Length=1.0, Mass=1.0, Friction=0.5\n"
     ]
    },
    {
     "name": "stderr",
     "output_type": "stream",
     "text": [
      "Epoch #3:  18%|#7        | 1760/10000 [00:02<00:09, 837.77it/s, env_step=21760, gradient_step=2176, len=49, n/ep=1, n/st=10, rew=49.00]  "
     ]
    },
    {
     "name": "stdout",
     "output_type": "stream",
     "text": [
      "Episode 2018: Gravity=25.0, Length=1.0, Mass=1.0, Friction=0.5\n",
      "Episode 2019: Gravity=25.0, Length=1.0, Mass=1.0, Friction=0.5\n",
      "Episode 2020: Gravity=25.0, Length=1.0, Mass=1.0, Friction=0.5\n",
      "Episode 2021: Gravity=25.0, Length=1.0, Mass=1.0, Friction=0.5\n",
      "Episode 2022: Gravity=25.0, Length=1.0, Mass=1.0, Friction=0.5\n",
      "Episode 2023: Gravity=25.0, Length=1.0, Mass=1.0, Friction=0.5\n"
     ]
    },
    {
     "name": "stderr",
     "output_type": "stream",
     "text": [
      "Epoch #3:  20%|#9        | 1950/10000 [00:02<00:09, 883.65it/s, env_step=21950, gradient_step=2195, len=64, n/ep=1, n/st=10, rew=64.00]"
     ]
    },
    {
     "name": "stdout",
     "output_type": "stream",
     "text": [
      "Episode 2024: Gravity=25.0, Length=1.0, Mass=1.0, Friction=0.5\n",
      "Episode 2025: Gravity=25.0, Length=1.0, Mass=1.0, Friction=0.5\n",
      "Episode 2026: Gravity=25.0, Length=1.0, Mass=1.0, Friction=0.5\n",
      "Episode 2027: Gravity=25.0, Length=1.0, Mass=1.0, Friction=0.5\n"
     ]
    },
    {
     "name": "stderr",
     "output_type": "stream",
     "text": [
      "Epoch #3:  22%|##1       | 2170/10000 [00:02<00:09, 846.38it/s, env_step=22170, gradient_step=2217, len=26, n/ep=0, n/st=10, rew=26.00]"
     ]
    },
    {
     "name": "stdout",
     "output_type": "stream",
     "text": [
      "Episode 2028: Gravity=25.0, Length=1.0, Mass=1.0, Friction=0.5\n",
      "Episode 2029: Gravity=25.0, Length=1.0, Mass=1.0, Friction=0.5\n",
      "Episode 2030: Gravity=25.0, Length=1.0, Mass=1.0, Friction=0.5\n",
      "Episode 2031: Gravity=25.0, Length=1.0, Mass=1.0, Friction=0.5\n",
      "Episode 2032: Gravity=25.0, Length=1.0, Mass=1.0, Friction=0.5\n"
     ]
    },
    {
     "name": "stderr",
     "output_type": "stream",
     "text": [
      "Epoch #3:  24%|##3       | 2390/10000 [00:02<00:08, 850.50it/s, env_step=22390, gradient_step=2239, len=46, n/ep=0, n/st=10, rew=46.00]"
     ]
    },
    {
     "name": "stdout",
     "output_type": "stream",
     "text": [
      "Episode 2033: Gravity=25.0, Length=1.0, Mass=1.0, Friction=0.5\n",
      "Episode 2034: Gravity=25.0, Length=1.0, Mass=1.0, Friction=0.5\n",
      "Episode 2035: Gravity=25.0, Length=1.0, Mass=1.0, Friction=0.5\n"
     ]
    },
    {
     "name": "stderr",
     "output_type": "stream",
     "text": [
      "Epoch #3:  26%|##5       | 2560/10000 [00:02<00:08, 834.09it/s, env_step=22560, gradient_step=2256, len=46, n/ep=0, n/st=10, rew=46.00]"
     ]
    },
    {
     "name": "stdout",
     "output_type": "stream",
     "text": [
      "Episode 2036: Gravity=25.0, Length=1.0, Mass=1.0, Friction=0.5\n",
      "Episode 2037: Gravity=25.0, Length=1.0, Mass=1.0, Friction=0.5\n",
      "Episode 2038: Gravity=25.0, Length=1.0, Mass=1.0, Friction=0.5\n",
      "Episode 2039: Gravity=25.0, Length=1.0, Mass=1.0, Friction=0.5\n"
     ]
    },
    {
     "name": "stderr",
     "output_type": "stream",
     "text": [
      "Epoch #3:  28%|##7       | 2750/10000 [00:03<00:08, 844.34it/s, env_step=22750, gradient_step=2275, len=59, n/ep=0, n/st=10, rew=59.00]"
     ]
    },
    {
     "name": "stdout",
     "output_type": "stream",
     "text": [
      "Episode 2040: Gravity=25.0, Length=1.0, Mass=1.0, Friction=0.5\n",
      "Episode 2041: Gravity=25.0, Length=1.0, Mass=1.0, Friction=0.5\n",
      "Episode 2042: Gravity=25.0, Length=1.0, Mass=1.0, Friction=0.5\n"
     ]
    },
    {
     "name": "stderr",
     "output_type": "stream",
     "text": [
      "Epoch #3:  29%|##9       | 2940/10000 [00:03<00:08, 882.34it/s, env_step=22940, gradient_step=2294, len=83, n/ep=0, n/st=10, rew=83.00]"
     ]
    },
    {
     "name": "stdout",
     "output_type": "stream",
     "text": [
      "Episode 2043: Gravity=25.0, Length=1.0, Mass=1.0, Friction=0.5\n",
      "Episode 2044: Gravity=25.0, Length=1.0, Mass=1.0, Friction=0.5\n",
      "Episode 2045: Gravity=25.0, Length=1.0, Mass=1.0, Friction=0.5\n"
     ]
    },
    {
     "name": "stderr",
     "output_type": "stream",
     "text": [
      "Epoch #3:  32%|###1      | 3160/10000 [00:03<00:07, 921.69it/s, env_step=23160, gradient_step=2316, len=24, n/ep=0, n/st=10, rew=24.00]"
     ]
    },
    {
     "name": "stdout",
     "output_type": "stream",
     "text": [
      "Episode 2046: Gravity=25.0, Length=1.0, Mass=1.0, Friction=0.5\n",
      "Episode 2047: Gravity=25.0, Length=1.0, Mass=1.0, Friction=0.5\n",
      "Episode 2048: Gravity=25.0, Length=1.0, Mass=1.0, Friction=0.5\n",
      "Episode 2049: Gravity=25.0, Length=1.0, Mass=1.0, Friction=0.5\n"
     ]
    },
    {
     "name": "stderr",
     "output_type": "stream",
     "text": [
      "Epoch #3:  34%|###3      | 3380/10000 [00:03<00:06, 950.14it/s, env_step=23380, gradient_step=2338, len=52, n/ep=0, n/st=10, rew=52.00]"
     ]
    },
    {
     "name": "stdout",
     "output_type": "stream",
     "text": [
      "Episode 2050: Gravity=25.0, Length=1.0, Mass=1.0, Friction=0.5\n",
      "Episode 2051: Gravity=25.0, Length=1.0, Mass=1.0, Friction=0.5\n",
      "Episode 2052: Gravity=25.0, Length=1.0, Mass=1.0, Friction=0.5\n",
      "Episode 2053: Gravity=25.0, Length=1.0, Mass=1.0, Friction=0.5\n"
     ]
    },
    {
     "name": "stderr",
     "output_type": "stream",
     "text": [
      "Epoch #3:  36%|###6      | 3620/10000 [00:04<00:06, 937.19it/s, env_step=23620, gradient_step=2362, len=54, n/ep=0, n/st=10, rew=54.00]"
     ]
    },
    {
     "name": "stdout",
     "output_type": "stream",
     "text": [
      "Episode 2054: Gravity=25.0, Length=1.0, Mass=1.0, Friction=0.5\n",
      "Episode 2055: Gravity=25.0, Length=1.0, Mass=1.0, Friction=0.5\n",
      "Episode 2056: Gravity=25.0, Length=1.0, Mass=1.0, Friction=0.5\n"
     ]
    },
    {
     "name": "stderr",
     "output_type": "stream",
     "text": [
      "Epoch #3:  38%|###8      | 3840/10000 [00:04<00:06, 964.16it/s, env_step=23840, gradient_step=2384, len=58, n/ep=0, n/st=10, rew=58.00]"
     ]
    },
    {
     "name": "stdout",
     "output_type": "stream",
     "text": [
      "Episode 2057: Gravity=25.0, Length=1.0, Mass=1.0, Friction=0.5\n",
      "Episode 2058: Gravity=25.0, Length=1.0, Mass=1.0, Friction=0.5\n"
     ]
    },
    {
     "name": "stderr",
     "output_type": "stream",
     "text": [
      "Epoch #3:  41%|####1     | 4110/10000 [00:04<00:06, 968.71it/s, env_step=24110, gradient_step=2411, len=68, n/ep=0, n/st=10, rew=68.00]  "
     ]
    },
    {
     "name": "stdout",
     "output_type": "stream",
     "text": [
      "Episode 2059: Gravity=25.0, Length=1.0, Mass=1.0, Friction=0.5\n",
      "Episode 2060: Gravity=25.0, Length=1.0, Mass=1.0, Friction=0.5\n",
      "Episode 2061: Gravity=25.0, Length=1.0, Mass=1.0, Friction=0.5\n"
     ]
    },
    {
     "name": "stderr",
     "output_type": "stream",
     "text": [
      "Epoch #3:  43%|####3     | 4320/10000 [00:04<00:05, 957.24it/s, env_step=24320, gradient_step=2432, len=69, n/ep=0, n/st=10, rew=69.00]"
     ]
    },
    {
     "name": "stdout",
     "output_type": "stream",
     "text": [
      "Episode 2062: Gravity=25.0, Length=1.0, Mass=1.0, Friction=0.5\n",
      "Episode 2063: Gravity=25.0, Length=1.0, Mass=1.0, Friction=0.5\n",
      "Episode 2064: Gravity=25.0, Length=1.0, Mass=1.0, Friction=0.5\n",
      "Episode 2065: Gravity=25.0, Length=1.0, Mass=1.0, Friction=0.5\n"
     ]
    },
    {
     "name": "stderr",
     "output_type": "stream",
     "text": [
      "Epoch #3:  46%|####5     | 4590/10000 [00:05<00:05, 965.20it/s, env_step=24590, gradient_step=2459, len=51, n/ep=0, n/st=10, rew=51.00]  "
     ]
    },
    {
     "name": "stdout",
     "output_type": "stream",
     "text": [
      "Episode 2066: Gravity=25.0, Length=1.0, Mass=1.0, Friction=0.5\n",
      "Episode 2067: Gravity=25.0, Length=1.0, Mass=1.0, Friction=0.5\n",
      "Episode 2068: Gravity=25.0, Length=1.0, Mass=1.0, Friction=0.5\n",
      "Episode 2069: Gravity=25.0, Length=1.0, Mass=1.0, Friction=0.5\n"
     ]
    },
    {
     "name": "stderr",
     "output_type": "stream",
     "text": [
      "Epoch #3:  47%|####7     | 4720/10000 [00:05<00:06, 836.37it/s, env_step=24720, gradient_step=2472, len=44, n/ep=0, n/st=10, rew=44.00]"
     ]
    },
    {
     "name": "stdout",
     "output_type": "stream",
     "text": [
      "Episode 2070: Gravity=25.0, Length=1.0, Mass=1.0, Friction=0.5\n",
      "Episode 2071: Gravity=25.0, Length=1.0, Mass=1.0, Friction=0.5\n",
      "Episode 2072: Gravity=25.0, Length=1.0, Mass=1.0, Friction=0.5\n"
     ]
    },
    {
     "name": "stderr",
     "output_type": "stream",
     "text": [
      "Epoch #3:  50%|####9     | 4960/10000 [00:05<00:06, 749.48it/s, env_step=24960, gradient_step=2496, len=43, n/ep=0, n/st=10, rew=43.00]  "
     ]
    },
    {
     "name": "stdout",
     "output_type": "stream",
     "text": [
      "Episode 2073: Gravity=25.0, Length=1.0, Mass=1.0, Friction=0.5\n",
      "Episode 2074: Gravity=25.0, Length=1.0, Mass=1.0, Friction=0.5\n",
      "Episode 2075: Gravity=25.0, Length=1.0, Mass=1.0, Friction=0.5\n",
      "Episode 2076: Gravity=25.0, Length=1.0, Mass=1.0, Friction=0.5\n"
     ]
    },
    {
     "name": "stderr",
     "output_type": "stream",
     "text": [
      "Epoch #3:  51%|#####1    | 5140/10000 [00:05<00:06, 773.19it/s, env_step=25140, gradient_step=2514, len=58, n/ep=0, n/st=10, rew=58.00]"
     ]
    },
    {
     "name": "stdout",
     "output_type": "stream",
     "text": [
      "Episode 2077: Gravity=25.0, Length=1.0, Mass=1.0, Friction=0.5\n",
      "Episode 2078: Gravity=25.0, Length=1.0, Mass=1.0, Friction=0.5\n",
      "Episode 2079: Gravity=25.0, Length=1.0, Mass=1.0, Friction=0.5\n"
     ]
    },
    {
     "name": "stderr",
     "output_type": "stream",
     "text": [
      "Epoch #3:  53%|#####3    | 5340/10000 [00:06<00:05, 814.00it/s, env_step=25340, gradient_step=2534, len=52, n/ep=0, n/st=10, rew=52.00]"
     ]
    },
    {
     "name": "stdout",
     "output_type": "stream",
     "text": [
      "Episode 2080: Gravity=25.0, Length=1.0, Mass=1.0, Friction=0.5\n",
      "Episode 2081: Gravity=25.0, Length=1.0, Mass=1.0, Friction=0.5\n",
      "Episode 2082: Gravity=25.0, Length=1.0, Mass=1.0, Friction=0.5\n"
     ]
    },
    {
     "name": "stderr",
     "output_type": "stream",
     "text": [
      "Epoch #3:  55%|#####5    | 5510/10000 [00:06<00:05, 799.16it/s, env_step=25510, gradient_step=2551, len=62, n/ep=0, n/st=10, rew=62.00]"
     ]
    },
    {
     "name": "stdout",
     "output_type": "stream",
     "text": [
      "Episode 2083: Gravity=25.0, Length=1.0, Mass=1.0, Friction=0.5\n",
      "Episode 2084: Gravity=25.0, Length=1.0, Mass=1.0, Friction=0.5\n",
      "Episode 2085: Gravity=25.0, Length=1.0, Mass=1.0, Friction=0.5\n"
     ]
    },
    {
     "name": "stderr",
     "output_type": "stream",
     "text": [
      "Epoch #3:  57%|#####6    | 5700/10000 [00:06<00:04, 869.25it/s, env_step=25700, gradient_step=2570, len=69, n/ep=0, n/st=10, rew=69.00]"
     ]
    },
    {
     "name": "stdout",
     "output_type": "stream",
     "text": [
      "Episode 2086: Gravity=25.0, Length=1.0, Mass=1.0, Friction=0.5\n",
      "Episode 2087: Gravity=25.0, Length=1.0, Mass=1.0, Friction=0.5\n",
      "Episode 2088: Gravity=25.0, Length=1.0, Mass=1.0, Friction=0.5\n"
     ]
    },
    {
     "name": "stderr",
     "output_type": "stream",
     "text": [
      "Epoch #3:  59%|#####8    | 5890/10000 [00:06<00:04, 902.14it/s, env_step=25890, gradient_step=2589, len=60, n/ep=0, n/st=10, rew=60.00]"
     ]
    },
    {
     "name": "stdout",
     "output_type": "stream",
     "text": [
      "Episode 2089: Gravity=25.0, Length=1.0, Mass=1.0, Friction=0.5\n",
      "Episode 2090: Gravity=25.0, Length=1.0, Mass=1.0, Friction=0.5\n",
      "Episode 2091: Gravity=25.0, Length=1.0, Mass=1.0, Friction=0.5\n",
      "Episode 2092: Gravity=25.0, Length=1.0, Mass=1.0, Friction=0.5\n"
     ]
    },
    {
     "name": "stderr",
     "output_type": "stream",
     "text": [
      "Epoch #3:  61%|######    | 6090/10000 [00:06<00:04, 902.99it/s, env_step=26090, gradient_step=2609, len=35, n/ep=1, n/st=10, rew=35.00]"
     ]
    },
    {
     "name": "stdout",
     "output_type": "stream",
     "text": [
      "Episode 2093: Gravity=25.0, Length=1.0, Mass=1.0, Friction=0.5\n",
      "Episode 2094: Gravity=25.0, Length=1.0, Mass=1.0, Friction=0.5\n",
      "Episode 2095: Gravity=25.0, Length=1.0, Mass=1.0, Friction=0.5\n",
      "Episode 2096: Gravity=25.0, Length=1.0, Mass=1.0, Friction=0.5\n",
      "Episode 2097: Gravity=25.0, Length=1.0, Mass=1.0, Friction=0.5\n"
     ]
    },
    {
     "name": "stderr",
     "output_type": "stream",
     "text": [
      "Epoch #3:  63%|######3   | 6300/10000 [00:07<00:04, 903.17it/s, env_step=26300, gradient_step=2630, len=37, n/ep=0, n/st=10, rew=37.00]"
     ]
    },
    {
     "name": "stdout",
     "output_type": "stream",
     "text": [
      "Episode 2098: Gravity=25.0, Length=1.0, Mass=1.0, Friction=0.5\n",
      "Episode 2099: Gravity=25.0, Length=1.0, Mass=1.0, Friction=0.5\n",
      "Episode 2100: Gravity=25.0, Length=1.0, Mass=1.0, Friction=0.5\n",
      "Episode 2101: Gravity=25.0, Length=1.0, Mass=1.0, Friction=0.5\n"
     ]
    },
    {
     "name": "stderr",
     "output_type": "stream",
     "text": [
      "Epoch #3:  65%|######5   | 6500/10000 [00:07<00:03, 918.08it/s, env_step=26500, gradient_step=2650, len=50, n/ep=1, n/st=10, rew=50.00]  "
     ]
    },
    {
     "name": "stdout",
     "output_type": "stream",
     "text": [
      "Episode 2102: Gravity=25.0, Length=1.0, Mass=1.0, Friction=0.5\n",
      "Episode 2103: Gravity=25.0, Length=1.0, Mass=1.0, Friction=0.5\n",
      "Episode 2104: Gravity=25.0, Length=1.0, Mass=1.0, Friction=0.5\n"
     ]
    },
    {
     "name": "stderr",
     "output_type": "stream",
     "text": [
      "Epoch #3:  67%|######7   | 6730/10000 [00:07<00:03, 894.28it/s, env_step=26730, gradient_step=2673, len=78, n/ep=0, n/st=10, rew=78.00]"
     ]
    },
    {
     "name": "stdout",
     "output_type": "stream",
     "text": [
      "Episode 2105: Gravity=25.0, Length=1.0, Mass=1.0, Friction=0.5\n",
      "Episode 2106: Gravity=25.0, Length=1.0, Mass=1.0, Friction=0.5\n",
      "Episode 2107: Gravity=25.0, Length=1.0, Mass=1.0, Friction=0.5\n"
     ]
    },
    {
     "name": "stderr",
     "output_type": "stream",
     "text": [
      "Epoch #3:  69%|######9   | 6920/10000 [00:07<00:03, 848.62it/s, env_step=26920, gradient_step=2692, len=34, n/ep=0, n/st=10, rew=34.00]"
     ]
    },
    {
     "name": "stdout",
     "output_type": "stream",
     "text": [
      "Episode 2108: Gravity=25.0, Length=1.0, Mass=1.0, Friction=0.5\n",
      "Episode 2109: Gravity=25.0, Length=1.0, Mass=1.0, Friction=0.5\n",
      "Episode 2110: Gravity=25.0, Length=1.0, Mass=1.0, Friction=0.5\n",
      "Episode 2111: Gravity=25.0, Length=1.0, Mass=1.0, Friction=0.5\n"
     ]
    },
    {
     "name": "stderr",
     "output_type": "stream",
     "text": [
      "Epoch #3:  71%|#######1  | 7130/10000 [00:08<00:03, 815.30it/s, env_step=27130, gradient_step=2713, len=110, n/ep=0, n/st=10, rew=110.00]"
     ]
    },
    {
     "name": "stdout",
     "output_type": "stream",
     "text": [
      "Episode 2112: Gravity=25.0, Length=1.0, Mass=1.0, Friction=0.5\n",
      "Episode 2113: Gravity=25.0, Length=1.0, Mass=1.0, Friction=0.5\n"
     ]
    },
    {
     "name": "stderr",
     "output_type": "stream",
     "text": [
      "Epoch #3:  73%|#######3  | 7310/10000 [00:08<00:03, 787.34it/s, env_step=27310, gradient_step=2731, len=70, n/ep=0, n/st=10, rew=70.00]  "
     ]
    },
    {
     "name": "stdout",
     "output_type": "stream",
     "text": [
      "Episode 2114: Gravity=25.0, Length=1.0, Mass=1.0, Friction=0.5\n",
      "Episode 2115: Gravity=25.0, Length=1.0, Mass=1.0, Friction=0.5\n"
     ]
    },
    {
     "name": "stderr",
     "output_type": "stream",
     "text": [
      "Epoch #3:  75%|#######4  | 7490/10000 [00:08<00:03, 782.23it/s, env_step=27490, gradient_step=2749, len=73, n/ep=0, n/st=10, rew=73.00]"
     ]
    },
    {
     "name": "stdout",
     "output_type": "stream",
     "text": [
      "Episode 2116: Gravity=25.0, Length=1.0, Mass=1.0, Friction=0.5\n",
      "Episode 2117: Gravity=25.0, Length=1.0, Mass=1.0, Friction=0.5\n",
      "Episode 2118: Gravity=25.0, Length=1.0, Mass=1.0, Friction=0.5\n"
     ]
    },
    {
     "name": "stderr",
     "output_type": "stream",
     "text": [
      "Epoch #3:  77%|#######7  | 7730/10000 [00:08<00:02, 805.17it/s, env_step=27730, gradient_step=2773, len=122, n/ep=1, n/st=10, rew=122.00]"
     ]
    },
    {
     "name": "stdout",
     "output_type": "stream",
     "text": [
      "Episode 2119: Gravity=25.0, Length=1.0, Mass=1.0, Friction=0.5\n",
      "Episode 2120: Gravity=25.0, Length=1.0, Mass=1.0, Friction=0.5\n",
      "Episode 2121: Gravity=25.0, Length=1.0, Mass=1.0, Friction=0.5\n"
     ]
    },
    {
     "name": "stderr",
     "output_type": "stream",
     "text": [
      "Epoch #3:  80%|#######9  | 7990/10000 [00:09<00:02, 831.76it/s, env_step=27990, gradient_step=2799, len=40, n/ep=0, n/st=10, rew=40.00]  "
     ]
    },
    {
     "name": "stdout",
     "output_type": "stream",
     "text": [
      "Episode 2122: Gravity=25.0, Length=1.0, Mass=1.0, Friction=0.5\n",
      "Episode 2123: Gravity=25.0, Length=1.0, Mass=1.0, Friction=0.5\n",
      "Episode 2124: Gravity=25.0, Length=1.0, Mass=1.0, Friction=0.5\n"
     ]
    },
    {
     "name": "stderr",
     "output_type": "stream",
     "text": [
      "Epoch #3:  82%|########1 | 8150/10000 [00:09<00:02, 813.56it/s, env_step=28150, gradient_step=2815, len=38, n/ep=0, n/st=10, rew=38.00]"
     ]
    },
    {
     "name": "stdout",
     "output_type": "stream",
     "text": [
      "Episode 2125: Gravity=25.0, Length=1.0, Mass=1.0, Friction=0.5\n",
      "Episode 2126: Gravity=25.0, Length=1.0, Mass=1.0, Friction=0.5\n",
      "Episode 2127: Gravity=25.0, Length=1.0, Mass=1.0, Friction=0.5\n",
      "Episode 2128: Gravity=25.0, Length=1.0, Mass=1.0, Friction=0.5\n"
     ]
    },
    {
     "name": "stderr",
     "output_type": "stream",
     "text": [
      "Epoch #3:  83%|########2 | 8300/10000 [00:09<00:02, 768.62it/s, env_step=28300, gradient_step=2830, len=49, n/ep=0, n/st=10, rew=49.00]"
     ]
    },
    {
     "name": "stdout",
     "output_type": "stream",
     "text": [
      "Episode 2129: Gravity=25.0, Length=1.0, Mass=1.0, Friction=0.5\n",
      "Episode 2130: Gravity=25.0, Length=1.0, Mass=1.0, Friction=0.5\n",
      "Episode 2131: Gravity=25.0, Length=1.0, Mass=1.0, Friction=0.5\n"
     ]
    },
    {
     "name": "stderr",
     "output_type": "stream",
     "text": [
      "Epoch #3:  85%|########4 | 8490/10000 [00:09<00:02, 725.66it/s, env_step=28490, gradient_step=2849, len=53, n/ep=0, n/st=10, rew=53.00]"
     ]
    },
    {
     "name": "stdout",
     "output_type": "stream",
     "text": [
      "Episode 2132: Gravity=25.0, Length=1.0, Mass=1.0, Friction=0.5\n",
      "Episode 2133: Gravity=25.0, Length=1.0, Mass=1.0, Friction=0.5\n",
      "Episode 2134: Gravity=25.0, Length=1.0, Mass=1.0, Friction=0.5\n"
     ]
    },
    {
     "name": "stderr",
     "output_type": "stream",
     "text": [
      "Epoch #3:  87%|########7 | 8700/10000 [00:10<00:01, 761.15it/s, env_step=28700, gradient_step=2870, len=57, n/ep=0, n/st=10, rew=57.00]"
     ]
    },
    {
     "name": "stdout",
     "output_type": "stream",
     "text": [
      "Episode 2135: Gravity=25.0, Length=1.0, Mass=1.0, Friction=0.5\n",
      "Episode 2136: Gravity=25.0, Length=1.0, Mass=1.0, Friction=0.5\n",
      "Episode 2137: Gravity=25.0, Length=1.0, Mass=1.0, Friction=0.5\n"
     ]
    },
    {
     "name": "stderr",
     "output_type": "stream",
     "text": [
      "Epoch #3:  89%|########9 | 8930/10000 [00:10<00:01, 868.69it/s, env_step=28930, gradient_step=2893, len=45, n/ep=0, n/st=10, rew=45.00]"
     ]
    },
    {
     "name": "stdout",
     "output_type": "stream",
     "text": [
      "Episode 2138: Gravity=25.0, Length=1.0, Mass=1.0, Friction=0.5\n",
      "Episode 2139: Gravity=25.0, Length=1.0, Mass=1.0, Friction=0.5\n",
      "Episode 2140: Gravity=25.0, Length=1.0, Mass=1.0, Friction=0.5\n",
      "Episode 2141: Gravity=25.0, Length=1.0, Mass=1.0, Friction=0.5\n",
      "Episode 2142: Gravity=25.0, Length=1.0, Mass=1.0, Friction=0.5\n",
      "Episode 2143: Gravity=25.0, Length=1.0, Mass=1.0, Friction=0.5\n"
     ]
    },
    {
     "name": "stderr",
     "output_type": "stream",
     "text": [
      "Epoch #3:  91%|#########1| 9140/10000 [00:10<00:00, 889.63it/s, env_step=29140, gradient_step=2914, len=80, n/ep=0, n/st=10, rew=80.00]"
     ]
    },
    {
     "name": "stdout",
     "output_type": "stream",
     "text": [
      "Episode 2144: Gravity=25.0, Length=1.0, Mass=1.0, Friction=0.5\n",
      "Episode 2145: Gravity=25.0, Length=1.0, Mass=1.0, Friction=0.5\n",
      "Episode 2146: Gravity=25.0, Length=1.0, Mass=1.0, Friction=0.5\n",
      "Episode 2147: Gravity=25.0, Length=1.0, Mass=1.0, Friction=0.5\n"
     ]
    },
    {
     "name": "stderr",
     "output_type": "stream",
     "text": [
      "Epoch #3:  93%|#########3| 9310/10000 [00:10<00:00, 853.93it/s, env_step=29310, gradient_step=2931, len=41, n/ep=0, n/st=10, rew=41.00]"
     ]
    },
    {
     "name": "stdout",
     "output_type": "stream",
     "text": [
      "Episode 2148: Gravity=25.0, Length=1.0, Mass=1.0, Friction=0.5\n",
      "Episode 2149: Gravity=25.0, Length=1.0, Mass=1.0, Friction=0.5\n",
      "Episode 2150: Gravity=25.0, Length=1.0, Mass=1.0, Friction=0.5\n",
      "Episode 2151: Gravity=25.0, Length=1.0, Mass=1.0, Friction=0.5\n",
      "Episode 2152: Gravity=25.0, Length=1.0, Mass=1.0, Friction=0.5\n"
     ]
    },
    {
     "name": "stderr",
     "output_type": "stream",
     "text": [
      "Epoch #3:  95%|#########5| 9500/10000 [00:11<00:00, 856.70it/s, env_step=29500, gradient_step=2950, len=82, n/ep=0, n/st=10, rew=82.00]"
     ]
    },
    {
     "name": "stdout",
     "output_type": "stream",
     "text": [
      "Episode 2153: Gravity=25.0, Length=1.0, Mass=1.0, Friction=0.5\n",
      "Episode 2154: Gravity=25.0, Length=1.0, Mass=1.0, Friction=0.5\n",
      "Episode 2155: Gravity=25.0, Length=1.0, Mass=1.0, Friction=0.5\n",
      "Episode 2156: Gravity=25.0, Length=1.0, Mass=1.0, Friction=0.5\n"
     ]
    },
    {
     "name": "stderr",
     "output_type": "stream",
     "text": [
      "Epoch #3:  97%|#########6| 9670/10000 [00:11<00:00, 821.25it/s, env_step=29670, gradient_step=2967, len=34, n/ep=0, n/st=10, rew=34.00]"
     ]
    },
    {
     "name": "stdout",
     "output_type": "stream",
     "text": [
      "Episode 2157: Gravity=25.0, Length=1.0, Mass=1.0, Friction=0.5\n",
      "Episode 2158: Gravity=25.0, Length=1.0, Mass=1.0, Friction=0.5\n",
      "Episode 2159: Gravity=25.0, Length=1.0, Mass=1.0, Friction=0.5\n",
      "Episode 2160: Gravity=25.0, Length=1.0, Mass=1.0, Friction=0.5\n",
      "Episode 2161: Gravity=25.0, Length=1.0, Mass=1.0, Friction=0.5\n"
     ]
    },
    {
     "name": "stderr",
     "output_type": "stream",
     "text": [
      "Epoch #3:  99%|#########8| 9880/10000 [00:11<00:00, 843.34it/s, env_step=29880, gradient_step=2988, len=29, n/ep=0, n/st=10, rew=29.00]"
     ]
    },
    {
     "name": "stdout",
     "output_type": "stream",
     "text": [
      "Episode 2162: Gravity=25.0, Length=1.0, Mass=1.0, Friction=0.5\n",
      "Episode 2163: Gravity=25.0, Length=1.0, Mass=1.0, Friction=0.5\n",
      "Episode 2164: Gravity=25.0, Length=1.0, Mass=1.0, Friction=0.5\n",
      "Episode 2165: Gravity=25.0, Length=1.0, Mass=1.0, Friction=0.5\n",
      "Episode 2166: Gravity=25.0, Length=1.0, Mass=1.0, Friction=0.5\n"
     ]
    },
    {
     "name": "stderr",
     "output_type": "stream",
     "text": [
      "Epoch #3: 10001it [00:11, 854.44it/s, env_step=30000, gradient_step=3000, len=26, n/ep=0, n/st=10, rew=26.00]                           \n"
     ]
    },
    {
     "name": "stdout",
     "output_type": "stream",
     "text": [
      "Episode 2167: Gravity=25.0, Length=1.0, Mass=1.0, Friction=0.5\n",
      "Episode 2168: Gravity=25.0, Length=1.0, Mass=1.0, Friction=0.5\n",
      "Episode 2169: Gravity=25.0, Length=1.0, Mass=1.0, Friction=0.5\n",
      "Episode 2170: Gravity=25.0, Length=1.0, Mass=1.0, Friction=0.5\n",
      "Episode 411: Gravity=21.44, Length=0.8576000000000001, Mass=0.8309000000000001, Friction=0.41100000000000003\n",
      "Episode 412: Gravity=21.48, Length=0.8592, Mass=0.8328000000000001, Friction=0.41200000000000003\n",
      "Episode 413: Gravity=21.52, Length=0.8608, Mass=0.8347, Friction=0.41300000000000003\n",
      "Episode 414: Gravity=21.56, Length=0.8624, Mass=0.8366, Friction=0.41400000000000003\n",
      "Episode 415: Gravity=21.6, Length=0.8640000000000001, Mass=0.8385, Friction=0.41500000000000004\n",
      "Episode 416: Gravity=21.64, Length=0.8656000000000001, Mass=0.8404, Friction=0.41600000000000004\n",
      "Episode 417: Gravity=21.68, Length=0.8672, Mass=0.8423, Friction=0.417\n",
      "Episode 418: Gravity=21.72, Length=0.8688, Mass=0.8442000000000001, Friction=0.418\n",
      "Episode 419: Gravity=21.76, Length=0.8704000000000001, Mass=0.8461000000000001, Friction=0.419\n",
      "Episode 420: Gravity=21.8, Length=0.8720000000000001, Mass=0.8480000000000001, Friction=0.42\n",
      "Episode 421: Gravity=21.84, Length=0.8736000000000002, Mass=0.8499, Friction=0.421\n",
      "Episode 422: Gravity=21.88, Length=0.8752, Mass=0.8518, Friction=0.422\n",
      "Episode 423: Gravity=21.92, Length=0.8768, Mass=0.8537, Friction=0.423\n",
      "Episode 424: Gravity=21.96, Length=0.8784000000000001, Mass=0.8556, Friction=0.424\n",
      "Episode 425: Gravity=22.0, Length=0.8800000000000001, Mass=0.8575, Friction=0.425\n",
      "Episode 426: Gravity=22.04, Length=0.8815999999999999, Mass=0.8594, Friction=0.426\n",
      "Episode 427: Gravity=22.080000000000002, Length=0.8832, Mass=0.8613000000000001, Friction=0.427\n",
      "Episode 428: Gravity=22.12, Length=0.8848, Mass=0.8632000000000001, Friction=0.428\n",
      "Episode 429: Gravity=22.16, Length=0.8864000000000001, Mass=0.8651000000000001, Friction=0.429\n",
      "Episode 430: Gravity=22.2, Length=0.8880000000000001, Mass=0.867, Friction=0.43\n",
      "Episode 431: Gravity=22.240000000000002, Length=0.8896, Mass=0.8689, Friction=0.431\n",
      "Episode 432: Gravity=22.28, Length=0.8912, Mass=0.8708, Friction=0.432\n",
      "Episode 433: Gravity=22.32, Length=0.8928, Mass=0.8727, Friction=0.433\n",
      "Episode 434: Gravity=22.36, Length=0.8944000000000001, Mass=0.8746, Friction=0.434\n",
      "Episode 435: Gravity=22.400000000000002, Length=0.8960000000000001, Mass=0.8765000000000001, Friction=0.435\n",
      "Episode 436: Gravity=22.44, Length=0.8976, Mass=0.8784000000000001, Friction=0.436\n",
      "Episode 437: Gravity=22.48, Length=0.8992, Mass=0.8803000000000001, Friction=0.437\n",
      "Episode 438: Gravity=22.52, Length=0.9008, Mass=0.8822000000000001, Friction=0.438\n",
      "Episode 439: Gravity=22.56, Length=0.9024000000000001, Mass=0.8841, Friction=0.439\n",
      "Episode 440: Gravity=22.6, Length=0.9040000000000001, Mass=0.886, Friction=0.44\n",
      "Episode 441: Gravity=22.64, Length=0.9056, Mass=0.8879, Friction=0.441\n",
      "Episode 442: Gravity=22.68, Length=0.9072, Mass=0.8898, Friction=0.442\n",
      "Episode 443: Gravity=22.72, Length=0.9088, Mass=0.8917, Friction=0.443\n",
      "Episode 444: Gravity=22.76, Length=0.9104000000000001, Mass=0.8936000000000001, Friction=0.444\n",
      "Episode 445: Gravity=22.8, Length=0.9120000000000001, Mass=0.8955000000000001, Friction=0.445\n",
      "Episode 446: Gravity=22.84, Length=0.9136, Mass=0.8974000000000001, Friction=0.446\n",
      "Episode 447: Gravity=22.88, Length=0.9152, Mass=0.8993, Friction=0.447\n",
      "Episode 448: Gravity=22.92, Length=0.9168000000000001, Mass=0.9012, Friction=0.448\n",
      "Episode 449: Gravity=22.96, Length=0.9184000000000001, Mass=0.9031, Friction=0.449\n",
      "Episode 450: Gravity=23.0, Length=0.9200000000000002, Mass=0.905, Friction=0.45\n",
      "Episode 451: Gravity=23.04, Length=0.9216, Mass=0.9069, Friction=0.451\n",
      "Episode 452: Gravity=23.080000000000002, Length=0.9232, Mass=0.9088, Friction=0.452\n",
      "Episode 453: Gravity=23.12, Length=0.9248000000000001, Mass=0.9107000000000001, Friction=0.453\n",
      "Episode 454: Gravity=23.16, Length=0.9264000000000001, Mass=0.9126000000000001, Friction=0.454\n",
      "Episode 455: Gravity=23.2, Length=0.9279999999999999, Mass=0.9145000000000001, Friction=0.455\n",
      "Episode 456: Gravity=23.240000000000002, Length=0.9296, Mass=0.9164, Friction=0.456\n",
      "Episode 457: Gravity=23.28, Length=0.9312, Mass=0.9183, Friction=0.457\n",
      "Episode 458: Gravity=23.32, Length=0.9328000000000001, Mass=0.9202, Friction=0.458\n",
      "Episode 459: Gravity=23.36, Length=0.9344000000000001, Mass=0.9221, Friction=0.459\n",
      "Episode 460: Gravity=23.400000000000002, Length=0.9359999999999999, Mass=0.924, Friction=0.46\n",
      "Episode 461: Gravity=23.44, Length=0.9376, Mass=0.9259000000000001, Friction=0.461\n",
      "Episode 462: Gravity=23.48, Length=0.9392, Mass=0.9278000000000001, Friction=0.462\n",
      "Episode 463: Gravity=23.52, Length=0.9408000000000001, Mass=0.9297000000000001, Friction=0.463\n",
      "Episode 464: Gravity=23.56, Length=0.9424000000000001, Mass=0.9316000000000001, Friction=0.464\n",
      "Episode 465: Gravity=23.6, Length=0.944, Mass=0.9335, Friction=0.465\n",
      "Episode 466: Gravity=23.64, Length=0.9456, Mass=0.9354, Friction=0.466\n",
      "Episode 467: Gravity=23.68, Length=0.9472, Mass=0.9373, Friction=0.467\n",
      "Episode 468: Gravity=23.72, Length=0.9488000000000001, Mass=0.9392, Friction=0.468\n",
      "Episode 469: Gravity=23.76, Length=0.9504000000000001, Mass=0.9411, Friction=0.46900000000000003\n",
      "Episode 470: Gravity=23.8, Length=0.952, Mass=0.9430000000000001, Friction=0.47000000000000003\n",
      "Episode 471: Gravity=23.84, Length=0.9536, Mass=0.9449000000000001, Friction=0.47100000000000003\n",
      "Episode 472: Gravity=23.88, Length=0.9552, Mass=0.9468000000000001, Friction=0.47200000000000003\n",
      "Episode 473: Gravity=23.92, Length=0.9568000000000001, Mass=0.9487, Friction=0.47300000000000003\n",
      "Episode 474: Gravity=23.96, Length=0.9584000000000001, Mass=0.9506, Friction=0.47400000000000003\n",
      "Episode 475: Gravity=24.0, Length=0.96, Mass=0.9525, Friction=0.47500000000000003\n",
      "Episode 476: Gravity=24.04, Length=0.9616, Mass=0.9544, Friction=0.47600000000000003\n",
      "Episode 477: Gravity=24.080000000000002, Length=0.9632000000000001, Mass=0.9563, Friction=0.47700000000000004\n",
      "Episode 478: Gravity=24.12, Length=0.9648000000000001, Mass=0.9582, Friction=0.47800000000000004\n",
      "Episode 479: Gravity=24.16, Length=0.9664000000000001, Mass=0.9601000000000001, Friction=0.47900000000000004\n",
      "Episode 480: Gravity=24.2, Length=0.968, Mass=0.9620000000000001, Friction=0.48\n",
      "Episode 481: Gravity=24.240000000000002, Length=0.9696, Mass=0.9639000000000001, Friction=0.481\n",
      "Episode 482: Gravity=24.28, Length=0.9712000000000001, Mass=0.9658, Friction=0.482\n",
      "Episode 483: Gravity=24.32, Length=0.9728000000000001, Mass=0.9677, Friction=0.483\n",
      "Episode 484: Gravity=24.36, Length=0.9744000000000002, Mass=0.9696, Friction=0.484\n",
      "Episode 485: Gravity=24.400000000000002, Length=0.976, Mass=0.9715, Friction=0.485\n",
      "Episode 486: Gravity=24.44, Length=0.9776, Mass=0.9734, Friction=0.486\n",
      "Episode 487: Gravity=24.48, Length=0.9792000000000001, Mass=0.9753000000000001, Friction=0.487\n",
      "Episode 488: Gravity=24.52, Length=0.9808000000000001, Mass=0.9772000000000001, Friction=0.488\n",
      "Episode 489: Gravity=24.56, Length=0.9823999999999999, Mass=0.9791000000000001, Friction=0.489\n",
      "Episode 490: Gravity=24.6, Length=0.984, Mass=0.9810000000000001, Friction=0.49\n",
      "Episode 491: Gravity=24.64, Length=0.9856, Mass=0.9829, Friction=0.491\n",
      "Episode 492: Gravity=24.68, Length=0.9872000000000001, Mass=0.9848, Friction=0.492\n",
      "Episode 493: Gravity=24.72, Length=0.9888000000000001, Mass=0.9867, Friction=0.493\n",
      "Episode 494: Gravity=24.76, Length=0.9904, Mass=0.9886, Friction=0.494\n",
      "Episode 495: Gravity=24.8, Length=0.992, Mass=0.9905, Friction=0.495\n",
      "Episode 496: Gravity=24.84, Length=0.9936, Mass=0.9924000000000001, Friction=0.496\n",
      "Episode 497: Gravity=24.88, Length=0.9952000000000001, Mass=0.9943000000000001, Friction=0.497\n",
      "Episode 498: Gravity=24.92, Length=0.9968000000000001, Mass=0.9962000000000001, Friction=0.498\n",
      "Episode 499: Gravity=24.96, Length=0.9984, Mass=0.9981, Friction=0.499\n",
      "Episode 500: Gravity=25.0, Length=1.0, Mass=1.0, Friction=0.5\n",
      "Episode 501: Gravity=25.0, Length=1.0, Mass=1.0, Friction=0.5\n",
      "Episode 502: Gravity=25.0, Length=1.0, Mass=1.0, Friction=0.5\n",
      "Episode 503: Gravity=25.0, Length=1.0, Mass=1.0, Friction=0.5\n",
      "Episode 504: Gravity=25.0, Length=1.0, Mass=1.0, Friction=0.5\n",
      "Episode 505: Gravity=25.0, Length=1.0, Mass=1.0, Friction=0.5\n",
      "Episode 506: Gravity=25.0, Length=1.0, Mass=1.0, Friction=0.5\n",
      "Episode 507: Gravity=25.0, Length=1.0, Mass=1.0, Friction=0.5\n",
      "Episode 508: Gravity=25.0, Length=1.0, Mass=1.0, Friction=0.5\n",
      "Episode 509: Gravity=25.0, Length=1.0, Mass=1.0, Friction=0.5\n",
      "Episode 510: Gravity=25.0, Length=1.0, Mass=1.0, Friction=0.5\n",
      "Episode 511: Gravity=25.0, Length=1.0, Mass=1.0, Friction=0.5\n",
      "Episode 512: Gravity=25.0, Length=1.0, Mass=1.0, Friction=0.5\n",
      "Epoch #3: test_reward: 33.290000 ± 4.661105, best_reward: 58.140000 ± 7.794896 in #0\n"
     ]
    },
    {
     "name": "stderr",
     "output_type": "stream",
     "text": [
      "Epoch #4:   2%|1         | 170/10000 [00:00<00:07, 1254.99it/s, env_step=30170, gradient_step=3017, len=19, n/ep=0, n/st=10, rew=19.00]"
     ]
    },
    {
     "name": "stdout",
     "output_type": "stream",
     "text": [
      "Episode 2171: Gravity=25.0, Length=1.0, Mass=1.0, Friction=0.5\n",
      "Episode 2172: Gravity=25.0, Length=1.0, Mass=1.0, Friction=0.5\n",
      "Episode 2173: Gravity=25.0, Length=1.0, Mass=1.0, Friction=0.5\n",
      "Episode 2174: Gravity=25.0, Length=1.0, Mass=1.0, Friction=0.5\n",
      "Episode 2175: Gravity=25.0, Length=1.0, Mass=1.0, Friction=0.5\n",
      "Episode 2176: Gravity=25.0, Length=1.0, Mass=1.0, Friction=0.5\n",
      "Episode 2177: Gravity=25.0, Length=1.0, Mass=1.0, Friction=0.5\n",
      "Episode 2178: Gravity=25.0, Length=1.0, Mass=1.0, Friction=0.5\n"
     ]
    },
    {
     "name": "stderr",
     "output_type": "stream",
     "text": [
      "Epoch #4:   3%|2         | 260/10000 [00:00<00:07, 1232.62it/s, env_step=30260, gradient_step=3026, len=12, n/ep=1, n/st=10, rew=12.00]"
     ]
    },
    {
     "name": "stdout",
     "output_type": "stream",
     "text": [
      "Episode 2179: Gravity=25.0, Length=1.0, Mass=1.0, Friction=0.5\n",
      "Episode 2180: Gravity=25.0, Length=1.0, Mass=1.0, Friction=0.5\n",
      "Episode 2181: Gravity=25.0, Length=1.0, Mass=1.0, Friction=0.5\n",
      "Episode 2182: Gravity=25.0, Length=1.0, Mass=1.0, Friction=0.5\n",
      "Episode 2183: Gravity=25.0, Length=1.0, Mass=1.0, Friction=0.5\n",
      "Episode 2184: Gravity=25.0, Length=1.0, Mass=1.0, Friction=0.5\n",
      "Episode 2185: Gravity=25.0, Length=1.0, Mass=1.0, Friction=0.5\n"
     ]
    },
    {
     "name": "stderr",
     "output_type": "stream",
     "text": [
      "Epoch #4:   4%|3         | 390/10000 [00:00<00:08, 1099.94it/s, env_step=30390, gradient_step=3039, len=11, n/ep=1, n/st=10, rew=11.00]"
     ]
    },
    {
     "name": "stdout",
     "output_type": "stream",
     "text": [
      "Episode 2186: Gravity=25.0, Length=1.0, Mass=1.0, Friction=0.5\n",
      "Episode 2187: Gravity=25.0, Length=1.0, Mass=1.0, Friction=0.5\n",
      "Episode 2188: Gravity=25.0, Length=1.0, Mass=1.0, Friction=0.5\n",
      "Episode 2189: Gravity=25.0, Length=1.0, Mass=1.0, Friction=0.5\n",
      "Episode 2190: Gravity=25.0, Length=1.0, Mass=1.0, Friction=0.5\n",
      "Episode 2191: Gravity=25.0, Length=1.0, Mass=1.0, Friction=0.5\n",
      "Episode 2192: Gravity=25.0, Length=1.0, Mass=1.0, Friction=0.5\n",
      "Episode 2193: Gravity=25.0, Length=1.0, Mass=1.0, Friction=0.5\n",
      "Episode 2194: Gravity=25.0, Length=1.0, Mass=1.0, Friction=0.5\n",
      "Episode 2195: Gravity=25.0, Length=1.0, Mass=1.0, Friction=0.5\n",
      "Episode 2196: Gravity=25.0, Length=1.0, Mass=1.0, Friction=0.5\n",
      "Episode 2197: Gravity=25.0, Length=1.0, Mass=1.0, Friction=0.5\n"
     ]
    },
    {
     "name": "stderr",
     "output_type": "stream",
     "text": [
      "Epoch #4:   4%|4         | 440/10000 [00:00<00:08, 1099.94it/s, env_step=30440, gradient_step=3044, len=13, n/ep=1, n/st=10, rew=13.00]"
     ]
    },
    {
     "name": "stdout",
     "output_type": "stream",
     "text": [
      "Episode 2198: Gravity=25.0, Length=1.0, Mass=1.0, Friction=0.5\n",
      "Episode 2199: Gravity=25.0, Length=1.0, Mass=1.0, Friction=0.5\n",
      "Episode 2200: Gravity=25.0, Length=1.0, Mass=1.0, Friction=0.5\n",
      "Episode 2201: Gravity=25.0, Length=1.0, Mass=1.0, Friction=0.5\n"
     ]
    },
    {
     "name": "stderr",
     "output_type": "stream",
     "text": [
      "Epoch #4:   6%|5         | 580/10000 [00:00<00:09, 957.10it/s, env_step=30580, gradient_step=3058, len=17, n/ep=0, n/st=10, rew=17.00] "
     ]
    },
    {
     "name": "stdout",
     "output_type": "stream",
     "text": [
      "Episode 2202: Gravity=25.0, Length=1.0, Mass=1.0, Friction=0.5\n",
      "Episode 2203: Gravity=25.0, Length=1.0, Mass=1.0, Friction=0.5\n",
      "Episode 2204: Gravity=25.0, Length=1.0, Mass=1.0, Friction=0.5\n",
      "Episode 2205: Gravity=25.0, Length=1.0, Mass=1.0, Friction=0.5\n",
      "Episode 2206: Gravity=25.0, Length=1.0, Mass=1.0, Friction=0.5\n",
      "Episode 2207: Gravity=25.0, Length=1.0, Mass=1.0, Friction=0.5\n",
      "Episode 2208: Gravity=25.0, Length=1.0, Mass=1.0, Friction=0.5\n",
      "Episode 2209: Gravity=25.0, Length=1.0, Mass=1.0, Friction=0.5\n"
     ]
    },
    {
     "name": "stderr",
     "output_type": "stream",
     "text": [
      "Epoch #4:   6%|6         | 630/10000 [00:00<00:09, 944.68it/s, env_step=30630, gradient_step=3063, len=22, n/ep=1, n/st=10, rew=22.00]"
     ]
    },
    {
     "name": "stdout",
     "output_type": "stream",
     "text": [
      "Episode 2210: Gravity=25.0, Length=1.0, Mass=1.0, Friction=0.5\n",
      "Episode 2211: Gravity=25.0, Length=1.0, Mass=1.0, Friction=0.5\n",
      "Episode 2212: Gravity=25.0, Length=1.0, Mass=1.0, Friction=0.5\n"
     ]
    },
    {
     "name": "stderr",
     "output_type": "stream",
     "text": [
      "Epoch #4:   7%|7         | 710/10000 [00:00<00:11, 827.84it/s, env_step=30710, gradient_step=3071, len=21, n/ep=1, n/st=10, rew=21.00]"
     ]
    },
    {
     "name": "stdout",
     "output_type": "stream",
     "text": [
      "Episode 2213: Gravity=25.0, Length=1.0, Mass=1.0, Friction=0.5\n",
      "Episode 2214: Gravity=25.0, Length=1.0, Mass=1.0, Friction=0.5\n",
      "Episode 2215: Gravity=25.0, Length=1.0, Mass=1.0, Friction=0.5\n",
      "Episode 2216: Gravity=25.0, Length=1.0, Mass=1.0, Friction=0.5\n"
     ]
    },
    {
     "name": "stderr",
     "output_type": "stream",
     "text": [
      "Epoch #4:   8%|7         | 770/10000 [00:00<00:11, 827.84it/s, env_step=30770, gradient_step=3077, len=22, n/ep=1, n/st=10, rew=22.00]"
     ]
    },
    {
     "name": "stdout",
     "output_type": "stream",
     "text": [
      "Episode 2217: Gravity=25.0, Length=1.0, Mass=1.0, Friction=0.5\n",
      "Episode 2218: Gravity=25.0, Length=1.0, Mass=1.0, Friction=0.5\n",
      "Episode 2219: Gravity=25.0, Length=1.0, Mass=1.0, Friction=0.5\n"
     ]
    },
    {
     "name": "stderr",
     "output_type": "stream",
     "text": [
      "Epoch #4:   9%|8         | 870/10000 [00:00<00:11, 778.26it/s, env_step=30870, gradient_step=3087, len=18, n/ep=1, n/st=10, rew=18.00]"
     ]
    },
    {
     "name": "stdout",
     "output_type": "stream",
     "text": [
      "Episode 2220: Gravity=25.0, Length=1.0, Mass=1.0, Friction=0.5\n",
      "Episode 2221: Gravity=25.0, Length=1.0, Mass=1.0, Friction=0.5\n",
      "Episode 2222: Gravity=25.0, Length=1.0, Mass=1.0, Friction=0.5\n",
      "Episode 2223: Gravity=25.0, Length=1.0, Mass=1.0, Friction=0.5\n",
      "Episode 2224: Gravity=25.0, Length=1.0, Mass=1.0, Friction=0.5\n",
      "Episode 2225: Gravity=25.0, Length=1.0, Mass=1.0, Friction=0.5\n"
     ]
    },
    {
     "name": "stderr",
     "output_type": "stream",
     "text": [
      "Epoch #4:  10%|9         | 960/10000 [00:01<00:11, 792.05it/s, env_step=30960, gradient_step=3096, len=20, n/ep=0, n/st=10, rew=20.00]"
     ]
    },
    {
     "name": "stdout",
     "output_type": "stream",
     "text": [
      "Episode 2226: Gravity=25.0, Length=1.0, Mass=1.0, Friction=0.5\n",
      "Episode 2227: Gravity=25.0, Length=1.0, Mass=1.0, Friction=0.5\n",
      "Episode 2228: Gravity=25.0, Length=1.0, Mass=1.0, Friction=0.5\n",
      "Episode 2229: Gravity=25.0, Length=1.0, Mass=1.0, Friction=0.5\n"
     ]
    },
    {
     "name": "stderr",
     "output_type": "stream",
     "text": [
      "Epoch #4:  11%|#1        | 1100/10000 [00:01<00:10, 857.88it/s, env_step=31100, gradient_step=3110, len=14, n/ep=0, n/st=10, rew=14.00]"
     ]
    },
    {
     "name": "stdout",
     "output_type": "stream",
     "text": [
      "Episode 2230: Gravity=25.0, Length=1.0, Mass=1.0, Friction=0.5\n",
      "Episode 2231: Gravity=25.0, Length=1.0, Mass=1.0, Friction=0.5\n",
      "Episode 2232: Gravity=25.0, Length=1.0, Mass=1.0, Friction=0.5\n",
      "Episode 2233: Gravity=25.0, Length=1.0, Mass=1.0, Friction=0.5\n",
      "Episode 2234: Gravity=25.0, Length=1.0, Mass=1.0, Friction=0.5\n",
      "Episode 2235: Gravity=25.0, Length=1.0, Mass=1.0, Friction=0.5\n",
      "Episode 2236: Gravity=25.0, Length=1.0, Mass=1.0, Friction=0.5\n"
     ]
    },
    {
     "name": "stderr",
     "output_type": "stream",
     "text": [
      "Epoch #4:  12%|#1        | 1190/10000 [00:01<00:09, 942.21it/s, env_step=31190, gradient_step=3119, len=18, n/ep=0, n/st=10, rew=18.00]"
     ]
    },
    {
     "name": "stdout",
     "output_type": "stream",
     "text": [
      "Episode 2237: Gravity=25.0, Length=1.0, Mass=1.0, Friction=0.5\n",
      "Episode 2238: Gravity=25.0, Length=1.0, Mass=1.0, Friction=0.5\n",
      "Episode 2239: Gravity=25.0, Length=1.0, Mass=1.0, Friction=0.5\n",
      "Episode 2240: Gravity=25.0, Length=1.0, Mass=1.0, Friction=0.5\n",
      "Episode 2241: Gravity=25.0, Length=1.0, Mass=1.0, Friction=0.5\n",
      "Episode 2242: Gravity=25.0, Length=1.0, Mass=1.0, Friction=0.5\n"
     ]
    },
    {
     "name": "stderr",
     "output_type": "stream",
     "text": [
      "Epoch #4:  13%|#3        | 1320/10000 [00:01<00:08, 999.31it/s, env_step=31320, gradient_step=3132, len=14, n/ep=1, n/st=10, rew=14.00]"
     ]
    },
    {
     "name": "stdout",
     "output_type": "stream",
     "text": [
      "Episode 2243: Gravity=25.0, Length=1.0, Mass=1.0, Friction=0.5\n",
      "Episode 2244: Gravity=25.0, Length=1.0, Mass=1.0, Friction=0.5\n",
      "Episode 2245: Gravity=25.0, Length=1.0, Mass=1.0, Friction=0.5\n",
      "Episode 2246: Gravity=25.0, Length=1.0, Mass=1.0, Friction=0.5\n",
      "Episode 2247: Gravity=25.0, Length=1.0, Mass=1.0, Friction=0.5\n",
      "Episode 2248: Gravity=25.0, Length=1.0, Mass=1.0, Friction=0.5\n",
      "Episode 2249: Gravity=25.0, Length=1.0, Mass=1.0, Friction=0.5\n",
      "Episode 2250: Gravity=25.0, Length=1.0, Mass=1.0, Friction=0.5\n"
     ]
    },
    {
     "name": "stderr",
     "output_type": "stream",
     "text": [
      "Epoch #4:  14%|#4        | 1430/10000 [00:01<00:08, 1021.24it/s, env_step=31430, gradient_step=3143, len=17, n/ep=0, n/st=10, rew=17.00]"
     ]
    },
    {
     "name": "stdout",
     "output_type": "stream",
     "text": [
      "Episode 2251: Gravity=25.0, Length=1.0, Mass=1.0, Friction=0.5\n",
      "Episode 2252: Gravity=25.0, Length=1.0, Mass=1.0, Friction=0.5\n",
      "Episode 2253: Gravity=25.0, Length=1.0, Mass=1.0, Friction=0.5\n",
      "Episode 2254: Gravity=25.0, Length=1.0, Mass=1.0, Friction=0.5\n",
      "Episode 2255: Gravity=25.0, Length=1.0, Mass=1.0, Friction=0.5\n",
      "Episode 2256: Gravity=25.0, Length=1.0, Mass=1.0, Friction=0.5\n",
      "Episode 2257: Gravity=25.0, Length=1.0, Mass=1.0, Friction=0.5\n"
     ]
    },
    {
     "name": "stderr",
     "output_type": "stream",
     "text": [
      "Epoch #4:  15%|#5        | 1540/10000 [00:01<00:08, 1054.85it/s, env_step=31540, gradient_step=3154, len=17, n/ep=0, n/st=10, rew=17.00]"
     ]
    },
    {
     "name": "stdout",
     "output_type": "stream",
     "text": [
      "Episode 2258: Gravity=25.0, Length=1.0, Mass=1.0, Friction=0.5\n",
      "Episode 2259: Gravity=25.0, Length=1.0, Mass=1.0, Friction=0.5\n",
      "Episode 2260: Gravity=25.0, Length=1.0, Mass=1.0, Friction=0.5\n",
      "Episode 2261: Gravity=25.0, Length=1.0, Mass=1.0, Friction=0.5\n",
      "Episode 2262: Gravity=25.0, Length=1.0, Mass=1.0, Friction=0.5\n",
      "Episode 2263: Gravity=25.0, Length=1.0, Mass=1.0, Friction=0.5\n"
     ]
    },
    {
     "name": "stderr",
     "output_type": "stream",
     "text": [
      "Epoch #4:  16%|#6        | 1650/10000 [00:01<00:08, 1034.82it/s, env_step=31650, gradient_step=3165, len=23, n/ep=1, n/st=10, rew=23.00]"
     ]
    },
    {
     "name": "stdout",
     "output_type": "stream",
     "text": [
      "Episode 2264: Gravity=25.0, Length=1.0, Mass=1.0, Friction=0.5\n",
      "Episode 2265: Gravity=25.0, Length=1.0, Mass=1.0, Friction=0.5\n",
      "Episode 2266: Gravity=25.0, Length=1.0, Mass=1.0, Friction=0.5\n",
      "Episode 2267: Gravity=25.0, Length=1.0, Mass=1.0, Friction=0.5\n",
      "Episode 2268: Gravity=25.0, Length=1.0, Mass=1.0, Friction=0.5\n"
     ]
    },
    {
     "name": "stderr",
     "output_type": "stream",
     "text": [
      "Epoch #4:  18%|#7        | 1750/10000 [00:01<00:08, 1029.59it/s, env_step=31750, gradient_step=3175, len=19, n/ep=0, n/st=10, rew=19.00]"
     ]
    },
    {
     "name": "stdout",
     "output_type": "stream",
     "text": [
      "Episode 2269: Gravity=25.0, Length=1.0, Mass=1.0, Friction=0.5\n",
      "Episode 2270: Gravity=25.0, Length=1.0, Mass=1.0, Friction=0.5\n",
      "Episode 2271: Gravity=25.0, Length=1.0, Mass=1.0, Friction=0.5\n",
      "Episode 2272: Gravity=25.0, Length=1.0, Mass=1.0, Friction=0.5\n",
      "Episode 2273: Gravity=25.0, Length=1.0, Mass=1.0, Friction=0.5\n"
     ]
    },
    {
     "name": "stderr",
     "output_type": "stream",
     "text": [
      "Epoch #4:  18%|#8        | 1850/10000 [00:01<00:08, 1003.39it/s, env_step=31850, gradient_step=3185, len=28, n/ep=0, n/st=10, rew=28.00]"
     ]
    },
    {
     "name": "stdout",
     "output_type": "stream",
     "text": [
      "Episode 2274: Gravity=25.0, Length=1.0, Mass=1.0, Friction=0.5\n",
      "Episode 2275: Gravity=25.0, Length=1.0, Mass=1.0, Friction=0.5\n",
      "Episode 2276: Gravity=25.0, Length=1.0, Mass=1.0, Friction=0.5\n",
      "Episode 2277: Gravity=25.0, Length=1.0, Mass=1.0, Friction=0.5\n"
     ]
    },
    {
     "name": "stderr",
     "output_type": "stream",
     "text": [
      "Epoch #4:  20%|#9        | 1950/10000 [00:02<00:08, 998.91it/s, env_step=31950, gradient_step=3195, len=16, n/ep=1, n/st=10, rew=16.00] "
     ]
    },
    {
     "name": "stdout",
     "output_type": "stream",
     "text": [
      "Episode 2278: Gravity=25.0, Length=1.0, Mass=1.0, Friction=0.5\n",
      "Episode 2279: Gravity=25.0, Length=1.0, Mass=1.0, Friction=0.5\n",
      "Episode 2280: Gravity=25.0, Length=1.0, Mass=1.0, Friction=0.5\n",
      "Episode 2281: Gravity=25.0, Length=1.0, Mass=1.0, Friction=0.5\n"
     ]
    },
    {
     "name": "stderr",
     "output_type": "stream",
     "text": [
      "Epoch #4:  21%|##        | 2070/10000 [00:02<00:08, 982.31it/s, env_step=32070, gradient_step=3207, len=26, n/ep=0, n/st=10, rew=26.00]"
     ]
    },
    {
     "name": "stdout",
     "output_type": "stream",
     "text": [
      "Episode 2282: Gravity=25.0, Length=1.0, Mass=1.0, Friction=0.5\n",
      "Episode 2283: Gravity=25.0, Length=1.0, Mass=1.0, Friction=0.5\n",
      "Episode 2284: Gravity=25.0, Length=1.0, Mass=1.0, Friction=0.5\n",
      "Episode 2285: Gravity=25.0, Length=1.0, Mass=1.0, Friction=0.5\n",
      "Episode 2286: Gravity=25.0, Length=1.0, Mass=1.0, Friction=0.5\n",
      "Episode 2287: Gravity=25.0, Length=1.0, Mass=1.0, Friction=0.5\n"
     ]
    },
    {
     "name": "stderr",
     "output_type": "stream",
     "text": [
      "Epoch #4:  22%|##1       | 2160/10000 [00:02<00:07, 985.66it/s, env_step=32160, gradient_step=3216, len=29, n/ep=0, n/st=10, rew=29.00]"
     ]
    },
    {
     "name": "stdout",
     "output_type": "stream",
     "text": [
      "Episode 2288: Gravity=25.0, Length=1.0, Mass=1.0, Friction=0.5\n",
      "Episode 2289: Gravity=25.0, Length=1.0, Mass=1.0, Friction=0.5\n"
     ]
    },
    {
     "name": "stderr",
     "output_type": "stream",
     "text": [
      "Epoch #4:  23%|##2       | 2290/10000 [00:02<00:07, 998.82it/s, env_step=32290, gradient_step=3229, len=28, n/ep=0, n/st=10, rew=28.00]"
     ]
    },
    {
     "name": "stdout",
     "output_type": "stream",
     "text": [
      "Episode 2290: Gravity=25.0, Length=1.0, Mass=1.0, Friction=0.5\n",
      "Episode 2291: Gravity=25.0, Length=1.0, Mass=1.0, Friction=0.5\n",
      "Episode 2292: Gravity=25.0, Length=1.0, Mass=1.0, Friction=0.5\n",
      "Episode 2293: Gravity=25.0, Length=1.0, Mass=1.0, Friction=0.5\n",
      "Episode 2294: Gravity=25.0, Length=1.0, Mass=1.0, Friction=0.5\n",
      "Episode 2295: Gravity=25.0, Length=1.0, Mass=1.0, Friction=0.5\n"
     ]
    },
    {
     "name": "stderr",
     "output_type": "stream",
     "text": [
      "Epoch #4:  23%|##3       | 2340/10000 [00:02<00:07, 965.40it/s, env_step=32340, gradient_step=3234, len=28, n/ep=0, n/st=10, rew=28.00]"
     ]
    },
    {
     "name": "stdout",
     "output_type": "stream",
     "text": [
      "Episode 2296: Gravity=25.0, Length=1.0, Mass=1.0, Friction=0.5\n"
     ]
    },
    {
     "name": "stderr",
     "output_type": "stream",
     "text": [
      "Epoch #4:  25%|##4       | 2480/10000 [00:02<00:08, 916.21it/s, env_step=32480, gradient_step=3248, len=23, n/ep=0, n/st=10, rew=23.00]"
     ]
    },
    {
     "name": "stdout",
     "output_type": "stream",
     "text": [
      "Episode 2297: Gravity=25.0, Length=1.0, Mass=1.0, Friction=0.5\n",
      "Episode 2298: Gravity=25.0, Length=1.0, Mass=1.0, Friction=0.5\n",
      "Episode 2299: Gravity=25.0, Length=1.0, Mass=1.0, Friction=0.5\n",
      "Episode 2300: Gravity=25.0, Length=1.0, Mass=1.0, Friction=0.5\n",
      "Episode 2301: Gravity=25.0, Length=1.0, Mass=1.0, Friction=0.5\n",
      "Episode 2302: Gravity=25.0, Length=1.0, Mass=1.0, Friction=0.5\n"
     ]
    },
    {
     "name": "stderr",
     "output_type": "stream",
     "text": [
      "Epoch #4:  25%|##5       | 2510/10000 [00:02<00:08, 916.21it/s, env_step=32510, gradient_step=3251, len=28, n/ep=0, n/st=10, rew=28.00]"
     ]
    },
    {
     "name": "stdout",
     "output_type": "stream",
     "text": [
      "Episode 2303: Gravity=25.0, Length=1.0, Mass=1.0, Friction=0.5\n"
     ]
    },
    {
     "name": "stderr",
     "output_type": "stream",
     "text": [
      "Epoch #4:  26%|##6       | 2630/10000 [00:02<00:09, 818.18it/s, env_step=32630, gradient_step=3263, len=22, n/ep=0, n/st=10, rew=22.00]"
     ]
    },
    {
     "name": "stdout",
     "output_type": "stream",
     "text": [
      "Episode 2304: Gravity=25.0, Length=1.0, Mass=1.0, Friction=0.5\n",
      "Episode 2305: Gravity=25.0, Length=1.0, Mass=1.0, Friction=0.5\n",
      "Episode 2306: Gravity=25.0, Length=1.0, Mass=1.0, Friction=0.5\n",
      "Episode 2307: Gravity=25.0, Length=1.0, Mass=1.0, Friction=0.5\n",
      "Episode 2308: Gravity=25.0, Length=1.0, Mass=1.0, Friction=0.5\n",
      "Episode 2309: Gravity=25.0, Length=1.0, Mass=1.0, Friction=0.5\n",
      "Episode 2310: Gravity=25.0, Length=1.0, Mass=1.0, Friction=0.5\n"
     ]
    },
    {
     "name": "stderr",
     "output_type": "stream",
     "text": [
      "Epoch #4:  27%|##6       | 2660/10000 [00:02<00:08, 818.18it/s, env_step=32660, gradient_step=3266, len=19, n/ep=1, n/st=10, rew=19.00]"
     ]
    },
    {
     "name": "stdout",
     "output_type": "stream",
     "text": [
      "Episode 2311: Gravity=25.0, Length=1.0, Mass=1.0, Friction=0.5\n"
     ]
    },
    {
     "name": "stderr",
     "output_type": "stream",
     "text": [
      "Epoch #4:  28%|##8       | 2810/10000 [00:03<00:08, 822.50it/s, env_step=32810, gradient_step=3281, len=14, n/ep=1, n/st=10, rew=14.00]"
     ]
    },
    {
     "name": "stdout",
     "output_type": "stream",
     "text": [
      "Episode 2312: Gravity=25.0, Length=1.0, Mass=1.0, Friction=0.5\n",
      "Episode 2313: Gravity=25.0, Length=1.0, Mass=1.0, Friction=0.5\n",
      "Episode 2314: Gravity=25.0, Length=1.0, Mass=1.0, Friction=0.5\n",
      "Episode 2315: Gravity=25.0, Length=1.0, Mass=1.0, Friction=0.5\n",
      "Episode 2316: Gravity=25.0, Length=1.0, Mass=1.0, Friction=0.5\n",
      "Episode 2317: Gravity=25.0, Length=1.0, Mass=1.0, Friction=0.5\n",
      "Episode 2318: Gravity=25.0, Length=1.0, Mass=1.0, Friction=0.5\n",
      "Episode 2319: Gravity=25.0, Length=1.0, Mass=1.0, Friction=0.5\n"
     ]
    },
    {
     "name": "stderr",
     "output_type": "stream",
     "text": [
      "Epoch #4:  28%|##8       | 2840/10000 [00:03<00:08, 822.50it/s, env_step=32840, gradient_step=3284, len=20, n/ep=0, n/st=10, rew=20.00]"
     ]
    },
    {
     "name": "stdout",
     "output_type": "stream",
     "text": [
      "Episode 2320: Gravity=25.0, Length=1.0, Mass=1.0, Friction=0.5\n"
     ]
    },
    {
     "name": "stderr",
     "output_type": "stream",
     "text": [
      "Epoch #4:  30%|###       | 3020/10000 [00:03<00:07, 906.77it/s, env_step=33020, gradient_step=3302, len=18, n/ep=1, n/st=10, rew=18.00]"
     ]
    },
    {
     "name": "stdout",
     "output_type": "stream",
     "text": [
      "Episode 2321: Gravity=25.0, Length=1.0, Mass=1.0, Friction=0.5\n",
      "Episode 2322: Gravity=25.0, Length=1.0, Mass=1.0, Friction=0.5\n",
      "Episode 2323: Gravity=25.0, Length=1.0, Mass=1.0, Friction=0.5\n",
      "Episode 2324: Gravity=25.0, Length=1.0, Mass=1.0, Friction=0.5\n",
      "Episode 2325: Gravity=25.0, Length=1.0, Mass=1.0, Friction=0.5\n",
      "Episode 2326: Gravity=25.0, Length=1.0, Mass=1.0, Friction=0.5\n",
      "Episode 2327: Gravity=25.0, Length=1.0, Mass=1.0, Friction=0.5\n",
      "Episode 2328: Gravity=25.0, Length=1.0, Mass=1.0, Friction=0.5\n",
      "Episode 2329: Gravity=25.0, Length=1.0, Mass=1.0, Friction=0.5\n",
      "Episode 2330: Gravity=25.0, Length=1.0, Mass=1.0, Friction=0.5\n"
     ]
    },
    {
     "name": "stderr",
     "output_type": "stream",
     "text": [
      "Epoch #4:  30%|###       | 3050/10000 [00:03<00:07, 906.77it/s, env_step=33050, gradient_step=3305, len=17, n/ep=0, n/st=10, rew=17.00]"
     ]
    },
    {
     "name": "stdout",
     "output_type": "stream",
     "text": [
      "Episode 2331: Gravity=25.0, Length=1.0, Mass=1.0, Friction=0.5\n"
     ]
    },
    {
     "name": "stderr",
     "output_type": "stream",
     "text": [
      "Epoch #4:  33%|###2      | 3260/10000 [00:03<00:06, 1047.05it/s, env_step=33260, gradient_step=3326, len=28, n/ep=0, n/st=10, rew=28.00]"
     ]
    },
    {
     "name": "stdout",
     "output_type": "stream",
     "text": [
      "Episode 2332: Gravity=25.0, Length=1.0, Mass=1.0, Friction=0.5\n",
      "Episode 2333: Gravity=25.0, Length=1.0, Mass=1.0, Friction=0.5\n",
      "Episode 2334: Gravity=25.0, Length=1.0, Mass=1.0, Friction=0.5\n",
      "Episode 2335: Gravity=25.0, Length=1.0, Mass=1.0, Friction=0.5\n",
      "Episode 2336: Gravity=25.0, Length=1.0, Mass=1.0, Friction=0.5\n",
      "Episode 2337: Gravity=25.0, Length=1.0, Mass=1.0, Friction=0.5\n",
      "Episode 2338: Gravity=25.0, Length=1.0, Mass=1.0, Friction=0.5\n",
      "Episode 2339: Gravity=25.0, Length=1.0, Mass=1.0, Friction=0.5\n",
      "Episode 2340: Gravity=25.0, Length=1.0, Mass=1.0, Friction=0.5\n"
     ]
    },
    {
     "name": "stderr",
     "output_type": "stream",
     "text": [
      "Epoch #4:  33%|###2      | 3290/10000 [00:03<00:06, 1047.05it/s, env_step=33290, gradient_step=3329, len=19, n/ep=1, n/st=10, rew=19.00]"
     ]
    },
    {
     "name": "stdout",
     "output_type": "stream",
     "text": [
      "Episode 2341: Gravity=25.0, Length=1.0, Mass=1.0, Friction=0.5\n"
     ]
    },
    {
     "name": "stderr",
     "output_type": "stream",
     "text": [
      "Epoch #4:  35%|###5      | 3510/10000 [00:03<00:05, 1104.36it/s, env_step=33510, gradient_step=3351, len=26, n/ep=1, n/st=10, rew=26.00]"
     ]
    },
    {
     "name": "stdout",
     "output_type": "stream",
     "text": [
      "Episode 2342: Gravity=25.0, Length=1.0, Mass=1.0, Friction=0.5\n",
      "Episode 2343: Gravity=25.0, Length=1.0, Mass=1.0, Friction=0.5\n",
      "Episode 2344: Gravity=25.0, Length=1.0, Mass=1.0, Friction=0.5\n",
      "Episode 2345: Gravity=25.0, Length=1.0, Mass=1.0, Friction=0.5\n",
      "Episode 2346: Gravity=25.0, Length=1.0, Mass=1.0, Friction=0.5\n",
      "Episode 2347: Gravity=25.0, Length=1.0, Mass=1.0, Friction=0.5\n",
      "Episode 2348: Gravity=25.0, Length=1.0, Mass=1.0, Friction=0.5\n",
      "Episode 2349: Gravity=25.0, Length=1.0, Mass=1.0, Friction=0.5\n",
      "Episode 2350: Gravity=25.0, Length=1.0, Mass=1.0, Friction=0.5\n",
      "Episode 2351: Gravity=25.0, Length=1.0, Mass=1.0, Friction=0.5\n"
     ]
    },
    {
     "name": "stderr",
     "output_type": "stream",
     "text": [
      "Epoch #4:  35%|###5      | 3540/10000 [00:03<00:05, 1104.36it/s, env_step=33540, gradient_step=3354, len=25, n/ep=1, n/st=10, rew=25.00]"
     ]
    },
    {
     "name": "stdout",
     "output_type": "stream",
     "text": [
      "Episode 2352: Gravity=25.0, Length=1.0, Mass=1.0, Friction=0.5\n"
     ]
    },
    {
     "name": "stderr",
     "output_type": "stream",
     "text": [
      "Epoch #4:  38%|###7      | 3760/10000 [00:03<00:05, 1138.14it/s, env_step=33760, gradient_step=3376, len=25, n/ep=1, n/st=10, rew=25.00]"
     ]
    },
    {
     "name": "stdout",
     "output_type": "stream",
     "text": [
      "Episode 2353: Gravity=25.0, Length=1.0, Mass=1.0, Friction=0.5\n",
      "Episode 2354: Gravity=25.0, Length=1.0, Mass=1.0, Friction=0.5\n",
      "Episode 2355: Gravity=25.0, Length=1.0, Mass=1.0, Friction=0.5\n",
      "Episode 2356: Gravity=25.0, Length=1.0, Mass=1.0, Friction=0.5\n",
      "Episode 2357: Gravity=25.0, Length=1.0, Mass=1.0, Friction=0.5\n",
      "Episode 2358: Gravity=25.0, Length=1.0, Mass=1.0, Friction=0.5\n",
      "Episode 2359: Gravity=25.0, Length=1.0, Mass=1.0, Friction=0.5\n",
      "Episode 2360: Gravity=25.0, Length=1.0, Mass=1.0, Friction=0.5\n",
      "Episode 2361: Gravity=25.0, Length=1.0, Mass=1.0, Friction=0.5\n"
     ]
    },
    {
     "name": "stderr",
     "output_type": "stream",
     "text": [
      "Epoch #4:  38%|###7      | 3790/10000 [00:03<00:05, 1138.14it/s, env_step=33790, gradient_step=3379, len=23, n/ep=0, n/st=10, rew=23.00]"
     ]
    },
    {
     "name": "stdout",
     "output_type": "stream",
     "text": [
      "Episode 2362: Gravity=25.0, Length=1.0, Mass=1.0, Friction=0.5\n"
     ]
    },
    {
     "name": "stderr",
     "output_type": "stream",
     "text": [
      "Epoch #4:  40%|####      | 4000/10000 [00:04<00:05, 1141.72it/s, env_step=34000, gradient_step=3400, len=18, n/ep=0, n/st=10, rew=18.00]"
     ]
    },
    {
     "name": "stdout",
     "output_type": "stream",
     "text": [
      "Episode 2363: Gravity=25.0, Length=1.0, Mass=1.0, Friction=0.5\n",
      "Episode 2364: Gravity=25.0, Length=1.0, Mass=1.0, Friction=0.5\n",
      "Episode 2365: Gravity=25.0, Length=1.0, Mass=1.0, Friction=0.5\n",
      "Episode 2366: Gravity=25.0, Length=1.0, Mass=1.0, Friction=0.5\n",
      "Episode 2367: Gravity=25.0, Length=1.0, Mass=1.0, Friction=0.5\n",
      "Episode 2368: Gravity=25.0, Length=1.0, Mass=1.0, Friction=0.5\n",
      "Episode 2369: Gravity=25.0, Length=1.0, Mass=1.0, Friction=0.5\n",
      "Episode 2370: Gravity=25.0, Length=1.0, Mass=1.0, Friction=0.5\n",
      "Episode 2371: Gravity=25.0, Length=1.0, Mass=1.0, Friction=0.5\n"
     ]
    },
    {
     "name": "stderr",
     "output_type": "stream",
     "text": [
      "Epoch #4:  40%|####      | 4030/10000 [00:04<00:05, 1141.72it/s, env_step=34030, gradient_step=3403, len=22, n/ep=1, n/st=10, rew=22.00]"
     ]
    },
    {
     "name": "stdout",
     "output_type": "stream",
     "text": [
      "Episode 2372: Gravity=25.0, Length=1.0, Mass=1.0, Friction=0.5\n",
      "Episode 2373: Gravity=25.0, Length=1.0, Mass=1.0, Friction=0.5\n"
     ]
    },
    {
     "name": "stderr",
     "output_type": "stream",
     "text": [
      "Epoch #4:  42%|####2     | 4230/10000 [00:04<00:05, 1144.27it/s, env_step=34230, gradient_step=3423, len=30, n/ep=1, n/st=10, rew=30.00]"
     ]
    },
    {
     "name": "stdout",
     "output_type": "stream",
     "text": [
      "Episode 2374: Gravity=25.0, Length=1.0, Mass=1.0, Friction=0.5\n",
      "Episode 2375: Gravity=25.0, Length=1.0, Mass=1.0, Friction=0.5\n",
      "Episode 2376: Gravity=25.0, Length=1.0, Mass=1.0, Friction=0.5\n",
      "Episode 2377: Gravity=25.0, Length=1.0, Mass=1.0, Friction=0.5\n",
      "Episode 2378: Gravity=25.0, Length=1.0, Mass=1.0, Friction=0.5\n",
      "Episode 2379: Gravity=25.0, Length=1.0, Mass=1.0, Friction=0.5\n",
      "Episode 2380: Gravity=25.0, Length=1.0, Mass=1.0, Friction=0.5\n"
     ]
    },
    {
     "name": "stderr",
     "output_type": "stream",
     "text": [
      "Epoch #4:  43%|####2     | 4280/10000 [00:04<00:04, 1144.27it/s, env_step=34280, gradient_step=3428, len=31, n/ep=0, n/st=10, rew=31.00]"
     ]
    },
    {
     "name": "stdout",
     "output_type": "stream",
     "text": [
      "Episode 2381: Gravity=25.0, Length=1.0, Mass=1.0, Friction=0.5\n",
      "Episode 2382: Gravity=25.0, Length=1.0, Mass=1.0, Friction=0.5\n"
     ]
    },
    {
     "name": "stderr",
     "output_type": "stream",
     "text": [
      "Epoch #4:  45%|####4     | 4480/10000 [00:04<00:04, 1160.07it/s, env_step=34480, gradient_step=3448, len=30, n/ep=0, n/st=10, rew=30.00]"
     ]
    },
    {
     "name": "stdout",
     "output_type": "stream",
     "text": [
      "Episode 2383: Gravity=25.0, Length=1.0, Mass=1.0, Friction=0.5\n",
      "Episode 2384: Gravity=25.0, Length=1.0, Mass=1.0, Friction=0.5\n",
      "Episode 2385: Gravity=25.0, Length=1.0, Mass=1.0, Friction=0.5\n",
      "Episode 2386: Gravity=25.0, Length=1.0, Mass=1.0, Friction=0.5\n",
      "Episode 2387: Gravity=25.0, Length=1.0, Mass=1.0, Friction=0.5\n",
      "Episode 2388: Gravity=25.0, Length=1.0, Mass=1.0, Friction=0.5\n",
      "Episode 2389: Gravity=25.0, Length=1.0, Mass=1.0, Friction=0.5\n"
     ]
    },
    {
     "name": "stderr",
     "output_type": "stream",
     "text": [
      "Epoch #4:  45%|####5     | 4540/10000 [00:04<00:04, 1160.07it/s, env_step=34540, gradient_step=3454, len=22, n/ep=0, n/st=10, rew=22.00]"
     ]
    },
    {
     "name": "stdout",
     "output_type": "stream",
     "text": [
      "Episode 2390: Gravity=25.0, Length=1.0, Mass=1.0, Friction=0.5\n",
      "Episode 2391: Gravity=25.0, Length=1.0, Mass=1.0, Friction=0.5\n"
     ]
    },
    {
     "name": "stderr",
     "output_type": "stream",
     "text": [
      "Epoch #4:  47%|####7     | 4720/10000 [00:04<00:04, 1165.39it/s, env_step=34720, gradient_step=3472, len=30, n/ep=0, n/st=10, rew=30.00]"
     ]
    },
    {
     "name": "stdout",
     "output_type": "stream",
     "text": [
      "Episode 2392: Gravity=25.0, Length=1.0, Mass=1.0, Friction=0.5\n",
      "Episode 2393: Gravity=25.0, Length=1.0, Mass=1.0, Friction=0.5\n",
      "Episode 2394: Gravity=25.0, Length=1.0, Mass=1.0, Friction=0.5\n",
      "Episode 2395: Gravity=25.0, Length=1.0, Mass=1.0, Friction=0.5\n",
      "Episode 2396: Gravity=25.0, Length=1.0, Mass=1.0, Friction=0.5\n",
      "Episode 2397: Gravity=25.0, Length=1.0, Mass=1.0, Friction=0.5\n"
     ]
    },
    {
     "name": "stderr",
     "output_type": "stream",
     "text": [
      "Epoch #4:  48%|####7     | 4770/10000 [00:04<00:04, 1165.39it/s, env_step=34770, gradient_step=3477, len=29, n/ep=1, n/st=10, rew=29.00]"
     ]
    },
    {
     "name": "stdout",
     "output_type": "stream",
     "text": [
      "Episode 2398: Gravity=25.0, Length=1.0, Mass=1.0, Friction=0.5\n",
      "Episode 2399: Gravity=25.0, Length=1.0, Mass=1.0, Friction=0.5\n"
     ]
    },
    {
     "name": "stderr",
     "output_type": "stream",
     "text": [
      "Epoch #4:  50%|####9     | 4960/10000 [00:04<00:04, 1151.15it/s, env_step=34960, gradient_step=3496, len=34, n/ep=0, n/st=10, rew=34.00]"
     ]
    },
    {
     "name": "stdout",
     "output_type": "stream",
     "text": [
      "Episode 2400: Gravity=25.0, Length=1.0, Mass=1.0, Friction=0.5\n",
      "Episode 2401: Gravity=25.0, Length=1.0, Mass=1.0, Friction=0.5\n",
      "Episode 2402: Gravity=25.0, Length=1.0, Mass=1.0, Friction=0.5\n",
      "Episode 2403: Gravity=25.0, Length=1.0, Mass=1.0, Friction=0.5\n",
      "Episode 2404: Gravity=25.0, Length=1.0, Mass=1.0, Friction=0.5\n",
      "Episode 2405: Gravity=25.0, Length=1.0, Mass=1.0, Friction=0.5\n"
     ]
    },
    {
     "name": "stderr",
     "output_type": "stream",
     "text": [
      "Epoch #4:  50%|#####     | 5000/10000 [00:04<00:04, 1151.15it/s, env_step=35000, gradient_step=3500, len=27, n/ep=0, n/st=10, rew=27.00]"
     ]
    },
    {
     "name": "stdout",
     "output_type": "stream",
     "text": [
      "Episode 2406: Gravity=25.0, Length=1.0, Mass=1.0, Friction=0.5\n",
      "Episode 2407: Gravity=25.0, Length=1.0, Mass=1.0, Friction=0.5\n"
     ]
    },
    {
     "name": "stderr",
     "output_type": "stream",
     "text": [
      "Epoch #4:  52%|#####2    | 5200/10000 [00:05<00:04, 1151.21it/s, env_step=35200, gradient_step=3520, len=17, n/ep=0, n/st=10, rew=17.00]"
     ]
    },
    {
     "name": "stdout",
     "output_type": "stream",
     "text": [
      "Episode 2408: Gravity=25.0, Length=1.0, Mass=1.0, Friction=0.5\n",
      "Episode 2409: Gravity=25.0, Length=1.0, Mass=1.0, Friction=0.5\n",
      "Episode 2410: Gravity=25.0, Length=1.0, Mass=1.0, Friction=0.5\n",
      "Episode 2411: Gravity=25.0, Length=1.0, Mass=1.0, Friction=0.5\n",
      "Episode 2412: Gravity=25.0, Length=1.0, Mass=1.0, Friction=0.5\n",
      "Episode 2413: Gravity=25.0, Length=1.0, Mass=1.0, Friction=0.5\n"
     ]
    },
    {
     "name": "stderr",
     "output_type": "stream",
     "text": [
      "Epoch #4:  52%|#####2    | 5250/10000 [00:05<00:04, 1151.21it/s, env_step=35250, gradient_step=3525, len=23, n/ep=0, n/st=10, rew=23.00]"
     ]
    },
    {
     "name": "stdout",
     "output_type": "stream",
     "text": [
      "Episode 2414: Gravity=25.0, Length=1.0, Mass=1.0, Friction=0.5\n",
      "Episode 2415: Gravity=25.0, Length=1.0, Mass=1.0, Friction=0.5\n"
     ]
    },
    {
     "name": "stderr",
     "output_type": "stream",
     "text": [
      "Epoch #4:  54%|#####4    | 5440/10000 [00:05<00:03, 1157.91it/s, env_step=35440, gradient_step=3544, len=21, n/ep=0, n/st=10, rew=21.00]"
     ]
    },
    {
     "name": "stdout",
     "output_type": "stream",
     "text": [
      "Episode 2416: Gravity=25.0, Length=1.0, Mass=1.0, Friction=0.5\n",
      "Episode 2417: Gravity=25.0, Length=1.0, Mass=1.0, Friction=0.5\n",
      "Episode 2418: Gravity=25.0, Length=1.0, Mass=1.0, Friction=0.5\n",
      "Episode 2419: Gravity=25.0, Length=1.0, Mass=1.0, Friction=0.5\n",
      "Episode 2420: Gravity=25.0, Length=1.0, Mass=1.0, Friction=0.5\n",
      "Episode 2421: Gravity=25.0, Length=1.0, Mass=1.0, Friction=0.5\n",
      "Episode 2422: Gravity=25.0, Length=1.0, Mass=1.0, Friction=0.5\n"
     ]
    },
    {
     "name": "stderr",
     "output_type": "stream",
     "text": [
      "Epoch #4:  55%|#####5    | 5500/10000 [00:05<00:03, 1157.91it/s, env_step=35500, gradient_step=3550, len=21, n/ep=0, n/st=10, rew=21.00]"
     ]
    },
    {
     "name": "stdout",
     "output_type": "stream",
     "text": [
      "Episode 2423: Gravity=25.0, Length=1.0, Mass=1.0, Friction=0.5\n"
     ]
    },
    {
     "name": "stderr",
     "output_type": "stream",
     "text": [
      "Epoch #4:  57%|#####7    | 5740/10000 [00:05<00:03, 1168.62it/s, env_step=35740, gradient_step=3574, len=27, n/ep=1, n/st=10, rew=27.00]  "
     ]
    },
    {
     "name": "stdout",
     "output_type": "stream",
     "text": [
      "Episode 2424: Gravity=25.0, Length=1.0, Mass=1.0, Friction=0.5\n",
      "Episode 2425: Gravity=25.0, Length=1.0, Mass=1.0, Friction=0.5\n",
      "Episode 2426: Gravity=25.0, Length=1.0, Mass=1.0, Friction=0.5\n",
      "Episode 2427: Gravity=25.0, Length=1.0, Mass=1.0, Friction=0.5\n",
      "Episode 2428: Gravity=25.0, Length=1.0, Mass=1.0, Friction=0.5\n",
      "Episode 2429: Gravity=25.0, Length=1.0, Mass=1.0, Friction=0.5\n"
     ]
    },
    {
     "name": "stderr",
     "output_type": "stream",
     "text": [
      "Epoch #4:  60%|######    | 6050/10000 [00:05<00:03, 1166.82it/s, env_step=36040, gradient_step=3604, len=19, n/ep=0, n/st=10, rew=19.00]"
     ]
    },
    {
     "name": "stdout",
     "output_type": "stream",
     "text": [
      "Episode 2430: Gravity=25.0, Length=1.0, Mass=1.0, Friction=0.5\n",
      "Episode 2431: Gravity=25.0, Length=1.0, Mass=1.0, Friction=0.5\n",
      "Episode 2432: Gravity=25.0, Length=1.0, Mass=1.0, Friction=0.5\n",
      "Episode 2433: Gravity=25.0, Length=1.0, Mass=1.0, Friction=0.5\n",
      "Episode 2434: Gravity=25.0, Length=1.0, Mass=1.0, Friction=0.5\n",
      "Episode 2435: Gravity=25.0, Length=1.0, Mass=1.0, Friction=0.5\n",
      "Episode 2436: Gravity=25.0, Length=1.0, Mass=1.0, Friction=0.5\n",
      "Episode 2437: Gravity=25.0, Length=1.0, Mass=1.0, Friction=0.5\n"
     ]
    },
    {
     "name": "stderr",
     "output_type": "stream",
     "text": [
      "Epoch #4:  63%|######2   | 6290/10000 [00:06<00:03, 1167.05it/s, env_step=36290, gradient_step=3629, len=22, n/ep=0, n/st=10, rew=22.00]"
     ]
    },
    {
     "name": "stdout",
     "output_type": "stream",
     "text": [
      "Episode 2438: Gravity=25.0, Length=1.0, Mass=1.0, Friction=0.5\n",
      "Episode 2439: Gravity=25.0, Length=1.0, Mass=1.0, Friction=0.5\n",
      "Episode 2440: Gravity=25.0, Length=1.0, Mass=1.0, Friction=0.5\n",
      "Episode 2441: Gravity=25.0, Length=1.0, Mass=1.0, Friction=0.5\n",
      "Episode 2442: Gravity=25.0, Length=1.0, Mass=1.0, Friction=0.5\n",
      "Episode 2443: Gravity=25.0, Length=1.0, Mass=1.0, Friction=0.5\n",
      "Episode 2444: Gravity=25.0, Length=1.0, Mass=1.0, Friction=0.5\n",
      "Episode 2445: Gravity=25.0, Length=1.0, Mass=1.0, Friction=0.5\n",
      "Episode 2446: Gravity=25.0, Length=1.0, Mass=1.0, Friction=0.5\n",
      "Episode 2447: Gravity=25.0, Length=1.0, Mass=1.0, Friction=0.5\n",
      "Episode 2448: Gravity=25.0, Length=1.0, Mass=1.0, Friction=0.5\n",
      "Episode 2449: Gravity=25.0, Length=1.0, Mass=1.0, Friction=0.5\n"
     ]
    },
    {
     "name": "stderr",
     "output_type": "stream",
     "text": [
      "Epoch #4:  66%|######5   | 6550/10000 [00:06<00:02, 1183.64it/s, env_step=36550, gradient_step=3655, len=24, n/ep=0, n/st=10, rew=24.00]"
     ]
    },
    {
     "name": "stdout",
     "output_type": "stream",
     "text": [
      "Episode 2450: Gravity=25.0, Length=1.0, Mass=1.0, Friction=0.5\n",
      "Episode 2451: Gravity=25.0, Length=1.0, Mass=1.0, Friction=0.5\n",
      "Episode 2452: Gravity=25.0, Length=1.0, Mass=1.0, Friction=0.5\n",
      "Episode 2453: Gravity=25.0, Length=1.0, Mass=1.0, Friction=0.5\n",
      "Episode 2454: Gravity=25.0, Length=1.0, Mass=1.0, Friction=0.5\n",
      "Episode 2455: Gravity=25.0, Length=1.0, Mass=1.0, Friction=0.5\n",
      "Episode 2456: Gravity=25.0, Length=1.0, Mass=1.0, Friction=0.5\n",
      "Episode 2457: Gravity=25.0, Length=1.0, Mass=1.0, Friction=0.5\n",
      "Episode 2458: Gravity=25.0, Length=1.0, Mass=1.0, Friction=0.5\n"
     ]
    },
    {
     "name": "stderr",
     "output_type": "stream",
     "text": [
      "Epoch #4:  68%|######7   | 6780/10000 [00:06<00:02, 1174.28it/s, env_step=36780, gradient_step=3678, len=54, n/ep=0, n/st=10, rew=54.00]"
     ]
    },
    {
     "name": "stdout",
     "output_type": "stream",
     "text": [
      "Episode 2459: Gravity=25.0, Length=1.0, Mass=1.0, Friction=0.5\n",
      "Episode 2460: Gravity=25.0, Length=1.0, Mass=1.0, Friction=0.5\n",
      "Episode 2461: Gravity=25.0, Length=1.0, Mass=1.0, Friction=0.5\n",
      "Episode 2462: Gravity=25.0, Length=1.0, Mass=1.0, Friction=0.5\n",
      "Episode 2463: Gravity=25.0, Length=1.0, Mass=1.0, Friction=0.5\n",
      "Episode 2464: Gravity=25.0, Length=1.0, Mass=1.0, Friction=0.5\n",
      "Episode 2465: Gravity=25.0, Length=1.0, Mass=1.0, Friction=0.5\n"
     ]
    },
    {
     "name": "stderr",
     "output_type": "stream",
     "text": [
      "Epoch #4:  70%|#######   | 7030/10000 [00:06<00:02, 1185.85it/s, env_step=37030, gradient_step=3703, len=27, n/ep=0, n/st=10, rew=27.00]"
     ]
    },
    {
     "name": "stdout",
     "output_type": "stream",
     "text": [
      "Episode 2466: Gravity=25.0, Length=1.0, Mass=1.0, Friction=0.5\n",
      "Episode 2467: Gravity=25.0, Length=1.0, Mass=1.0, Friction=0.5\n",
      "Episode 2468: Gravity=25.0, Length=1.0, Mass=1.0, Friction=0.5\n",
      "Episode 2469: Gravity=25.0, Length=1.0, Mass=1.0, Friction=0.5\n",
      "Episode 2470: Gravity=25.0, Length=1.0, Mass=1.0, Friction=0.5\n",
      "Episode 2471: Gravity=25.0, Length=1.0, Mass=1.0, Friction=0.5\n",
      "Episode 2472: Gravity=25.0, Length=1.0, Mass=1.0, Friction=0.5\n",
      "Episode 2473: Gravity=25.0, Length=1.0, Mass=1.0, Friction=0.5\n",
      "Episode 2474: Gravity=25.0, Length=1.0, Mass=1.0, Friction=0.5\n",
      "Episode 2475: Gravity=25.0, Length=1.0, Mass=1.0, Friction=0.5\n"
     ]
    },
    {
     "name": "stderr",
     "output_type": "stream",
     "text": [
      "Epoch #4:  72%|#######2  | 7250/10000 [00:06<00:02, 1117.12it/s, env_step=37250, gradient_step=3725, len=40, n/ep=0, n/st=10, rew=40.00]"
     ]
    },
    {
     "name": "stdout",
     "output_type": "stream",
     "text": [
      "Episode 2476: Gravity=25.0, Length=1.0, Mass=1.0, Friction=0.5\n",
      "Episode 2477: Gravity=25.0, Length=1.0, Mass=1.0, Friction=0.5\n",
      "Episode 2478: Gravity=25.0, Length=1.0, Mass=1.0, Friction=0.5\n",
      "Episode 2479: Gravity=25.0, Length=1.0, Mass=1.0, Friction=0.5\n",
      "Episode 2480: Gravity=25.0, Length=1.0, Mass=1.0, Friction=0.5\n"
     ]
    },
    {
     "name": "stderr",
     "output_type": "stream",
     "text": [
      "Epoch #4:  75%|#######5  | 7510/10000 [00:07<00:02, 1076.21it/s, env_step=37510, gradient_step=3751, len=55, n/ep=0, n/st=10, rew=55.00]  "
     ]
    },
    {
     "name": "stdout",
     "output_type": "stream",
     "text": [
      "Episode 2481: Gravity=25.0, Length=1.0, Mass=1.0, Friction=0.5\n",
      "Episode 2482: Gravity=25.0, Length=1.0, Mass=1.0, Friction=0.5\n",
      "Episode 2483: Gravity=25.0, Length=1.0, Mass=1.0, Friction=0.5\n",
      "Episode 2484: Gravity=25.0, Length=1.0, Mass=1.0, Friction=0.5\n"
     ]
    },
    {
     "name": "stderr",
     "output_type": "stream",
     "text": [
      "Epoch #4:  78%|#######7  | 7770/10000 [00:07<00:01, 1122.66it/s, env_step=37770, gradient_step=3777, len=23, n/ep=0, n/st=10, rew=23.00]  "
     ]
    },
    {
     "name": "stdout",
     "output_type": "stream",
     "text": [
      "Episode 2485: Gravity=25.0, Length=1.0, Mass=1.0, Friction=0.5\n",
      "Episode 2486: Gravity=25.0, Length=1.0, Mass=1.0, Friction=0.5\n",
      "Episode 2487: Gravity=25.0, Length=1.0, Mass=1.0, Friction=0.5\n",
      "Episode 2488: Gravity=25.0, Length=1.0, Mass=1.0, Friction=0.5\n",
      "Episode 2489: Gravity=25.0, Length=1.0, Mass=1.0, Friction=0.5\n"
     ]
    },
    {
     "name": "stderr",
     "output_type": "stream",
     "text": [
      "Epoch #4:  80%|########  | 8030/10000 [00:07<00:01, 1166.04it/s, env_step=38030, gradient_step=3803, len=18, n/ep=0, n/st=10, rew=18.00]"
     ]
    },
    {
     "name": "stdout",
     "output_type": "stream",
     "text": [
      "Episode 2490: Gravity=25.0, Length=1.0, Mass=1.0, Friction=0.5\n",
      "Episode 2491: Gravity=25.0, Length=1.0, Mass=1.0, Friction=0.5\n",
      "Episode 2492: Gravity=25.0, Length=1.0, Mass=1.0, Friction=0.5\n",
      "Episode 2493: Gravity=25.0, Length=1.0, Mass=1.0, Friction=0.5\n",
      "Episode 2494: Gravity=25.0, Length=1.0, Mass=1.0, Friction=0.5\n",
      "Episode 2495: Gravity=25.0, Length=1.0, Mass=1.0, Friction=0.5\n",
      "Episode 2496: Gravity=25.0, Length=1.0, Mass=1.0, Friction=0.5\n",
      "Episode 2497: Gravity=25.0, Length=1.0, Mass=1.0, Friction=0.5\n",
      "Episode 2498: Gravity=25.0, Length=1.0, Mass=1.0, Friction=0.5\n",
      "Episode 2499: Gravity=25.0, Length=1.0, Mass=1.0, Friction=0.5\n",
      "Episode 2500: Gravity=25.0, Length=1.0, Mass=1.0, Friction=0.5\n",
      "Episode 2501: Gravity=25.0, Length=1.0, Mass=1.0, Friction=0.5\n"
     ]
    },
    {
     "name": "stderr",
     "output_type": "stream",
     "text": [
      "Epoch #4:  83%|########2 | 8270/10000 [00:07<00:01, 1140.06it/s, env_step=38270, gradient_step=3827, len=104, n/ep=0, n/st=10, rew=104.00]"
     ]
    },
    {
     "name": "stdout",
     "output_type": "stream",
     "text": [
      "Episode 2502: Gravity=25.0, Length=1.0, Mass=1.0, Friction=0.5\n",
      "Episode 2503: Gravity=25.0, Length=1.0, Mass=1.0, Friction=0.5\n",
      "Episode 2504: Gravity=25.0, Length=1.0, Mass=1.0, Friction=0.5\n",
      "Episode 2505: Gravity=25.0, Length=1.0, Mass=1.0, Friction=0.5\n"
     ]
    },
    {
     "name": "stderr",
     "output_type": "stream",
     "text": [
      "Epoch #4:  85%|########5 | 8510/10000 [00:08<00:01, 1141.87it/s, env_step=38510, gradient_step=3851, len=29, n/ep=0, n/st=10, rew=29.00]  "
     ]
    },
    {
     "name": "stdout",
     "output_type": "stream",
     "text": [
      "Episode 2506: Gravity=25.0, Length=1.0, Mass=1.0, Friction=0.5\n",
      "Episode 2507: Gravity=25.0, Length=1.0, Mass=1.0, Friction=0.5\n",
      "Episode 2508: Gravity=25.0, Length=1.0, Mass=1.0, Friction=0.5\n",
      "Episode 2509: Gravity=25.0, Length=1.0, Mass=1.0, Friction=0.5\n",
      "Episode 2510: Gravity=25.0, Length=1.0, Mass=1.0, Friction=0.5\n"
     ]
    },
    {
     "name": "stderr",
     "output_type": "stream",
     "text": [
      "Epoch #4:  87%|########7 | 8700/10000 [00:08<00:01, 1097.29it/s, env_step=38700, gradient_step=3870, len=39, n/ep=0, n/st=10, rew=39.00]"
     ]
    },
    {
     "name": "stdout",
     "output_type": "stream",
     "text": [
      "Episode 2511: Gravity=25.0, Length=1.0, Mass=1.0, Friction=0.5\n",
      "Episode 2512: Gravity=25.0, Length=1.0, Mass=1.0, Friction=0.5\n",
      "Episode 2513: Gravity=25.0, Length=1.0, Mass=1.0, Friction=0.5\n",
      "Episode 2514: Gravity=25.0, Length=1.0, Mass=1.0, Friction=0.5\n"
     ]
    },
    {
     "name": "stderr",
     "output_type": "stream",
     "text": [
      "Epoch #4:  90%|########9 | 8990/10000 [00:08<00:00, 1036.83it/s, env_step=38990, gradient_step=3899, len=39, n/ep=0, n/st=10, rew=39.00]"
     ]
    },
    {
     "name": "stdout",
     "output_type": "stream",
     "text": [
      "Episode 2515: Gravity=25.0, Length=1.0, Mass=1.0, Friction=0.5\n",
      "Episode 2516: Gravity=25.0, Length=1.0, Mass=1.0, Friction=0.5\n",
      "Episode 2517: Gravity=25.0, Length=1.0, Mass=1.0, Friction=0.5\n",
      "Episode 2518: Gravity=25.0, Length=1.0, Mass=1.0, Friction=0.5\n",
      "Episode 2519: Gravity=25.0, Length=1.0, Mass=1.0, Friction=0.5\n"
     ]
    },
    {
     "name": "stderr",
     "output_type": "stream",
     "text": [
      "Epoch #4:  92%|#########2| 9230/10000 [00:08<00:00, 1118.26it/s, env_step=39230, gradient_step=3923, len=66, n/ep=0, n/st=10, rew=66.00]"
     ]
    },
    {
     "name": "stdout",
     "output_type": "stream",
     "text": [
      "Episode 2520: Gravity=25.0, Length=1.0, Mass=1.0, Friction=0.5\n",
      "Episode 2521: Gravity=25.0, Length=1.0, Mass=1.0, Friction=0.5\n",
      "Episode 2522: Gravity=25.0, Length=1.0, Mass=1.0, Friction=0.5\n",
      "Episode 2523: Gravity=25.0, Length=1.0, Mass=1.0, Friction=0.5\n",
      "Episode 2524: Gravity=25.0, Length=1.0, Mass=1.0, Friction=0.5\n"
     ]
    },
    {
     "name": "stderr",
     "output_type": "stream",
     "text": [
      "Epoch #4:  95%|#########5| 9520/10000 [00:08<00:00, 1106.15it/s, env_step=39520, gradient_step=3952, len=45, n/ep=0, n/st=10, rew=45.00]  "
     ]
    },
    {
     "name": "stdout",
     "output_type": "stream",
     "text": [
      "Episode 2525: Gravity=25.0, Length=1.0, Mass=1.0, Friction=0.5\n",
      "Episode 2526: Gravity=25.0, Length=1.0, Mass=1.0, Friction=0.5\n",
      "Episode 2527: Gravity=25.0, Length=1.0, Mass=1.0, Friction=0.5\n",
      "Episode 2528: Gravity=25.0, Length=1.0, Mass=1.0, Friction=0.5\n"
     ]
    },
    {
     "name": "stderr",
     "output_type": "stream",
     "text": [
      "Epoch #4:  98%|#########7| 9770/10000 [00:09<00:00, 1088.93it/s, env_step=39770, gradient_step=3977, len=154, n/ep=0, n/st=10, rew=154.00]"
     ]
    },
    {
     "name": "stdout",
     "output_type": "stream",
     "text": [
      "Episode 2529: Gravity=25.0, Length=1.0, Mass=1.0, Friction=0.5\n",
      "Episode 2530: Gravity=25.0, Length=1.0, Mass=1.0, Friction=0.5\n"
     ]
    },
    {
     "name": "stderr",
     "output_type": "stream",
     "text": [
      "Epoch #4: 10001it [00:09, 1063.22it/s, env_step=40000, gradient_step=4000, len=116, n/ep=0, n/st=10, rew=116.00]                           \n"
     ]
    },
    {
     "name": "stdout",
     "output_type": "stream",
     "text": [
      "Episode 2531: Gravity=25.0, Length=1.0, Mass=1.0, Friction=0.5\n",
      "Episode 2532: Gravity=25.0, Length=1.0, Mass=1.0, Friction=0.5\n",
      "Episode 513: Gravity=25.0, Length=1.0, Mass=1.0, Friction=0.5\n",
      "Episode 514: Gravity=25.0, Length=1.0, Mass=1.0, Friction=0.5\n",
      "Episode 515: Gravity=25.0, Length=1.0, Mass=1.0, Friction=0.5\n",
      "Episode 516: Gravity=25.0, Length=1.0, Mass=1.0, Friction=0.5\n",
      "Episode 517: Gravity=25.0, Length=1.0, Mass=1.0, Friction=0.5\n",
      "Episode 518: Gravity=25.0, Length=1.0, Mass=1.0, Friction=0.5\n",
      "Episode 519: Gravity=25.0, Length=1.0, Mass=1.0, Friction=0.5\n",
      "Episode 520: Gravity=25.0, Length=1.0, Mass=1.0, Friction=0.5\n",
      "Episode 521: Gravity=25.0, Length=1.0, Mass=1.0, Friction=0.5\n",
      "Episode 522: Gravity=25.0, Length=1.0, Mass=1.0, Friction=0.5\n",
      "Episode 523: Gravity=25.0, Length=1.0, Mass=1.0, Friction=0.5\n",
      "Episode 524: Gravity=25.0, Length=1.0, Mass=1.0, Friction=0.5\n",
      "Episode 525: Gravity=25.0, Length=1.0, Mass=1.0, Friction=0.5\n",
      "Episode 526: Gravity=25.0, Length=1.0, Mass=1.0, Friction=0.5\n",
      "Episode 527: Gravity=25.0, Length=1.0, Mass=1.0, Friction=0.5\n",
      "Episode 528: Gravity=25.0, Length=1.0, Mass=1.0, Friction=0.5\n",
      "Episode 529: Gravity=25.0, Length=1.0, Mass=1.0, Friction=0.5\n",
      "Episode 530: Gravity=25.0, Length=1.0, Mass=1.0, Friction=0.5\n",
      "Episode 531: Gravity=25.0, Length=1.0, Mass=1.0, Friction=0.5\n",
      "Episode 532: Gravity=25.0, Length=1.0, Mass=1.0, Friction=0.5\n",
      "Episode 533: Gravity=25.0, Length=1.0, Mass=1.0, Friction=0.5\n",
      "Episode 534: Gravity=25.0, Length=1.0, Mass=1.0, Friction=0.5\n",
      "Episode 535: Gravity=25.0, Length=1.0, Mass=1.0, Friction=0.5\n",
      "Episode 536: Gravity=25.0, Length=1.0, Mass=1.0, Friction=0.5\n",
      "Episode 537: Gravity=25.0, Length=1.0, Mass=1.0, Friction=0.5\n",
      "Episode 538: Gravity=25.0, Length=1.0, Mass=1.0, Friction=0.5\n",
      "Episode 539: Gravity=25.0, Length=1.0, Mass=1.0, Friction=0.5\n",
      "Episode 540: Gravity=25.0, Length=1.0, Mass=1.0, Friction=0.5\n",
      "Episode 541: Gravity=25.0, Length=1.0, Mass=1.0, Friction=0.5\n",
      "Episode 542: Gravity=25.0, Length=1.0, Mass=1.0, Friction=0.5\n",
      "Episode 543: Gravity=25.0, Length=1.0, Mass=1.0, Friction=0.5\n",
      "Episode 544: Gravity=25.0, Length=1.0, Mass=1.0, Friction=0.5\n",
      "Episode 545: Gravity=25.0, Length=1.0, Mass=1.0, Friction=0.5\n",
      "Episode 546: Gravity=25.0, Length=1.0, Mass=1.0, Friction=0.5\n",
      "Episode 547: Gravity=25.0, Length=1.0, Mass=1.0, Friction=0.5\n",
      "Episode 548: Gravity=25.0, Length=1.0, Mass=1.0, Friction=0.5\n",
      "Episode 549: Gravity=25.0, Length=1.0, Mass=1.0, Friction=0.5\n",
      "Episode 550: Gravity=25.0, Length=1.0, Mass=1.0, Friction=0.5\n",
      "Episode 551: Gravity=25.0, Length=1.0, Mass=1.0, Friction=0.5\n",
      "Episode 552: Gravity=25.0, Length=1.0, Mass=1.0, Friction=0.5\n",
      "Episode 553: Gravity=25.0, Length=1.0, Mass=1.0, Friction=0.5\n",
      "Episode 554: Gravity=25.0, Length=1.0, Mass=1.0, Friction=0.5\n",
      "Episode 555: Gravity=25.0, Length=1.0, Mass=1.0, Friction=0.5\n",
      "Episode 556: Gravity=25.0, Length=1.0, Mass=1.0, Friction=0.5\n",
      "Episode 557: Gravity=25.0, Length=1.0, Mass=1.0, Friction=0.5\n",
      "Episode 558: Gravity=25.0, Length=1.0, Mass=1.0, Friction=0.5\n",
      "Episode 559: Gravity=25.0, Length=1.0, Mass=1.0, Friction=0.5\n",
      "Episode 560: Gravity=25.0, Length=1.0, Mass=1.0, Friction=0.5\n",
      "Episode 561: Gravity=25.0, Length=1.0, Mass=1.0, Friction=0.5\n",
      "Episode 562: Gravity=25.0, Length=1.0, Mass=1.0, Friction=0.5\n",
      "Episode 563: Gravity=25.0, Length=1.0, Mass=1.0, Friction=0.5\n",
      "Episode 564: Gravity=25.0, Length=1.0, Mass=1.0, Friction=0.5\n",
      "Episode 565: Gravity=25.0, Length=1.0, Mass=1.0, Friction=0.5\n",
      "Episode 566: Gravity=25.0, Length=1.0, Mass=1.0, Friction=0.5\n",
      "Episode 567: Gravity=25.0, Length=1.0, Mass=1.0, Friction=0.5\n",
      "Episode 568: Gravity=25.0, Length=1.0, Mass=1.0, Friction=0.5\n",
      "Episode 569: Gravity=25.0, Length=1.0, Mass=1.0, Friction=0.5\n",
      "Episode 570: Gravity=25.0, Length=1.0, Mass=1.0, Friction=0.5\n",
      "Episode 571: Gravity=25.0, Length=1.0, Mass=1.0, Friction=0.5\n",
      "Episode 572: Gravity=25.0, Length=1.0, Mass=1.0, Friction=0.5\n",
      "Episode 573: Gravity=25.0, Length=1.0, Mass=1.0, Friction=0.5\n",
      "Episode 574: Gravity=25.0, Length=1.0, Mass=1.0, Friction=0.5\n",
      "Episode 575: Gravity=25.0, Length=1.0, Mass=1.0, Friction=0.5\n",
      "Episode 576: Gravity=25.0, Length=1.0, Mass=1.0, Friction=0.5\n",
      "Episode 577: Gravity=25.0, Length=1.0, Mass=1.0, Friction=0.5\n",
      "Episode 578: Gravity=25.0, Length=1.0, Mass=1.0, Friction=0.5\n",
      "Episode 579: Gravity=25.0, Length=1.0, Mass=1.0, Friction=0.5\n",
      "Episode 580: Gravity=25.0, Length=1.0, Mass=1.0, Friction=0.5\n",
      "Episode 581: Gravity=25.0, Length=1.0, Mass=1.0, Friction=0.5\n",
      "Episode 582: Gravity=25.0, Length=1.0, Mass=1.0, Friction=0.5\n",
      "Episode 583: Gravity=25.0, Length=1.0, Mass=1.0, Friction=0.5\n",
      "Episode 584: Gravity=25.0, Length=1.0, Mass=1.0, Friction=0.5\n",
      "Episode 585: Gravity=25.0, Length=1.0, Mass=1.0, Friction=0.5\n",
      "Episode 586: Gravity=25.0, Length=1.0, Mass=1.0, Friction=0.5\n",
      "Episode 587: Gravity=25.0, Length=1.0, Mass=1.0, Friction=0.5\n",
      "Episode 588: Gravity=25.0, Length=1.0, Mass=1.0, Friction=0.5\n",
      "Episode 589: Gravity=25.0, Length=1.0, Mass=1.0, Friction=0.5\n",
      "Episode 590: Gravity=25.0, Length=1.0, Mass=1.0, Friction=0.5\n",
      "Episode 591: Gravity=25.0, Length=1.0, Mass=1.0, Friction=0.5\n",
      "Episode 592: Gravity=25.0, Length=1.0, Mass=1.0, Friction=0.5\n",
      "Episode 593: Gravity=25.0, Length=1.0, Mass=1.0, Friction=0.5\n",
      "Episode 594: Gravity=25.0, Length=1.0, Mass=1.0, Friction=0.5\n",
      "Episode 595: Gravity=25.0, Length=1.0, Mass=1.0, Friction=0.5\n",
      "Episode 596: Gravity=25.0, Length=1.0, Mass=1.0, Friction=0.5\n",
      "Episode 597: Gravity=25.0, Length=1.0, Mass=1.0, Friction=0.5\n",
      "Episode 598: Gravity=25.0, Length=1.0, Mass=1.0, Friction=0.5\n",
      "Episode 599: Gravity=25.0, Length=1.0, Mass=1.0, Friction=0.5\n",
      "Episode 600: Gravity=25.0, Length=1.0, Mass=1.0, Friction=0.5\n",
      "Episode 601: Gravity=25.0, Length=1.0, Mass=1.0, Friction=0.5\n",
      "Episode 602: Gravity=25.0, Length=1.0, Mass=1.0, Friction=0.5\n",
      "Episode 603: Gravity=25.0, Length=1.0, Mass=1.0, Friction=0.5\n",
      "Episode 604: Gravity=25.0, Length=1.0, Mass=1.0, Friction=0.5\n",
      "Episode 605: Gravity=25.0, Length=1.0, Mass=1.0, Friction=0.5\n",
      "Episode 606: Gravity=25.0, Length=1.0, Mass=1.0, Friction=0.5\n",
      "Episode 607: Gravity=25.0, Length=1.0, Mass=1.0, Friction=0.5\n",
      "Episode 608: Gravity=25.0, Length=1.0, Mass=1.0, Friction=0.5\n",
      "Episode 609: Gravity=25.0, Length=1.0, Mass=1.0, Friction=0.5\n",
      "Episode 610: Gravity=25.0, Length=1.0, Mass=1.0, Friction=0.5\n",
      "Episode 611: Gravity=25.0, Length=1.0, Mass=1.0, Friction=0.5\n",
      "Episode 612: Gravity=25.0, Length=1.0, Mass=1.0, Friction=0.5\n",
      "Episode 613: Gravity=25.0, Length=1.0, Mass=1.0, Friction=0.5\n",
      "Episode 614: Gravity=25.0, Length=1.0, Mass=1.0, Friction=0.5\n",
      "Epoch #4: test_reward: 115.450000 ± 6.428647, best_reward: 115.450000 ± 6.428647 in #4\n"
     ]
    },
    {
     "name": "stderr",
     "output_type": "stream",
     "text": [
      "Epoch #5:   2%|2         | 240/10000 [00:00<00:07, 1314.22it/s, env_step=40240, gradient_step=4024, len=105, n/ep=0, n/st=10, rew=105.00]"
     ]
    },
    {
     "name": "stdout",
     "output_type": "stream",
     "text": [
      "Episode 2533: Gravity=25.0, Length=1.0, Mass=1.0, Friction=0.5\n",
      "Episode 2534: Gravity=25.0, Length=1.0, Mass=1.0, Friction=0.5\n"
     ]
    },
    {
     "name": "stderr",
     "output_type": "stream",
     "text": [
      "Epoch #5:   3%|3         | 320/10000 [00:00<00:07, 1256.67it/s, env_step=40320, gradient_step=4032, len=97, n/ep=0, n/st=10, rew=97.00]  "
     ]
    },
    {
     "name": "stdout",
     "output_type": "stream",
     "text": [
      "Episode 2535: Gravity=25.0, Length=1.0, Mass=1.0, Friction=0.5\n"
     ]
    },
    {
     "name": "stderr",
     "output_type": "stream",
     "text": [
      "Epoch #5:   5%|5         | 520/10000 [00:00<00:07, 1227.17it/s, env_step=40520, gradient_step=4052, len=28, n/ep=0, n/st=10, rew=28.00]  "
     ]
    },
    {
     "name": "stdout",
     "output_type": "stream",
     "text": [
      "Episode 2536: Gravity=25.0, Length=1.0, Mass=1.0, Friction=0.5\n",
      "Episode 2537: Gravity=25.0, Length=1.0, Mass=1.0, Friction=0.5\n"
     ]
    },
    {
     "name": "stderr",
     "output_type": "stream",
     "text": [
      "Epoch #5:   6%|6         | 630/10000 [00:00<00:07, 1216.79it/s, env_step=40630, gradient_step=4063, len=114, n/ep=0, n/st=10, rew=114.00]"
     ]
    },
    {
     "name": "stdout",
     "output_type": "stream",
     "text": [
      "Episode 2538: Gravity=25.0, Length=1.0, Mass=1.0, Friction=0.5\n"
     ]
    },
    {
     "name": "stderr",
     "output_type": "stream",
     "text": [
      "Epoch #5:   8%|7         | 770/10000 [00:00<00:07, 1213.62it/s, env_step=40770, gradient_step=4077, len=120, n/ep=0, n/st=10, rew=120.00]"
     ]
    },
    {
     "name": "stdout",
     "output_type": "stream",
     "text": [
      "Episode 2539: Gravity=25.0, Length=1.0, Mass=1.0, Friction=0.5\n",
      "Episode 2540: Gravity=25.0, Length=1.0, Mass=1.0, Friction=0.5\n"
     ]
    },
    {
     "name": "stderr",
     "output_type": "stream",
     "text": [
      "Epoch #5:   9%|8         | 890/10000 [00:00<00:07, 1217.31it/s, env_step=40890, gradient_step=4089, len=93, n/ep=0, n/st=10, rew=93.00]  "
     ]
    },
    {
     "name": "stdout",
     "output_type": "stream",
     "text": [
      "Episode 2541: Gravity=25.0, Length=1.0, Mass=1.0, Friction=0.5\n"
     ]
    },
    {
     "name": "stderr",
     "output_type": "stream",
     "text": [
      "Epoch #5:  11%|#         | 1080/10000 [00:00<00:07, 1173.96it/s, env_step=41080, gradient_step=4108, len=100, n/ep=0, n/st=10, rew=100.00]"
     ]
    },
    {
     "name": "stdout",
     "output_type": "stream",
     "text": [
      "Episode 2542: Gravity=25.0, Length=1.0, Mass=1.0, Friction=0.5\n"
     ]
    },
    {
     "name": "stderr",
     "output_type": "stream",
     "text": [
      "Epoch #5:  16%|#6        | 1640/10000 [00:01<00:06, 1207.23it/s, env_step=41640, gradient_step=4164, len=431, n/ep=0, n/st=10, rew=431.00]"
     ]
    },
    {
     "name": "stdout",
     "output_type": "stream",
     "text": [
      "Episode 2543: Gravity=25.0, Length=1.0, Mass=1.0, Friction=0.5\n"
     ]
    },
    {
     "name": "stderr",
     "output_type": "stream",
     "text": [
      "Epoch #5:  19%|#8        | 1890/10000 [00:01<00:06, 1204.26it/s, env_step=41890, gradient_step=4189, len=431, n/ep=0, n/st=10, rew=431.00]"
     ]
    },
    {
     "name": "stdout",
     "output_type": "stream",
     "text": [
      "Episode 2544: Gravity=25.0, Length=1.0, Mass=1.0, Friction=0.5\n",
      "Episode 615: Gravity=25.0, Length=1.0, Mass=1.0, Friction=0.5\n",
      "Episode 616: Gravity=25.0, Length=1.0, Mass=1.0, Friction=0.5\n",
      "Episode 617: Gravity=25.0, Length=1.0, Mass=1.0, Friction=0.5\n",
      "Episode 618: Gravity=25.0, Length=1.0, Mass=1.0, Friction=0.5\n",
      "Episode 619: Gravity=25.0, Length=1.0, Mass=1.0, Friction=0.5\n",
      "Episode 620: Gravity=25.0, Length=1.0, Mass=1.0, Friction=0.5\n",
      "Episode 621: Gravity=25.0, Length=1.0, Mass=1.0, Friction=0.5\n",
      "Episode 622: Gravity=25.0, Length=1.0, Mass=1.0, Friction=0.5\n",
      "Episode 623: Gravity=25.0, Length=1.0, Mass=1.0, Friction=0.5\n",
      "Episode 624: Gravity=25.0, Length=1.0, Mass=1.0, Friction=0.5\n",
      "Episode 625: Gravity=25.0, Length=1.0, Mass=1.0, Friction=0.5\n",
      "Episode 626: Gravity=25.0, Length=1.0, Mass=1.0, Friction=0.5\n",
      "Episode 627: Gravity=25.0, Length=1.0, Mass=1.0, Friction=0.5\n",
      "Episode 628: Gravity=25.0, Length=1.0, Mass=1.0, Friction=0.5\n",
      "Episode 629: Gravity=25.0, Length=1.0, Mass=1.0, Friction=0.5\n",
      "Episode 630: Gravity=25.0, Length=1.0, Mass=1.0, Friction=0.5\n",
      "Episode 631: Gravity=25.0, Length=1.0, Mass=1.0, Friction=0.5\n",
      "Episode 632: Gravity=25.0, Length=1.0, Mass=1.0, Friction=0.5\n",
      "Episode 633: Gravity=25.0, Length=1.0, Mass=1.0, Friction=0.5\n",
      "Episode 634: Gravity=25.0, Length=1.0, Mass=1.0, Friction=0.5\n",
      "Episode 635: Gravity=25.0, Length=1.0, Mass=1.0, Friction=0.5\n",
      "Episode 636: Gravity=25.0, Length=1.0, Mass=1.0, Friction=0.5\n",
      "Episode 637: Gravity=25.0, Length=1.0, Mass=1.0, Friction=0.5\n",
      "Episode 638: Gravity=25.0, Length=1.0, Mass=1.0, Friction=0.5\n",
      "Episode 639: Gravity=25.0, Length=1.0, Mass=1.0, Friction=0.5\n",
      "Episode 640: Gravity=25.0, Length=1.0, Mass=1.0, Friction=0.5\n",
      "Episode 641: Gravity=25.0, Length=1.0, Mass=1.0, Friction=0.5\n",
      "Episode 642: Gravity=25.0, Length=1.0, Mass=1.0, Friction=0.5\n",
      "Episode 643: Gravity=25.0, Length=1.0, Mass=1.0, Friction=0.5\n",
      "Episode 644: Gravity=25.0, Length=1.0, Mass=1.0, Friction=0.5\n",
      "Episode 645: Gravity=25.0, Length=1.0, Mass=1.0, Friction=0.5\n",
      "Episode 646: Gravity=25.0, Length=1.0, Mass=1.0, Friction=0.5\n",
      "Episode 647: Gravity=25.0, Length=1.0, Mass=1.0, Friction=0.5\n",
      "Episode 648: Gravity=25.0, Length=1.0, Mass=1.0, Friction=0.5\n",
      "Episode 649: Gravity=25.0, Length=1.0, Mass=1.0, Friction=0.5\n",
      "Episode 650: Gravity=25.0, Length=1.0, Mass=1.0, Friction=0.5\n",
      "Episode 651: Gravity=25.0, Length=1.0, Mass=1.0, Friction=0.5\n",
      "Episode 652: Gravity=25.0, Length=1.0, Mass=1.0, Friction=0.5\n",
      "Episode 653: Gravity=25.0, Length=1.0, Mass=1.0, Friction=0.5\n",
      "Episode 654: Gravity=25.0, Length=1.0, Mass=1.0, Friction=0.5\n",
      "Episode 655: Gravity=25.0, Length=1.0, Mass=1.0, Friction=0.5\n",
      "Episode 656: Gravity=25.0, Length=1.0, Mass=1.0, Friction=0.5\n",
      "Episode 657: Gravity=25.0, Length=1.0, Mass=1.0, Friction=0.5\n",
      "Episode 658: Gravity=25.0, Length=1.0, Mass=1.0, Friction=0.5\n",
      "Episode 659: Gravity=25.0, Length=1.0, Mass=1.0, Friction=0.5\n",
      "Episode 660: Gravity=25.0, Length=1.0, Mass=1.0, Friction=0.5\n",
      "Episode 661: Gravity=25.0, Length=1.0, Mass=1.0, Friction=0.5\n",
      "Episode 662: Gravity=25.0, Length=1.0, Mass=1.0, Friction=0.5\n",
      "Episode 663: Gravity=25.0, Length=1.0, Mass=1.0, Friction=0.5\n",
      "Episode 664: Gravity=25.0, Length=1.0, Mass=1.0, Friction=0.5\n",
      "Episode 665: Gravity=25.0, Length=1.0, Mass=1.0, Friction=0.5\n",
      "Episode 666: Gravity=25.0, Length=1.0, Mass=1.0, Friction=0.5\n",
      "Episode 667: Gravity=25.0, Length=1.0, Mass=1.0, Friction=0.5\n",
      "Episode 668: Gravity=25.0, Length=1.0, Mass=1.0, Friction=0.5\n",
      "Episode 669: Gravity=25.0, Length=1.0, Mass=1.0, Friction=0.5\n",
      "Episode 670: Gravity=25.0, Length=1.0, Mass=1.0, Friction=0.5\n",
      "Episode 671: Gravity=25.0, Length=1.0, Mass=1.0, Friction=0.5\n",
      "Episode 672: Gravity=25.0, Length=1.0, Mass=1.0, Friction=0.5\n",
      "Episode 673: Gravity=25.0, Length=1.0, Mass=1.0, Friction=0.5\n",
      "Episode 674: Gravity=25.0, Length=1.0, Mass=1.0, Friction=0.5\n",
      "Episode 675: Gravity=25.0, Length=1.0, Mass=1.0, Friction=0.5\n",
      "Episode 676: Gravity=25.0, Length=1.0, Mass=1.0, Friction=0.5\n",
      "Episode 677: Gravity=25.0, Length=1.0, Mass=1.0, Friction=0.5\n",
      "Episode 678: Gravity=25.0, Length=1.0, Mass=1.0, Friction=0.5\n",
      "Episode 679: Gravity=25.0, Length=1.0, Mass=1.0, Friction=0.5\n",
      "Episode 680: Gravity=25.0, Length=1.0, Mass=1.0, Friction=0.5\n",
      "Episode 681: Gravity=25.0, Length=1.0, Mass=1.0, Friction=0.5\n",
      "Episode 682: Gravity=25.0, Length=1.0, Mass=1.0, Friction=0.5\n",
      "Episode 683: Gravity=25.0, Length=1.0, Mass=1.0, Friction=0.5\n",
      "Episode 684: Gravity=25.0, Length=1.0, Mass=1.0, Friction=0.5\n",
      "Episode 685: Gravity=25.0, Length=1.0, Mass=1.0, Friction=0.5\n",
      "Episode 686: Gravity=25.0, Length=1.0, Mass=1.0, Friction=0.5\n",
      "Episode 687: Gravity=25.0, Length=1.0, Mass=1.0, Friction=0.5\n",
      "Episode 688: Gravity=25.0, Length=1.0, Mass=1.0, Friction=0.5\n",
      "Episode 689: Gravity=25.0, Length=1.0, Mass=1.0, Friction=0.5\n",
      "Episode 690: Gravity=25.0, Length=1.0, Mass=1.0, Friction=0.5\n",
      "Episode 691: Gravity=25.0, Length=1.0, Mass=1.0, Friction=0.5\n",
      "Episode 692: Gravity=25.0, Length=1.0, Mass=1.0, Friction=0.5\n",
      "Episode 693: Gravity=25.0, Length=1.0, Mass=1.0, Friction=0.5\n",
      "Episode 694: Gravity=25.0, Length=1.0, Mass=1.0, Friction=0.5\n",
      "Episode 695: Gravity=25.0, Length=1.0, Mass=1.0, Friction=0.5\n",
      "Episode 696: Gravity=25.0, Length=1.0, Mass=1.0, Friction=0.5\n",
      "Episode 697: Gravity=25.0, Length=1.0, Mass=1.0, Friction=0.5\n",
      "Episode 698: Gravity=25.0, Length=1.0, Mass=1.0, Friction=0.5\n",
      "Episode 699: Gravity=25.0, Length=1.0, Mass=1.0, Friction=0.5\n",
      "Episode 700: Gravity=25.0, Length=1.0, Mass=1.0, Friction=0.5\n",
      "Episode 701: Gravity=25.0, Length=1.0, Mass=1.0, Friction=0.5\n",
      "Episode 702: Gravity=25.0, Length=1.0, Mass=1.0, Friction=0.5\n",
      "Episode 703: Gravity=25.0, Length=1.0, Mass=1.0, Friction=0.5\n",
      "Episode 704: Gravity=25.0, Length=1.0, Mass=1.0, Friction=0.5\n",
      "Episode 705: Gravity=25.0, Length=1.0, Mass=1.0, Friction=0.5\n",
      "Episode 706: Gravity=25.0, Length=1.0, Mass=1.0, Friction=0.5\n",
      "Episode 707: Gravity=25.0, Length=1.0, Mass=1.0, Friction=0.5\n",
      "Episode 708: Gravity=25.0, Length=1.0, Mass=1.0, Friction=0.5\n",
      "Episode 709: Gravity=25.0, Length=1.0, Mass=1.0, Friction=0.5\n",
      "Episode 710: Gravity=25.0, Length=1.0, Mass=1.0, Friction=0.5\n",
      "Episode 711: Gravity=25.0, Length=1.0, Mass=1.0, Friction=0.5\n",
      "Episode 712: Gravity=25.0, Length=1.0, Mass=1.0, Friction=0.5\n",
      "Episode 713: Gravity=25.0, Length=1.0, Mass=1.0, Friction=0.5\n",
      "Episode 714: Gravity=25.0, Length=1.0, Mass=1.0, Friction=0.5\n"
     ]
    },
    {
     "name": "stderr",
     "output_type": "stream",
     "text": [
      "Epoch #5:  19%|#9        | 1900/10000 [00:14<01:02, 129.95it/s, env_step=41900, gradient_step=4189, len=500, n/ep=1, n/st=10, rew=500.00] "
     ]
    },
    {
     "name": "stdout",
     "output_type": "stream",
     "text": [
      "Episode 715: Gravity=25.0, Length=1.0, Mass=1.0, Friction=0.5\n",
      "Episode 716: Gravity=25.0, Length=1.0, Mass=1.0, Friction=0.5\n",
      "New best model saved with mean reward: 500.0\n"
     ]
    },
    {
     "name": "stderr",
     "output_type": "stream",
     "text": [
      "\n"
     ]
    }
   ],
   "source": [
    "import numpy as np\n",
    "\n",
    "class DynamicCartPoleWrapper(gym.Wrapper):\n",
    "    def __init__(self, env, gravity_range=(5.0, 25.0), length_range=(0.2, 1.0), mass_range=(0.05, 1.0), friction_range=(0.0, 0.5)):\n",
    "        super().__init__(env)\n",
    "        self.gravity_range = gravity_range\n",
    "        self.length_range = length_range\n",
    "        self.mass_range = mass_range\n",
    "        self.friction_range = friction_range\n",
    "        self.episode_count = 0  # Track episodes\n",
    "\n",
    "    def reset(self, **kwargs):\n",
    "        self.episode_count += 1  # Increment episode count\n",
    "\n",
    "        # Gradually shift physics conditions over time\n",
    "        new_gravity = np.interp(self.episode_count, [0, 500], self.gravity_range)  # Gradually change gravity\n",
    "        new_length = np.interp(self.episode_count, [0, 500], self.length_range)  # Change pole length\n",
    "        new_mass = np.interp(self.episode_count, [0, 500], self.mass_range)  # Change pole mass\n",
    "        new_friction = np.interp(self.episode_count, [0, 500], self.friction_range)  # Change friction\n",
    "\n",
    "        # Apply new parameters\n",
    "        self.env.env.gravity = new_gravity\n",
    "        self.env.env.length = new_length\n",
    "        self.env.env.masspole = new_mass\n",
    "        self.env.env.force_mag = 10.0 * (new_mass / 0.1)  # Scale force with mass to balance difficulty\n",
    "        self.env.env.friction = new_friction\n",
    "\n",
    "        print(f\"Episode {self.episode_count}: Gravity={new_gravity}, Length={new_length}, Mass={new_mass}, Friction={new_friction}\")\n",
    "\n",
    "        return self.env.reset(**kwargs)\n",
    "\n",
    "env_name = \"CartPole-v1\"\n",
    "base_env = gym.make(env_name)\n",
    "train_env = DynamicCartPoleWrapper(base_env)\n",
    "\n",
    "test_env = DynamicCartPoleWrapper(gym.make(env_name))  # Use same variations for testing\n",
    "\n",
    "train_collector = ts.data.Collector(\n",
    "    policy, train_env, ts.data.VectorReplayBuffer(20000, 1), exploration_noise=True\n",
    ")\n",
    "test_collector = ts.data.Collector(policy, test_env, exploration_noise=True)\n",
    "\n",
    "# Load the pre-trained model from Code Block 1 \n",
    "policy.load_state_dict(torch.load('models/cbp_dqn.pth')) \n",
    "policy.eval()\n",
    "\n",
    "best_mean_reward = -np.inf \n",
    "\n",
    "def save_best_model(mean_rewards):\n",
    "    global best_mean_reward\n",
    "    if mean_rewards > best_mean_reward:\n",
    "        best_mean_reward = mean_rewards\n",
    "        torch.save(policy.state_dict(), 'models/cbp_dqn_v1_alternate_metrics.pth')\n",
    "        print(f\"New best model saved with mean reward: {best_mean_reward}\")\n",
    "\n",
    "# Train the model while CBP adapts to the changing environment\n",
    "result = ts.trainer.OffpolicyTrainer(\n",
    "    policy=policy,\n",
    "    train_collector=train_collector,\n",
    "    test_collector=test_collector,\n",
    "    max_epoch=30,\n",
    "    step_per_epoch=10000,\n",
    "    step_per_collect=10,\n",
    "    episode_per_test=100,\n",
    "    batch_size=64,\n",
    "    update_per_step=1 / 10,\n",
    "    train_fn=lambda epoch, env_step: policy.set_eps(0.1),\n",
    "    test_fn=lambda epoch, env_step: policy.set_eps(0.05),\n",
    "    stop_fn=lambda mean_rewards: mean_rewards >= train_env.spec.reward_threshold,\n",
    "    logger=ts.utils.TensorboardLogger(SummaryWriter(\"logs/cbp_dynamic_cartpole\")),\n",
    ").run()\n",
    "\n",
    "save_best_model(result.best_reward)"
   ]
  },
  {
   "cell_type": "markdown",
   "metadata": {},
   "source": [
    "2. More Complex or Noisy CartPole Variants  \n",
    "To evaluate adaptation beyond gradual parameter shifts:  \n",
    "\n",
    "Noisy CartPole: Introduce small random perturbations to forces applied by the agent.  \n",
    "Windy CartPole: Apply lateral forces that vary over time.  \n",
    "Delayed-Action CartPole: Introduce a small delay between the agent’s action and its effect.  \n",
    "\n",
    "👉 Goal: Test CBP’s ability to handle unpredictability in dynamic environments."
   ]
  },
  {
   "cell_type": "code",
   "execution_count": 20,
   "metadata": {},
   "outputs": [
    {
     "name": "stderr",
     "output_type": "stream",
     "text": [
      "Epoch #1: 5001it [00:05, 834.83it/s, env_step=5000, gradient_step=500, len=10, n/ep=0, n/st=10, rew=10.00]                           \n"
     ]
    },
    {
     "name": "stdout",
     "output_type": "stream",
     "text": [
      "Epoch #1: test_reward: 26.900000 ± 16.579807, best_reward: 28.550000 ± 15.399594 in #0\n"
     ]
    },
    {
     "name": "stderr",
     "output_type": "stream",
     "text": [
      "Epoch #2: 5001it [00:05, 886.93it/s, env_step=10000, gradient_step=1000, len=14, n/ep=0, n/st=10, rew=14.00]                           \n"
     ]
    },
    {
     "name": "stdout",
     "output_type": "stream",
     "text": [
      "Epoch #2: test_reward: 17.350000 ± 6.215103, best_reward: 28.550000 ± 15.399594 in #0\n"
     ]
    },
    {
     "name": "stderr",
     "output_type": "stream",
     "text": [
      "Epoch #3: 5001it [00:04, 1055.23it/s, env_step=15000, gradient_step=1500, len=21, n/ep=1, n/st=10, rew=21.00]                          \n"
     ]
    },
    {
     "name": "stdout",
     "output_type": "stream",
     "text": [
      "Epoch #3: test_reward: 26.450000 ± 14.482662, best_reward: 28.550000 ± 15.399594 in #0\n"
     ]
    },
    {
     "name": "stderr",
     "output_type": "stream",
     "text": [
      "Epoch #4: 5001it [00:04, 1110.45it/s, env_step=20000, gradient_step=2000, len=23, n/ep=1, n/st=10, rew=23.00]                          \n"
     ]
    },
    {
     "name": "stdout",
     "output_type": "stream",
     "text": [
      "Epoch #4: test_reward: 26.750000 ± 15.329302, best_reward: 28.550000 ± 15.399594 in #0\n"
     ]
    },
    {
     "name": "stderr",
     "output_type": "stream",
     "text": [
      "Epoch #5: 5001it [00:04, 1121.74it/s, env_step=25000, gradient_step=2500, len=25, n/ep=0, n/st=10, rew=25.00]                          \n"
     ]
    },
    {
     "name": "stdout",
     "output_type": "stream",
     "text": [
      "Epoch #5: test_reward: 20.500000 ± 11.106305, best_reward: 28.550000 ± 15.399594 in #0\n"
     ]
    },
    {
     "name": "stderr",
     "output_type": "stream",
     "text": [
      "Epoch #6: 5001it [00:04, 1145.58it/s, env_step=30000, gradient_step=3000, len=11, n/ep=1, n/st=10, rew=11.00]                          \n"
     ]
    },
    {
     "name": "stdout",
     "output_type": "stream",
     "text": [
      "Epoch #6: test_reward: 20.800000 ± 9.917661, best_reward: 28.550000 ± 15.399594 in #0\n"
     ]
    },
    {
     "name": "stderr",
     "output_type": "stream",
     "text": [
      "Epoch #7: 5001it [00:05, 981.15it/s, env_step=35000, gradient_step=3500, len=56, n/ep=0, n/st=10, rew=56.00]                           \n"
     ]
    },
    {
     "name": "stdout",
     "output_type": "stream",
     "text": [
      "Epoch #7: test_reward: 18.600000 ± 8.157205, best_reward: 28.550000 ± 15.399594 in #0\n"
     ]
    },
    {
     "name": "stderr",
     "output_type": "stream",
     "text": [
      "Epoch #8: 5001it [00:05, 974.09it/s, env_step=40000, gradient_step=4000, len=9, n/ep=0, n/st=10, rew=9.00]                             \n"
     ]
    },
    {
     "name": "stdout",
     "output_type": "stream",
     "text": [
      "Epoch #8: test_reward: 29.100000 ± 16.492119, best_reward: 29.100000 ± 16.492119 in #8\n"
     ]
    },
    {
     "name": "stderr",
     "output_type": "stream",
     "text": [
      "Epoch #9: 5001it [00:04, 1037.24it/s, env_step=45000, gradient_step=4500, len=18, n/ep=0, n/st=10, rew=18.00]                          \n"
     ]
    },
    {
     "name": "stdout",
     "output_type": "stream",
     "text": [
      "Epoch #9: test_reward: 28.800000 ± 25.218247, best_reward: 29.100000 ± 16.492119 in #8\n"
     ]
    },
    {
     "name": "stderr",
     "output_type": "stream",
     "text": [
      "Epoch #10: 5001it [00:06, 777.00it/s, env_step=50000, gradient_step=5000, len=46, n/ep=0, n/st=10, rew=46.00]                           \n"
     ]
    },
    {
     "name": "stdout",
     "output_type": "stream",
     "text": [
      "Epoch #10: test_reward: 35.200000 ± 23.863361, best_reward: 35.200000 ± 23.863361 in #10\n"
     ]
    },
    {
     "name": "stderr",
     "output_type": "stream",
     "text": [
      "Epoch #11: 5001it [00:06, 738.24it/s, env_step=55000, gradient_step=5500, len=20, n/ep=1, n/st=10, rew=20.00]                          \n"
     ]
    },
    {
     "name": "stdout",
     "output_type": "stream",
     "text": [
      "Epoch #11: test_reward: 30.950000 ± 16.698727, best_reward: 35.200000 ± 23.863361 in #10\n"
     ]
    },
    {
     "name": "stderr",
     "output_type": "stream",
     "text": [
      "Epoch #12: 5001it [00:05, 833.99it/s, env_step=60000, gradient_step=6000, len=11, n/ep=1, n/st=10, rew=11.00]                            \n"
     ]
    },
    {
     "name": "stdout",
     "output_type": "stream",
     "text": [
      "Epoch #12: test_reward: 21.600000 ± 10.273266, best_reward: 35.200000 ± 23.863361 in #10\n"
     ]
    },
    {
     "name": "stderr",
     "output_type": "stream",
     "text": [
      "Epoch #13: 5001it [00:04, 1060.87it/s, env_step=65000, gradient_step=6500, len=33, n/ep=0, n/st=10, rew=33.00]                          \n"
     ]
    },
    {
     "name": "stdout",
     "output_type": "stream",
     "text": [
      "Epoch #13: test_reward: 25.100000 ± 13.318784, best_reward: 35.200000 ± 23.863361 in #10\n"
     ]
    },
    {
     "name": "stderr",
     "output_type": "stream",
     "text": [
      "Epoch #14: 5001it [00:05, 935.94it/s, env_step=70000, gradient_step=7000, len=23, n/ep=1, n/st=10, rew=23.00]                           \n"
     ]
    },
    {
     "name": "stdout",
     "output_type": "stream",
     "text": [
      "Epoch #14: test_reward: 18.500000 ± 8.879752, best_reward: 35.200000 ± 23.863361 in #10\n"
     ]
    },
    {
     "name": "stderr",
     "output_type": "stream",
     "text": [
      "Epoch #15: 5001it [00:05, 841.64it/s, env_step=75000, gradient_step=7500, len=25, n/ep=0, n/st=10, rew=25.00]                           \n"
     ]
    },
    {
     "name": "stdout",
     "output_type": "stream",
     "text": [
      "Epoch #15: test_reward: 20.250000 ± 12.053526, best_reward: 35.200000 ± 23.863361 in #10\n"
     ]
    },
    {
     "name": "stderr",
     "output_type": "stream",
     "text": [
      "Epoch #16: 5001it [00:06, 758.63it/s, env_step=80000, gradient_step=8000, len=18, n/ep=1, n/st=10, rew=18.00]                          \n"
     ]
    },
    {
     "name": "stdout",
     "output_type": "stream",
     "text": [
      "Epoch #16: test_reward: 18.400000 ± 6.740920, best_reward: 35.200000 ± 23.863361 in #10\n"
     ]
    },
    {
     "name": "stderr",
     "output_type": "stream",
     "text": [
      "Epoch #17: 5001it [00:06, 749.27it/s, env_step=85000, gradient_step=8500, len=12, n/ep=0, n/st=10, rew=12.00]                          \n"
     ]
    },
    {
     "name": "stdout",
     "output_type": "stream",
     "text": [
      "Epoch #17: test_reward: 21.800000 ± 7.131620, best_reward: 35.200000 ± 23.863361 in #10\n"
     ]
    },
    {
     "name": "stderr",
     "output_type": "stream",
     "text": [
      "Epoch #18: 5001it [00:05, 939.09it/s, env_step=90000, gradient_step=9000, len=19, n/ep=0, n/st=10, rew=19.00]                           \n"
     ]
    },
    {
     "name": "stdout",
     "output_type": "stream",
     "text": [
      "Epoch #18: test_reward: 21.050000 ± 14.729138, best_reward: 35.200000 ± 23.863361 in #10\n"
     ]
    },
    {
     "name": "stderr",
     "output_type": "stream",
     "text": [
      "Epoch #19: 5001it [00:05, 877.81it/s, env_step=95000, gradient_step=9500, len=13, n/ep=0, n/st=10, rew=13.00]                            \n"
     ]
    },
    {
     "name": "stdout",
     "output_type": "stream",
     "text": [
      "Epoch #19: test_reward: 18.950000 ± 5.295989, best_reward: 35.200000 ± 23.863361 in #10\n"
     ]
    },
    {
     "name": "stderr",
     "output_type": "stream",
     "text": [
      "Epoch #20: 5001it [00:05, 889.17it/s, env_step=100000, gradient_step=10000, len=21, n/ep=0, n/st=10, rew=21.00]                          \n"
     ]
    },
    {
     "name": "stdout",
     "output_type": "stream",
     "text": [
      "Epoch #20: test_reward: 36.000000 ± 19.997500, best_reward: 36.000000 ± 19.997500 in #20\n",
      "Finished training in 114.2482488155365 seconds\n",
      "New best model saved with mean reward: 36.0\n"
     ]
    }
   ],
   "source": [
    "import numpy as np\n",
    "\n",
    "class NoisyCartPoleWrapper(gym.Wrapper):\n",
    "    def __init__(self, env, noise_std=0.1):\n",
    "        super().__init__(env)\n",
    "        self.noise_std = noise_std  # Standard deviation of noise\n",
    "\n",
    "    def step(self, action):\n",
    "        noisy_action = action + np.random.normal(0, self.noise_std)  # Add Gaussian noise\n",
    "        noisy_action = np.clip(noisy_action, 0, 1)  # Ensure action remains valid\n",
    "        return self.env.step(int(noisy_action))  # Convert back to integer action\n",
    "\n",
    "\n",
    "class WindyCartPoleWrapper(gym.Wrapper):\n",
    "    def __init__(self, env, wind_max=5.0, wind_change_prob=0.1):\n",
    "        super().__init__(env)\n",
    "        self.wind_max = wind_max  # Max lateral force\n",
    "        self.wind_force = 0\n",
    "        self.wind_change_prob = wind_change_prob  # Probability of wind change per step\n",
    "\n",
    "    def step(self, action):\n",
    "        # Occasionally change wind force\n",
    "        if np.random.rand() < self.wind_change_prob:\n",
    "            self.wind_force = np.random.uniform(-self.wind_max, self.wind_max)\n",
    "\n",
    "        # Get the step results\n",
    "        obs, reward, terminated, truncated, info = self.env.step(action)\n",
    "        \n",
    "        # Apply wind effect by modifying the observation directly\n",
    "        # CartPole observation: [position, velocity, pole_angle, pole_angular_velocity]\n",
    "        obs[1] += self.wind_force * 0.01  # Modify cart velocity in the observation\n",
    "        \n",
    "        # Update the environment's state array\n",
    "        self.env.unwrapped.state = obs.copy()\n",
    "\n",
    "        return obs, reward, terminated, truncated, info\n",
    "\n",
    "from collections import deque\n",
    "\n",
    "class DelayedActionCartPoleWrapper(gym.Wrapper):\n",
    "    def __init__(self, env, delay_steps=3):\n",
    "        super().__init__(env)\n",
    "        self.delay_steps = delay_steps  # How many steps before action takes effect\n",
    "        self.action_queue = deque([0] * delay_steps, maxlen=delay_steps)  # Store past actions\n",
    "\n",
    "    def step(self, action):\n",
    "        self.action_queue.append(action)  # Queue the new action\n",
    "        delayed_action = self.action_queue.popleft()  # Use delayed action\n",
    "        return self.env.step(delayed_action)  # Will automatically pass through all 5 values\n",
    "\n",
    "train_env = WindyCartPoleWrapper(NoisyCartPoleWrapper(DelayedActionCartPoleWrapper(gym.make(\"CartPole-v1\"))))\n",
    "test_env = WindyCartPoleWrapper(NoisyCartPoleWrapper(DelayedActionCartPoleWrapper(gym.make(\"CartPole-v1\"))))\n",
    "\n",
    "# policy.load_state_dict(torch.load('models/cbp_dqn_adapted_v1.pth')) # Should change name to cbp_dqn_adapted_v1.pth, but haven't\n",
    "policy.load_state_dict(torch.load('models/cbp_dqn_v1_alternate_metrics.pth'))\n",
    "policy.train()\n",
    "policy.set_eps(0.1)  # Start with exploration\n",
    "\n",
    "best_mean_reward = -np.inf\n",
    "\n",
    "def save_best_model(mean_rewards):\n",
    "    global best_mean_reward\n",
    "    if mean_rewards > best_mean_reward:\n",
    "        best_mean_reward = mean_rewards\n",
    "        torch.save(policy.state_dict(), 'models/cbp_dqn_final_adapted_v2.pth')\n",
    "        print(f\"New best model saved with mean reward: {best_mean_reward}\")\n",
    "\n",
    "result = ts.trainer.OffpolicyTrainer(\n",
    "    policy=policy,\n",
    "    train_collector=ts.data.Collector(policy, train_env, ts.data.VectorReplayBuffer(20000, 1), exploration_noise=True),\n",
    "    test_collector=ts.data.Collector(policy, test_env, exploration_noise=True),\n",
    "    max_epoch=20,\n",
    "    step_per_epoch=5000,\n",
    "    step_per_collect=10,\n",
    "    episode_per_test=20,\n",
    "    batch_size=64,\n",
    "    update_per_step=1 / 10,\n",
    "    train_fn=lambda epoch, env_step: policy.set_eps(max(0.1, 0.5 - epoch * 0.05)),\n",
    "    test_fn=lambda epoch, env_step: policy.set_eps(0.05),\n",
    "    stop_fn=lambda mean_rewards: mean_rewards >= train_env.spec.reward_threshold,\n",
    "    logger=ts.utils.TensorboardLogger(SummaryWriter(\"logs/cbp_windy_noisy_delayed\")),\n",
    ").run()\n",
    "\n",
    "print(f\"Finished training in {result.timing.total_time} seconds\")\n",
    "save_best_model(result.best_reward)"
   ]
  },
  {
   "cell_type": "markdown",
   "metadata": {},
   "source": [
    "# Changes to improve  \n",
    "1️⃣ NoisyCartPoleWrapper\n",
    "\n",
    "✅ Correct Approach: Adds Gaussian noise to the action.  \n",
    "⚠ Issue:  \n",
    "\n",
    "The action in CartPole-v1 is discrete (0 or 1), but noisy_action becomes continuous due to np.random.normal().  \n",
    "Clipping (np.clip(noisy_action, 0, 1)) does not correctly map back to {0,1}.  \n",
    "Fix: Instead of directly adding noise to a discrete action, use probability flipping:  \n",
    "\n",
    "def step(self, action):  \n",
    "    if np.random.rand() < self.noise_std:  # With probability `noise_std`, flip action  \n",
    "        action = 1 - action  \n",
    "    return self.env.step(action)  \n",
    "👉 This ensures actions remain 0 or 1 while still introducing randomness.  \n",
    "\n",
    "2️⃣ WindyCartPoleWrapper\n",
    "\n",
    "✅ Correct Approach: Applies wind as a force that changes over time.  \n",
    "⚠ Issue:  \n",
    "\n",
    "Modifying obs[1] (cart velocity) directly does not actually apply force to the environment; it only changes the observation.  \n",
    "The true physics of CartPole are managed internally, so directly changing obs[1] does not actually push the cart.  \n",
    "Fix:  \n",
    "\n",
    "Instead of modifying obs[1], add force inside the environment's physics using env.unwrapped.state.  \n",
    "def step(self, action):  \n",
    "    # Occasionally change wind force  \n",
    "    if np.random.rand() < self.wind_change_prob:  \n",
    "        self.wind_force = np.random.uniform(-self.wind_max, self.wind_max)\n",
    "\n",
    "    # Apply action  \n",
    "    obs, reward, terminated, truncated, info = self.env.step(action)\n",
    "\n",
    "    # Apply wind effect by modifying the environment’s internal state (not just observation)  \n",
    "    self.env.unwrapped.state[1] += self.wind_force  # Modify velocity directly in environment  \n",
    "\n",
    "    return obs, reward, terminated, truncated, info  \n",
    "👉 This properly simulates wind affecting the cart’s velocity.  \n",
    "\n",
    "3️⃣ DelayedActionCartPoleWrapper\n",
    "\n",
    "✅ Correct Approach: Introduces an action delay using a queue.  \n",
    "⚠ Issue:  \n",
    "\n",
    "The queue (deque) is initialized with 0, meaning for the first few steps the agent always takes action 0 regardless of policy.  \n",
    "This biases the early learning by making the agent effectively ignore initial training steps.  \n",
    "Fix:  \n",
    "\n",
    "Instead of defaulting to 0, initialize with random past actions to avoid bias.  \n",
    "self.action_queue = deque(np.random.choice([0, 1], delay_steps), maxlen=delay_steps)  \n",
    "👉 This prevents early-action bias."
   ]
  },
  {
   "cell_type": "code",
   "execution_count": 21,
   "metadata": {},
   "outputs": [
    {
     "name": "stderr",
     "output_type": "stream",
     "text": [
      "Epoch #1: 5001it [00:05, 861.37it/s, env_step=5000, gradient_step=500, len=42, n/ep=0, n/st=10, rew=42.00]                           \n"
     ]
    },
    {
     "name": "stdout",
     "output_type": "stream",
     "text": [
      "Epoch #1: test_reward: 45.200000 ± 10.810180, best_reward: 46.900000 ± 23.224771 in #0\n"
     ]
    },
    {
     "name": "stderr",
     "output_type": "stream",
     "text": [
      "Epoch #2: 5001it [00:05, 975.87it/s, env_step=10000, gradient_step=1000, len=15, n/ep=0, n/st=10, rew=15.00]                           \n"
     ]
    },
    {
     "name": "stdout",
     "output_type": "stream",
     "text": [
      "Epoch #2: test_reward: 34.500000 ± 16.101242, best_reward: 46.900000 ± 23.224771 in #0\n"
     ]
    },
    {
     "name": "stderr",
     "output_type": "stream",
     "text": [
      "Epoch #3: 5001it [00:04, 1008.42it/s, env_step=15000, gradient_step=1500, len=26, n/ep=0, n/st=10, rew=26.00]                            \n"
     ]
    },
    {
     "name": "stdout",
     "output_type": "stream",
     "text": [
      "Epoch #3: test_reward: 59.150000 ± 26.891030, best_reward: 59.150000 ± 26.891030 in #3\n"
     ]
    },
    {
     "name": "stderr",
     "output_type": "stream",
     "text": [
      "Epoch #4: 5001it [00:04, 1028.05it/s, env_step=20000, gradient_step=2000, len=104, n/ep=0, n/st=10, rew=104.00]                          \n"
     ]
    },
    {
     "name": "stdout",
     "output_type": "stream",
     "text": [
      "Epoch #4: test_reward: 45.050000 ± 30.059067, best_reward: 59.150000 ± 26.891030 in #3\n"
     ]
    },
    {
     "name": "stderr",
     "output_type": "stream",
     "text": [
      "Epoch #5: 5001it [00:04, 1101.45it/s, env_step=25000, gradient_step=2500, len=37, n/ep=0, n/st=10, rew=37.00]                            \n"
     ]
    },
    {
     "name": "stdout",
     "output_type": "stream",
     "text": [
      "Epoch #5: test_reward: 26.350000 ± 5.312956, best_reward: 59.150000 ± 26.891030 in #3\n"
     ]
    },
    {
     "name": "stderr",
     "output_type": "stream",
     "text": [
      "Epoch #6: 5001it [00:04, 1049.80it/s, env_step=30000, gradient_step=3000, len=63, n/ep=0, n/st=10, rew=63.00]                            \n"
     ]
    },
    {
     "name": "stdout",
     "output_type": "stream",
     "text": [
      "Epoch #6: test_reward: 39.650000 ± 25.116280, best_reward: 59.150000 ± 26.891030 in #3\n"
     ]
    },
    {
     "name": "stderr",
     "output_type": "stream",
     "text": [
      "Epoch #7: 5001it [00:04, 1031.71it/s, env_step=35000, gradient_step=3500, len=46, n/ep=0, n/st=10, rew=46.00]                            \n"
     ]
    },
    {
     "name": "stdout",
     "output_type": "stream",
     "text": [
      "Epoch #7: test_reward: 81.000000 ± 37.961823, best_reward: 81.000000 ± 37.961823 in #7\n"
     ]
    },
    {
     "name": "stderr",
     "output_type": "stream",
     "text": [
      "Epoch #8: 5001it [00:05, 854.34it/s, env_step=40000, gradient_step=4000, len=55, n/ep=0, n/st=10, rew=55.00]                             \n"
     ]
    },
    {
     "name": "stdout",
     "output_type": "stream",
     "text": [
      "Epoch #8: test_reward: 61.350000 ± 39.297933, best_reward: 81.000000 ± 37.961823 in #7\n"
     ]
    },
    {
     "name": "stderr",
     "output_type": "stream",
     "text": [
      "Epoch #9: 5001it [00:05, 922.03it/s, env_step=45000, gradient_step=4500, len=71, n/ep=0, n/st=10, rew=71.00]                             \n"
     ]
    },
    {
     "name": "stdout",
     "output_type": "stream",
     "text": [
      "Epoch #9: test_reward: 42.950000 ± 14.062272, best_reward: 81.000000 ± 37.961823 in #7\n"
     ]
    },
    {
     "name": "stderr",
     "output_type": "stream",
     "text": [
      "Epoch #10: 5001it [00:05, 891.35it/s, env_step=50000, gradient_step=5000, len=41, n/ep=0, n/st=10, rew=41.00]                            \n"
     ]
    },
    {
     "name": "stdout",
     "output_type": "stream",
     "text": [
      "Epoch #10: test_reward: 29.050000 ± 10.795717, best_reward: 81.000000 ± 37.961823 in #7\n"
     ]
    },
    {
     "name": "stderr",
     "output_type": "stream",
     "text": [
      "Epoch #11: 5001it [00:05, 862.79it/s, env_step=55000, gradient_step=5500, len=14, n/ep=0, n/st=10, rew=14.00]                          \n"
     ]
    },
    {
     "name": "stdout",
     "output_type": "stream",
     "text": [
      "Epoch #11: test_reward: 19.500000 ± 4.432832, best_reward: 81.000000 ± 37.961823 in #7\n"
     ]
    },
    {
     "name": "stderr",
     "output_type": "stream",
     "text": [
      "Epoch #12: 5001it [00:06, 827.88it/s, env_step=60000, gradient_step=6000, len=29, n/ep=0, n/st=10, rew=29.00]                            \n"
     ]
    },
    {
     "name": "stdout",
     "output_type": "stream",
     "text": [
      "Epoch #12: test_reward: 30.150000 ± 11.862862, best_reward: 81.000000 ± 37.961823 in #7\n"
     ]
    },
    {
     "name": "stderr",
     "output_type": "stream",
     "text": [
      "Epoch #13: 5001it [00:05, 935.87it/s, env_step=65000, gradient_step=6500, len=23, n/ep=0, n/st=10, rew=23.00]                             \n"
     ]
    },
    {
     "name": "stdout",
     "output_type": "stream",
     "text": [
      "Epoch #13: test_reward: 34.750000 ± 11.444977, best_reward: 81.000000 ± 37.961823 in #7\n"
     ]
    },
    {
     "name": "stderr",
     "output_type": "stream",
     "text": [
      "Epoch #14: 5001it [00:05, 846.99it/s, env_step=70000, gradient_step=7000, len=28, n/ep=0, n/st=10, rew=28.00]                            \n"
     ]
    },
    {
     "name": "stdout",
     "output_type": "stream",
     "text": [
      "Epoch #14: test_reward: 24.250000 ± 15.459221, best_reward: 81.000000 ± 37.961823 in #7\n"
     ]
    },
    {
     "name": "stderr",
     "output_type": "stream",
     "text": [
      "Epoch #15: 5001it [00:05, 847.48it/s, env_step=75000, gradient_step=7500, len=44, n/ep=0, n/st=10, rew=44.00]                            \n"
     ]
    },
    {
     "name": "stdout",
     "output_type": "stream",
     "text": [
      "Epoch #15: test_reward: 52.750000 ± 25.565357, best_reward: 81.000000 ± 37.961823 in #7\n"
     ]
    },
    {
     "name": "stderr",
     "output_type": "stream",
     "text": [
      "Epoch #16: 5001it [00:05, 835.99it/s, env_step=80000, gradient_step=8000, len=45, n/ep=0, n/st=10, rew=45.00]                            \n"
     ]
    },
    {
     "name": "stdout",
     "output_type": "stream",
     "text": [
      "Epoch #16: test_reward: 34.250000 ± 11.780811, best_reward: 81.000000 ± 37.961823 in #7\n"
     ]
    },
    {
     "name": "stderr",
     "output_type": "stream",
     "text": [
      "Epoch #17: 5001it [00:05, 868.06it/s, env_step=85000, gradient_step=8500, len=36, n/ep=0, n/st=10, rew=36.00]                            \n"
     ]
    },
    {
     "name": "stdout",
     "output_type": "stream",
     "text": [
      "Epoch #17: test_reward: 41.000000 ± 14.446453, best_reward: 81.000000 ± 37.961823 in #7\n"
     ]
    },
    {
     "name": "stderr",
     "output_type": "stream",
     "text": [
      "Epoch #18: 5001it [00:05, 884.83it/s, env_step=90000, gradient_step=9000, len=58, n/ep=0, n/st=10, rew=58.00]                            \n"
     ]
    },
    {
     "name": "stdout",
     "output_type": "stream",
     "text": [
      "Epoch #18: test_reward: 88.800000 ± 48.254119, best_reward: 88.800000 ± 48.254119 in #18\n"
     ]
    },
    {
     "name": "stderr",
     "output_type": "stream",
     "text": [
      "Epoch #19: 5001it [00:05, 915.80it/s, env_step=95000, gradient_step=9500, len=48, n/ep=0, n/st=10, rew=48.00]                            \n"
     ]
    },
    {
     "name": "stdout",
     "output_type": "stream",
     "text": [
      "Epoch #19: test_reward: 60.850000 ± 28.182042, best_reward: 88.800000 ± 48.254119 in #18\n"
     ]
    },
    {
     "name": "stderr",
     "output_type": "stream",
     "text": [
      "Epoch #20: 5001it [00:05, 899.42it/s, env_step=100000, gradient_step=10000, len=52, n/ep=0, n/st=10, rew=52.00]                          \n"
     ]
    },
    {
     "name": "stdout",
     "output_type": "stream",
     "text": [
      "Epoch #20: test_reward: 37.950000 ± 14.196743, best_reward: 88.800000 ± 48.254119 in #18\n"
     ]
    },
    {
     "name": "stderr",
     "output_type": "stream",
     "text": [
      "Epoch #21: 5001it [00:05, 850.80it/s, env_step=105000, gradient_step=10500, len=32, n/ep=0, n/st=10, rew=32.00]                            \n"
     ]
    },
    {
     "name": "stdout",
     "output_type": "stream",
     "text": [
      "Epoch #21: test_reward: 47.000000 ± 22.748626, best_reward: 88.800000 ± 48.254119 in #18\n"
     ]
    },
    {
     "name": "stderr",
     "output_type": "stream",
     "text": [
      "Epoch #22: 5001it [00:05, 942.21it/s, env_step=110000, gradient_step=11000, len=24, n/ep=1, n/st=10, rew=24.00]                            \n"
     ]
    },
    {
     "name": "stdout",
     "output_type": "stream",
     "text": [
      "Epoch #22: test_reward: 18.750000 ± 4.537345, best_reward: 88.800000 ± 48.254119 in #18\n"
     ]
    },
    {
     "name": "stderr",
     "output_type": "stream",
     "text": [
      "Epoch #23: 5001it [00:05, 868.21it/s, env_step=115000, gradient_step=11500, len=47, n/ep=0, n/st=10, rew=47.00]                             \n"
     ]
    },
    {
     "name": "stdout",
     "output_type": "stream",
     "text": [
      "Epoch #23: test_reward: 32.000000 ± 18.313929, best_reward: 88.800000 ± 48.254119 in #18\n"
     ]
    },
    {
     "name": "stderr",
     "output_type": "stream",
     "text": [
      "Epoch #24: 5001it [00:05, 886.34it/s, env_step=120000, gradient_step=12000, len=26, n/ep=0, n/st=10, rew=26.00]                            \n"
     ]
    },
    {
     "name": "stdout",
     "output_type": "stream",
     "text": [
      "Epoch #24: test_reward: 43.650000 ± 17.726463, best_reward: 88.800000 ± 48.254119 in #18\n"
     ]
    },
    {
     "name": "stderr",
     "output_type": "stream",
     "text": [
      "Epoch #25: 5001it [00:05, 862.40it/s, env_step=125000, gradient_step=12500, len=23, n/ep=0, n/st=10, rew=23.00]                            \n"
     ]
    },
    {
     "name": "stdout",
     "output_type": "stream",
     "text": [
      "Epoch #25: test_reward: 41.550000 ± 23.107304, best_reward: 88.800000 ± 48.254119 in #18\n"
     ]
    },
    {
     "name": "stderr",
     "output_type": "stream",
     "text": [
      "Epoch #26: 5001it [00:05, 837.12it/s, env_step=130000, gradient_step=13000, len=17, n/ep=1, n/st=10, rew=17.00]                           \n"
     ]
    },
    {
     "name": "stdout",
     "output_type": "stream",
     "text": [
      "Epoch #26: test_reward: 14.050000 ± 3.814119, best_reward: 88.800000 ± 48.254119 in #18\n"
     ]
    },
    {
     "name": "stderr",
     "output_type": "stream",
     "text": [
      "Epoch #27: 5001it [00:05, 875.55it/s, env_step=135000, gradient_step=13500, len=15, n/ep=0, n/st=10, rew=15.00]                          \n"
     ]
    },
    {
     "name": "stdout",
     "output_type": "stream",
     "text": [
      "Epoch #27: test_reward: 15.450000 ± 3.930331, best_reward: 88.800000 ± 48.254119 in #18\n"
     ]
    },
    {
     "name": "stderr",
     "output_type": "stream",
     "text": [
      "Epoch #28: 5001it [00:05, 970.53it/s, env_step=140000, gradient_step=14000, len=34, n/ep=1, n/st=10, rew=34.00]                            \n"
     ]
    },
    {
     "name": "stdout",
     "output_type": "stream",
     "text": [
      "Epoch #28: test_reward: 106.650000 ± 63.705004, best_reward: 106.650000 ± 63.705004 in #28\n"
     ]
    },
    {
     "name": "stderr",
     "output_type": "stream",
     "text": [
      "Epoch #29: 5001it [00:05, 986.10it/s, env_step=145000, gradient_step=14500, len=20, n/ep=0, n/st=10, rew=20.00]                             \n"
     ]
    },
    {
     "name": "stdout",
     "output_type": "stream",
     "text": [
      "Epoch #29: test_reward: 29.550000 ± 10.947488, best_reward: 106.650000 ± 63.705004 in #28\n"
     ]
    },
    {
     "name": "stderr",
     "output_type": "stream",
     "text": [
      "Epoch #30: 5001it [00:05, 865.70it/s, env_step=150000, gradient_step=15000, len=19, n/ep=1, n/st=10, rew=19.00]                            \n"
     ]
    },
    {
     "name": "stdout",
     "output_type": "stream",
     "text": [
      "Epoch #30: test_reward: 22.850000 ± 4.162631, best_reward: 106.650000 ± 63.705004 in #28\n",
      "Finished training in 174.66454029083252 seconds\n",
      "New best model saved with mean reward: 106.65\n"
     ]
    },
    {
     "ename": "",
     "evalue": "",
     "output_type": "error",
     "traceback": [
      "\u001b[1;31mThe Kernel crashed while executing code in the the current cell or a previous cell. Please review the code in the cell(s) to identify a possible cause of the failure. Click <a href='https://aka.ms/vscodeJupyterKernelCrash'>here</a> for more info. View Jupyter <a href='command:jupyter.viewOutput'>log</a> for further details."
     ]
    }
   ],
   "source": [
    "import numpy as np\n",
    "\n",
    "class NoisyCartPoleWrapper(gym.Wrapper):\n",
    "    def __init__(self, env, noise_std=0.1):\n",
    "        super().__init__(env)\n",
    "        self.noise_std = noise_std  # Standard deviation of noise\n",
    "\n",
    "    def step(self, action):\n",
    "        if np.random.rand() < self.noise_std:  # With probability `noise_std`, flip action\n",
    "            action = 1 - action\n",
    "        return self.env.step(int(action))\n",
    "\n",
    "\n",
    "class WindyCartPoleWrapper(gym.Wrapper):\n",
    "    def __init__(self, env, wind_max=5.0, wind_change_prob=0.1):\n",
    "        super().__init__(env)\n",
    "        self.wind_max = wind_max  # Max lateral force\n",
    "        self.wind_force = 0\n",
    "        self.wind_change_prob = wind_change_prob  # Probability of wind change per step\n",
    "\n",
    "    def step(self, action):\n",
    "        # Occasionally change wind force\n",
    "        if np.random.rand() < self.wind_change_prob:\n",
    "            self.wind_force = np.random.uniform(-self.wind_max, self.wind_max)\n",
    "\n",
    "        # Get the step results\n",
    "        obs, reward, terminated, truncated, info = self.env.step(action)\n",
    "        \n",
    "        # Apply wind effect by modifying the observation directly\n",
    "        # CartPole observation: [position, velocity, pole_angle, pole_angular_velocity]\n",
    "        obs[1] += self.wind_force * 0.01  # Modify cart velocity in the observation\n",
    "        \n",
    "        # Update the environment's state array\n",
    "        self.env.unwrapped.state = obs.copy()\n",
    "\n",
    "        return obs, reward, terminated, truncated, info\n",
    "\n",
    "from collections import deque\n",
    "\n",
    "class DelayedActionCartPoleWrapper(gym.Wrapper):\n",
    "    def __init__(self, env, delay_steps=3):\n",
    "        super().__init__(env)\n",
    "        self.delay_steps = delay_steps  # How many steps before action takes effect\n",
    "        # self.action_queue = deque([0] * delay_steps, maxlen=delay_steps)  # Store past actions\n",
    "        self.action_queue = deque(np.random.choice([0, 1], delay_steps), maxlen=delay_steps)\n",
    "\n",
    "    def step(self, action):\n",
    "        self.action_queue.append(action)  # Queue the new action\n",
    "        delayed_action = self.action_queue.popleft()  # Use delayed action\n",
    "        return self.env.step(delayed_action)  # Will automatically pass through all 5 values\n",
    "\n",
    "train_env = WindyCartPoleWrapper(NoisyCartPoleWrapper(DelayedActionCartPoleWrapper(gym.make(\"CartPole-v1\"))))\n",
    "test_env = WindyCartPoleWrapper(NoisyCartPoleWrapper(DelayedActionCartPoleWrapper(gym.make(\"CartPole-v1\"))))\n",
    "\n",
    "# policy.load_state_dict(torch.load('models/cbp_dqn_adapted_v1.pth')) # Should change name to cbp_dqn_adapted_v1.pth, but haven't\n",
    "policy.load_state_dict(torch.load('models/cbp_dqn_v1_alternate_metrics.pth'))\n",
    "policy.train()\n",
    "policy.set_eps(0.1)  # Start with exploration\n",
    "\n",
    "best_mean_reward = -np.inf\n",
    "\n",
    "def save_best_model(mean_rewards):\n",
    "    global best_mean_reward\n",
    "    if mean_rewards > best_mean_reward:\n",
    "        best_mean_reward = mean_rewards\n",
    "        torch.save(policy.state_dict(), 'models/cbp_dqn_final_adapted_v2.pth')\n",
    "        print(f\"New best model saved with mean reward: {best_mean_reward}\")\n",
    "\n",
    "result = ts.trainer.OffpolicyTrainer(\n",
    "    policy=policy,\n",
    "    train_collector=ts.data.Collector(policy, train_env, ts.data.VectorReplayBuffer(20000, 1), exploration_noise=True),\n",
    "    test_collector=ts.data.Collector(policy, test_env, exploration_noise=True),\n",
    "    max_epoch=30,\n",
    "    step_per_epoch=5000,\n",
    "    step_per_collect=10,\n",
    "    episode_per_test=20,\n",
    "    batch_size=64,\n",
    "    update_per_step=1 / 10,\n",
    "    train_fn=lambda epoch, env_step: policy.set_eps(max(0.1, 0.5 - epoch * 0.05)),\n",
    "    test_fn=lambda epoch, env_step: policy.set_eps(0.05),\n",
    "    stop_fn=lambda mean_rewards: mean_rewards >= train_env.spec.reward_threshold,\n",
    "    logger=ts.utils.TensorboardLogger(SummaryWriter(\"logs/cbp_windy_noisy_delayed\")),\n",
    ").run()\n",
    "\n",
    "print(f\"Finished training in {result.timing.total_time} seconds\")\n",
    "save_best_model(result.best_reward)"
   ]
  },
  {
   "cell_type": "markdown",
   "metadata": {},
   "source": [
    "3. Transfer to a Different Control Problem \n",
    "For a drastic test of adaptation, switch to an environment requiring similar skills but with new challenges:  \n",
    "\n",
    "MountainCarContinuous-v0: Requires continuous control and memory of past actions, unlike CartPole’s immediate balance task.  \n",
    "Pendulum-v1: Similar physics, but requires torque control instead of discrete left/right actions.  \n",
    "Acrobot-v1: A more complex version of inverted pendulum, with two linked segments.  \n",
    "👉 Goal: Test if CBP allows knowledge retention while adapting to a new but related task.  "
   ]
  },
  {
   "cell_type": "markdown",
   "metadata": {},
   "source": [
    "Notes:  \n",
    "Question 1:\n",
    "Theory: Agent w/o backprop \n",
    "And compare to Agent with backprop  \n",
    "Graph of: train in first, 2nd, 3rd, etc  \n",
    "\n",
    "Question 2: to address, which env work well and which doesn't .   \n",
    "-> Maze: change end point (up mean down, down mean up)\n",
    "\n",
    "\n",
    "Think about complexity: how behavior change  \n",
    "Jump cartpole to other env  \n",
    "\n",
    "Question 3: Does continual backprop work with larger inputs  "
   ]
  },
  {
   "cell_type": "code",
   "execution_count": null,
   "metadata": {},
   "outputs": [],
   "source": [
    "    "
   ]
  }
 ],
 "metadata": {
  "kernelspec": {
   "display_name": "Python 3.12.0 ('venv': venv)",
   "language": "python",
   "name": "python3"
  },
  "language_info": {
   "codemirror_mode": {
    "name": "ipython",
    "version": 3
   },
   "file_extension": ".py",
   "mimetype": "text/x-python",
   "name": "python",
   "nbconvert_exporter": "python",
   "pygments_lexer": "ipython3",
   "version": "3.12.0"
  },
  "orig_nbformat": 4,
  "vscode": {
   "interpreter": {
    "hash": "32b906814254df28d0f4cf9a223c43e25f74e65006ab4461d6924b5031dcd67a"
   }
  }
 },
 "nbformat": 4,
 "nbformat_minor": 2
}
